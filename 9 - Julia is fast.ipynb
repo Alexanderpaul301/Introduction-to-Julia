{
 "cells": [
  {
   "cell_type": "markdown",
   "metadata": {},
   "source": [
    "# Julia is fast\n",
    "\n",
    "Very often, benchmarks are used to compare languages.  These benchmarks can lead to long discussions, first as to exactly what is being benchmarked and secondly what explains the differences.  These simple questions can sometimes get more complicated than you at first might imagine.\n",
    "\n",
    "The purpose of this notebook is for you to see a simple benchmark for yourself.  One can read the notebook and see what happened on the author's Macbook Pro with a 4-core Intel Core I7, or run the notebook yourself.\n",
    "\n",
    "(This material began life as a wonderful lecture by Steven Johnson at MIT: https://github.com/stevengj/18S096/blob/master/lectures/lecture1/Boxes-and-registers.ipynb.)"
   ]
  },
  {
   "cell_type": "markdown",
   "metadata": {},
   "source": [
    "# Outline of this notebook\n",
    "\n",
    "- Define the sum function\n",
    "- Implementations & benchmarking of sum in...\n",
    "    - C (hand-written)\n",
    "    - C (hand-written with -ffast-math)\n",
    "    - python (built-in)\n",
    "    - python (numpy)\n",
    "    - python (hand-written)\n",
    "    - Julia (built-in)\n",
    "    - Julia (hand-written)\n",
    "    - Julia (hand-written with SIMD)\n",
    "- Summary of benchmarks"
   ]
  },
  {
   "cell_type": "markdown",
   "metadata": {},
   "source": [
    "# `sum`: An easy enough function to understand"
   ]
  },
  {
   "cell_type": "markdown",
   "metadata": {},
   "source": [
    "Consider the  **sum** function `sum(a)`, which computes\n",
    "$$\n",
    "\\mathrm{sum}(a) = \\sum_{i=1}^n a_i,\n",
    "$$\n",
    "where $n$ is the length of `a`."
   ]
  },
  {
   "cell_type": "code",
   "execution_count": 1,
   "metadata": {},
   "outputs": [
    {
     "data": {
      "text/plain": [
       "10000000-element Vector{Float64}:\n",
       " 0.5566369207359326\n",
       " 0.9702412700359914\n",
       " 0.4010526752597634\n",
       " 0.5845790752738748\n",
       " 0.37949546800753564\n",
       " 0.5794614560159694\n",
       " 0.9559772561590725\n",
       " 0.3982247880432124\n",
       " 0.7047615396003212\n",
       " 0.18214871047761771\n",
       " ⋮\n",
       " 0.7052082496865029\n",
       " 0.7698283711993459\n",
       " 0.03545519128126362\n",
       " 0.9661995726615692\n",
       " 0.1570809358618077\n",
       " 0.5722456114997698\n",
       " 0.9001421570329836\n",
       " 0.7382527641097762\n",
       " 0.2546971668623913"
      ]
     },
     "metadata": {},
     "output_type": "display_data"
    }
   ],
   "source": [
    "a = rand(10^7) # 1D vector of random numbers, uniform on [0,1)"
   ]
  },
  {
   "cell_type": "code",
   "execution_count": 2,
   "metadata": {},
   "outputs": [
    {
     "data": {
      "text/plain": [
       "5.000191386831239e6"
      ]
     },
     "metadata": {},
     "output_type": "display_data"
    }
   ],
   "source": [
    "sum(a)"
   ]
  },
  {
   "cell_type": "markdown",
   "metadata": {},
   "source": [
    "The expected result is 0.5 * 10^7, since the mean of each entry is 0.5"
   ]
  },
  {
   "cell_type": "markdown",
   "metadata": {},
   "source": [
    "# Benchmarking a few ways in a few languages"
   ]
  },
  {
   "cell_type": "code",
   "execution_count": 3,
   "metadata": {},
   "outputs": [
    {
     "name": "stdout",
     "output_type": "stream",
     "text": [
      "  0.005059 seconds (1 allocation: 16 bytes)\n"
     ]
    },
    {
     "data": {
      "text/plain": [
       "5.000191386831239e6"
      ]
     },
     "metadata": {},
     "output_type": "display_data"
    }
   ],
   "source": [
    "@time sum(a)"
   ]
  },
  {
   "cell_type": "code",
   "execution_count": 4,
   "metadata": {},
   "outputs": [
    {
     "name": "stdout",
     "output_type": "stream",
     "text": [
      "  0.005128 seconds (1 allocation: 16 bytes)\n"
     ]
    },
    {
     "data": {
      "text/plain": [
       "5.000191386831239e6"
      ]
     },
     "metadata": {},
     "output_type": "display_data"
    }
   ],
   "source": [
    "@time sum(a)"
   ]
  },
  {
   "cell_type": "code",
   "execution_count": 5,
   "metadata": {},
   "outputs": [
    {
     "name": "stdout",
     "output_type": "stream",
     "text": [
      "  0.004223 seconds (1 allocation: 16 bytes)\n"
     ]
    },
    {
     "data": {
      "text/plain": [
       "5.000191386831239e6"
      ]
     },
     "metadata": {},
     "output_type": "display_data"
    }
   ],
   "source": [
    "@time sum(a)"
   ]
  },
  {
   "cell_type": "markdown",
   "metadata": {},
   "source": [
    "The `@time` macro can yield noisy results, so it's not our best choice for benchmarking!\n",
    "\n",
    "Luckily, Julia has a `BenchmarkTools.jl` package to make benchmarking easy and accurate:"
   ]
  },
  {
   "cell_type": "code",
   "execution_count": 6,
   "metadata": {},
   "outputs": [
    {
     "name": "stderr",
     "output_type": "stream",
     "text": [
      "\u001b[32m\u001b[1m   Resolving\u001b[22m\u001b[39m package versions...\n",
      "\u001b[32m\u001b[1m  No Changes\u001b[22m\u001b[39m to `C:\\Users\\apaul314\\.julia\\environments\\v1.10\\Project.toml`\n",
      "\u001b[32m\u001b[1m  No Changes\u001b[22m\u001b[39m to `C:\\Users\\apaul314\\.julia\\environments\\v1.10\\Manifest.toml`\n"
     ]
    }
   ],
   "source": [
    "using Pkg\n",
    "Pkg.add(\"BenchmarkTools\")"
   ]
  },
  {
   "cell_type": "code",
   "execution_count": 7,
   "metadata": {},
   "outputs": [],
   "source": [
    "using BenchmarkTools  "
   ]
  },
  {
   "cell_type": "markdown",
   "metadata": {},
   "source": [
    "#  1. The C language\n",
    "\n",
    "C is often considered the gold standard: difficult on the human, nice for the machine. Getting within a factor of 2 of C is often satisfying. Nonetheless, even within C, there are many kinds of optimizations possible that a naive C writer may or may not get the advantage of.\n",
    "\n",
    "The current author does not speak C, so he does not read the cell below, but is happy to know that you can put C code in a Julia session, compile it, and run it. Note that the `\"\"\"` wrap a multi-line string."
   ]
  },
  {
   "cell_type": "code",
   "execution_count": 8,
   "metadata": {},
   "outputs": [
    {
     "data": {
      "text/plain": [
       "c_sum (generic function with 1 method)"
      ]
     },
     "metadata": {},
     "output_type": "display_data"
    }
   ],
   "source": [
    "using Libdl\n",
    "C_code = \"\"\"\n",
    "#include <stddef.h>\n",
    "double c_sum(size_t n, double *X) {\n",
    "    double s = 0.0;\n",
    "    for (size_t i = 0; i < n; ++i) {\n",
    "        s += X[i];\n",
    "    }\n",
    "    return s;\n",
    "}\n",
    "\"\"\"\n",
    "\n",
    "const Clib = tempname()   # make a temporary file\n",
    "\n",
    "\n",
    "# compile to a shared library by piping C_code to gcc\n",
    "# (works only if you have gcc installed):\n",
    "\n",
    "open(`gcc -fPIC -O3 -msse3 -xc -shared -o $(Clib * \".\" * Libdl.dlext) -`, \"w\") do f\n",
    "    print(f, C_code) \n",
    "end\n",
    "\n",
    "# define a Julia function that calls the C function:\n",
    "c_sum(X::Array{Float64}) = ccall((\"c_sum\", Clib), Float64, (Csize_t, Ptr{Float64}), length(X), X)"
   ]
  },
  {
   "cell_type": "code",
   "execution_count": 9,
   "metadata": {},
   "outputs": [
    {
     "data": {
      "text/plain": [
       "5.000191386831326e6"
      ]
     },
     "metadata": {},
     "output_type": "display_data"
    }
   ],
   "source": [
    "c_sum(a)"
   ]
  },
  {
   "cell_type": "code",
   "execution_count": 10,
   "metadata": {},
   "outputs": [
    {
     "data": {
      "text/plain": [
       "true"
      ]
     },
     "metadata": {},
     "output_type": "display_data"
    }
   ],
   "source": [
    "c_sum(a) ≈ sum(a) # type \\approx and then <TAB> to get the ≈ symbolb"
   ]
  },
  {
   "cell_type": "code",
   "execution_count": 11,
   "metadata": {},
   "outputs": [
    {
     "data": {
      "text/plain": [
       "8.754432201385498e-8"
      ]
     },
     "metadata": {},
     "output_type": "display_data"
    }
   ],
   "source": [
    "c_sum(a) - sum(a)  "
   ]
  },
  {
   "cell_type": "code",
   "execution_count": 12,
   "metadata": {
    "scrolled": true
   },
   "outputs": [
    {
     "data": {
      "text/plain": [
       "isapprox (generic function with 13 methods)"
      ]
     },
     "metadata": {},
     "output_type": "display_data"
    }
   ],
   "source": [
    "≈  # alias for the `isapprox` function"
   ]
  },
  {
   "cell_type": "code",
   "execution_count": 13,
   "metadata": {
    "scrolled": true
   },
   "outputs": [
    {
     "ename": "Base.Meta.ParseError",
     "evalue": "ParseError:\n# Error @ c:\\Users\\apaul314\\Desktop\\JULIA_TUTORIAL\\Introduction-to-Julia\\9 - Julia is fast.ipynb:1:1\n?isapprox\n╙ ── not a unary operator",
     "output_type": "error",
     "traceback": [
      "ParseError:\n",
      "# Error @ c:\\Users\\apaul314\\Desktop\\JULIA_TUTORIAL\\Introduction-to-Julia\\9 - Julia is fast.ipynb:1:1\n",
      "?isapprox\n",
      "╙ ── not a unary operator\n",
      "\n",
      "Stacktrace:\n",
      " [1] top-level scope\n",
      "   @ c:\\Users\\apaul314\\Desktop\\JULIA_TUTORIAL\\Introduction-to-Julia\\9 - Julia is fast.ipynb:1"
     ]
    }
   ],
   "source": [
    "?isapprox"
   ]
  },
  {
   "cell_type": "markdown",
   "metadata": {},
   "source": [
    "We can now benchmark the C code directly from Julia:"
   ]
  },
  {
   "cell_type": "code",
   "execution_count": 14,
   "metadata": {},
   "outputs": [
    {
     "data": {
      "text/plain": [
       "BenchmarkTools.Trial: 500 samples with 1 evaluation.\n",
       " Range \u001b[90m(\u001b[39m\u001b[36m\u001b[1mmin\u001b[22m\u001b[39m … \u001b[35mmax\u001b[39m\u001b[90m):  \u001b[39m\u001b[36m\u001b[1m9.744 ms\u001b[22m\u001b[39m … \u001b[35m 11.995 ms\u001b[39m  \u001b[90m┊\u001b[39m GC \u001b[90m(\u001b[39mmin … max\u001b[90m): \u001b[39m0.00% … 0.00%\n",
       " Time  \u001b[90m(\u001b[39m\u001b[34m\u001b[1mmedian\u001b[22m\u001b[39m\u001b[90m):     \u001b[39m\u001b[34m\u001b[1m9.901 ms               \u001b[22m\u001b[39m\u001b[90m┊\u001b[39m GC \u001b[90m(\u001b[39mmedian\u001b[90m):    \u001b[39m0.00%\n",
       " Time  \u001b[90m(\u001b[39m\u001b[32m\u001b[1mmean\u001b[22m\u001b[39m ± \u001b[32mσ\u001b[39m\u001b[90m):   \u001b[39m\u001b[32m\u001b[1m9.979 ms\u001b[22m\u001b[39m ± \u001b[32m269.588 μs\u001b[39m  \u001b[90m┊\u001b[39m GC \u001b[90m(\u001b[39mmean ± σ\u001b[90m):  \u001b[39m0.00% ± 0.00%\n",
       "\n",
       "  \u001b[39m \u001b[39m \u001b[39m▅\u001b[39m▄\u001b[39m█\u001b[39m▁\u001b[39m▁\u001b[39m▂\u001b[34m▁\u001b[39m\u001b[39m \u001b[39m \u001b[39m \u001b[32m \u001b[39m\u001b[39m \u001b[39m \u001b[39m \u001b[39m \u001b[39m \u001b[39m \u001b[39m \u001b[39m \u001b[39m \u001b[39m \u001b[39m \u001b[39m \u001b[39m \u001b[39m \u001b[39m \u001b[39m \u001b[39m \u001b[39m \u001b[39m \u001b[39m \u001b[39m \u001b[39m \u001b[39m \u001b[39m \u001b[39m \u001b[39m \u001b[39m \u001b[39m \u001b[39m \u001b[39m \u001b[39m \u001b[39m \u001b[39m \u001b[39m \u001b[39m \u001b[39m \u001b[39m \u001b[39m \u001b[39m \u001b[39m \u001b[39m \u001b[39m \u001b[39m \u001b[39m \u001b[39m \u001b[39m \u001b[39m \u001b[39m \n",
       "  \u001b[39m▄\u001b[39m▇\u001b[39m█\u001b[39m█\u001b[39m█\u001b[39m█\u001b[39m█\u001b[39m█\u001b[34m█\u001b[39m\u001b[39m▅\u001b[39m▇\u001b[39m█\u001b[32m▆\u001b[39m\u001b[39m▆\u001b[39m▄\u001b[39m▄\u001b[39m▅\u001b[39m▄\u001b[39m▄\u001b[39m▄\u001b[39m▄\u001b[39m▃\u001b[39m▃\u001b[39m▃\u001b[39m▂\u001b[39m▃\u001b[39m▃\u001b[39m▂\u001b[39m▂\u001b[39m▂\u001b[39m▂\u001b[39m▃\u001b[39m▂\u001b[39m▂\u001b[39m▃\u001b[39m▁\u001b[39m▂\u001b[39m▁\u001b[39m▂\u001b[39m▂\u001b[39m▂\u001b[39m▁\u001b[39m▁\u001b[39m▂\u001b[39m▂\u001b[39m▁\u001b[39m▁\u001b[39m▂\u001b[39m▂\u001b[39m▁\u001b[39m▁\u001b[39m▂\u001b[39m▂\u001b[39m▁\u001b[39m▁\u001b[39m▁\u001b[39m▁\u001b[39m▁\u001b[39m▂\u001b[39m \u001b[39m▃\n",
       "  9.74 ms\u001b[90m         Histogram: frequency by time\u001b[39m        10.9 ms \u001b[0m\u001b[1m<\u001b[22m\n",
       "\n",
       " Memory estimate\u001b[90m: \u001b[39m\u001b[33m0 bytes\u001b[39m, allocs estimate\u001b[90m: \u001b[39m\u001b[33m0\u001b[39m."
      ]
     },
     "metadata": {},
     "output_type": "display_data"
    }
   ],
   "source": [
    "c_bench = @benchmark c_sum($a)"
   ]
  },
  {
   "cell_type": "code",
   "execution_count": 15,
   "metadata": {},
   "outputs": [
    {
     "name": "stdout",
     "output_type": "stream",
     "text": [
      "C: Fastest time was 9.7436 msec\n"
     ]
    }
   ],
   "source": [
    "println(\"C: Fastest time was $(minimum(c_bench.times) / 1e6) msec\")"
   ]
  },
  {
   "cell_type": "code",
   "execution_count": 16,
   "metadata": {
    "scrolled": true
   },
   "outputs": [
    {
     "data": {
      "text/plain": [
       "Dict{Any, Any} with 1 entry:\n",
       "  \"C\" => 9.7436"
      ]
     },
     "metadata": {},
     "output_type": "display_data"
    }
   ],
   "source": [
    "d = Dict()  # a \"dictionary\", i.e. an associative array\n",
    "d[\"C\"] = minimum(c_bench.times) / 1e6  # in milliseconds\n",
    "d"
   ]
  },
  {
   "cell_type": "code",
   "execution_count": 17,
   "metadata": {
    "scrolled": true
   },
   "outputs": [
    {
     "data": {
      "text/plain": [
       "Plots.GRBackend()"
      ]
     },
     "metadata": {},
     "output_type": "display_data"
    }
   ],
   "source": [
    "using Plots\n",
    "gr()"
   ]
  },
  {
   "cell_type": "code",
   "execution_count": 18,
   "metadata": {},
   "outputs": [
    {
     "data": {
      "image/png": "[encoded data removed]",
      "image/svg+xml": [
       "<?xml version=\"1.0\" encoding=\"utf-8\"?>\n",
       "<svg xmlns=\"http://www.w3.org/2000/svg\" xmlns:xlink=\"http://www.w3.org/1999/xlink\" width=\"600\" height=\"400\" viewBox=\"0 0 2400 1600\">\n",
       "<defs>\n",
       "  <clipPath id=\"clip350\">\n",
       "    <rect x=\"0\" y=\"0\" width=\"2400\" height=\"1600\"/>\n",
       "  </clipPath>\n",
       "</defs>\n",
       "<path clip-path=\"url(#clip350)\" d=\"M0 1600 L2400 1600 L2400 0 L0 0  Z\" fill=\"#ffffff\" fill-rule=\"evenodd\" fill-opacity=\"1\"/>\n",
       "<defs>\n",
       "  <clipPath id=\"clip351\">\n",
       "    <rect x=\"480\" y=\"0\" width=\"1681\" height=\"1600\"/>\n",
       "  </clipPath>\n",
       "</defs>\n",
       "<path clip-path=\"url(#clip350)\" d=\"M202.227 1423.18 L2352.76 1423.18 L2352.76 47.2441 L202.227 47.2441  Z\" fill=\"#ffffff\" fill-rule=\"evenodd\" fill-opacity=\"1\"/>\n",
       "<defs>\n",
       "  <clipPath id=\"clip352\">\n",
       "    <rect x=\"202\" y=\"47\" width=\"2152\" height=\"1377\"/>\n",
       "  </clipPath>\n",
       "</defs>\n",
       "<polyline clip-path=\"url(#clip352)\" style=\"stroke:#000000; stroke-linecap:round; stroke-linejoin:round; stroke-width:2; stroke-opacity:0.1; fill:none\" points=\"328.373,1423.18 328.373,47.2441 \"/>\n",
       "<polyline clip-path=\"url(#clip352)\" style=\"stroke:#000000; stroke-linecap:round; stroke-linejoin:round; stroke-width:2; stroke-opacity:0.1; fill:none\" points=\"712.962,1423.18 712.962,47.2441 \"/>\n",
       "<polyline clip-path=\"url(#clip352)\" style=\"stroke:#000000; stroke-linecap:round; stroke-linejoin:round; stroke-width:2; stroke-opacity:0.1; fill:none\" points=\"1097.55,1423.18 1097.55,47.2441 \"/>\n",
       "<polyline clip-path=\"url(#clip352)\" style=\"stroke:#000000; stroke-linecap:round; stroke-linejoin:round; stroke-width:2; stroke-opacity:0.1; fill:none\" points=\"1482.14,1423.18 1482.14,47.2441 \"/>\n",
       "<polyline clip-path=\"url(#clip352)\" style=\"stroke:#000000; stroke-linecap:round; stroke-linejoin:round; stroke-width:2; stroke-opacity:0.1; fill:none\" points=\"1866.73,1423.18 1866.73,47.2441 \"/>\n",
       "<polyline clip-path=\"url(#clip352)\" style=\"stroke:#000000; stroke-linecap:round; stroke-linejoin:round; stroke-width:2; stroke-opacity:0.1; fill:none\" points=\"2251.32,1423.18 2251.32,47.2441 \"/>\n",
       "<polyline clip-path=\"url(#clip350)\" style=\"stroke:#000000; stroke-linecap:round; stroke-linejoin:round; stroke-width:4; stroke-opacity:1; fill:none\" points=\"202.227,1423.18 2352.76,1423.18 \"/>\n",
       "<polyline clip-path=\"url(#clip350)\" style=\"stroke:#000000; stroke-linecap:round; stroke-linejoin:round; stroke-width:4; stroke-opacity:1; fill:none\" points=\"328.373,1423.18 328.373,1404.28 \"/>\n",
       "<polyline clip-path=\"url(#clip350)\" style=\"stroke:#000000; stroke-linecap:round; stroke-linejoin:round; stroke-width:4; stroke-opacity:1; fill:none\" points=\"712.962,1423.18 712.962,1404.28 \"/>\n",
       "<polyline clip-path=\"url(#clip350)\" style=\"stroke:#000000; stroke-linecap:round; stroke-linejoin:round; stroke-width:4; stroke-opacity:1; fill:none\" points=\"1097.55,1423.18 1097.55,1404.28 \"/>\n",
       "<polyline clip-path=\"url(#clip350)\" style=\"stroke:#000000; stroke-linecap:round; stroke-linejoin:round; stroke-width:4; stroke-opacity:1; fill:none\" points=\"1482.14,1423.18 1482.14,1404.28 \"/>\n",
       "<polyline clip-path=\"url(#clip350)\" style=\"stroke:#000000; stroke-linecap:round; stroke-linejoin:round; stroke-width:4; stroke-opacity:1; fill:none\" points=\"1866.73,1423.18 1866.73,1404.28 \"/>\n",
       "<polyline clip-path=\"url(#clip350)\" style=\"stroke:#000000; stroke-linecap:round; stroke-linejoin:round; stroke-width:4; stroke-opacity:1; fill:none\" points=\"2251.32,1423.18 2251.32,1404.28 \"/>\n",
       "<path clip-path=\"url(#clip350)\" d=\"M281.382 1484.86 L281.382 1480.6 Q283.141 1481.44 284.947 1481.88 Q286.753 1482.32 288.489 1482.32 Q293.118 1482.32 295.549 1479.21 Q298.002 1476.09 298.35 1469.75 Q297.007 1471.74 294.947 1472.8 Q292.887 1473.87 290.387 1473.87 Q285.202 1473.87 282.169 1470.74 Q279.16 1467.59 279.16 1462.15 Q279.16 1456.83 282.308 1453.61 Q285.456 1450.39 290.688 1450.39 Q296.683 1450.39 299.831 1455 Q303.002 1459.58 303.002 1468.33 Q303.002 1476.51 299.114 1481.39 Q295.248 1486.25 288.697 1486.25 Q286.938 1486.25 285.132 1485.9 Q283.327 1485.56 281.382 1484.86 M290.688 1470.21 Q293.836 1470.21 295.665 1468.06 Q297.516 1465.9 297.516 1462.15 Q297.516 1458.43 295.665 1456.27 Q293.836 1454.1 290.688 1454.1 Q287.54 1454.1 285.688 1456.27 Q283.859 1458.43 283.859 1462.15 Q283.859 1465.9 285.688 1468.06 Q287.54 1470.21 290.688 1470.21 Z\" fill=\"#000000\" fill-rule=\"nonzero\" fill-opacity=\"1\" /><path clip-path=\"url(#clip350)\" d=\"M311.405 1479.7 L316.289 1479.7 L316.289 1485.58 L311.405 1485.58 L311.405 1479.7 Z\" fill=\"#000000\" fill-rule=\"nonzero\" fill-opacity=\"1\" /><path clip-path=\"url(#clip350)\" d=\"M325.294 1451.02 L347.516 1451.02 L347.516 1453.01 L334.97 1485.58 L330.086 1485.58 L341.891 1454.96 L325.294 1454.96 L325.294 1451.02 Z\" fill=\"#000000\" fill-rule=\"nonzero\" fill-opacity=\"1\" /><path clip-path=\"url(#clip350)\" d=\"M356.683 1451.02 L375.039 1451.02 L375.039 1454.96 L360.965 1454.96 L360.965 1463.43 Q361.984 1463.08 363.002 1462.92 Q364.021 1462.73 365.039 1462.73 Q370.826 1462.73 374.206 1465.9 Q377.585 1469.08 377.585 1474.49 Q377.585 1480.07 374.113 1483.17 Q370.641 1486.25 364.322 1486.25 Q362.146 1486.25 359.877 1485.88 Q357.632 1485.51 355.224 1484.77 L355.224 1480.07 Q357.308 1481.2 359.53 1481.76 Q361.752 1482.32 364.229 1482.32 Q368.234 1482.32 370.572 1480.21 Q372.909 1478.1 372.909 1474.49 Q372.909 1470.88 370.572 1468.77 Q368.234 1466.67 364.229 1466.67 Q362.354 1466.67 360.479 1467.08 Q358.627 1467.5 356.683 1468.38 L356.683 1451.02 Z\" fill=\"#000000\" fill-rule=\"nonzero\" fill-opacity=\"1\" /><path clip-path=\"url(#clip350)\" d=\"M665.474 1484.86 L665.474 1480.6 Q667.233 1481.44 669.038 1481.88 Q670.844 1482.32 672.58 1482.32 Q677.21 1482.32 679.64 1479.21 Q682.094 1476.09 682.441 1469.75 Q681.099 1471.74 679.038 1472.8 Q676.978 1473.87 674.478 1473.87 Q669.293 1473.87 666.261 1470.74 Q663.251 1467.59 663.251 1462.15 Q663.251 1456.83 666.4 1453.61 Q669.548 1450.39 674.779 1450.39 Q680.774 1450.39 683.923 1455 Q687.094 1459.58 687.094 1468.33 Q687.094 1476.51 683.205 1481.39 Q679.339 1486.25 672.788 1486.25 Q671.029 1486.25 669.224 1485.9 Q667.418 1485.56 665.474 1484.86 M674.779 1470.21 Q677.927 1470.21 679.756 1468.06 Q681.608 1465.9 681.608 1462.15 Q681.608 1458.43 679.756 1456.27 Q677.927 1454.1 674.779 1454.1 Q671.631 1454.1 669.779 1456.27 Q667.95 1458.43 667.95 1462.15 Q667.95 1465.9 669.779 1468.06 Q671.631 1470.21 674.779 1470.21 Z\" fill=\"#000000\" fill-rule=\"nonzero\" fill-opacity=\"1\" /><path clip-path=\"url(#clip350)\" d=\"M695.497 1479.7 L700.381 1479.7 L700.381 1485.58 L695.497 1485.58 L695.497 1479.7 Z\" fill=\"#000000\" fill-rule=\"nonzero\" fill-opacity=\"1\" /><path clip-path=\"url(#clip350)\" d=\"M720.566 1469.17 Q717.233 1469.17 715.311 1470.95 Q713.413 1472.73 713.413 1475.86 Q713.413 1478.98 715.311 1480.77 Q717.233 1482.55 720.566 1482.55 Q723.899 1482.55 725.821 1480.77 Q727.742 1478.96 727.742 1475.86 Q727.742 1472.73 725.821 1470.95 Q723.922 1469.17 720.566 1469.17 M715.89 1467.18 Q712.881 1466.44 711.191 1464.38 Q709.524 1462.32 709.524 1459.35 Q709.524 1455.21 712.464 1452.8 Q715.427 1450.39 720.566 1450.39 Q725.728 1450.39 728.668 1452.8 Q731.608 1455.21 731.608 1459.35 Q731.608 1462.32 729.918 1464.38 Q728.251 1466.44 725.265 1467.18 Q728.645 1467.96 730.52 1470.26 Q732.418 1472.55 732.418 1475.86 Q732.418 1480.88 729.339 1483.57 Q726.283 1486.25 720.566 1486.25 Q714.848 1486.25 711.77 1483.57 Q708.714 1480.88 708.714 1475.86 Q708.714 1472.55 710.612 1470.26 Q712.51 1467.96 715.89 1467.18 M714.177 1459.79 Q714.177 1462.48 715.844 1463.98 Q717.534 1465.49 720.566 1465.49 Q723.575 1465.49 725.265 1463.98 Q726.978 1462.48 726.978 1459.79 Q726.978 1457.11 725.265 1455.6 Q723.575 1454.1 720.566 1454.1 Q717.534 1454.1 715.844 1455.6 Q714.177 1457.11 714.177 1459.79 Z\" fill=\"#000000\" fill-rule=\"nonzero\" fill-opacity=\"1\" /><path clip-path=\"url(#clip350)\" d=\"M750.728 1454.1 Q747.117 1454.1 745.288 1457.66 Q743.482 1461.2 743.482 1468.33 Q743.482 1475.44 745.288 1479.01 Q747.117 1482.55 750.728 1482.55 Q754.362 1482.55 756.168 1479.01 Q757.996 1475.44 757.996 1468.33 Q757.996 1461.2 756.168 1457.66 Q754.362 1454.1 750.728 1454.1 M750.728 1450.39 Q756.538 1450.39 759.593 1455 Q762.672 1459.58 762.672 1468.33 Q762.672 1477.06 759.593 1481.67 Q756.538 1486.25 750.728 1486.25 Q744.918 1486.25 741.839 1481.67 Q738.783 1477.06 738.783 1468.33 Q738.783 1459.58 741.839 1455 Q744.918 1450.39 750.728 1450.39 Z\" fill=\"#000000\" fill-rule=\"nonzero\" fill-opacity=\"1\" /><path clip-path=\"url(#clip350)\" d=\"M1050.56 1484.86 L1050.56 1480.6 Q1052.32 1481.44 1054.13 1481.88 Q1055.93 1482.32 1057.67 1482.32 Q1062.3 1482.32 1064.73 1479.21 Q1067.18 1476.09 1067.53 1469.75 Q1066.19 1471.74 1064.13 1472.8 Q1062.06 1473.87 1059.56 1473.87 Q1054.38 1473.87 1051.35 1470.74 Q1048.34 1467.59 1048.34 1462.15 Q1048.34 1456.83 1051.49 1453.61 Q1054.63 1450.39 1059.87 1450.39 Q1065.86 1450.39 1069.01 1455 Q1072.18 1459.58 1072.18 1468.33 Q1072.18 1476.51 1068.29 1481.39 Q1064.43 1486.25 1057.88 1486.25 Q1056.12 1486.25 1054.31 1485.9 Q1052.5 1485.56 1050.56 1484.86 M1059.87 1470.21 Q1063.01 1470.21 1064.84 1468.06 Q1066.69 1465.9 1066.69 1462.15 Q1066.69 1458.43 1064.84 1456.27 Q1063.01 1454.1 1059.87 1454.1 Q1056.72 1454.1 1054.87 1456.27 Q1053.04 1458.43 1053.04 1462.15 Q1053.04 1465.9 1054.87 1468.06 Q1056.72 1470.21 1059.87 1470.21 Z\" fill=\"#000000\" fill-rule=\"nonzero\" fill-opacity=\"1\" /><path clip-path=\"url(#clip350)\" d=\"M1080.58 1479.7 L1085.47 1479.7 L1085.47 1485.58 L1080.58 1485.58 L1080.58 1479.7 Z\" fill=\"#000000\" fill-rule=\"nonzero\" fill-opacity=\"1\" /><path clip-path=\"url(#clip350)\" d=\"M1105.65 1469.17 Q1102.32 1469.17 1100.4 1470.95 Q1098.5 1472.73 1098.5 1475.86 Q1098.5 1478.98 1100.4 1480.77 Q1102.32 1482.55 1105.65 1482.55 Q1108.99 1482.55 1110.91 1480.77 Q1112.83 1478.96 1112.83 1475.86 Q1112.83 1472.73 1110.91 1470.95 Q1109.01 1469.17 1105.65 1469.17 M1100.98 1467.18 Q1097.97 1466.44 1096.28 1464.38 Q1094.61 1462.32 1094.61 1459.35 Q1094.61 1455.21 1097.55 1452.8 Q1100.51 1450.39 1105.65 1450.39 Q1110.81 1450.39 1113.75 1452.8 Q1116.69 1455.21 1116.69 1459.35 Q1116.69 1462.32 1115 1464.38 Q1113.34 1466.44 1110.35 1467.18 Q1113.73 1467.96 1115.61 1470.26 Q1117.5 1472.55 1117.5 1475.86 Q1117.5 1480.88 1114.43 1483.57 Q1111.37 1486.25 1105.65 1486.25 Q1099.94 1486.25 1096.86 1483.57 Q1093.8 1480.88 1093.8 1475.86 Q1093.8 1472.55 1095.7 1470.26 Q1097.6 1467.96 1100.98 1467.18 M1099.26 1459.79 Q1099.26 1462.48 1100.93 1463.98 Q1102.62 1465.49 1105.65 1465.49 Q1108.66 1465.49 1110.35 1463.98 Q1112.06 1462.48 1112.06 1459.79 Q1112.06 1457.11 1110.35 1455.6 Q1108.66 1454.1 1105.65 1454.1 Q1102.62 1454.1 1100.93 1455.6 Q1099.26 1457.11 1099.26 1459.79 Z\" fill=\"#000000\" fill-rule=\"nonzero\" fill-opacity=\"1\" /><path clip-path=\"url(#clip350)\" d=\"M1125.86 1451.02 L1144.22 1451.02 L1144.22 1454.96 L1130.14 1454.96 L1130.14 1463.43 Q1131.16 1463.08 1132.18 1462.92 Q1133.2 1462.73 1134.22 1462.73 Q1140 1462.73 1143.38 1465.9 Q1146.76 1469.08 1146.76 1474.49 Q1146.76 1480.07 1143.29 1483.17 Q1139.82 1486.25 1133.5 1486.25 Q1131.32 1486.25 1129.06 1485.88 Q1126.81 1485.51 1124.4 1484.77 L1124.4 1480.07 Q1126.49 1481.2 1128.71 1481.76 Q1130.93 1482.32 1133.41 1482.32 Q1137.41 1482.32 1139.75 1480.21 Q1142.09 1478.1 1142.09 1474.49 Q1142.09 1470.88 1139.75 1468.77 Q1137.41 1466.67 1133.41 1466.67 Q1131.53 1466.67 1129.66 1467.08 Q1127.81 1467.5 1125.86 1468.38 L1125.86 1451.02 Z\" fill=\"#000000\" fill-rule=\"nonzero\" fill-opacity=\"1\" /><path clip-path=\"url(#clip350)\" d=\"M1434.65 1484.86 L1434.65 1480.6 Q1436.41 1481.44 1438.22 1481.88 Q1440.02 1482.32 1441.76 1482.32 Q1446.39 1482.32 1448.82 1479.21 Q1451.27 1476.09 1451.62 1469.75 Q1450.28 1471.74 1448.22 1472.8 Q1446.16 1473.87 1443.66 1473.87 Q1438.47 1473.87 1435.44 1470.74 Q1432.43 1467.59 1432.43 1462.15 Q1432.43 1456.83 1435.58 1453.61 Q1438.73 1450.39 1443.96 1450.39 Q1449.95 1450.39 1453.1 1455 Q1456.27 1459.58 1456.27 1468.33 Q1456.27 1476.51 1452.38 1481.39 Q1448.52 1486.25 1441.97 1486.25 Q1440.21 1486.25 1438.4 1485.9 Q1436.6 1485.56 1434.65 1484.86 M1443.96 1470.21 Q1447.11 1470.21 1448.93 1468.06 Q1450.79 1465.9 1450.79 1462.15 Q1450.79 1458.43 1448.93 1456.27 Q1447.11 1454.1 1443.96 1454.1 Q1440.81 1454.1 1438.96 1456.27 Q1437.13 1458.43 1437.13 1462.15 Q1437.13 1465.9 1438.96 1468.06 Q1440.81 1470.21 1443.96 1470.21 Z\" fill=\"#000000\" fill-rule=\"nonzero\" fill-opacity=\"1\" /><path clip-path=\"url(#clip350)\" d=\"M1464.67 1479.7 L1469.56 1479.7 L1469.56 1485.58 L1464.67 1485.58 L1464.67 1479.7 Z\" fill=\"#000000\" fill-rule=\"nonzero\" fill-opacity=\"1\" /><path clip-path=\"url(#clip350)\" d=\"M1479.88 1484.86 L1479.88 1480.6 Q1481.64 1481.44 1483.45 1481.88 Q1485.25 1482.32 1486.99 1482.32 Q1491.62 1482.32 1494.05 1479.21 Q1496.5 1476.09 1496.85 1469.75 Q1495.51 1471.74 1493.45 1472.8 Q1491.39 1473.87 1488.89 1473.87 Q1483.7 1473.87 1480.67 1470.74 Q1477.66 1467.59 1477.66 1462.15 Q1477.66 1456.83 1480.81 1453.61 Q1483.96 1450.39 1489.19 1450.39 Q1495.18 1450.39 1498.33 1455 Q1501.5 1459.58 1501.5 1468.33 Q1501.5 1476.51 1497.61 1481.39 Q1493.75 1486.25 1487.2 1486.25 Q1485.44 1486.25 1483.63 1485.9 Q1481.83 1485.56 1479.88 1484.86 M1489.19 1470.21 Q1492.34 1470.21 1494.17 1468.06 Q1496.02 1465.9 1496.02 1462.15 Q1496.02 1458.43 1494.17 1456.27 Q1492.34 1454.1 1489.19 1454.1 Q1486.04 1454.1 1484.19 1456.27 Q1482.36 1458.43 1482.36 1462.15 Q1482.36 1465.9 1484.19 1468.06 Q1486.04 1470.21 1489.19 1470.21 Z\" fill=\"#000000\" fill-rule=\"nonzero\" fill-opacity=\"1\" /><path clip-path=\"url(#clip350)\" d=\"M1519.91 1454.1 Q1516.29 1454.1 1514.47 1457.66 Q1512.66 1461.2 1512.66 1468.33 Q1512.66 1475.44 1514.47 1479.01 Q1516.29 1482.55 1519.91 1482.55 Q1523.54 1482.55 1525.35 1479.01 Q1527.17 1475.44 1527.17 1468.33 Q1527.17 1461.2 1525.35 1457.66 Q1523.54 1454.1 1519.91 1454.1 M1519.91 1450.39 Q1525.72 1450.39 1528.77 1455 Q1531.85 1459.58 1531.85 1468.33 Q1531.85 1477.06 1528.77 1481.67 Q1525.72 1486.25 1519.91 1486.25 Q1514.1 1486.25 1511.02 1481.67 Q1507.96 1477.06 1507.96 1468.33 Q1507.96 1459.58 1511.02 1455 Q1514.1 1450.39 1519.91 1450.39 Z\" fill=\"#000000\" fill-rule=\"nonzero\" fill-opacity=\"1\" /><path clip-path=\"url(#clip350)\" d=\"M1819.74 1484.86 L1819.74 1480.6 Q1821.5 1481.44 1823.3 1481.88 Q1825.11 1482.32 1826.85 1482.32 Q1831.47 1482.32 1833.91 1479.21 Q1836.36 1476.09 1836.71 1469.75 Q1835.36 1471.74 1833.3 1472.8 Q1831.24 1473.87 1828.74 1473.87 Q1823.56 1473.87 1820.53 1470.74 Q1817.52 1467.59 1817.52 1462.15 Q1817.52 1456.83 1820.66 1453.61 Q1823.81 1450.39 1829.04 1450.39 Q1835.04 1450.39 1838.19 1455 Q1841.36 1459.58 1841.36 1468.33 Q1841.36 1476.51 1837.47 1481.39 Q1833.6 1486.25 1827.05 1486.25 Q1825.29 1486.25 1823.49 1485.9 Q1821.68 1485.56 1819.74 1484.86 M1829.04 1470.21 Q1832.19 1470.21 1834.02 1468.06 Q1835.87 1465.9 1835.87 1462.15 Q1835.87 1458.43 1834.02 1456.27 Q1832.19 1454.1 1829.04 1454.1 Q1825.9 1454.1 1824.04 1456.27 Q1822.22 1458.43 1822.22 1462.15 Q1822.22 1465.9 1824.04 1468.06 Q1825.9 1470.21 1829.04 1470.21 Z\" fill=\"#000000\" fill-rule=\"nonzero\" fill-opacity=\"1\" /><path clip-path=\"url(#clip350)\" d=\"M1849.76 1479.7 L1854.65 1479.7 L1854.65 1485.58 L1849.76 1485.58 L1849.76 1479.7 Z\" fill=\"#000000\" fill-rule=\"nonzero\" fill-opacity=\"1\" /><path clip-path=\"url(#clip350)\" d=\"M1864.97 1484.86 L1864.97 1480.6 Q1866.73 1481.44 1868.53 1481.88 Q1870.34 1482.32 1872.08 1482.32 Q1876.71 1482.32 1879.14 1479.21 Q1881.59 1476.09 1881.94 1469.75 Q1880.59 1471.74 1878.53 1472.8 Q1876.47 1473.87 1873.97 1473.87 Q1868.79 1473.87 1865.76 1470.74 Q1862.75 1467.59 1862.75 1462.15 Q1862.75 1456.83 1865.9 1453.61 Q1869.04 1450.39 1874.28 1450.39 Q1880.27 1450.39 1883.42 1455 Q1886.59 1459.58 1886.59 1468.33 Q1886.59 1476.51 1882.7 1481.39 Q1878.84 1486.25 1872.28 1486.25 Q1870.53 1486.25 1868.72 1485.9 Q1866.91 1485.56 1864.97 1484.86 M1874.28 1470.21 Q1877.42 1470.21 1879.25 1468.06 Q1881.1 1465.9 1881.1 1462.15 Q1881.1 1458.43 1879.25 1456.27 Q1877.42 1454.1 1874.28 1454.1 Q1871.13 1454.1 1869.28 1456.27 Q1867.45 1458.43 1867.45 1462.15 Q1867.45 1465.9 1869.28 1468.06 Q1871.13 1470.21 1874.28 1470.21 Z\" fill=\"#000000\" fill-rule=\"nonzero\" fill-opacity=\"1\" /><path clip-path=\"url(#clip350)\" d=\"M1895.04 1451.02 L1913.4 1451.02 L1913.4 1454.96 L1899.32 1454.96 L1899.32 1463.43 Q1900.34 1463.08 1901.36 1462.92 Q1902.38 1462.73 1903.4 1462.73 Q1909.18 1462.73 1912.56 1465.9 Q1915.94 1469.08 1915.94 1474.49 Q1915.94 1480.07 1912.47 1483.17 Q1909 1486.25 1902.68 1486.25 Q1900.5 1486.25 1898.23 1485.88 Q1895.99 1485.51 1893.58 1484.77 L1893.58 1480.07 Q1895.66 1481.2 1897.89 1481.76 Q1900.11 1482.32 1902.59 1482.32 Q1906.59 1482.32 1908.93 1480.21 Q1911.27 1478.1 1911.27 1474.49 Q1911.27 1470.88 1908.93 1468.77 Q1906.59 1466.67 1902.59 1466.67 Q1900.71 1466.67 1898.84 1467.08 Q1896.98 1467.5 1895.04 1468.38 L1895.04 1451.02 Z\" fill=\"#000000\" fill-rule=\"nonzero\" fill-opacity=\"1\" /><path clip-path=\"url(#clip350)\" d=\"M2188.31 1481.64 L2195.95 1481.64 L2195.95 1455.28 L2187.64 1456.95 L2187.64 1452.69 L2195.9 1451.02 L2200.58 1451.02 L2200.58 1481.64 L2208.22 1481.64 L2208.22 1485.58 L2188.31 1485.58 L2188.31 1481.64 Z\" fill=\"#000000\" fill-rule=\"nonzero\" fill-opacity=\"1\" /><path clip-path=\"url(#clip350)\" d=\"M2227.66 1454.1 Q2224.05 1454.1 2222.22 1457.66 Q2220.42 1461.2 2220.42 1468.33 Q2220.42 1475.44 2222.22 1479.01 Q2224.05 1482.55 2227.66 1482.55 Q2231.3 1482.55 2233.1 1479.01 Q2234.93 1475.44 2234.93 1468.33 Q2234.93 1461.2 2233.1 1457.66 Q2231.3 1454.1 2227.66 1454.1 M2227.66 1450.39 Q2233.47 1450.39 2236.53 1455 Q2239.61 1459.58 2239.61 1468.33 Q2239.61 1477.06 2236.53 1481.67 Q2233.47 1486.25 2227.66 1486.25 Q2221.85 1486.25 2218.77 1481.67 Q2215.72 1477.06 2215.72 1468.33 Q2215.72 1459.58 2218.77 1455 Q2221.85 1450.39 2227.66 1450.39 Z\" fill=\"#000000\" fill-rule=\"nonzero\" fill-opacity=\"1\" /><path clip-path=\"url(#clip350)\" d=\"M2247.82 1479.7 L2252.71 1479.7 L2252.71 1485.58 L2247.82 1485.58 L2247.82 1479.7 Z\" fill=\"#000000\" fill-rule=\"nonzero\" fill-opacity=\"1\" /><path clip-path=\"url(#clip350)\" d=\"M2272.89 1454.1 Q2269.28 1454.1 2267.45 1457.66 Q2265.65 1461.2 2265.65 1468.33 Q2265.65 1475.44 2267.45 1479.01 Q2269.28 1482.55 2272.89 1482.55 Q2276.53 1482.55 2278.33 1479.01 Q2280.16 1475.44 2280.16 1468.33 Q2280.16 1461.2 2278.33 1457.66 Q2276.53 1454.1 2272.89 1454.1 M2272.89 1450.39 Q2278.7 1450.39 2281.76 1455 Q2284.84 1459.58 2284.84 1468.33 Q2284.84 1477.06 2281.76 1481.67 Q2278.7 1486.25 2272.89 1486.25 Q2267.08 1486.25 2264 1481.67 Q2260.95 1477.06 2260.95 1468.33 Q2260.95 1459.58 2264 1455 Q2267.08 1450.39 2272.89 1450.39 Z\" fill=\"#000000\" fill-rule=\"nonzero\" fill-opacity=\"1\" /><path clip-path=\"url(#clip350)\" d=\"M2303.05 1454.1 Q2299.44 1454.1 2297.61 1457.66 Q2295.81 1461.2 2295.81 1468.33 Q2295.81 1475.44 2297.61 1479.01 Q2299.44 1482.55 2303.05 1482.55 Q2306.69 1482.55 2308.49 1479.01 Q2310.32 1475.44 2310.32 1468.33 Q2310.32 1461.2 2308.49 1457.66 Q2306.69 1454.1 2303.05 1454.1 M2303.05 1450.39 Q2308.86 1450.39 2311.92 1455 Q2315 1459.58 2315 1468.33 Q2315 1477.06 2311.92 1481.67 Q2308.86 1486.25 2303.05 1486.25 Q2297.24 1486.25 2294.17 1481.67 Q2291.11 1477.06 2291.11 1468.33 Q2291.11 1459.58 2294.17 1455 Q2297.24 1450.39 2303.05 1450.39 Z\" fill=\"#000000\" fill-rule=\"nonzero\" fill-opacity=\"1\" /><path clip-path=\"url(#clip350)\" d=\"M1108.83 1539.24 Q1111.03 1535.29 1114.08 1533.41 Q1117.14 1531.54 1121.28 1531.54 Q1126.85 1531.54 1129.87 1535.45 Q1132.89 1539.33 1132.89 1546.53 L1132.89 1568.04 L1127.01 1568.04 L1127.01 1546.72 Q1127.01 1541.59 1125.19 1539.11 Q1123.38 1536.63 1119.65 1536.63 Q1115.1 1536.63 1112.46 1539.65 Q1109.82 1542.68 1109.82 1547.9 L1109.82 1568.04 L1103.93 1568.04 L1103.93 1546.72 Q1103.93 1541.56 1102.12 1539.11 Q1100.3 1536.63 1096.51 1536.63 Q1092.03 1536.63 1089.39 1539.68 Q1086.74 1542.71 1086.74 1547.9 L1086.74 1568.04 L1080.86 1568.04 L1080.86 1532.4 L1086.74 1532.4 L1086.74 1537.93 Q1088.75 1534.66 1091.55 1533.1 Q1094.35 1531.54 1098.2 1531.54 Q1102.08 1531.54 1104.79 1533.51 Q1107.53 1535.48 1108.83 1539.24 Z\" fill=\"#000000\" fill-rule=\"nonzero\" fill-opacity=\"1\" /><path clip-path=\"url(#clip350)\" d=\"M1144.58 1532.4 L1150.43 1532.4 L1150.43 1568.04 L1144.58 1568.04 L1144.58 1532.4 M1144.58 1518.52 L1150.43 1518.52 L1150.43 1525.93 L1144.58 1525.93 L1144.58 1518.52 Z\" fill=\"#000000\" fill-rule=\"nonzero\" fill-opacity=\"1\" /><path clip-path=\"url(#clip350)\" d=\"M1162.69 1518.52 L1168.54 1518.52 L1168.54 1568.04 L1162.69 1568.04 L1162.69 1518.52 Z\" fill=\"#000000\" fill-rule=\"nonzero\" fill-opacity=\"1\" /><path clip-path=\"url(#clip350)\" d=\"M1180.8 1518.52 L1186.65 1518.52 L1186.65 1568.04 L1180.8 1568.04 L1180.8 1518.52 Z\" fill=\"#000000\" fill-rule=\"nonzero\" fill-opacity=\"1\" /><path clip-path=\"url(#clip350)\" d=\"M1198.91 1532.4 L1204.76 1532.4 L1204.76 1568.04 L1198.91 1568.04 L1198.91 1532.4 M1198.91 1518.52 L1204.76 1518.52 L1204.76 1525.93 L1198.91 1525.93 L1198.91 1518.52 Z\" fill=\"#000000\" fill-rule=\"nonzero\" fill-opacity=\"1\" /><path clip-path=\"url(#clip350)\" d=\"M1239.74 1533.45 L1239.74 1538.98 Q1237.26 1537.71 1234.59 1537.07 Q1231.91 1536.44 1229.05 1536.44 Q1224.69 1536.44 1222.49 1537.77 Q1220.33 1539.11 1220.33 1541.79 Q1220.33 1543.82 1221.89 1545 Q1223.45 1546.15 1228.16 1547.2 L1230.16 1547.64 Q1236.4 1548.98 1239.01 1551.43 Q1241.65 1553.85 1241.65 1558.21 Q1241.65 1563.17 1237.71 1566.07 Q1233.79 1568.97 1226.92 1568.97 Q1224.05 1568.97 1220.93 1568.39 Q1217.85 1567.85 1214.41 1566.74 L1214.41 1560.69 Q1217.65 1562.38 1220.81 1563.24 Q1223.96 1564.07 1227.04 1564.07 Q1231.18 1564.07 1233.41 1562.66 Q1235.64 1561.23 1235.64 1558.65 Q1235.64 1556.27 1234.01 1554.99 Q1232.42 1553.72 1226.98 1552.54 L1224.94 1552.07 Q1219.5 1550.92 1217.08 1548.56 Q1214.66 1546.18 1214.66 1542.04 Q1214.66 1537.01 1218.23 1534.27 Q1221.79 1531.54 1228.35 1531.54 Q1231.59 1531.54 1234.46 1532.01 Q1237.32 1532.49 1239.74 1533.45 Z\" fill=\"#000000\" fill-rule=\"nonzero\" fill-opacity=\"1\" /><path clip-path=\"url(#clip350)\" d=\"M1281.47 1548.76 L1281.47 1551.62 L1254.54 1551.62 Q1254.93 1557.67 1258.17 1560.85 Q1261.45 1564 1267.27 1564 Q1270.65 1564 1273.8 1563.17 Q1276.98 1562.35 1280.1 1560.69 L1280.1 1566.23 Q1276.95 1567.57 1273.64 1568.27 Q1270.33 1568.97 1266.92 1568.97 Q1258.39 1568.97 1253.4 1564 Q1248.43 1559.04 1248.43 1550.57 Q1248.43 1541.82 1253.14 1536.69 Q1257.89 1531.54 1265.91 1531.54 Q1273.1 1531.54 1277.27 1536.18 Q1281.47 1540.8 1281.47 1548.76 M1275.61 1547.04 Q1275.55 1542.23 1272.91 1539.37 Q1270.3 1536.5 1265.97 1536.5 Q1261.07 1536.5 1258.11 1539.27 Q1255.18 1542.04 1254.73 1547.07 L1275.61 1547.04 Z\" fill=\"#000000\" fill-rule=\"nonzero\" fill-opacity=\"1\" /><path clip-path=\"url(#clip350)\" d=\"M1316.74 1533.76 L1316.74 1539.24 Q1314.25 1537.87 1311.74 1537.2 Q1309.26 1536.5 1306.71 1536.5 Q1301.01 1536.5 1297.86 1540.13 Q1294.71 1543.73 1294.71 1550.25 Q1294.71 1556.78 1297.86 1560.4 Q1301.01 1564 1306.71 1564 Q1309.26 1564 1311.74 1563.33 Q1314.25 1562.63 1316.74 1561.26 L1316.74 1566.68 Q1314.29 1567.82 1311.64 1568.39 Q1309.03 1568.97 1306.07 1568.97 Q1298.02 1568.97 1293.28 1563.91 Q1288.54 1558.85 1288.54 1550.25 Q1288.54 1541.53 1293.31 1536.53 Q1298.12 1531.54 1306.46 1531.54 Q1309.16 1531.54 1311.74 1532.11 Q1314.32 1532.65 1316.74 1533.76 Z\" fill=\"#000000\" fill-rule=\"nonzero\" fill-opacity=\"1\" /><path clip-path=\"url(#clip350)\" d=\"M1340.73 1536.5 Q1336.02 1536.5 1333.29 1540.19 Q1330.55 1543.85 1330.55 1550.25 Q1330.55 1556.65 1333.26 1560.34 Q1335.99 1564 1340.73 1564 Q1345.41 1564 1348.15 1560.31 Q1350.89 1556.62 1350.89 1550.25 Q1350.89 1543.92 1348.15 1540.23 Q1345.41 1536.5 1340.73 1536.5 M1340.73 1531.54 Q1348.37 1531.54 1352.73 1536.5 Q1357.09 1541.47 1357.09 1550.25 Q1357.09 1559 1352.73 1564 Q1348.37 1568.97 1340.73 1568.97 Q1333.06 1568.97 1328.7 1564 Q1324.38 1559 1324.38 1550.25 Q1324.38 1541.47 1328.7 1536.5 Q1333.06 1531.54 1340.73 1531.54 Z\" fill=\"#000000\" fill-rule=\"nonzero\" fill-opacity=\"1\" /><path clip-path=\"url(#clip350)\" d=\"M1396.43 1546.53 L1396.43 1568.04 L1390.58 1568.04 L1390.58 1546.72 Q1390.58 1541.66 1388.61 1539.14 Q1386.63 1536.63 1382.68 1536.63 Q1377.94 1536.63 1375.21 1539.65 Q1372.47 1542.68 1372.47 1547.9 L1372.47 1568.04 L1366.58 1568.04 L1366.58 1532.4 L1372.47 1532.4 L1372.47 1537.93 Q1374.57 1534.72 1377.4 1533.13 Q1380.27 1531.54 1383.99 1531.54 Q1390.13 1531.54 1393.28 1535.36 Q1396.43 1539.14 1396.43 1546.53 Z\" fill=\"#000000\" fill-rule=\"nonzero\" fill-opacity=\"1\" /><path clip-path=\"url(#clip350)\" d=\"M1431.57 1537.81 L1431.57 1518.52 L1437.43 1518.52 L1437.43 1568.04 L1431.57 1568.04 L1431.57 1562.7 Q1429.73 1565.88 1426.89 1567.44 Q1424.09 1568.97 1420.15 1568.97 Q1413.69 1568.97 1409.61 1563.81 Q1405.57 1558.65 1405.57 1550.25 Q1405.57 1541.85 1409.61 1536.69 Q1413.69 1531.54 1420.15 1531.54 Q1424.09 1531.54 1426.89 1533.1 Q1429.73 1534.62 1431.57 1537.81 M1411.62 1550.25 Q1411.62 1556.71 1414.26 1560.4 Q1416.93 1564.07 1421.58 1564.07 Q1426.23 1564.07 1428.9 1560.4 Q1431.57 1556.71 1431.57 1550.25 Q1431.57 1543.79 1428.9 1540.13 Q1426.23 1536.44 1421.58 1536.44 Q1416.93 1536.44 1414.26 1540.13 Q1411.62 1543.79 1411.62 1550.25 Z\" fill=\"#000000\" fill-rule=\"nonzero\" fill-opacity=\"1\" /><path clip-path=\"url(#clip350)\" d=\"M1472.22 1533.45 L1472.22 1538.98 Q1469.74 1537.71 1467.06 1537.07 Q1464.39 1536.44 1461.52 1536.44 Q1457.16 1536.44 1454.97 1537.77 Q1452.8 1539.11 1452.8 1541.79 Q1452.8 1543.82 1454.36 1545 Q1455.92 1546.15 1460.63 1547.2 L1462.64 1547.64 Q1468.88 1548.98 1471.49 1551.43 Q1474.13 1553.85 1474.13 1558.21 Q1474.13 1563.17 1470.18 1566.07 Q1466.27 1568.97 1459.39 1568.97 Q1456.53 1568.97 1453.41 1568.39 Q1450.32 1567.85 1446.88 1566.74 L1446.88 1560.69 Q1450.13 1562.38 1453.28 1563.24 Q1456.43 1564.07 1459.52 1564.07 Q1463.66 1564.07 1465.88 1562.66 Q1468.11 1561.23 1468.11 1558.65 Q1468.11 1556.27 1466.49 1554.99 Q1464.9 1553.72 1459.46 1552.54 L1457.42 1552.07 Q1451.98 1550.92 1449.56 1548.56 Q1447.14 1546.18 1447.14 1542.04 Q1447.14 1537.01 1450.7 1534.27 Q1454.27 1531.54 1460.82 1531.54 Q1464.07 1531.54 1466.94 1532.01 Q1469.8 1532.49 1472.22 1533.45 Z\" fill=\"#000000\" fill-rule=\"nonzero\" fill-opacity=\"1\" /><polyline clip-path=\"url(#clip352)\" style=\"stroke:#000000; stroke-linecap:round; stroke-linejoin:round; stroke-width:2; stroke-opacity:0.1; fill:none\" points=\"202.227,1423.18 2352.76,1423.18 \"/>\n",
       "<polyline clip-path=\"url(#clip352)\" style=\"stroke:#000000; stroke-linecap:round; stroke-linejoin:round; stroke-width:2; stroke-opacity:0.1; fill:none\" points=\"202.227,1061.09 2352.76,1061.09 \"/>\n",
       "<polyline clip-path=\"url(#clip352)\" style=\"stroke:#000000; stroke-linecap:round; stroke-linejoin:round; stroke-width:2; stroke-opacity:0.1; fill:none\" points=\"202.227,699.003 2352.76,699.003 \"/>\n",
       "<polyline clip-path=\"url(#clip352)\" style=\"stroke:#000000; stroke-linecap:round; stroke-linejoin:round; stroke-width:2; stroke-opacity:0.1; fill:none\" points=\"202.227,336.915 2352.76,336.915 \"/>\n",
       "<polyline clip-path=\"url(#clip350)\" style=\"stroke:#000000; stroke-linecap:round; stroke-linejoin:round; stroke-width:4; stroke-opacity:1; fill:none\" points=\"202.227,1423.18 202.227,47.2441 \"/>\n",
       "<polyline clip-path=\"url(#clip350)\" style=\"stroke:#000000; stroke-linecap:round; stroke-linejoin:round; stroke-width:4; stroke-opacity:1; fill:none\" points=\"202.227,1423.18 221.125,1423.18 \"/>\n",
       "<polyline clip-path=\"url(#clip350)\" style=\"stroke:#000000; stroke-linecap:round; stroke-linejoin:round; stroke-width:4; stroke-opacity:1; fill:none\" points=\"202.227,1061.09 221.125,1061.09 \"/>\n",
       "<polyline clip-path=\"url(#clip350)\" style=\"stroke:#000000; stroke-linecap:round; stroke-linejoin:round; stroke-width:4; stroke-opacity:1; fill:none\" points=\"202.227,699.003 221.125,699.003 \"/>\n",
       "<polyline clip-path=\"url(#clip350)\" style=\"stroke:#000000; stroke-linecap:round; stroke-linejoin:round; stroke-width:4; stroke-opacity:1; fill:none\" points=\"202.227,336.915 221.125,336.915 \"/>\n",
       "<path clip-path=\"url(#clip350)\" d=\"M154.283 1408.98 Q150.672 1408.98 148.843 1412.54 Q147.038 1416.08 147.038 1423.21 Q147.038 1430.32 148.843 1433.89 Q150.672 1437.43 154.283 1437.43 Q157.917 1437.43 159.723 1433.89 Q161.552 1430.32 161.552 1423.21 Q161.552 1416.08 159.723 1412.54 Q157.917 1408.98 154.283 1408.98 M154.283 1405.27 Q160.093 1405.27 163.149 1409.88 Q166.227 1414.46 166.227 1423.21 Q166.227 1431.94 163.149 1436.55 Q160.093 1441.13 154.283 1441.13 Q148.473 1441.13 145.394 1436.55 Q142.339 1431.94 142.339 1423.21 Q142.339 1414.46 145.394 1409.88 Q148.473 1405.27 154.283 1405.27 Z\" fill=\"#000000\" fill-rule=\"nonzero\" fill-opacity=\"1\" /><path clip-path=\"url(#clip350)\" d=\"M145.325 1043.81 L163.681 1043.81 L163.681 1047.75 L149.607 1047.75 L149.607 1056.22 Q150.626 1055.87 151.644 1055.71 Q152.663 1055.52 153.681 1055.52 Q159.468 1055.52 162.848 1058.7 Q166.227 1061.87 166.227 1067.28 Q166.227 1072.86 162.755 1075.96 Q159.283 1079.04 152.964 1079.04 Q150.788 1079.04 148.519 1078.67 Q146.274 1078.3 143.866 1077.56 L143.866 1072.86 Q145.95 1074 148.172 1074.55 Q150.394 1075.11 152.871 1075.11 Q156.876 1075.11 159.214 1073 Q161.552 1070.89 161.552 1067.28 Q161.552 1063.67 159.214 1061.57 Q156.876 1059.46 152.871 1059.46 Q150.996 1059.46 149.121 1059.88 Q147.269 1060.29 145.325 1061.17 L145.325 1043.81 Z\" fill=\"#000000\" fill-rule=\"nonzero\" fill-opacity=\"1\" /><path clip-path=\"url(#clip350)\" d=\"M114.931 712.348 L122.57 712.348 L122.57 685.982 L114.26 687.649 L114.26 683.39 L122.524 681.723 L127.2 681.723 L127.2 712.348 L134.839 712.348 L134.839 716.283 L114.931 716.283 L114.931 712.348 Z\" fill=\"#000000\" fill-rule=\"nonzero\" fill-opacity=\"1\" /><path clip-path=\"url(#clip350)\" d=\"M154.283 684.802 Q150.672 684.802 148.843 688.367 Q147.038 691.908 147.038 699.038 Q147.038 706.144 148.843 709.709 Q150.672 713.251 154.283 713.251 Q157.917 713.251 159.723 709.709 Q161.552 706.144 161.552 699.038 Q161.552 691.908 159.723 688.367 Q157.917 684.802 154.283 684.802 M154.283 681.098 Q160.093 681.098 163.149 685.705 Q166.227 690.288 166.227 699.038 Q166.227 707.765 163.149 712.371 Q160.093 716.954 154.283 716.954 Q148.473 716.954 145.394 712.371 Q142.339 707.765 142.339 699.038 Q142.339 690.288 145.394 685.705 Q148.473 681.098 154.283 681.098 Z\" fill=\"#000000\" fill-rule=\"nonzero\" fill-opacity=\"1\" /><path clip-path=\"url(#clip350)\" d=\"M115.927 350.26 L123.566 350.26 L123.566 323.894 L115.256 325.561 L115.256 321.301 L123.519 319.635 L128.195 319.635 L128.195 350.26 L135.834 350.26 L135.834 354.195 L115.927 354.195 L115.927 350.26 Z\" fill=\"#000000\" fill-rule=\"nonzero\" fill-opacity=\"1\" /><path clip-path=\"url(#clip350)\" d=\"M145.325 319.635 L163.681 319.635 L163.681 323.57 L149.607 323.57 L149.607 332.042 Q150.626 331.695 151.644 331.533 Q152.663 331.348 153.681 331.348 Q159.468 331.348 162.848 334.519 Q166.227 337.69 166.227 343.107 Q166.227 348.686 162.755 351.787 Q159.283 354.866 152.964 354.866 Q150.788 354.866 148.519 354.496 Q146.274 354.125 143.866 353.385 L143.866 348.686 Q145.95 349.82 148.172 350.375 Q150.394 350.931 152.871 350.931 Q156.876 350.931 159.214 348.824 Q161.552 346.718 161.552 343.107 Q161.552 339.496 159.214 337.389 Q156.876 335.283 152.871 335.283 Q150.996 335.283 149.121 335.7 Q147.269 336.116 145.325 336.996 L145.325 319.635 Z\" fill=\"#000000\" fill-rule=\"nonzero\" fill-opacity=\"1\" /><path clip-path=\"url(#clip350)\" d=\"M29.7248 796.386 L35.1993 796.386 Q33.8307 798.869 33.1623 801.383 Q32.4621 803.866 32.4621 806.412 Q32.4621 812.11 36.0905 815.261 Q39.6872 818.412 46.212 818.412 Q52.7369 818.412 56.3653 815.261 Q59.9619 812.11 59.9619 806.412 Q59.9619 803.866 59.2935 801.383 Q58.5933 798.869 57.2247 796.386 L62.6355 796.386 Q63.7814 798.837 64.3543 801.479 Q64.9272 804.089 64.9272 807.049 Q64.9272 815.102 59.8664 819.844 Q54.8057 824.586 46.212 824.586 Q37.491 824.586 32.4939 819.812 Q27.4968 815.006 27.4968 806.667 Q27.4968 803.962 28.0697 801.383 Q28.6108 798.805 29.7248 796.386 Z\" fill=\"#000000\" fill-rule=\"nonzero\" fill-opacity=\"1\" /><path clip-path=\"url(#clip350)\" d=\"M32.4621 772.388 Q32.4621 777.098 36.1542 779.836 Q39.8145 782.573 46.212 782.573 Q52.6095 782.573 56.3017 779.867 Q59.9619 777.13 59.9619 772.388 Q59.9619 767.709 56.2698 764.972 Q52.5777 762.234 46.212 762.234 Q39.8781 762.234 36.186 764.972 Q32.4621 767.709 32.4621 772.388 M27.4968 772.388 Q27.4968 764.749 32.4621 760.388 Q37.4273 756.028 46.212 756.028 Q54.9649 756.028 59.9619 760.388 Q64.9272 764.749 64.9272 772.388 Q64.9272 780.058 59.9619 784.419 Q54.9649 788.748 46.212 788.748 Q37.4273 788.748 32.4621 784.419 Q27.4968 780.058 27.4968 772.388 Z\" fill=\"#000000\" fill-rule=\"nonzero\" fill-opacity=\"1\" /><path clip-path=\"url(#clip350)\" d=\"M49.9359 746.925 L28.3562 746.925 L28.3562 741.068 L49.7131 741.068 Q54.7739 741.068 57.3202 739.095 Q59.8346 737.122 59.8346 733.175 Q59.8346 728.432 56.8109 725.695 Q53.7872 722.926 48.5673 722.926 L28.3562 722.926 L28.3562 717.07 L64.0042 717.07 L64.0042 722.926 L58.5296 722.926 Q61.7762 725.059 63.3676 727.891 Q64.9272 730.692 64.9272 734.416 Q64.9272 740.559 61.1078 743.742 Q57.2883 746.925 49.9359 746.925 M27.4968 732.188 L27.4968 732.188 Z\" fill=\"#000000\" fill-rule=\"nonzero\" fill-opacity=\"1\" /><path clip-path=\"url(#clip350)\" d=\"M42.4881 675.374 L64.0042 675.374 L64.0042 681.231 L42.679 681.231 Q37.6183 681.231 35.1038 683.204 Q32.5894 685.178 32.5894 689.124 Q32.5894 693.867 35.6131 696.604 Q38.6368 699.341 43.8567 699.341 L64.0042 699.341 L64.0042 705.229 L28.3562 705.229 L28.3562 699.341 L33.8944 699.341 Q30.6797 697.241 29.0883 694.408 Q27.4968 691.543 27.4968 687.819 Q27.4968 681.676 31.3163 678.525 Q35.1038 675.374 42.4881 675.374 Z\" fill=\"#000000\" fill-rule=\"nonzero\" fill-opacity=\"1\" /><path clip-path=\"url(#clip350)\" d=\"M18.2347 657.9 L28.3562 657.9 L28.3562 645.837 L32.9077 645.837 L32.9077 657.9 L52.2594 657.9 Q56.6199 657.9 57.8613 656.723 Q59.1026 655.513 59.1026 651.853 L59.1026 645.837 L64.0042 645.837 L64.0042 651.853 Q64.0042 658.633 61.4897 661.211 Q58.9434 663.789 52.2594 663.789 L32.9077 663.789 L32.9077 668.086 L28.3562 668.086 L28.3562 663.789 L18.2347 663.789 L18.2347 657.9 Z\" fill=\"#000000\" fill-rule=\"nonzero\" fill-opacity=\"1\" /><path clip-path=\"url(#clip352)\" d=\"M251.455 1350.76 L251.455 1423.18 L289.914 1423.18 L289.914 1350.76 L251.455 1350.76 L251.455 1350.76  Z\" fill=\"#009af9\" fill-rule=\"evenodd\" fill-opacity=\"1\"/>\n",
       "<polyline clip-path=\"url(#clip352)\" style=\"stroke:#000000; stroke-linecap:round; stroke-linejoin:round; stroke-width:4; stroke-opacity:1; fill:none\" points=\"251.455,1350.76 251.455,1423.18 289.914,1423.18 289.914,1350.76 251.455,1350.76 \"/>\n",
       "<path clip-path=\"url(#clip352)\" d=\"M289.914 1423.18 L289.914 1423.18 L328.373 1423.18 L328.373 1423.18 L289.914 1423.18 L289.914 1423.18  Z\" fill=\"#009af9\" fill-rule=\"evenodd\" fill-opacity=\"1\"/>\n",
       "<polyline clip-path=\"url(#clip352)\" style=\"stroke:#000000; stroke-linecap:round; stroke-linejoin:round; stroke-width:4; stroke-opacity:1; fill:none\" points=\"289.914,1423.18 289.914,1423.18 328.373,1423.18 289.914,1423.18 \"/>\n",
       "<path clip-path=\"url(#clip352)\" d=\"M328.373 1278.34 L328.373 1423.18 L366.832 1423.18 L366.832 1278.34 L328.373 1278.34 L328.373 1278.34  Z\" fill=\"#009af9\" fill-rule=\"evenodd\" fill-opacity=\"1\"/>\n",
       "<polyline clip-path=\"url(#clip352)\" style=\"stroke:#000000; stroke-linecap:round; stroke-linejoin:round; stroke-width:4; stroke-opacity:1; fill:none\" points=\"328.373,1278.34 328.373,1423.18 366.832,1423.18 366.832,1278.34 328.373,1278.34 \"/>\n",
       "<path clip-path=\"url(#clip352)\" d=\"M366.832 1423.18 L366.832 1423.18 L405.291 1423.18 L405.291 1423.18 L366.832 1423.18 L366.832 1423.18  Z\" fill=\"#009af9\" fill-rule=\"evenodd\" fill-opacity=\"1\"/>\n",
       "<polyline clip-path=\"url(#clip352)\" style=\"stroke:#000000; stroke-linecap:round; stroke-linejoin:round; stroke-width:4; stroke-opacity:1; fill:none\" points=\"366.832,1423.18 366.832,1423.18 405.291,1423.18 366.832,1423.18 \"/>\n",
       "<path clip-path=\"url(#clip352)\" d=\"M405.291 1061.09 L405.291 1423.18 L443.749 1423.18 L443.749 1061.09 L405.291 1061.09 L405.291 1061.09  Z\" fill=\"#009af9\" fill-rule=\"evenodd\" fill-opacity=\"1\"/>\n",
       "<polyline clip-path=\"url(#clip352)\" style=\"stroke:#000000; stroke-linecap:round; stroke-linejoin:round; stroke-width:4; stroke-opacity:1; fill:none\" points=\"405.291,1061.09 405.291,1423.18 443.749,1423.18 443.749,1061.09 405.291,1061.09 \"/>\n",
       "<path clip-path=\"url(#clip352)\" d=\"M443.749 1278.34 L443.749 1423.18 L482.208 1423.18 L482.208 1278.34 L443.749 1278.34 L443.749 1278.34  Z\" fill=\"#009af9\" fill-rule=\"evenodd\" fill-opacity=\"1\"/>\n",
       "<polyline clip-path=\"url(#clip352)\" style=\"stroke:#000000; stroke-linecap:round; stroke-linejoin:round; stroke-width:4; stroke-opacity:1; fill:none\" points=\"443.749,1278.34 443.749,1423.18 482.208,1423.18 482.208,1278.34 443.749,1278.34 \"/>\n",
       "<path clip-path=\"url(#clip352)\" d=\"M482.208 1133.51 L482.208 1423.18 L520.667 1423.18 L520.667 1133.51 L482.208 1133.51 L482.208 1133.51  Z\" fill=\"#009af9\" fill-rule=\"evenodd\" fill-opacity=\"1\"/>\n",
       "<polyline clip-path=\"url(#clip352)\" style=\"stroke:#000000; stroke-linecap:round; stroke-linejoin:round; stroke-width:4; stroke-opacity:1; fill:none\" points=\"482.208,1133.51 482.208,1423.18 520.667,1423.18 520.667,1133.51 482.208,1133.51 \"/>\n",
       "<path clip-path=\"url(#clip352)\" d=\"M520.667 916.256 L520.667 1423.18 L559.126 1423.18 L559.126 916.256 L520.667 916.256 L520.667 916.256  Z\" fill=\"#009af9\" fill-rule=\"evenodd\" fill-opacity=\"1\"/>\n",
       "<polyline clip-path=\"url(#clip352)\" style=\"stroke:#000000; stroke-linecap:round; stroke-linejoin:round; stroke-width:4; stroke-opacity:1; fill:none\" points=\"520.667,916.256 520.667,1423.18 559.126,1423.18 559.126,916.256 520.667,916.256 \"/>\n",
       "<path clip-path=\"url(#clip352)\" d=\"M559.126 916.256 L559.126 1423.18 L597.585 1423.18 L597.585 916.256 L559.126 916.256 L559.126 916.256  Z\" fill=\"#009af9\" fill-rule=\"evenodd\" fill-opacity=\"1\"/>\n",
       "<polyline clip-path=\"url(#clip352)\" style=\"stroke:#000000; stroke-linecap:round; stroke-linejoin:round; stroke-width:4; stroke-opacity:1; fill:none\" points=\"559.126,916.256 559.126,1423.18 597.585,1423.18 597.585,916.256 559.126,916.256 \"/>\n",
       "<path clip-path=\"url(#clip352)\" d=\"M597.585 626.585 L597.585 1423.18 L636.044 1423.18 L636.044 626.585 L597.585 626.585 L597.585 626.585  Z\" fill=\"#009af9\" fill-rule=\"evenodd\" fill-opacity=\"1\"/>\n",
       "<polyline clip-path=\"url(#clip352)\" style=\"stroke:#000000; stroke-linecap:round; stroke-linejoin:round; stroke-width:4; stroke-opacity:1; fill:none\" points=\"597.585,626.585 597.585,1423.18 636.044,1423.18 636.044,626.585 597.585,626.585 \"/>\n",
       "<path clip-path=\"url(#clip352)\" d=\"M636.044 47.2441 L636.044 1423.18 L674.503 1423.18 L674.503 47.2441 L636.044 47.2441 L636.044 47.2441  Z\" fill=\"#009af9\" fill-rule=\"evenodd\" fill-opacity=\"1\"/>\n",
       "<polyline clip-path=\"url(#clip352)\" style=\"stroke:#000000; stroke-linecap:round; stroke-linejoin:round; stroke-width:4; stroke-opacity:1; fill:none\" points=\"636.044,47.2441 636.044,1423.18 674.503,1423.18 674.503,47.2441 636.044,47.2441 \"/>\n",
       "<path clip-path=\"url(#clip352)\" d=\"M674.503 916.256 L674.503 1423.18 L712.962 1423.18 L712.962 916.256 L674.503 916.256 L674.503 916.256  Z\" fill=\"#009af9\" fill-rule=\"evenodd\" fill-opacity=\"1\"/>\n",
       "<polyline clip-path=\"url(#clip352)\" style=\"stroke:#000000; stroke-linecap:round; stroke-linejoin:round; stroke-width:4; stroke-opacity:1; fill:none\" points=\"674.503,916.256 674.503,1423.18 712.962,1423.18 712.962,916.256 674.503,916.256 \"/>\n",
       "<path clip-path=\"url(#clip352)\" d=\"M712.962 916.256 L712.962 1423.18 L751.421 1423.18 L751.421 916.256 L712.962 916.256 L712.962 916.256  Z\" fill=\"#009af9\" fill-rule=\"evenodd\" fill-opacity=\"1\"/>\n",
       "<polyline clip-path=\"url(#clip352)\" style=\"stroke:#000000; stroke-linecap:round; stroke-linejoin:round; stroke-width:4; stroke-opacity:1; fill:none\" points=\"712.962,916.256 712.962,1423.18 751.421,1423.18 751.421,916.256 712.962,916.256 \"/>\n",
       "<path clip-path=\"url(#clip352)\" d=\"M751.421 264.497 L751.421 1423.18 L789.88 1423.18 L789.88 264.497 L751.421 264.497 L751.421 264.497  Z\" fill=\"#009af9\" fill-rule=\"evenodd\" fill-opacity=\"1\"/>\n",
       "<polyline clip-path=\"url(#clip352)\" style=\"stroke:#000000; stroke-linecap:round; stroke-linejoin:round; stroke-width:4; stroke-opacity:1; fill:none\" points=\"751.421,264.497 751.421,1423.18 789.88,1423.18 789.88,264.497 751.421,264.497 \"/>\n",
       "<path clip-path=\"url(#clip352)\" d=\"M789.88 916.256 L789.88 1423.18 L828.339 1423.18 L828.339 916.256 L789.88 916.256 L789.88 916.256  Z\" fill=\"#009af9\" fill-rule=\"evenodd\" fill-opacity=\"1\"/>\n",
       "<polyline clip-path=\"url(#clip352)\" style=\"stroke:#000000; stroke-linecap:round; stroke-linejoin:round; stroke-width:4; stroke-opacity:1; fill:none\" points=\"789.88,916.256 789.88,1423.18 828.339,1423.18 828.339,916.256 789.88,916.256 \"/>\n",
       "<path clip-path=\"url(#clip352)\" d=\"M828.339 916.256 L828.339 1423.18 L866.797 1423.18 L866.797 916.256 L828.339 916.256 L828.339 916.256  Z\" fill=\"#009af9\" fill-rule=\"evenodd\" fill-opacity=\"1\"/>\n",
       "<polyline clip-path=\"url(#clip352)\" style=\"stroke:#000000; stroke-linecap:round; stroke-linejoin:round; stroke-width:4; stroke-opacity:1; fill:none\" points=\"828.339,916.256 828.339,1423.18 866.797,1423.18 866.797,916.256 828.339,916.256 \"/>\n",
       "<path clip-path=\"url(#clip352)\" d=\"M866.797 699.003 L866.797 1423.18 L905.256 1423.18 L905.256 699.003 L866.797 699.003 L866.797 699.003  Z\" fill=\"#009af9\" fill-rule=\"evenodd\" fill-opacity=\"1\"/>\n",
       "<polyline clip-path=\"url(#clip352)\" style=\"stroke:#000000; stroke-linecap:round; stroke-linejoin:round; stroke-width:4; stroke-opacity:1; fill:none\" points=\"866.797,699.003 866.797,1423.18 905.256,1423.18 905.256,699.003 866.797,699.003 \"/>\n",
       "<path clip-path=\"url(#clip352)\" d=\"M905.256 47.2441 L905.256 1423.18 L943.715 1423.18 L943.715 47.2441 L905.256 47.2441 L905.256 47.2441  Z\" fill=\"#009af9\" fill-rule=\"evenodd\" fill-opacity=\"1\"/>\n",
       "<polyline clip-path=\"url(#clip352)\" style=\"stroke:#000000; stroke-linecap:round; stroke-linejoin:round; stroke-width:4; stroke-opacity:1; fill:none\" points=\"905.256,47.2441 905.256,1423.18 943.715,1423.18 943.715,47.2441 905.256,47.2441 \"/>\n",
       "<path clip-path=\"url(#clip352)\" d=\"M943.715 626.585 L943.715 1423.18 L982.174 1423.18 L982.174 626.585 L943.715 626.585 L943.715 626.585  Z\" fill=\"#009af9\" fill-rule=\"evenodd\" fill-opacity=\"1\"/>\n",
       "<polyline clip-path=\"url(#clip352)\" style=\"stroke:#000000; stroke-linecap:round; stroke-linejoin:round; stroke-width:4; stroke-opacity:1; fill:none\" points=\"943.715,626.585 943.715,1423.18 982.174,1423.18 982.174,626.585 943.715,626.585 \"/>\n",
       "<path clip-path=\"url(#clip352)\" d=\"M982.174 409.332 L982.174 1423.18 L1020.63 1423.18 L1020.63 409.332 L982.174 409.332 L982.174 409.332  Z\" fill=\"#009af9\" fill-rule=\"evenodd\" fill-opacity=\"1\"/>\n",
       "<polyline clip-path=\"url(#clip352)\" style=\"stroke:#000000; stroke-linecap:round; stroke-linejoin:round; stroke-width:4; stroke-opacity:1; fill:none\" points=\"982.174,409.332 982.174,1423.18 1020.63,1423.18 1020.63,409.332 982.174,409.332 \"/>\n",
       "<path clip-path=\"url(#clip352)\" d=\"M1020.63 626.585 L1020.63 1423.18 L1059.09 1423.18 L1059.09 626.585 L1020.63 626.585 L1020.63 626.585  Z\" fill=\"#009af9\" fill-rule=\"evenodd\" fill-opacity=\"1\"/>\n",
       "<polyline clip-path=\"url(#clip352)\" style=\"stroke:#000000; stroke-linecap:round; stroke-linejoin:round; stroke-width:4; stroke-opacity:1; fill:none\" points=\"1020.63,626.585 1020.63,1423.18 1059.09,1423.18 1059.09,626.585 1020.63,626.585 \"/>\n",
       "<path clip-path=\"url(#clip352)\" d=\"M1059.09 699.003 L1059.09 1423.18 L1097.55 1423.18 L1097.55 699.003 L1059.09 699.003 L1059.09 699.003  Z\" fill=\"#009af9\" fill-rule=\"evenodd\" fill-opacity=\"1\"/>\n",
       "<polyline clip-path=\"url(#clip352)\" style=\"stroke:#000000; stroke-linecap:round; stroke-linejoin:round; stroke-width:4; stroke-opacity:1; fill:none\" points=\"1059.09,699.003 1059.09,1423.18 1097.55,1423.18 1097.55,699.003 1059.09,699.003 \"/>\n",
       "<path clip-path=\"url(#clip352)\" d=\"M1097.55 1061.09 L1097.55 1423.18 L1136.01 1423.18 L1136.01 1061.09 L1097.55 1061.09 L1097.55 1061.09  Z\" fill=\"#009af9\" fill-rule=\"evenodd\" fill-opacity=\"1\"/>\n",
       "<polyline clip-path=\"url(#clip352)\" style=\"stroke:#000000; stroke-linecap:round; stroke-linejoin:round; stroke-width:4; stroke-opacity:1; fill:none\" points=\"1097.55,1061.09 1097.55,1423.18 1136.01,1423.18 1136.01,1061.09 1097.55,1061.09 \"/>\n",
       "<path clip-path=\"url(#clip352)\" d=\"M1136.01 1133.51 L1136.01 1423.18 L1174.47 1423.18 L1174.47 1133.51 L1136.01 1133.51 L1136.01 1133.51  Z\" fill=\"#009af9\" fill-rule=\"evenodd\" fill-opacity=\"1\"/>\n",
       "<polyline clip-path=\"url(#clip352)\" style=\"stroke:#000000; stroke-linecap:round; stroke-linejoin:round; stroke-width:4; stroke-opacity:1; fill:none\" points=\"1136.01,1133.51 1136.01,1423.18 1174.47,1423.18 1174.47,1133.51 1136.01,1133.51 \"/>\n",
       "<path clip-path=\"url(#clip352)\" d=\"M1174.47 699.003 L1174.47 1423.18 L1212.93 1423.18 L1212.93 699.003 L1174.47 699.003 L1174.47 699.003  Z\" fill=\"#009af9\" fill-rule=\"evenodd\" fill-opacity=\"1\"/>\n",
       "<polyline clip-path=\"url(#clip352)\" style=\"stroke:#000000; stroke-linecap:round; stroke-linejoin:round; stroke-width:4; stroke-opacity:1; fill:none\" points=\"1174.47,699.003 1174.47,1423.18 1212.93,1423.18 1212.93,699.003 1174.47,699.003 \"/>\n",
       "<path clip-path=\"url(#clip352)\" d=\"M1212.93 916.256 L1212.93 1423.18 L1251.39 1423.18 L1251.39 916.256 L1212.93 916.256 L1212.93 916.256  Z\" fill=\"#009af9\" fill-rule=\"evenodd\" fill-opacity=\"1\"/>\n",
       "<polyline clip-path=\"url(#clip352)\" style=\"stroke:#000000; stroke-linecap:round; stroke-linejoin:round; stroke-width:4; stroke-opacity:1; fill:none\" points=\"1212.93,916.256 1212.93,1423.18 1251.39,1423.18 1251.39,916.256 1212.93,916.256 \"/>\n",
       "<path clip-path=\"url(#clip352)\" d=\"M1251.39 1061.09 L1251.39 1423.18 L1289.85 1423.18 L1289.85 1061.09 L1251.39 1061.09 L1251.39 1061.09  Z\" fill=\"#009af9\" fill-rule=\"evenodd\" fill-opacity=\"1\"/>\n",
       "<polyline clip-path=\"url(#clip352)\" style=\"stroke:#000000; stroke-linecap:round; stroke-linejoin:round; stroke-width:4; stroke-opacity:1; fill:none\" points=\"1251.39,1061.09 1251.39,1423.18 1289.85,1423.18 1289.85,1061.09 1251.39,1061.09 \"/>\n",
       "<path clip-path=\"url(#clip352)\" d=\"M1289.85 843.838 L1289.85 1423.18 L1328.3 1423.18 L1328.3 843.838 L1289.85 843.838 L1289.85 843.838  Z\" fill=\"#009af9\" fill-rule=\"evenodd\" fill-opacity=\"1\"/>\n",
       "<polyline clip-path=\"url(#clip352)\" style=\"stroke:#000000; stroke-linecap:round; stroke-linejoin:round; stroke-width:4; stroke-opacity:1; fill:none\" points=\"1289.85,843.838 1289.85,1423.18 1328.3,1423.18 1328.3,843.838 1289.85,843.838 \"/>\n",
       "<path clip-path=\"url(#clip352)\" d=\"M1328.3 771.421 L1328.3 1423.18 L1366.76 1423.18 L1366.76 771.421 L1328.3 771.421 L1328.3 771.421  Z\" fill=\"#009af9\" fill-rule=\"evenodd\" fill-opacity=\"1\"/>\n",
       "<polyline clip-path=\"url(#clip352)\" style=\"stroke:#000000; stroke-linecap:round; stroke-linejoin:round; stroke-width:4; stroke-opacity:1; fill:none\" points=\"1328.3,771.421 1328.3,1423.18 1366.76,1423.18 1366.76,771.421 1328.3,771.421 \"/>\n",
       "<path clip-path=\"url(#clip352)\" d=\"M1366.76 843.838 L1366.76 1423.18 L1405.22 1423.18 L1405.22 843.838 L1366.76 843.838 L1366.76 843.838  Z\" fill=\"#009af9\" fill-rule=\"evenodd\" fill-opacity=\"1\"/>\n",
       "<polyline clip-path=\"url(#clip352)\" style=\"stroke:#000000; stroke-linecap:round; stroke-linejoin:round; stroke-width:4; stroke-opacity:1; fill:none\" points=\"1366.76,843.838 1366.76,1423.18 1405.22,1423.18 1405.22,843.838 1366.76,843.838 \"/>\n",
       "<path clip-path=\"url(#clip352)\" d=\"M1405.22 916.256 L1405.22 1423.18 L1443.68 1423.18 L1443.68 916.256 L1405.22 916.256 L1405.22 916.256  Z\" fill=\"#009af9\" fill-rule=\"evenodd\" fill-opacity=\"1\"/>\n",
       "<polyline clip-path=\"url(#clip352)\" style=\"stroke:#000000; stroke-linecap:round; stroke-linejoin:round; stroke-width:4; stroke-opacity:1; fill:none\" points=\"1405.22,916.256 1405.22,1423.18 1443.68,1423.18 1443.68,916.256 1405.22,916.256 \"/>\n",
       "<path clip-path=\"url(#clip352)\" d=\"M1443.68 771.421 L1443.68 1423.18 L1482.14 1423.18 L1482.14 771.421 L1443.68 771.421 L1443.68 771.421  Z\" fill=\"#009af9\" fill-rule=\"evenodd\" fill-opacity=\"1\"/>\n",
       "<polyline clip-path=\"url(#clip352)\" style=\"stroke:#000000; stroke-linecap:round; stroke-linejoin:round; stroke-width:4; stroke-opacity:1; fill:none\" points=\"1443.68,771.421 1443.68,1423.18 1482.14,1423.18 1482.14,771.421 1443.68,771.421 \"/>\n",
       "<path clip-path=\"url(#clip352)\" d=\"M1482.14 1061.09 L1482.14 1423.18 L1520.6 1423.18 L1520.6 1061.09 L1482.14 1061.09 L1482.14 1061.09  Z\" fill=\"#009af9\" fill-rule=\"evenodd\" fill-opacity=\"1\"/>\n",
       "<polyline clip-path=\"url(#clip352)\" style=\"stroke:#000000; stroke-linecap:round; stroke-linejoin:round; stroke-width:4; stroke-opacity:1; fill:none\" points=\"1482.14,1061.09 1482.14,1423.18 1520.6,1423.18 1520.6,1061.09 1482.14,1061.09 \"/>\n",
       "<path clip-path=\"url(#clip352)\" d=\"M1520.6 843.838 L1520.6 1423.18 L1559.06 1423.18 L1559.06 843.838 L1520.6 843.838 L1520.6 843.838  Z\" fill=\"#009af9\" fill-rule=\"evenodd\" fill-opacity=\"1\"/>\n",
       "<polyline clip-path=\"url(#clip352)\" style=\"stroke:#000000; stroke-linecap:round; stroke-linejoin:round; stroke-width:4; stroke-opacity:1; fill:none\" points=\"1520.6,843.838 1520.6,1423.18 1559.06,1423.18 1559.06,843.838 1520.6,843.838 \"/>\n",
       "<path clip-path=\"url(#clip352)\" d=\"M1559.06 771.421 L1559.06 1423.18 L1597.52 1423.18 L1597.52 771.421 L1559.06 771.421 L1559.06 771.421  Z\" fill=\"#009af9\" fill-rule=\"evenodd\" fill-opacity=\"1\"/>\n",
       "<polyline clip-path=\"url(#clip352)\" style=\"stroke:#000000; stroke-linecap:round; stroke-linejoin:round; stroke-width:4; stroke-opacity:1; fill:none\" points=\"1559.06,771.421 1559.06,1423.18 1597.52,1423.18 1597.52,771.421 1559.06,771.421 \"/>\n",
       "<path clip-path=\"url(#clip352)\" d=\"M1597.52 843.838 L1597.52 1423.18 L1635.98 1423.18 L1635.98 843.838 L1597.52 843.838 L1597.52 843.838  Z\" fill=\"#009af9\" fill-rule=\"evenodd\" fill-opacity=\"1\"/>\n",
       "<polyline clip-path=\"url(#clip352)\" style=\"stroke:#000000; stroke-linecap:round; stroke-linejoin:round; stroke-width:4; stroke-opacity:1; fill:none\" points=\"1597.52,843.838 1597.52,1423.18 1635.98,1423.18 1635.98,843.838 1597.52,843.838 \"/>\n",
       "<path clip-path=\"url(#clip352)\" d=\"M1635.98 1133.51 L1635.98 1423.18 L1674.43 1423.18 L1674.43 1133.51 L1635.98 1133.51 L1635.98 1133.51  Z\" fill=\"#009af9\" fill-rule=\"evenodd\" fill-opacity=\"1\"/>\n",
       "<polyline clip-path=\"url(#clip352)\" style=\"stroke:#000000; stroke-linecap:round; stroke-linejoin:round; stroke-width:4; stroke-opacity:1; fill:none\" points=\"1635.98,1133.51 1635.98,1423.18 1674.43,1423.18 1674.43,1133.51 1635.98,1133.51 \"/>\n",
       "<path clip-path=\"url(#clip352)\" d=\"M1674.43 1133.51 L1674.43 1423.18 L1712.89 1423.18 L1712.89 1133.51 L1674.43 1133.51 L1674.43 1133.51  Z\" fill=\"#009af9\" fill-rule=\"evenodd\" fill-opacity=\"1\"/>\n",
       "<polyline clip-path=\"url(#clip352)\" style=\"stroke:#000000; stroke-linecap:round; stroke-linejoin:round; stroke-width:4; stroke-opacity:1; fill:none\" points=\"1674.43,1133.51 1674.43,1423.18 1712.89,1423.18 1712.89,1133.51 1674.43,1133.51 \"/>\n",
       "<path clip-path=\"url(#clip352)\" d=\"M1712.89 771.421 L1712.89 1423.18 L1751.35 1423.18 L1751.35 771.421 L1712.89 771.421 L1712.89 771.421  Z\" fill=\"#009af9\" fill-rule=\"evenodd\" fill-opacity=\"1\"/>\n",
       "<polyline clip-path=\"url(#clip352)\" style=\"stroke:#000000; stroke-linecap:round; stroke-linejoin:round; stroke-width:4; stroke-opacity:1; fill:none\" points=\"1712.89,771.421 1712.89,1423.18 1751.35,1423.18 1751.35,771.421 1712.89,771.421 \"/>\n",
       "<path clip-path=\"url(#clip352)\" d=\"M1751.35 1205.93 L1751.35 1423.18 L1789.81 1423.18 L1789.81 1205.93 L1751.35 1205.93 L1751.35 1205.93  Z\" fill=\"#009af9\" fill-rule=\"evenodd\" fill-opacity=\"1\"/>\n",
       "<polyline clip-path=\"url(#clip352)\" style=\"stroke:#000000; stroke-linecap:round; stroke-linejoin:round; stroke-width:4; stroke-opacity:1; fill:none\" points=\"1751.35,1205.93 1751.35,1423.18 1789.81,1423.18 1789.81,1205.93 1751.35,1205.93 \"/>\n",
       "<path clip-path=\"url(#clip352)\" d=\"M1789.81 1350.76 L1789.81 1423.18 L1828.27 1423.18 L1828.27 1350.76 L1789.81 1350.76 L1789.81 1350.76  Z\" fill=\"#009af9\" fill-rule=\"evenodd\" fill-opacity=\"1\"/>\n",
       "<polyline clip-path=\"url(#clip352)\" style=\"stroke:#000000; stroke-linecap:round; stroke-linejoin:round; stroke-width:4; stroke-opacity:1; fill:none\" points=\"1789.81,1350.76 1789.81,1423.18 1828.27,1423.18 1828.27,1350.76 1789.81,1350.76 \"/>\n",
       "<path clip-path=\"url(#clip352)\" d=\"M1828.27 1278.34 L1828.27 1423.18 L1866.73 1423.18 L1866.73 1278.34 L1828.27 1278.34 L1828.27 1278.34  Z\" fill=\"#009af9\" fill-rule=\"evenodd\" fill-opacity=\"1\"/>\n",
       "<polyline clip-path=\"url(#clip352)\" style=\"stroke:#000000; stroke-linecap:round; stroke-linejoin:round; stroke-width:4; stroke-opacity:1; fill:none\" points=\"1828.27,1278.34 1828.27,1423.18 1866.73,1423.18 1866.73,1278.34 1828.27,1278.34 \"/>\n",
       "<path clip-path=\"url(#clip352)\" d=\"M1866.73 1061.09 L1866.73 1423.18 L1905.19 1423.18 L1905.19 1061.09 L1866.73 1061.09 L1866.73 1061.09  Z\" fill=\"#009af9\" fill-rule=\"evenodd\" fill-opacity=\"1\"/>\n",
       "<polyline clip-path=\"url(#clip352)\" style=\"stroke:#000000; stroke-linecap:round; stroke-linejoin:round; stroke-width:4; stroke-opacity:1; fill:none\" points=\"1866.73,1061.09 1866.73,1423.18 1905.19,1423.18 1905.19,1061.09 1866.73,1061.09 \"/>\n",
       "<path clip-path=\"url(#clip352)\" d=\"M1905.19 988.674 L1905.19 1423.18 L1943.65 1423.18 L1943.65 988.674 L1905.19 988.674 L1905.19 988.674  Z\" fill=\"#009af9\" fill-rule=\"evenodd\" fill-opacity=\"1\"/>\n",
       "<polyline clip-path=\"url(#clip352)\" style=\"stroke:#000000; stroke-linecap:round; stroke-linejoin:round; stroke-width:4; stroke-opacity:1; fill:none\" points=\"1905.19,988.674 1905.19,1423.18 1943.65,1423.18 1943.65,988.674 1905.19,988.674 \"/>\n",
       "<path clip-path=\"url(#clip352)\" d=\"M1943.65 916.256 L1943.65 1423.18 L1982.11 1423.18 L1982.11 916.256 L1943.65 916.256 L1943.65 916.256  Z\" fill=\"#009af9\" fill-rule=\"evenodd\" fill-opacity=\"1\"/>\n",
       "<polyline clip-path=\"url(#clip352)\" style=\"stroke:#000000; stroke-linecap:round; stroke-linejoin:round; stroke-width:4; stroke-opacity:1; fill:none\" points=\"1943.65,916.256 1943.65,1423.18 1982.11,1423.18 1982.11,916.256 1943.65,916.256 \"/>\n",
       "<path clip-path=\"url(#clip352)\" d=\"M1982.11 1278.34 L1982.11 1423.18 L2020.56 1423.18 L2020.56 1278.34 L1982.11 1278.34 L1982.11 1278.34  Z\" fill=\"#009af9\" fill-rule=\"evenodd\" fill-opacity=\"1\"/>\n",
       "<polyline clip-path=\"url(#clip352)\" style=\"stroke:#000000; stroke-linecap:round; stroke-linejoin:round; stroke-width:4; stroke-opacity:1; fill:none\" points=\"1982.11,1278.34 1982.11,1423.18 2020.56,1423.18 2020.56,1278.34 1982.11,1278.34 \"/>\n",
       "<path clip-path=\"url(#clip352)\" d=\"M2020.56 916.256 L2020.56 1423.18 L2059.02 1423.18 L2059.02 916.256 L2020.56 916.256 L2020.56 916.256  Z\" fill=\"#009af9\" fill-rule=\"evenodd\" fill-opacity=\"1\"/>\n",
       "<polyline clip-path=\"url(#clip352)\" style=\"stroke:#000000; stroke-linecap:round; stroke-linejoin:round; stroke-width:4; stroke-opacity:1; fill:none\" points=\"2020.56,916.256 2020.56,1423.18 2059.02,1423.18 2059.02,916.256 2020.56,916.256 \"/>\n",
       "<path clip-path=\"url(#clip352)\" d=\"M2059.02 1061.09 L2059.02 1423.18 L2097.48 1423.18 L2097.48 1061.09 L2059.02 1061.09 L2059.02 1061.09  Z\" fill=\"#009af9\" fill-rule=\"evenodd\" fill-opacity=\"1\"/>\n",
       "<polyline clip-path=\"url(#clip352)\" style=\"stroke:#000000; stroke-linecap:round; stroke-linejoin:round; stroke-width:4; stroke-opacity:1; fill:none\" points=\"2059.02,1061.09 2059.02,1423.18 2097.48,1423.18 2097.48,1061.09 2059.02,1061.09 \"/>\n",
       "<path clip-path=\"url(#clip352)\" d=\"M2097.48 988.674 L2097.48 1423.18 L2135.94 1423.18 L2135.94 988.674 L2097.48 988.674 L2097.48 988.674  Z\" fill=\"#009af9\" fill-rule=\"evenodd\" fill-opacity=\"1\"/>\n",
       "<polyline clip-path=\"url(#clip352)\" style=\"stroke:#000000; stroke-linecap:round; stroke-linejoin:round; stroke-width:4; stroke-opacity:1; fill:none\" points=\"2097.48,988.674 2097.48,1423.18 2135.94,1423.18 2135.94,988.674 2097.48,988.674 \"/>\n",
       "<path clip-path=\"url(#clip352)\" d=\"M2135.94 1133.51 L2135.94 1423.18 L2174.4 1423.18 L2174.4 1133.51 L2135.94 1133.51 L2135.94 1133.51  Z\" fill=\"#009af9\" fill-rule=\"evenodd\" fill-opacity=\"1\"/>\n",
       "<polyline clip-path=\"url(#clip352)\" style=\"stroke:#000000; stroke-linecap:round; stroke-linejoin:round; stroke-width:4; stroke-opacity:1; fill:none\" points=\"2135.94,1133.51 2135.94,1423.18 2174.4,1423.18 2174.4,1133.51 2135.94,1133.51 \"/>\n",
       "<path clip-path=\"url(#clip352)\" d=\"M2174.4 1061.09 L2174.4 1423.18 L2212.86 1423.18 L2212.86 1061.09 L2174.4 1061.09 L2174.4 1061.09  Z\" fill=\"#009af9\" fill-rule=\"evenodd\" fill-opacity=\"1\"/>\n",
       "<polyline clip-path=\"url(#clip352)\" style=\"stroke:#000000; stroke-linecap:round; stroke-linejoin:round; stroke-width:4; stroke-opacity:1; fill:none\" points=\"2174.4,1061.09 2174.4,1423.18 2212.86,1423.18 2212.86,1061.09 2174.4,1061.09 \"/>\n",
       "<path clip-path=\"url(#clip352)\" d=\"M2212.86 1133.51 L2212.86 1423.18 L2251.32 1423.18 L2251.32 1133.51 L2212.86 1133.51 L2212.86 1133.51  Z\" fill=\"#009af9\" fill-rule=\"evenodd\" fill-opacity=\"1\"/>\n",
       "<polyline clip-path=\"url(#clip352)\" style=\"stroke:#000000; stroke-linecap:round; stroke-linejoin:round; stroke-width:4; stroke-opacity:1; fill:none\" points=\"2212.86,1133.51 2212.86,1423.18 2251.32,1423.18 2251.32,1133.51 2212.86,1133.51 \"/>\n",
       "<path clip-path=\"url(#clip352)\" d=\"M2251.32 1061.09 L2251.32 1423.18 L2289.78 1423.18 L2289.78 1061.09 L2251.32 1061.09 L2251.32 1061.09  Z\" fill=\"#009af9\" fill-rule=\"evenodd\" fill-opacity=\"1\"/>\n",
       "<polyline clip-path=\"url(#clip352)\" style=\"stroke:#000000; stroke-linecap:round; stroke-linejoin:round; stroke-width:4; stroke-opacity:1; fill:none\" points=\"2251.32,1061.09 2251.32,1423.18 2289.78,1423.18 2289.78,1061.09 2251.32,1061.09 \"/>\n",
       "<path clip-path=\"url(#clip352)\" d=\"M2289.78 843.838 L2289.78 1423.18 L2328.24 1423.18 L2328.24 843.838 L2289.78 843.838 L2289.78 843.838  Z\" fill=\"#009af9\" fill-rule=\"evenodd\" fill-opacity=\"1\"/>\n",
       "<polyline clip-path=\"url(#clip352)\" style=\"stroke:#000000; stroke-linecap:round; stroke-linejoin:round; stroke-width:4; stroke-opacity:1; fill:none\" points=\"2289.78,843.838 2289.78,1423.18 2328.24,1423.18 2328.24,843.838 2289.78,843.838 \"/>\n",
       "<path clip-path=\"url(#clip352)\" d=\"M2328.24 1278.34 L2328.24 1423.18 L2366.69 1423.18 L2366.69 1278.34 L2328.24 1278.34 L2328.24 1278.34  Z\" fill=\"#009af9\" fill-rule=\"evenodd\" fill-opacity=\"1\"/>\n",
       "<polyline clip-path=\"url(#clip352)\" style=\"stroke:#000000; stroke-linecap:round; stroke-linejoin:round; stroke-width:4; stroke-opacity:1; fill:none\" points=\"2328.24,1278.34 2328.24,1423.18 2366.69,1423.18 2366.69,1278.34 2328.24,1278.34 \"/>\n",
       "<path clip-path=\"url(#clip352)\" d=\"M2366.69 1133.51 L2366.69 1423.18 L2405.15 1423.18 L2405.15 1133.51 L2366.69 1133.51 L2366.69 1133.51  Z\" fill=\"#009af9\" fill-rule=\"evenodd\" fill-opacity=\"1\"/>\n",
       "<polyline clip-path=\"url(#clip352)\" style=\"stroke:#000000; stroke-linecap:round; stroke-linejoin:round; stroke-width:4; stroke-opacity:1; fill:none\" points=\"2366.69,1133.51 2366.69,1423.18 2405.15,1423.18 2405.15,1133.51 2366.69,1133.51 \"/>\n",
       "<path clip-path=\"url(#clip352)\" d=\"M2405.15 1278.34 L2405.15 1423.18 L2443.61 1423.18 L2443.61 1278.34 L2405.15 1278.34 L2405.15 1278.34  Z\" fill=\"#009af9\" fill-rule=\"evenodd\" fill-opacity=\"1\"/>\n",
       "<polyline clip-path=\"url(#clip352)\" style=\"stroke:#000000; stroke-linecap:round; stroke-linejoin:round; stroke-width:4; stroke-opacity:1; fill:none\" points=\"2405.15,1278.34 2405.15,1423.18 2443.61,1423.18 2443.61,1278.34 2405.15,1278.34 \"/>\n",
       "<path clip-path=\"url(#clip352)\" d=\"M2443.61 1061.09 L2443.61 1423.18 L2482.07 1423.18 L2482.07 1061.09 L2443.61 1061.09 L2443.61 1061.09  Z\" fill=\"#009af9\" fill-rule=\"evenodd\" fill-opacity=\"1\"/>\n",
       "<polyline clip-path=\"url(#clip352)\" style=\"stroke:#000000; stroke-linecap:round; stroke-linejoin:round; stroke-width:4; stroke-opacity:1; fill:none\" points=\"2443.61,1061.09 2443.61,1423.18 2482.07,1423.18 2482.07,1061.09 2443.61,1061.09 \"/>\n",
       "<path clip-path=\"url(#clip352)\" d=\"M2482.07 1205.93 L2482.07 1423.18 L2520.53 1423.18 L2520.53 1205.93 L2482.07 1205.93 L2482.07 1205.93  Z\" fill=\"#009af9\" fill-rule=\"evenodd\" fill-opacity=\"1\"/>\n",
       "<polyline clip-path=\"url(#clip352)\" style=\"stroke:#000000; stroke-linecap:round; stroke-linejoin:round; stroke-width:4; stroke-opacity:1; fill:none\" points=\"2482.07,1205.93 2482.07,1423.18 2520.53,1423.18 2520.53,1205.93 2482.07,1205.93 \"/>\n",
       "<path clip-path=\"url(#clip352)\" d=\"M2520.53 1278.34 L2520.53 1423.18 L2558.99 1423.18 L2558.99 1278.34 L2520.53 1278.34 L2520.53 1278.34  Z\" fill=\"#009af9\" fill-rule=\"evenodd\" fill-opacity=\"1\"/>\n",
       "<polyline clip-path=\"url(#clip352)\" style=\"stroke:#000000; stroke-linecap:round; stroke-linejoin:round; stroke-width:4; stroke-opacity:1; fill:none\" points=\"2520.53,1278.34 2520.53,1423.18 2558.99,1423.18 2558.99,1278.34 2520.53,1278.34 \"/>\n",
       "<path clip-path=\"url(#clip352)\" d=\"M2558.99 1350.76 L2558.99 1423.18 L2597.45 1423.18 L2597.45 1350.76 L2558.99 1350.76 L2558.99 1350.76  Z\" fill=\"#009af9\" fill-rule=\"evenodd\" fill-opacity=\"1\"/>\n",
       "<polyline clip-path=\"url(#clip352)\" style=\"stroke:#000000; stroke-linecap:round; stroke-linejoin:round; stroke-width:4; stroke-opacity:1; fill:none\" points=\"2558.99,1350.76 2558.99,1423.18 2597.45,1423.18 2597.45,1350.76 2558.99,1350.76 \"/>\n",
       "<path clip-path=\"url(#clip352)\" d=\"M2597.45 1205.93 L2597.45 1423.18 L2635.91 1423.18 L2635.91 1205.93 L2597.45 1205.93 L2597.45 1205.93  Z\" fill=\"#009af9\" fill-rule=\"evenodd\" fill-opacity=\"1\"/>\n",
       "<polyline clip-path=\"url(#clip352)\" style=\"stroke:#000000; stroke-linecap:round; stroke-linejoin:round; stroke-width:4; stroke-opacity:1; fill:none\" points=\"2597.45,1205.93 2597.45,1423.18 2635.91,1423.18 2635.91,1205.93 2597.45,1205.93 \"/>\n",
       "<path clip-path=\"url(#clip352)\" d=\"M2635.91 1350.76 L2635.91 1423.18 L2674.37 1423.18 L2674.37 1350.76 L2635.91 1350.76 L2635.91 1350.76  Z\" fill=\"#009af9\" fill-rule=\"evenodd\" fill-opacity=\"1\"/>\n",
       "<polyline clip-path=\"url(#clip352)\" style=\"stroke:#000000; stroke-linecap:round; stroke-linejoin:round; stroke-width:4; stroke-opacity:1; fill:none\" points=\"2635.91,1350.76 2635.91,1423.18 2674.37,1423.18 2674.37,1350.76 2635.91,1350.76 \"/>\n",
       "<path clip-path=\"url(#clip352)\" d=\"M2674.37 1350.76 L2674.37 1423.18 L2712.83 1423.18 L2712.83 1350.76 L2674.37 1350.76 L2674.37 1350.76  Z\" fill=\"#009af9\" fill-rule=\"evenodd\" fill-opacity=\"1\"/>\n",
       "<polyline clip-path=\"url(#clip352)\" style=\"stroke:#000000; stroke-linecap:round; stroke-linejoin:round; stroke-width:4; stroke-opacity:1; fill:none\" points=\"2674.37,1350.76 2674.37,1423.18 2712.83,1423.18 2712.83,1350.76 2674.37,1350.76 \"/>\n",
       "<path clip-path=\"url(#clip352)\" d=\"M2712.83 1278.34 L2712.83 1423.18 L2751.28 1423.18 L2751.28 1278.34 L2712.83 1278.34 L2712.83 1278.34  Z\" fill=\"#009af9\" fill-rule=\"evenodd\" fill-opacity=\"1\"/>\n",
       "<polyline clip-path=\"url(#clip352)\" style=\"stroke:#000000; stroke-linecap:round; stroke-linejoin:round; stroke-width:4; stroke-opacity:1; fill:none\" points=\"2712.83,1278.34 2712.83,1423.18 2751.28,1423.18 2751.28,1278.34 2712.83,1278.34 \"/>\n",
       "<path clip-path=\"url(#clip352)\" d=\"M2751.28 1205.93 L2751.28 1423.18 L2789.74 1423.18 L2789.74 1205.93 L2751.28 1205.93 L2751.28 1205.93  Z\" fill=\"#009af9\" fill-rule=\"evenodd\" fill-opacity=\"1\"/>\n",
       "<polyline clip-path=\"url(#clip352)\" style=\"stroke:#000000; stroke-linecap:round; stroke-linejoin:round; stroke-width:4; stroke-opacity:1; fill:none\" points=\"2751.28,1205.93 2751.28,1423.18 2789.74,1423.18 2789.74,1205.93 2751.28,1205.93 \"/>\n",
       "<path clip-path=\"url(#clip352)\" d=\"M2789.74 1205.93 L2789.74 1423.18 L2828.2 1423.18 L2828.2 1205.93 L2789.74 1205.93 L2789.74 1205.93  Z\" fill=\"#009af9\" fill-rule=\"evenodd\" fill-opacity=\"1\"/>\n",
       "<polyline clip-path=\"url(#clip352)\" style=\"stroke:#000000; stroke-linecap:round; stroke-linejoin:round; stroke-width:4; stroke-opacity:1; fill:none\" points=\"2789.74,1205.93 2789.74,1423.18 2828.2,1423.18 2828.2,1205.93 2789.74,1205.93 \"/>\n",
       "<path clip-path=\"url(#clip352)\" d=\"M2828.2 1350.76 L2828.2 1423.18 L2866.66 1423.18 L2866.66 1350.76 L2828.2 1350.76 L2828.2 1350.76  Z\" fill=\"#009af9\" fill-rule=\"evenodd\" fill-opacity=\"1\"/>\n",
       "<polyline clip-path=\"url(#clip352)\" style=\"stroke:#000000; stroke-linecap:round; stroke-linejoin:round; stroke-width:4; stroke-opacity:1; fill:none\" points=\"2828.2,1350.76 2828.2,1423.18 2866.66,1423.18 2866.66,1350.76 2828.2,1350.76 \"/>\n",
       "<path clip-path=\"url(#clip352)\" d=\"M2866.66 1061.09 L2866.66 1423.18 L2905.12 1423.18 L2905.12 1061.09 L2866.66 1061.09 L2866.66 1061.09  Z\" fill=\"#009af9\" fill-rule=\"evenodd\" fill-opacity=\"1\"/>\n",
       "<polyline clip-path=\"url(#clip352)\" style=\"stroke:#000000; stroke-linecap:round; stroke-linejoin:round; stroke-width:4; stroke-opacity:1; fill:none\" points=\"2866.66,1061.09 2866.66,1423.18 2905.12,1423.18 2905.12,1061.09 2866.66,1061.09 \"/>\n",
       "<path clip-path=\"url(#clip352)\" d=\"M2905.12 1133.51 L2905.12 1423.18 L2943.58 1423.18 L2943.58 1133.51 L2905.12 1133.51 L2905.12 1133.51  Z\" fill=\"#009af9\" fill-rule=\"evenodd\" fill-opacity=\"1\"/>\n",
       "<polyline clip-path=\"url(#clip352)\" style=\"stroke:#000000; stroke-linecap:round; stroke-linejoin:round; stroke-width:4; stroke-opacity:1; fill:none\" points=\"2905.12,1133.51 2905.12,1423.18 2943.58,1423.18 2943.58,1133.51 2905.12,1133.51 \"/>\n",
       "<path clip-path=\"url(#clip352)\" d=\"M2943.58 1278.34 L2943.58 1423.18 L2982.04 1423.18 L2982.04 1278.34 L2943.58 1278.34 L2943.58 1278.34  Z\" fill=\"#009af9\" fill-rule=\"evenodd\" fill-opacity=\"1\"/>\n",
       "<polyline clip-path=\"url(#clip352)\" style=\"stroke:#000000; stroke-linecap:round; stroke-linejoin:round; stroke-width:4; stroke-opacity:1; fill:none\" points=\"2943.58,1278.34 2943.58,1423.18 2982.04,1423.18 2982.04,1278.34 2943.58,1278.34 \"/>\n",
       "<path clip-path=\"url(#clip352)\" d=\"M2982.04 1133.51 L2982.04 1423.18 L3020.5 1423.18 L3020.5 1133.51 L2982.04 1133.51 L2982.04 1133.51  Z\" fill=\"#009af9\" fill-rule=\"evenodd\" fill-opacity=\"1\"/>\n",
       "<polyline clip-path=\"url(#clip352)\" style=\"stroke:#000000; stroke-linecap:round; stroke-linejoin:round; stroke-width:4; stroke-opacity:1; fill:none\" points=\"2982.04,1133.51 2982.04,1423.18 3020.5,1423.18 3020.5,1133.51 2982.04,1133.51 \"/>\n",
       "<path clip-path=\"url(#clip352)\" d=\"M3020.5 1278.34 L3020.5 1423.18 L3058.96 1423.18 L3058.96 1278.34 L3020.5 1278.34 L3020.5 1278.34  Z\" fill=\"#009af9\" fill-rule=\"evenodd\" fill-opacity=\"1\"/>\n",
       "<polyline clip-path=\"url(#clip352)\" style=\"stroke:#000000; stroke-linecap:round; stroke-linejoin:round; stroke-width:4; stroke-opacity:1; fill:none\" points=\"3020.5,1278.34 3020.5,1423.18 3058.96,1423.18 3058.96,1278.34 3020.5,1278.34 \"/>\n",
       "<path clip-path=\"url(#clip352)\" d=\"M3058.96 1423.18 L3058.96 1423.18 L3097.41 1423.18 L3097.41 1423.18 L3058.96 1423.18 L3058.96 1423.18  Z\" fill=\"#009af9\" fill-rule=\"evenodd\" fill-opacity=\"1\"/>\n",
       "<polyline clip-path=\"url(#clip352)\" style=\"stroke:#000000; stroke-linecap:round; stroke-linejoin:round; stroke-width:4; stroke-opacity:1; fill:none\" points=\"3058.96,1423.18 3058.96,1423.18 3097.41,1423.18 3058.96,1423.18 \"/>\n",
       "<path clip-path=\"url(#clip352)\" d=\"M3097.41 1205.93 L3097.41 1423.18 L3135.87 1423.18 L3135.87 1205.93 L3097.41 1205.93 L3097.41 1205.93  Z\" fill=\"#009af9\" fill-rule=\"evenodd\" fill-opacity=\"1\"/>\n",
       "<polyline clip-path=\"url(#clip352)\" style=\"stroke:#000000; stroke-linecap:round; stroke-linejoin:round; stroke-width:4; stroke-opacity:1; fill:none\" points=\"3097.41,1205.93 3097.41,1423.18 3135.87,1423.18 3135.87,1205.93 3097.41,1205.93 \"/>\n",
       "<path clip-path=\"url(#clip352)\" d=\"M3135.87 1350.76 L3135.87 1423.18 L3174.33 1423.18 L3174.33 1350.76 L3135.87 1350.76 L3135.87 1350.76  Z\" fill=\"#009af9\" fill-rule=\"evenodd\" fill-opacity=\"1\"/>\n",
       "<polyline clip-path=\"url(#clip352)\" style=\"stroke:#000000; stroke-linecap:round; stroke-linejoin:round; stroke-width:4; stroke-opacity:1; fill:none\" points=\"3135.87,1350.76 3135.87,1423.18 3174.33,1423.18 3174.33,1350.76 3135.87,1350.76 \"/>\n",
       "<path clip-path=\"url(#clip352)\" d=\"M3174.33 1205.93 L3174.33 1423.18 L3212.79 1423.18 L3212.79 1205.93 L3174.33 1205.93 L3174.33 1205.93  Z\" fill=\"#009af9\" fill-rule=\"evenodd\" fill-opacity=\"1\"/>\n",
       "<polyline clip-path=\"url(#clip352)\" style=\"stroke:#000000; stroke-linecap:round; stroke-linejoin:round; stroke-width:4; stroke-opacity:1; fill:none\" points=\"3174.33,1205.93 3174.33,1423.18 3212.79,1423.18 3212.79,1205.93 3174.33,1205.93 \"/>\n",
       "<path clip-path=\"url(#clip352)\" d=\"M3212.79 1350.76 L3212.79 1423.18 L3251.25 1423.18 L3251.25 1350.76 L3212.79 1350.76 L3212.79 1350.76  Z\" fill=\"#009af9\" fill-rule=\"evenodd\" fill-opacity=\"1\"/>\n",
       "<polyline clip-path=\"url(#clip352)\" style=\"stroke:#000000; stroke-linecap:round; stroke-linejoin:round; stroke-width:4; stroke-opacity:1; fill:none\" points=\"3212.79,1350.76 3212.79,1423.18 3251.25,1423.18 3251.25,1350.76 3212.79,1350.76 \"/>\n",
       "<path clip-path=\"url(#clip352)\" d=\"M3251.25 1350.76 L3251.25 1423.18 L3289.71 1423.18 L3289.71 1350.76 L3251.25 1350.76 L3251.25 1350.76  Z\" fill=\"#009af9\" fill-rule=\"evenodd\" fill-opacity=\"1\"/>\n",
       "<polyline clip-path=\"url(#clip352)\" style=\"stroke:#000000; stroke-linecap:round; stroke-linejoin:round; stroke-width:4; stroke-opacity:1; fill:none\" points=\"3251.25,1350.76 3251.25,1423.18 3289.71,1423.18 3289.71,1350.76 3251.25,1350.76 \"/>\n",
       "<path clip-path=\"url(#clip352)\" d=\"M3289.71 1350.76 L3289.71 1423.18 L3328.17 1423.18 L3328.17 1350.76 L3289.71 1350.76 L3289.71 1350.76  Z\" fill=\"#009af9\" fill-rule=\"evenodd\" fill-opacity=\"1\"/>\n",
       "<polyline clip-path=\"url(#clip352)\" style=\"stroke:#000000; stroke-linecap:round; stroke-linejoin:round; stroke-width:4; stroke-opacity:1; fill:none\" points=\"3289.71,1350.76 3289.71,1423.18 3328.17,1423.18 3328.17,1350.76 3289.71,1350.76 \"/>\n",
       "<path clip-path=\"url(#clip352)\" d=\"M3328.17 1133.51 L3328.17 1423.18 L3366.63 1423.18 L3366.63 1133.51 L3328.17 1133.51 L3328.17 1133.51  Z\" fill=\"#009af9\" fill-rule=\"evenodd\" fill-opacity=\"1\"/>\n",
       "<polyline clip-path=\"url(#clip352)\" style=\"stroke:#000000; stroke-linecap:round; stroke-linejoin:round; stroke-width:4; stroke-opacity:1; fill:none\" points=\"3328.17,1133.51 3328.17,1423.18 3366.63,1423.18 3366.63,1133.51 3328.17,1133.51 \"/>\n",
       "<path clip-path=\"url(#clip352)\" d=\"M3366.63 1278.34 L3366.63 1423.18 L3405.09 1423.18 L3405.09 1278.34 L3366.63 1278.34 L3366.63 1278.34  Z\" fill=\"#009af9\" fill-rule=\"evenodd\" fill-opacity=\"1\"/>\n",
       "<polyline clip-path=\"url(#clip352)\" style=\"stroke:#000000; stroke-linecap:round; stroke-linejoin:round; stroke-width:4; stroke-opacity:1; fill:none\" points=\"3366.63,1278.34 3366.63,1423.18 3405.09,1423.18 3405.09,1278.34 3366.63,1278.34 \"/>\n",
       "<path clip-path=\"url(#clip352)\" d=\"M3405.09 1205.93 L3405.09 1423.18 L3443.54 1423.18 L3443.54 1205.93 L3405.09 1205.93 L3405.09 1205.93  Z\" fill=\"#009af9\" fill-rule=\"evenodd\" fill-opacity=\"1\"/>\n",
       "<polyline clip-path=\"url(#clip352)\" style=\"stroke:#000000; stroke-linecap:round; stroke-linejoin:round; stroke-width:4; stroke-opacity:1; fill:none\" points=\"3405.09,1205.93 3405.09,1423.18 3443.54,1423.18 3443.54,1205.93 3405.09,1205.93 \"/>\n",
       "<path clip-path=\"url(#clip352)\" d=\"M3443.54 1350.76 L3443.54 1423.18 L3482 1423.18 L3482 1350.76 L3443.54 1350.76 L3443.54 1350.76  Z\" fill=\"#009af9\" fill-rule=\"evenodd\" fill-opacity=\"1\"/>\n",
       "<polyline clip-path=\"url(#clip352)\" style=\"stroke:#000000; stroke-linecap:round; stroke-linejoin:round; stroke-width:4; stroke-opacity:1; fill:none\" points=\"3443.54,1350.76 3443.54,1423.18 3482,1423.18 3482,1350.76 3443.54,1350.76 \"/>\n",
       "<path clip-path=\"url(#clip352)\" d=\"M3482 1061.09 L3482 1423.18 L3520.46 1423.18 L3520.46 1061.09 L3482 1061.09 L3482 1061.09  Z\" fill=\"#009af9\" fill-rule=\"evenodd\" fill-opacity=\"1\"/>\n",
       "<polyline clip-path=\"url(#clip352)\" style=\"stroke:#000000; stroke-linecap:round; stroke-linejoin:round; stroke-width:4; stroke-opacity:1; fill:none\" points=\"3482,1061.09 3482,1423.18 3520.46,1423.18 3520.46,1061.09 3482,1061.09 \"/>\n",
       "<path clip-path=\"url(#clip352)\" d=\"M3520.46 1423.18 L3520.46 1423.18 L3558.92 1423.18 L3558.92 1423.18 L3520.46 1423.18 L3520.46 1423.18  Z\" fill=\"#009af9\" fill-rule=\"evenodd\" fill-opacity=\"1\"/>\n",
       "<polyline clip-path=\"url(#clip352)\" style=\"stroke:#000000; stroke-linecap:round; stroke-linejoin:round; stroke-width:4; stroke-opacity:1; fill:none\" points=\"3520.46,1423.18 3520.46,1423.18 3558.92,1423.18 3520.46,1423.18 \"/>\n",
       "<path clip-path=\"url(#clip352)\" d=\"M3558.92 1423.18 L3558.92 1423.18 L3597.38 1423.18 L3597.38 1423.18 L3558.92 1423.18 L3558.92 1423.18  Z\" fill=\"#009af9\" fill-rule=\"evenodd\" fill-opacity=\"1\"/>\n",
       "<polyline clip-path=\"url(#clip352)\" style=\"stroke:#000000; stroke-linecap:round; stroke-linejoin:round; stroke-width:4; stroke-opacity:1; fill:none\" points=\"3558.92,1423.18 3558.92,1423.18 3597.38,1423.18 3558.92,1423.18 \"/>\n",
       "<path clip-path=\"url(#clip352)\" d=\"M3597.38 1278.34 L3597.38 1423.18 L3635.84 1423.18 L3635.84 1278.34 L3597.38 1278.34 L3597.38 1278.34  Z\" fill=\"#009af9\" fill-rule=\"evenodd\" fill-opacity=\"1\"/>\n",
       "<polyline clip-path=\"url(#clip352)\" style=\"stroke:#000000; stroke-linecap:round; stroke-linejoin:round; stroke-width:4; stroke-opacity:1; fill:none\" points=\"3597.38,1278.34 3597.38,1423.18 3635.84,1423.18 3635.84,1278.34 3597.38,1278.34 \"/>\n",
       "<path clip-path=\"url(#clip352)\" d=\"M3635.84 1350.76 L3635.84 1423.18 L3674.3 1423.18 L3674.3 1350.76 L3635.84 1350.76 L3635.84 1350.76  Z\" fill=\"#009af9\" fill-rule=\"evenodd\" fill-opacity=\"1\"/>\n",
       "<polyline clip-path=\"url(#clip352)\" style=\"stroke:#000000; stroke-linecap:round; stroke-linejoin:round; stroke-width:4; stroke-opacity:1; fill:none\" points=\"3635.84,1350.76 3635.84,1423.18 3674.3,1423.18 3674.3,1350.76 3635.84,1350.76 \"/>\n",
       "<path clip-path=\"url(#clip352)\" d=\"M3674.3 1350.76 L3674.3 1423.18 L3712.76 1423.18 L3712.76 1350.76 L3674.3 1350.76 L3674.3 1350.76  Z\" fill=\"#009af9\" fill-rule=\"evenodd\" fill-opacity=\"1\"/>\n",
       "<polyline clip-path=\"url(#clip352)\" style=\"stroke:#000000; stroke-linecap:round; stroke-linejoin:round; stroke-width:4; stroke-opacity:1; fill:none\" points=\"3674.3,1350.76 3674.3,1423.18 3712.76,1423.18 3712.76,1350.76 3674.3,1350.76 \"/>\n",
       "<path clip-path=\"url(#clip352)\" d=\"M3712.76 1423.18 L3712.76 1423.18 L3751.22 1423.18 L3751.22 1423.18 L3712.76 1423.18 L3712.76 1423.18  Z\" fill=\"#009af9\" fill-rule=\"evenodd\" fill-opacity=\"1\"/>\n",
       "<polyline clip-path=\"url(#clip352)\" style=\"stroke:#000000; stroke-linecap:round; stroke-linejoin:round; stroke-width:4; stroke-opacity:1; fill:none\" points=\"3712.76,1423.18 3712.76,1423.18 3751.22,1423.18 3712.76,1423.18 \"/>\n",
       "<path clip-path=\"url(#clip352)\" d=\"M3751.22 1350.76 L3751.22 1423.18 L3789.67 1423.18 L3789.67 1350.76 L3751.22 1350.76 L3751.22 1350.76  Z\" fill=\"#009af9\" fill-rule=\"evenodd\" fill-opacity=\"1\"/>\n",
       "<polyline clip-path=\"url(#clip352)\" style=\"stroke:#000000; stroke-linecap:round; stroke-linejoin:round; stroke-width:4; stroke-opacity:1; fill:none\" points=\"3751.22,1350.76 3751.22,1423.18 3789.67,1423.18 3789.67,1350.76 3751.22,1350.76 \"/>\n",
       "<path clip-path=\"url(#clip352)\" d=\"M3789.67 1278.34 L3789.67 1423.18 L3828.13 1423.18 L3828.13 1278.34 L3789.67 1278.34 L3789.67 1278.34  Z\" fill=\"#009af9\" fill-rule=\"evenodd\" fill-opacity=\"1\"/>\n",
       "<polyline clip-path=\"url(#clip352)\" style=\"stroke:#000000; stroke-linecap:round; stroke-linejoin:round; stroke-width:4; stroke-opacity:1; fill:none\" points=\"3789.67,1278.34 3789.67,1423.18 3828.13,1423.18 3828.13,1278.34 3789.67,1278.34 \"/>\n",
       "<path clip-path=\"url(#clip352)\" d=\"M3828.13 1350.76 L3828.13 1423.18 L3866.59 1423.18 L3866.59 1350.76 L3828.13 1350.76 L3828.13 1350.76  Z\" fill=\"#009af9\" fill-rule=\"evenodd\" fill-opacity=\"1\"/>\n",
       "<polyline clip-path=\"url(#clip352)\" style=\"stroke:#000000; stroke-linecap:round; stroke-linejoin:round; stroke-width:4; stroke-opacity:1; fill:none\" points=\"3828.13,1350.76 3828.13,1423.18 3866.59,1423.18 3866.59,1350.76 3828.13,1350.76 \"/>\n",
       "<path clip-path=\"url(#clip352)\" d=\"M3866.59 1350.76 L3866.59 1423.18 L3905.05 1423.18 L3905.05 1350.76 L3866.59 1350.76 L3866.59 1350.76  Z\" fill=\"#009af9\" fill-rule=\"evenodd\" fill-opacity=\"1\"/>\n",
       "<polyline clip-path=\"url(#clip352)\" style=\"stroke:#000000; stroke-linecap:round; stroke-linejoin:round; stroke-width:4; stroke-opacity:1; fill:none\" points=\"3866.59,1350.76 3866.59,1423.18 3905.05,1423.18 3905.05,1350.76 3866.59,1350.76 \"/>\n",
       "<path clip-path=\"url(#clip352)\" d=\"M3905.05 1205.93 L3905.05 1423.18 L3943.51 1423.18 L3943.51 1205.93 L3905.05 1205.93 L3905.05 1205.93  Z\" fill=\"#009af9\" fill-rule=\"evenodd\" fill-opacity=\"1\"/>\n",
       "<polyline clip-path=\"url(#clip352)\" style=\"stroke:#000000; stroke-linecap:round; stroke-linejoin:round; stroke-width:4; stroke-opacity:1; fill:none\" points=\"3905.05,1205.93 3905.05,1423.18 3943.51,1423.18 3943.51,1205.93 3905.05,1205.93 \"/>\n",
       "<path clip-path=\"url(#clip352)\" d=\"M3943.51 1423.18 L3943.51 1423.18 L3981.97 1423.18 L3981.97 1423.18 L3943.51 1423.18 L3943.51 1423.18  Z\" fill=\"#009af9\" fill-rule=\"evenodd\" fill-opacity=\"1\"/>\n",
       "<polyline clip-path=\"url(#clip352)\" style=\"stroke:#000000; stroke-linecap:round; stroke-linejoin:round; stroke-width:4; stroke-opacity:1; fill:none\" points=\"3943.51,1423.18 3943.51,1423.18 3981.97,1423.18 3943.51,1423.18 \"/>\n",
       "<path clip-path=\"url(#clip352)\" d=\"M3981.97 1350.76 L3981.97 1423.18 L4020.43 1423.18 L4020.43 1350.76 L3981.97 1350.76 L3981.97 1350.76  Z\" fill=\"#009af9\" fill-rule=\"evenodd\" fill-opacity=\"1\"/>\n",
       "<polyline clip-path=\"url(#clip352)\" style=\"stroke:#000000; stroke-linecap:round; stroke-linejoin:round; stroke-width:4; stroke-opacity:1; fill:none\" points=\"3981.97,1350.76 3981.97,1423.18 4020.43,1423.18 4020.43,1350.76 3981.97,1350.76 \"/>\n",
       "<path clip-path=\"url(#clip352)\" d=\"M4020.43 1423.18 L4020.43 1423.18 L4058.89 1423.18 L4058.89 1423.18 L4020.43 1423.18 L4020.43 1423.18  Z\" fill=\"#009af9\" fill-rule=\"evenodd\" fill-opacity=\"1\"/>\n",
       "<polyline clip-path=\"url(#clip352)\" style=\"stroke:#000000; stroke-linecap:round; stroke-linejoin:round; stroke-width:4; stroke-opacity:1; fill:none\" points=\"4020.43,1423.18 4020.43,1423.18 4058.89,1423.18 4020.43,1423.18 \"/>\n",
       "<path clip-path=\"url(#clip352)\" d=\"M4058.89 1423.18 L4058.89 1423.18 L4097.35 1423.18 L4097.35 1423.18 L4058.89 1423.18 L4058.89 1423.18  Z\" fill=\"#009af9\" fill-rule=\"evenodd\" fill-opacity=\"1\"/>\n",
       "<polyline clip-path=\"url(#clip352)\" style=\"stroke:#000000; stroke-linecap:round; stroke-linejoin:round; stroke-width:4; stroke-opacity:1; fill:none\" points=\"4058.89,1423.18 4058.89,1423.18 4097.35,1423.18 4058.89,1423.18 \"/>\n",
       "<path clip-path=\"url(#clip352)\" d=\"M4097.35 1423.18 L4097.35 1423.18 L4135.8 1423.18 L4135.8 1423.18 L4097.35 1423.18 L4097.35 1423.18  Z\" fill=\"#009af9\" fill-rule=\"evenodd\" fill-opacity=\"1\"/>\n",
       "<polyline clip-path=\"url(#clip352)\" style=\"stroke:#000000; stroke-linecap:round; stroke-linejoin:round; stroke-width:4; stroke-opacity:1; fill:none\" points=\"4097.35,1423.18 4097.35,1423.18 4135.8,1423.18 4097.35,1423.18 \"/>\n",
       "<path clip-path=\"url(#clip352)\" d=\"M4135.8 1423.18 L4135.8 1423.18 L4174.26 1423.18 L4174.26 1423.18 L4135.8 1423.18 L4135.8 1423.18  Z\" fill=\"#009af9\" fill-rule=\"evenodd\" fill-opacity=\"1\"/>\n",
       "<polyline clip-path=\"url(#clip352)\" style=\"stroke:#000000; stroke-linecap:round; stroke-linejoin:round; stroke-width:4; stroke-opacity:1; fill:none\" points=\"4135.8,1423.18 4135.8,1423.18 4174.26,1423.18 4135.8,1423.18 \"/>\n",
       "<path clip-path=\"url(#clip352)\" d=\"M4174.26 1350.76 L4174.26 1423.18 L4212.72 1423.18 L4212.72 1350.76 L4174.26 1350.76 L4174.26 1350.76  Z\" fill=\"#009af9\" fill-rule=\"evenodd\" fill-opacity=\"1\"/>\n",
       "<polyline clip-path=\"url(#clip352)\" style=\"stroke:#000000; stroke-linecap:round; stroke-linejoin:round; stroke-width:4; stroke-opacity:1; fill:none\" points=\"4174.26,1350.76 4174.26,1423.18 4212.72,1423.18 4212.72,1350.76 4174.26,1350.76 \"/>\n",
       "<path clip-path=\"url(#clip352)\" d=\"M4212.72 1423.18 L4212.72 1423.18 L4251.18 1423.18 L4251.18 1423.18 L4212.72 1423.18 L4212.72 1423.18  Z\" fill=\"#009af9\" fill-rule=\"evenodd\" fill-opacity=\"1\"/>\n",
       "<polyline clip-path=\"url(#clip352)\" style=\"stroke:#000000; stroke-linecap:round; stroke-linejoin:round; stroke-width:4; stroke-opacity:1; fill:none\" points=\"4212.72,1423.18 4212.72,1423.18 4251.18,1423.18 4212.72,1423.18 \"/>\n",
       "<path clip-path=\"url(#clip352)\" d=\"M4251.18 1350.76 L4251.18 1423.18 L4289.64 1423.18 L4289.64 1350.76 L4251.18 1350.76 L4251.18 1350.76  Z\" fill=\"#009af9\" fill-rule=\"evenodd\" fill-opacity=\"1\"/>\n",
       "<polyline clip-path=\"url(#clip352)\" style=\"stroke:#000000; stroke-linecap:round; stroke-linejoin:round; stroke-width:4; stroke-opacity:1; fill:none\" points=\"4251.18,1350.76 4251.18,1423.18 4289.64,1423.18 4289.64,1350.76 4251.18,1350.76 \"/>\n",
       "<path clip-path=\"url(#clip352)\" d=\"M4289.64 1278.34 L4289.64 1423.18 L4328.1 1423.18 L4328.1 1278.34 L4289.64 1278.34 L4289.64 1278.34  Z\" fill=\"#009af9\" fill-rule=\"evenodd\" fill-opacity=\"1\"/>\n",
       "<polyline clip-path=\"url(#clip352)\" style=\"stroke:#000000; stroke-linecap:round; stroke-linejoin:round; stroke-width:4; stroke-opacity:1; fill:none\" points=\"4289.64,1278.34 4289.64,1423.18 4328.1,1423.18 4328.1,1278.34 4289.64,1278.34 \"/>\n",
       "<path clip-path=\"url(#clip352)\" d=\"M4328.1 1423.18 L4328.1 1423.18 L4366.56 1423.18 L4366.56 1423.18 L4328.1 1423.18 L4328.1 1423.18  Z\" fill=\"#009af9\" fill-rule=\"evenodd\" fill-opacity=\"1\"/>\n",
       "<polyline clip-path=\"url(#clip352)\" style=\"stroke:#000000; stroke-linecap:round; stroke-linejoin:round; stroke-width:4; stroke-opacity:1; fill:none\" points=\"4328.1,1423.18 4328.1,1423.18 4366.56,1423.18 4328.1,1423.18 \"/>\n",
       "<path clip-path=\"url(#clip352)\" d=\"M4366.56 1350.76 L4366.56 1423.18 L4405.02 1423.18 L4405.02 1350.76 L4366.56 1350.76 L4366.56 1350.76  Z\" fill=\"#009af9\" fill-rule=\"evenodd\" fill-opacity=\"1\"/>\n",
       "<polyline clip-path=\"url(#clip352)\" style=\"stroke:#000000; stroke-linecap:round; stroke-linejoin:round; stroke-width:4; stroke-opacity:1; fill:none\" points=\"4366.56,1350.76 4366.56,1423.18 4405.02,1423.18 4405.02,1350.76 4366.56,1350.76 \"/>\n",
       "<path clip-path=\"url(#clip352)\" d=\"M4405.02 1423.18 L4405.02 1423.18 L4443.48 1423.18 L4443.48 1423.18 L4405.02 1423.18 L4405.02 1423.18  Z\" fill=\"#009af9\" fill-rule=\"evenodd\" fill-opacity=\"1\"/>\n",
       "<polyline clip-path=\"url(#clip352)\" style=\"stroke:#000000; stroke-linecap:round; stroke-linejoin:round; stroke-width:4; stroke-opacity:1; fill:none\" points=\"4405.02,1423.18 4405.02,1423.18 4443.48,1423.18 4405.02,1423.18 \"/>\n",
       "<path clip-path=\"url(#clip352)\" d=\"M4443.48 1423.18 L4443.48 1423.18 L4481.94 1423.18 L4481.94 1423.18 L4443.48 1423.18 L4443.48 1423.18  Z\" fill=\"#009af9\" fill-rule=\"evenodd\" fill-opacity=\"1\"/>\n",
       "<polyline clip-path=\"url(#clip352)\" style=\"stroke:#000000; stroke-linecap:round; stroke-linejoin:round; stroke-width:4; stroke-opacity:1; fill:none\" points=\"4443.48,1423.18 4443.48,1423.18 4481.94,1423.18 4443.48,1423.18 \"/>\n",
       "<path clip-path=\"url(#clip352)\" d=\"M4481.94 1278.34 L4481.94 1423.18 L4520.39 1423.18 L4520.39 1278.34 L4481.94 1278.34 L4481.94 1278.34  Z\" fill=\"#009af9\" fill-rule=\"evenodd\" fill-opacity=\"1\"/>\n",
       "<polyline clip-path=\"url(#clip352)\" style=\"stroke:#000000; stroke-linecap:round; stroke-linejoin:round; stroke-width:4; stroke-opacity:1; fill:none\" points=\"4481.94,1278.34 4481.94,1423.18 4520.39,1423.18 4520.39,1278.34 4481.94,1278.34 \"/>\n",
       "<path clip-path=\"url(#clip352)\" d=\"M4520.39 1350.76 L4520.39 1423.18 L4558.85 1423.18 L4558.85 1350.76 L4520.39 1350.76 L4520.39 1350.76  Z\" fill=\"#009af9\" fill-rule=\"evenodd\" fill-opacity=\"1\"/>\n",
       "<polyline clip-path=\"url(#clip352)\" style=\"stroke:#000000; stroke-linecap:round; stroke-linejoin:round; stroke-width:4; stroke-opacity:1; fill:none\" points=\"4520.39,1350.76 4520.39,1423.18 4558.85,1423.18 4558.85,1350.76 4520.39,1350.76 \"/>\n",
       "<path clip-path=\"url(#clip352)\" d=\"M4558.85 1423.18 L4558.85 1423.18 L4597.31 1423.18 L4597.31 1423.18 L4558.85 1423.18 L4558.85 1423.18  Z\" fill=\"#009af9\" fill-rule=\"evenodd\" fill-opacity=\"1\"/>\n",
       "<polyline clip-path=\"url(#clip352)\" style=\"stroke:#000000; stroke-linecap:round; stroke-linejoin:round; stroke-width:4; stroke-opacity:1; fill:none\" points=\"4558.85,1423.18 4558.85,1423.18 4597.31,1423.18 4558.85,1423.18 \"/>\n",
       "<path clip-path=\"url(#clip352)\" d=\"M4597.31 1350.76 L4597.31 1423.18 L4635.77 1423.18 L4635.77 1350.76 L4597.31 1350.76 L4597.31 1350.76  Z\" fill=\"#009af9\" fill-rule=\"evenodd\" fill-opacity=\"1\"/>\n",
       "<polyline clip-path=\"url(#clip352)\" style=\"stroke:#000000; stroke-linecap:round; stroke-linejoin:round; stroke-width:4; stroke-opacity:1; fill:none\" points=\"4597.31,1350.76 4597.31,1423.18 4635.77,1423.18 4635.77,1350.76 4597.31,1350.76 \"/>\n",
       "<path clip-path=\"url(#clip352)\" d=\"M4635.77 1423.18 L4635.77 1423.18 L4674.23 1423.18 L4674.23 1423.18 L4635.77 1423.18 L4635.77 1423.18  Z\" fill=\"#009af9\" fill-rule=\"evenodd\" fill-opacity=\"1\"/>\n",
       "<polyline clip-path=\"url(#clip352)\" style=\"stroke:#000000; stroke-linecap:round; stroke-linejoin:round; stroke-width:4; stroke-opacity:1; fill:none\" points=\"4635.77,1423.18 4635.77,1423.18 4674.23,1423.18 4635.77,1423.18 \"/>\n",
       "<path clip-path=\"url(#clip352)\" d=\"M4674.23 1423.18 L4674.23 1423.18 L4712.69 1423.18 L4712.69 1423.18 L4674.23 1423.18 L4674.23 1423.18  Z\" fill=\"#009af9\" fill-rule=\"evenodd\" fill-opacity=\"1\"/>\n",
       "<polyline clip-path=\"url(#clip352)\" style=\"stroke:#000000; stroke-linecap:round; stroke-linejoin:round; stroke-width:4; stroke-opacity:1; fill:none\" points=\"4674.23,1423.18 4674.23,1423.18 4712.69,1423.18 4674.23,1423.18 \"/>\n",
       "<path clip-path=\"url(#clip352)\" d=\"M4712.69 1350.76 L4712.69 1423.18 L4751.15 1423.18 L4751.15 1350.76 L4712.69 1350.76 L4712.69 1350.76  Z\" fill=\"#009af9\" fill-rule=\"evenodd\" fill-opacity=\"1\"/>\n",
       "<polyline clip-path=\"url(#clip352)\" style=\"stroke:#000000; stroke-linecap:round; stroke-linejoin:round; stroke-width:4; stroke-opacity:1; fill:none\" points=\"4712.69,1350.76 4712.69,1423.18 4751.15,1423.18 4751.15,1350.76 4712.69,1350.76 \"/>\n",
       "<path clip-path=\"url(#clip352)\" d=\"M4751.15 1423.18 L4751.15 1423.18 L4789.61 1423.18 L4789.61 1423.18 L4751.15 1423.18 L4751.15 1423.18  Z\" fill=\"#009af9\" fill-rule=\"evenodd\" fill-opacity=\"1\"/>\n",
       "<polyline clip-path=\"url(#clip352)\" style=\"stroke:#000000; stroke-linecap:round; stroke-linejoin:round; stroke-width:4; stroke-opacity:1; fill:none\" points=\"4751.15,1423.18 4751.15,1423.18 4789.61,1423.18 4751.15,1423.18 \"/>\n",
       "<path clip-path=\"url(#clip352)\" d=\"M4789.61 1350.76 L4789.61 1423.18 L4828.07 1423.18 L4828.07 1350.76 L4789.61 1350.76 L4789.61 1350.76  Z\" fill=\"#009af9\" fill-rule=\"evenodd\" fill-opacity=\"1\"/>\n",
       "<polyline clip-path=\"url(#clip352)\" style=\"stroke:#000000; stroke-linecap:round; stroke-linejoin:round; stroke-width:4; stroke-opacity:1; fill:none\" points=\"4789.61,1350.76 4789.61,1423.18 4828.07,1423.18 4828.07,1350.76 4789.61,1350.76 \"/>\n",
       "<path clip-path=\"url(#clip352)\" d=\"M4828.07 1423.18 L4828.07 1423.18 L4866.52 1423.18 L4866.52 1423.18 L4828.07 1423.18 L4828.07 1423.18  Z\" fill=\"#009af9\" fill-rule=\"evenodd\" fill-opacity=\"1\"/>\n",
       "<polyline clip-path=\"url(#clip352)\" style=\"stroke:#000000; stroke-linecap:round; stroke-linejoin:round; stroke-width:4; stroke-opacity:1; fill:none\" points=\"4828.07,1423.18 4828.07,1423.18 4866.52,1423.18 4828.07,1423.18 \"/>\n",
       "<path clip-path=\"url(#clip352)\" d=\"M4866.52 1350.76 L4866.52 1423.18 L4904.98 1423.18 L4904.98 1350.76 L4866.52 1350.76 L4866.52 1350.76  Z\" fill=\"#009af9\" fill-rule=\"evenodd\" fill-opacity=\"1\"/>\n",
       "<polyline clip-path=\"url(#clip352)\" style=\"stroke:#000000; stroke-linecap:round; stroke-linejoin:round; stroke-width:4; stroke-opacity:1; fill:none\" points=\"4866.52,1350.76 4866.52,1423.18 4904.98,1423.18 4904.98,1350.76 4866.52,1350.76 \"/>\n",
       "<path clip-path=\"url(#clip352)\" d=\"M4904.98 1350.76 L4904.98 1423.18 L4943.44 1423.18 L4943.44 1350.76 L4904.98 1350.76 L4904.98 1350.76  Z\" fill=\"#009af9\" fill-rule=\"evenodd\" fill-opacity=\"1\"/>\n",
       "<polyline clip-path=\"url(#clip352)\" style=\"stroke:#000000; stroke-linecap:round; stroke-linejoin:round; stroke-width:4; stroke-opacity:1; fill:none\" points=\"4904.98,1350.76 4904.98,1423.18 4943.44,1423.18 4943.44,1350.76 4904.98,1350.76 \"/>\n",
       "<path clip-path=\"url(#clip352)\" d=\"M4943.44 1423.18 L4943.44 1423.18 L4981.9 1423.18 L4981.9 1423.18 L4943.44 1423.18 L4943.44 1423.18  Z\" fill=\"#009af9\" fill-rule=\"evenodd\" fill-opacity=\"1\"/>\n",
       "<polyline clip-path=\"url(#clip352)\" style=\"stroke:#000000; stroke-linecap:round; stroke-linejoin:round; stroke-width:4; stroke-opacity:1; fill:none\" points=\"4943.44,1423.18 4943.44,1423.18 4981.9,1423.18 4943.44,1423.18 \"/>\n",
       "<path clip-path=\"url(#clip352)\" d=\"M4981.9 1423.18 L4981.9 1423.18 L5020.36 1423.18 L5020.36 1423.18 L4981.9 1423.18 L4981.9 1423.18  Z\" fill=\"#009af9\" fill-rule=\"evenodd\" fill-opacity=\"1\"/>\n",
       "<polyline clip-path=\"url(#clip352)\" style=\"stroke:#000000; stroke-linecap:round; stroke-linejoin:round; stroke-width:4; stroke-opacity:1; fill:none\" points=\"4981.9,1423.18 4981.9,1423.18 5020.36,1423.18 4981.9,1423.18 \"/>\n",
       "<path clip-path=\"url(#clip352)\" d=\"M5020.36 1423.18 L5020.36 1423.18 L5058.82 1423.18 L5058.82 1423.18 L5020.36 1423.18 L5020.36 1423.18  Z\" fill=\"#009af9\" fill-rule=\"evenodd\" fill-opacity=\"1\"/>\n",
       "<polyline clip-path=\"url(#clip352)\" style=\"stroke:#000000; stroke-linecap:round; stroke-linejoin:round; stroke-width:4; stroke-opacity:1; fill:none\" points=\"5020.36,1423.18 5020.36,1423.18 5058.82,1423.18 5020.36,1423.18 \"/>\n",
       "<path clip-path=\"url(#clip352)\" d=\"M5058.82 1350.76 L5058.82 1423.18 L5097.28 1423.18 L5097.28 1350.76 L5058.82 1350.76 L5058.82 1350.76  Z\" fill=\"#009af9\" fill-rule=\"evenodd\" fill-opacity=\"1\"/>\n",
       "<polyline clip-path=\"url(#clip352)\" style=\"stroke:#000000; stroke-linecap:round; stroke-linejoin:round; stroke-width:4; stroke-opacity:1; fill:none\" points=\"5058.82,1350.76 5058.82,1423.18 5097.28,1423.18 5097.28,1350.76 5058.82,1350.76 \"/>\n",
       "<path clip-path=\"url(#clip352)\" d=\"M5097.28 1423.18 L5097.28 1423.18 L5135.74 1423.18 L5135.74 1423.18 L5097.28 1423.18 L5097.28 1423.18  Z\" fill=\"#009af9\" fill-rule=\"evenodd\" fill-opacity=\"1\"/>\n",
       "<polyline clip-path=\"url(#clip352)\" style=\"stroke:#000000; stroke-linecap:round; stroke-linejoin:round; stroke-width:4; stroke-opacity:1; fill:none\" points=\"5097.28,1423.18 5097.28,1423.18 5135.74,1423.18 5097.28,1423.18 \"/>\n",
       "<path clip-path=\"url(#clip352)\" d=\"M5135.74 1350.76 L5135.74 1423.18 L5174.2 1423.18 L5174.2 1350.76 L5135.74 1350.76 L5135.74 1350.76  Z\" fill=\"#009af9\" fill-rule=\"evenodd\" fill-opacity=\"1\"/>\n",
       "<polyline clip-path=\"url(#clip352)\" style=\"stroke:#000000; stroke-linecap:round; stroke-linejoin:round; stroke-width:4; stroke-opacity:1; fill:none\" points=\"5135.74,1350.76 5135.74,1423.18 5174.2,1423.18 5174.2,1350.76 5135.74,1350.76 \"/>\n",
       "<path clip-path=\"url(#clip352)\" d=\"M5174.2 1423.18 L5174.2 1423.18 L5212.65 1423.18 L5212.65 1423.18 L5174.2 1423.18 L5174.2 1423.18  Z\" fill=\"#009af9\" fill-rule=\"evenodd\" fill-opacity=\"1\"/>\n",
       "<polyline clip-path=\"url(#clip352)\" style=\"stroke:#000000; stroke-linecap:round; stroke-linejoin:round; stroke-width:4; stroke-opacity:1; fill:none\" points=\"5174.2,1423.18 5174.2,1423.18 5212.65,1423.18 5174.2,1423.18 \"/>\n",
       "<path clip-path=\"url(#clip352)\" d=\"M5212.65 1350.76 L5212.65 1423.18 L5251.11 1423.18 L5251.11 1350.76 L5212.65 1350.76 L5212.65 1350.76  Z\" fill=\"#009af9\" fill-rule=\"evenodd\" fill-opacity=\"1\"/>\n",
       "<polyline clip-path=\"url(#clip352)\" style=\"stroke:#000000; stroke-linecap:round; stroke-linejoin:round; stroke-width:4; stroke-opacity:1; fill:none\" points=\"5212.65,1350.76 5212.65,1423.18 5251.11,1423.18 5251.11,1350.76 5212.65,1350.76 \"/>\n",
       "<path clip-path=\"url(#clip352)\" d=\"M5251.11 1350.76 L5251.11 1423.18 L5289.57 1423.18 L5289.57 1350.76 L5251.11 1350.76 L5251.11 1350.76  Z\" fill=\"#009af9\" fill-rule=\"evenodd\" fill-opacity=\"1\"/>\n",
       "<polyline clip-path=\"url(#clip352)\" style=\"stroke:#000000; stroke-linecap:round; stroke-linejoin:round; stroke-width:4; stroke-opacity:1; fill:none\" points=\"5251.11,1350.76 5251.11,1423.18 5289.57,1423.18 5289.57,1350.76 5251.11,1350.76 \"/>\n",
       "<path clip-path=\"url(#clip352)\" d=\"M5289.57 1350.76 L5289.57 1423.18 L5328.03 1423.18 L5328.03 1350.76 L5289.57 1350.76 L5289.57 1350.76  Z\" fill=\"#009af9\" fill-rule=\"evenodd\" fill-opacity=\"1\"/>\n",
       "<polyline clip-path=\"url(#clip352)\" style=\"stroke:#000000; stroke-linecap:round; stroke-linejoin:round; stroke-width:4; stroke-opacity:1; fill:none\" points=\"5289.57,1350.76 5289.57,1423.18 5328.03,1423.18 5328.03,1350.76 5289.57,1350.76 \"/>\n",
       "<path clip-path=\"url(#clip352)\" d=\"M5328.03 1350.76 L5328.03 1423.18 L5366.49 1423.18 L5366.49 1350.76 L5328.03 1350.76 L5328.03 1350.76  Z\" fill=\"#009af9\" fill-rule=\"evenodd\" fill-opacity=\"1\"/>\n",
       "<polyline clip-path=\"url(#clip352)\" style=\"stroke:#000000; stroke-linecap:round; stroke-linejoin:round; stroke-width:4; stroke-opacity:1; fill:none\" points=\"5328.03,1350.76 5328.03,1423.18 5366.49,1423.18 5366.49,1350.76 5328.03,1350.76 \"/>\n",
       "<path clip-path=\"url(#clip352)\" d=\"M5366.49 1423.18 L5366.49 1423.18 L5404.95 1423.18 L5404.95 1423.18 L5366.49 1423.18 L5366.49 1423.18  Z\" fill=\"#009af9\" fill-rule=\"evenodd\" fill-opacity=\"1\"/>\n",
       "<polyline clip-path=\"url(#clip352)\" style=\"stroke:#000000; stroke-linecap:round; stroke-linejoin:round; stroke-width:4; stroke-opacity:1; fill:none\" points=\"5366.49,1423.18 5366.49,1423.18 5404.95,1423.18 5366.49,1423.18 \"/>\n",
       "<path clip-path=\"url(#clip352)\" d=\"M5404.95 1423.18 L5404.95 1423.18 L5443.41 1423.18 L5443.41 1423.18 L5404.95 1423.18 L5404.95 1423.18  Z\" fill=\"#009af9\" fill-rule=\"evenodd\" fill-opacity=\"1\"/>\n",
       "<polyline clip-path=\"url(#clip352)\" style=\"stroke:#000000; stroke-linecap:round; stroke-linejoin:round; stroke-width:4; stroke-opacity:1; fill:none\" points=\"5404.95,1423.18 5404.95,1423.18 5443.41,1423.18 5404.95,1423.18 \"/>\n",
       "<path clip-path=\"url(#clip352)\" d=\"M5443.41 1423.18 L5443.41 1423.18 L5481.87 1423.18 L5481.87 1423.18 L5443.41 1423.18 L5443.41 1423.18  Z\" fill=\"#009af9\" fill-rule=\"evenodd\" fill-opacity=\"1\"/>\n",
       "<polyline clip-path=\"url(#clip352)\" style=\"stroke:#000000; stroke-linecap:round; stroke-linejoin:round; stroke-width:4; stroke-opacity:1; fill:none\" points=\"5443.41,1423.18 5443.41,1423.18 5481.87,1423.18 5443.41,1423.18 \"/>\n",
       "<path clip-path=\"url(#clip352)\" d=\"M5481.87 1423.18 L5481.87 1423.18 L5520.33 1423.18 L5520.33 1423.18 L5481.87 1423.18 L5481.87 1423.18  Z\" fill=\"#009af9\" fill-rule=\"evenodd\" fill-opacity=\"1\"/>\n",
       "<polyline clip-path=\"url(#clip352)\" style=\"stroke:#000000; stroke-linecap:round; stroke-linejoin:round; stroke-width:4; stroke-opacity:1; fill:none\" points=\"5481.87,1423.18 5481.87,1423.18 5520.33,1423.18 5481.87,1423.18 \"/>\n",
       "<path clip-path=\"url(#clip352)\" d=\"M5520.33 1350.76 L5520.33 1423.18 L5558.78 1423.18 L5558.78 1350.76 L5520.33 1350.76 L5520.33 1350.76  Z\" fill=\"#009af9\" fill-rule=\"evenodd\" fill-opacity=\"1\"/>\n",
       "<polyline clip-path=\"url(#clip352)\" style=\"stroke:#000000; stroke-linecap:round; stroke-linejoin:round; stroke-width:4; stroke-opacity:1; fill:none\" points=\"5520.33,1350.76 5520.33,1423.18 5558.78,1423.18 5558.78,1350.76 5520.33,1350.76 \"/>\n",
       "<path clip-path=\"url(#clip352)\" d=\"M5558.78 1423.18 L5558.78 1423.18 L5597.24 1423.18 L5597.24 1423.18 L5558.78 1423.18 L5558.78 1423.18  Z\" fill=\"#009af9\" fill-rule=\"evenodd\" fill-opacity=\"1\"/>\n",
       "<polyline clip-path=\"url(#clip352)\" style=\"stroke:#000000; stroke-linecap:round; stroke-linejoin:round; stroke-width:4; stroke-opacity:1; fill:none\" points=\"5558.78,1423.18 5558.78,1423.18 5597.24,1423.18 5558.78,1423.18 \"/>\n",
       "<path clip-path=\"url(#clip352)\" d=\"M5597.24 1423.18 L5597.24 1423.18 L5635.7 1423.18 L5635.7 1423.18 L5597.24 1423.18 L5597.24 1423.18  Z\" fill=\"#009af9\" fill-rule=\"evenodd\" fill-opacity=\"1\"/>\n",
       "<polyline clip-path=\"url(#clip352)\" style=\"stroke:#000000; stroke-linecap:round; stroke-linejoin:round; stroke-width:4; stroke-opacity:1; fill:none\" points=\"5597.24,1423.18 5597.24,1423.18 5635.7,1423.18 5597.24,1423.18 \"/>\n",
       "<path clip-path=\"url(#clip352)\" d=\"M5635.7 1350.76 L5635.7 1423.18 L5674.16 1423.18 L5674.16 1350.76 L5635.7 1350.76 L5635.7 1350.76  Z\" fill=\"#009af9\" fill-rule=\"evenodd\" fill-opacity=\"1\"/>\n",
       "<polyline clip-path=\"url(#clip352)\" style=\"stroke:#000000; stroke-linecap:round; stroke-linejoin:round; stroke-width:4; stroke-opacity:1; fill:none\" points=\"5635.7,1350.76 5635.7,1423.18 5674.16,1423.18 5674.16,1350.76 5635.7,1350.76 \"/>\n",
       "<path clip-path=\"url(#clip352)\" d=\"M5674.16 1350.76 L5674.16 1423.18 L5712.62 1423.18 L5712.62 1350.76 L5674.16 1350.76 L5674.16 1350.76  Z\" fill=\"#009af9\" fill-rule=\"evenodd\" fill-opacity=\"1\"/>\n",
       "<polyline clip-path=\"url(#clip352)\" style=\"stroke:#000000; stroke-linecap:round; stroke-linejoin:round; stroke-width:4; stroke-opacity:1; fill:none\" points=\"5674.16,1350.76 5674.16,1423.18 5712.62,1423.18 5712.62,1350.76 5674.16,1350.76 \"/>\n",
       "<path clip-path=\"url(#clip352)\" d=\"M5712.62 1278.34 L5712.62 1423.18 L5751.08 1423.18 L5751.08 1278.34 L5712.62 1278.34 L5712.62 1278.34  Z\" fill=\"#009af9\" fill-rule=\"evenodd\" fill-opacity=\"1\"/>\n",
       "<polyline clip-path=\"url(#clip352)\" style=\"stroke:#000000; stroke-linecap:round; stroke-linejoin:round; stroke-width:4; stroke-opacity:1; fill:none\" points=\"5712.62,1278.34 5712.62,1423.18 5751.08,1423.18 5751.08,1278.34 5712.62,1278.34 \"/>\n",
       "<path clip-path=\"url(#clip352)\" d=\"M5751.08 1423.18 L5751.08 1423.18 L5789.54 1423.18 L5789.54 1423.18 L5751.08 1423.18 L5751.08 1423.18  Z\" fill=\"#009af9\" fill-rule=\"evenodd\" fill-opacity=\"1\"/>\n",
       "<polyline clip-path=\"url(#clip352)\" style=\"stroke:#000000; stroke-linecap:round; stroke-linejoin:round; stroke-width:4; stroke-opacity:1; fill:none\" points=\"5751.08,1423.18 5751.08,1423.18 5789.54,1423.18 5751.08,1423.18 \"/>\n",
       "<path clip-path=\"url(#clip352)\" d=\"M5789.54 1423.18 L5789.54 1423.18 L5828 1423.18 L5828 1423.18 L5789.54 1423.18 L5789.54 1423.18  Z\" fill=\"#009af9\" fill-rule=\"evenodd\" fill-opacity=\"1\"/>\n",
       "<polyline clip-path=\"url(#clip352)\" style=\"stroke:#000000; stroke-linecap:round; stroke-linejoin:round; stroke-width:4; stroke-opacity:1; fill:none\" points=\"5789.54,1423.18 5789.54,1423.18 5828,1423.18 5789.54,1423.18 \"/>\n",
       "<path clip-path=\"url(#clip352)\" d=\"M5828 1423.18 L5828 1423.18 L5866.46 1423.18 L5866.46 1423.18 L5828 1423.18 L5828 1423.18  Z\" fill=\"#009af9\" fill-rule=\"evenodd\" fill-opacity=\"1\"/>\n",
       "<polyline clip-path=\"url(#clip352)\" style=\"stroke:#000000; stroke-linecap:round; stroke-linejoin:round; stroke-width:4; stroke-opacity:1; fill:none\" points=\"5828,1423.18 5828,1423.18 5866.46,1423.18 5828,1423.18 \"/>\n",
       "<path clip-path=\"url(#clip352)\" d=\"M5866.46 1423.18 L5866.46 1423.18 L5904.91 1423.18 L5904.91 1423.18 L5866.46 1423.18 L5866.46 1423.18  Z\" fill=\"#009af9\" fill-rule=\"evenodd\" fill-opacity=\"1\"/>\n",
       "<polyline clip-path=\"url(#clip352)\" style=\"stroke:#000000; stroke-linecap:round; stroke-linejoin:round; stroke-width:4; stroke-opacity:1; fill:none\" points=\"5866.46,1423.18 5866.46,1423.18 5904.91,1423.18 5866.46,1423.18 \"/>\n",
       "<path clip-path=\"url(#clip352)\" d=\"M5904.91 1423.18 L5904.91 1423.18 L5943.37 1423.18 L5943.37 1423.18 L5904.91 1423.18 L5904.91 1423.18  Z\" fill=\"#009af9\" fill-rule=\"evenodd\" fill-opacity=\"1\"/>\n",
       "<polyline clip-path=\"url(#clip352)\" style=\"stroke:#000000; stroke-linecap:round; stroke-linejoin:round; stroke-width:4; stroke-opacity:1; fill:none\" points=\"5904.91,1423.18 5904.91,1423.18 5943.37,1423.18 5904.91,1423.18 \"/>\n",
       "<path clip-path=\"url(#clip352)\" d=\"M5943.37 1423.18 L5943.37 1423.18 L5981.83 1423.18 L5981.83 1423.18 L5943.37 1423.18 L5943.37 1423.18  Z\" fill=\"#009af9\" fill-rule=\"evenodd\" fill-opacity=\"1\"/>\n",
       "<polyline clip-path=\"url(#clip352)\" style=\"stroke:#000000; stroke-linecap:round; stroke-linejoin:round; stroke-width:4; stroke-opacity:1; fill:none\" points=\"5943.37,1423.18 5943.37,1423.18 5981.83,1423.18 5943.37,1423.18 \"/>\n",
       "<path clip-path=\"url(#clip352)\" d=\"M5981.83 1423.18 L5981.83 1423.18 L6020.29 1423.18 L6020.29 1423.18 L5981.83 1423.18 L5981.83 1423.18  Z\" fill=\"#009af9\" fill-rule=\"evenodd\" fill-opacity=\"1\"/>\n",
       "<polyline clip-path=\"url(#clip352)\" style=\"stroke:#000000; stroke-linecap:round; stroke-linejoin:round; stroke-width:4; stroke-opacity:1; fill:none\" points=\"5981.83,1423.18 5981.83,1423.18 6020.29,1423.18 5981.83,1423.18 \"/>\n",
       "<path clip-path=\"url(#clip352)\" d=\"M6020.29 1278.34 L6020.29 1423.18 L6058.75 1423.18 L6058.75 1278.34 L6020.29 1278.34 L6020.29 1278.34  Z\" fill=\"#009af9\" fill-rule=\"evenodd\" fill-opacity=\"1\"/>\n",
       "<polyline clip-path=\"url(#clip352)\" style=\"stroke:#000000; stroke-linecap:round; stroke-linejoin:round; stroke-width:4; stroke-opacity:1; fill:none\" points=\"6020.29,1278.34 6020.29,1423.18 6058.75,1423.18 6058.75,1278.34 6020.29,1278.34 \"/>\n",
       "<path clip-path=\"url(#clip352)\" d=\"M6058.75 1423.18 L6058.75 1423.18 L6097.21 1423.18 L6097.21 1423.18 L6058.75 1423.18 L6058.75 1423.18  Z\" fill=\"#009af9\" fill-rule=\"evenodd\" fill-opacity=\"1\"/>\n",
       "<polyline clip-path=\"url(#clip352)\" style=\"stroke:#000000; stroke-linecap:round; stroke-linejoin:round; stroke-width:4; stroke-opacity:1; fill:none\" points=\"6058.75,1423.18 6058.75,1423.18 6097.21,1423.18 6058.75,1423.18 \"/>\n",
       "<path clip-path=\"url(#clip352)\" d=\"M6097.21 1423.18 L6097.21 1423.18 L6135.67 1423.18 L6135.67 1423.18 L6097.21 1423.18 L6097.21 1423.18  Z\" fill=\"#009af9\" fill-rule=\"evenodd\" fill-opacity=\"1\"/>\n",
       "<polyline clip-path=\"url(#clip352)\" style=\"stroke:#000000; stroke-linecap:round; stroke-linejoin:round; stroke-width:4; stroke-opacity:1; fill:none\" points=\"6097.21,1423.18 6097.21,1423.18 6135.67,1423.18 6097.21,1423.18 \"/>\n",
       "<path clip-path=\"url(#clip352)\" d=\"M6135.67 1423.18 L6135.67 1423.18 L6174.13 1423.18 L6174.13 1423.18 L6135.67 1423.18 L6135.67 1423.18  Z\" fill=\"#009af9\" fill-rule=\"evenodd\" fill-opacity=\"1\"/>\n",
       "<polyline clip-path=\"url(#clip352)\" style=\"stroke:#000000; stroke-linecap:round; stroke-linejoin:round; stroke-width:4; stroke-opacity:1; fill:none\" points=\"6135.67,1423.18 6135.67,1423.18 6174.13,1423.18 6135.67,1423.18 \"/>\n",
       "<path clip-path=\"url(#clip352)\" d=\"M6174.13 1423.18 L6174.13 1423.18 L6212.59 1423.18 L6212.59 1423.18 L6174.13 1423.18 L6174.13 1423.18  Z\" fill=\"#009af9\" fill-rule=\"evenodd\" fill-opacity=\"1\"/>\n",
       "<polyline clip-path=\"url(#clip352)\" style=\"stroke:#000000; stroke-linecap:round; stroke-linejoin:round; stroke-width:4; stroke-opacity:1; fill:none\" points=\"6174.13,1423.18 6174.13,1423.18 6212.59,1423.18 6174.13,1423.18 \"/>\n",
       "<path clip-path=\"url(#clip352)\" d=\"M6212.59 1423.18 L6212.59 1423.18 L6251.04 1423.18 L6251.04 1423.18 L6212.59 1423.18 L6212.59 1423.18  Z\" fill=\"#009af9\" fill-rule=\"evenodd\" fill-opacity=\"1\"/>\n",
       "<polyline clip-path=\"url(#clip352)\" style=\"stroke:#000000; stroke-linecap:round; stroke-linejoin:round; stroke-width:4; stroke-opacity:1; fill:none\" points=\"6212.59,1423.18 6212.59,1423.18 6251.04,1423.18 6212.59,1423.18 \"/>\n",
       "<path clip-path=\"url(#clip352)\" d=\"M6251.04 1350.76 L6251.04 1423.18 L6289.5 1423.18 L6289.5 1350.76 L6251.04 1350.76 L6251.04 1350.76  Z\" fill=\"#009af9\" fill-rule=\"evenodd\" fill-opacity=\"1\"/>\n",
       "<polyline clip-path=\"url(#clip352)\" style=\"stroke:#000000; stroke-linecap:round; stroke-linejoin:round; stroke-width:4; stroke-opacity:1; fill:none\" points=\"6251.04,1350.76 6251.04,1423.18 6289.5,1423.18 6289.5,1350.76 6251.04,1350.76 \"/>\n",
       "<path clip-path=\"url(#clip352)\" d=\"M6289.5 1423.18 L6289.5 1423.18 L6327.96 1423.18 L6327.96 1423.18 L6289.5 1423.18 L6289.5 1423.18  Z\" fill=\"#009af9\" fill-rule=\"evenodd\" fill-opacity=\"1\"/>\n",
       "<polyline clip-path=\"url(#clip352)\" style=\"stroke:#000000; stroke-linecap:round; stroke-linejoin:round; stroke-width:4; stroke-opacity:1; fill:none\" points=\"6289.5,1423.18 6289.5,1423.18 6327.96,1423.18 6289.5,1423.18 \"/>\n",
       "<path clip-path=\"url(#clip352)\" d=\"M6327.96 1350.76 L6327.96 1423.18 L6366.42 1423.18 L6366.42 1350.76 L6327.96 1350.76 L6327.96 1350.76  Z\" fill=\"#009af9\" fill-rule=\"evenodd\" fill-opacity=\"1\"/>\n",
       "<polyline clip-path=\"url(#clip352)\" style=\"stroke:#000000; stroke-linecap:round; stroke-linejoin:round; stroke-width:4; stroke-opacity:1; fill:none\" points=\"6327.96,1350.76 6327.96,1423.18 6366.42,1423.18 6366.42,1350.76 6327.96,1350.76 \"/>\n",
       "<path clip-path=\"url(#clip352)\" d=\"M6366.42 1423.18 L6366.42 1423.18 L6404.88 1423.18 L6404.88 1423.18 L6366.42 1423.18 L6366.42 1423.18  Z\" fill=\"#009af9\" fill-rule=\"evenodd\" fill-opacity=\"1\"/>\n",
       "<polyline clip-path=\"url(#clip352)\" style=\"stroke:#000000; stroke-linecap:round; stroke-linejoin:round; stroke-width:4; stroke-opacity:1; fill:none\" points=\"6366.42,1423.18 6366.42,1423.18 6404.88,1423.18 6366.42,1423.18 \"/>\n",
       "<path clip-path=\"url(#clip352)\" d=\"M6404.88 1423.18 L6404.88 1423.18 L6443.34 1423.18 L6443.34 1423.18 L6404.88 1423.18 L6404.88 1423.18  Z\" fill=\"#009af9\" fill-rule=\"evenodd\" fill-opacity=\"1\"/>\n",
       "<polyline clip-path=\"url(#clip352)\" style=\"stroke:#000000; stroke-linecap:round; stroke-linejoin:round; stroke-width:4; stroke-opacity:1; fill:none\" points=\"6404.88,1423.18 6404.88,1423.18 6443.34,1423.18 6404.88,1423.18 \"/>\n",
       "<path clip-path=\"url(#clip352)\" d=\"M6443.34 1350.76 L6443.34 1423.18 L6481.8 1423.18 L6481.8 1350.76 L6443.34 1350.76 L6443.34 1350.76  Z\" fill=\"#009af9\" fill-rule=\"evenodd\" fill-opacity=\"1\"/>\n",
       "<polyline clip-path=\"url(#clip352)\" style=\"stroke:#000000; stroke-linecap:round; stroke-linejoin:round; stroke-width:4; stroke-opacity:1; fill:none\" points=\"6443.34,1350.76 6443.34,1423.18 6481.8,1423.18 6481.8,1350.76 6443.34,1350.76 \"/>\n",
       "<path clip-path=\"url(#clip352)\" d=\"M6481.8 1423.18 L6481.8 1423.18 L6520.26 1423.18 L6520.26 1423.18 L6481.8 1423.18 L6481.8 1423.18  Z\" fill=\"#009af9\" fill-rule=\"evenodd\" fill-opacity=\"1\"/>\n",
       "<polyline clip-path=\"url(#clip352)\" style=\"stroke:#000000; stroke-linecap:round; stroke-linejoin:round; stroke-width:4; stroke-opacity:1; fill:none\" points=\"6481.8,1423.18 6481.8,1423.18 6520.26,1423.18 6481.8,1423.18 \"/>\n",
       "<path clip-path=\"url(#clip352)\" d=\"M6520.26 1350.76 L6520.26 1423.18 L6558.72 1423.18 L6558.72 1350.76 L6520.26 1350.76 L6520.26 1350.76  Z\" fill=\"#009af9\" fill-rule=\"evenodd\" fill-opacity=\"1\"/>\n",
       "<polyline clip-path=\"url(#clip352)\" style=\"stroke:#000000; stroke-linecap:round; stroke-linejoin:round; stroke-width:4; stroke-opacity:1; fill:none\" points=\"6520.26,1350.76 6520.26,1423.18 6558.72,1423.18 6558.72,1350.76 6520.26,1350.76 \"/>\n",
       "<path clip-path=\"url(#clip352)\" d=\"M6558.72 1423.18 L6558.72 1423.18 L6597.18 1423.18 L6597.18 1423.18 L6558.72 1423.18 L6558.72 1423.18  Z\" fill=\"#009af9\" fill-rule=\"evenodd\" fill-opacity=\"1\"/>\n",
       "<polyline clip-path=\"url(#clip352)\" style=\"stroke:#000000; stroke-linecap:round; stroke-linejoin:round; stroke-width:4; stroke-opacity:1; fill:none\" points=\"6558.72,1423.18 6558.72,1423.18 6597.18,1423.18 6558.72,1423.18 \"/>\n",
       "<path clip-path=\"url(#clip352)\" d=\"M6597.18 1423.18 L6597.18 1423.18 L6635.63 1423.18 L6635.63 1423.18 L6597.18 1423.18 L6597.18 1423.18  Z\" fill=\"#009af9\" fill-rule=\"evenodd\" fill-opacity=\"1\"/>\n",
       "<polyline clip-path=\"url(#clip352)\" style=\"stroke:#000000; stroke-linecap:round; stroke-linejoin:round; stroke-width:4; stroke-opacity:1; fill:none\" points=\"6597.18,1423.18 6597.18,1423.18 6635.63,1423.18 6597.18,1423.18 \"/>\n",
       "<path clip-path=\"url(#clip352)\" d=\"M6635.63 1423.18 L6635.63 1423.18 L6674.09 1423.18 L6674.09 1423.18 L6635.63 1423.18 L6635.63 1423.18  Z\" fill=\"#009af9\" fill-rule=\"evenodd\" fill-opacity=\"1\"/>\n",
       "<polyline clip-path=\"url(#clip352)\" style=\"stroke:#000000; stroke-linecap:round; stroke-linejoin:round; stroke-width:4; stroke-opacity:1; fill:none\" points=\"6635.63,1423.18 6635.63,1423.18 6674.09,1423.18 6635.63,1423.18 \"/>\n",
       "<path clip-path=\"url(#clip352)\" d=\"M6674.09 1350.76 L6674.09 1423.18 L6712.55 1423.18 L6712.55 1350.76 L6674.09 1350.76 L6674.09 1350.76  Z\" fill=\"#009af9\" fill-rule=\"evenodd\" fill-opacity=\"1\"/>\n",
       "<polyline clip-path=\"url(#clip352)\" style=\"stroke:#000000; stroke-linecap:round; stroke-linejoin:round; stroke-width:4; stroke-opacity:1; fill:none\" points=\"6674.09,1350.76 6674.09,1423.18 6712.55,1423.18 6712.55,1350.76 6674.09,1350.76 \"/>\n",
       "<path clip-path=\"url(#clip352)\" d=\"M6712.55 1423.18 L6712.55 1423.18 L6751.01 1423.18 L6751.01 1423.18 L6712.55 1423.18 L6712.55 1423.18  Z\" fill=\"#009af9\" fill-rule=\"evenodd\" fill-opacity=\"1\"/>\n",
       "<polyline clip-path=\"url(#clip352)\" style=\"stroke:#000000; stroke-linecap:round; stroke-linejoin:round; stroke-width:4; stroke-opacity:1; fill:none\" points=\"6712.55,1423.18 6712.55,1423.18 6751.01,1423.18 6712.55,1423.18 \"/>\n",
       "<path clip-path=\"url(#clip352)\" d=\"M6751.01 1423.18 L6751.01 1423.18 L6789.47 1423.18 L6789.47 1423.18 L6751.01 1423.18 L6751.01 1423.18  Z\" fill=\"#009af9\" fill-rule=\"evenodd\" fill-opacity=\"1\"/>\n",
       "<polyline clip-path=\"url(#clip352)\" style=\"stroke:#000000; stroke-linecap:round; stroke-linejoin:round; stroke-width:4; stroke-opacity:1; fill:none\" points=\"6751.01,1423.18 6751.01,1423.18 6789.47,1423.18 6751.01,1423.18 \"/>\n",
       "<path clip-path=\"url(#clip352)\" d=\"M6789.47 1423.18 L6789.47 1423.18 L6827.93 1423.18 L6827.93 1423.18 L6789.47 1423.18 L6789.47 1423.18  Z\" fill=\"#009af9\" fill-rule=\"evenodd\" fill-opacity=\"1\"/>\n",
       "<polyline clip-path=\"url(#clip352)\" style=\"stroke:#000000; stroke-linecap:round; stroke-linejoin:round; stroke-width:4; stroke-opacity:1; fill:none\" points=\"6789.47,1423.18 6789.47,1423.18 6827.93,1423.18 6789.47,1423.18 \"/>\n",
       "<path clip-path=\"url(#clip352)\" d=\"M6827.93 1423.18 L6827.93 1423.18 L6866.39 1423.18 L6866.39 1423.18 L6827.93 1423.18 L6827.93 1423.18  Z\" fill=\"#009af9\" fill-rule=\"evenodd\" fill-opacity=\"1\"/>\n",
       "<polyline clip-path=\"url(#clip352)\" style=\"stroke:#000000; stroke-linecap:round; stroke-linejoin:round; stroke-width:4; stroke-opacity:1; fill:none\" points=\"6827.93,1423.18 6827.93,1423.18 6866.39,1423.18 6827.93,1423.18 \"/>\n",
       "<path clip-path=\"url(#clip352)\" d=\"M6866.39 1423.18 L6866.39 1423.18 L6904.85 1423.18 L6904.85 1423.18 L6866.39 1423.18 L6866.39 1423.18  Z\" fill=\"#009af9\" fill-rule=\"evenodd\" fill-opacity=\"1\"/>\n",
       "<polyline clip-path=\"url(#clip352)\" style=\"stroke:#000000; stroke-linecap:round; stroke-linejoin:round; stroke-width:4; stroke-opacity:1; fill:none\" points=\"6866.39,1423.18 6866.39,1423.18 6904.85,1423.18 6866.39,1423.18 \"/>\n",
       "<path clip-path=\"url(#clip352)\" d=\"M6904.85 1423.18 L6904.85 1423.18 L6943.31 1423.18 L6943.31 1423.18 L6904.85 1423.18 L6904.85 1423.18  Z\" fill=\"#009af9\" fill-rule=\"evenodd\" fill-opacity=\"1\"/>\n",
       "<polyline clip-path=\"url(#clip352)\" style=\"stroke:#000000; stroke-linecap:round; stroke-linejoin:round; stroke-width:4; stroke-opacity:1; fill:none\" points=\"6904.85,1423.18 6904.85,1423.18 6943.31,1423.18 6904.85,1423.18 \"/>\n",
       "<path clip-path=\"url(#clip352)\" d=\"M6943.31 1423.18 L6943.31 1423.18 L6981.76 1423.18 L6981.76 1423.18 L6943.31 1423.18 L6943.31 1423.18  Z\" fill=\"#009af9\" fill-rule=\"evenodd\" fill-opacity=\"1\"/>\n",
       "<polyline clip-path=\"url(#clip352)\" style=\"stroke:#000000; stroke-linecap:round; stroke-linejoin:round; stroke-width:4; stroke-opacity:1; fill:none\" points=\"6943.31,1423.18 6943.31,1423.18 6981.76,1423.18 6943.31,1423.18 \"/>\n",
       "<path clip-path=\"url(#clip352)\" d=\"M6981.76 1423.18 L6981.76 1423.18 L7020.22 1423.18 L7020.22 1423.18 L6981.76 1423.18 L6981.76 1423.18  Z\" fill=\"#009af9\" fill-rule=\"evenodd\" fill-opacity=\"1\"/>\n",
       "<polyline clip-path=\"url(#clip352)\" style=\"stroke:#000000; stroke-linecap:round; stroke-linejoin:round; stroke-width:4; stroke-opacity:1; fill:none\" points=\"6981.76,1423.18 6981.76,1423.18 7020.22,1423.18 6981.76,1423.18 \"/>\n",
       "<path clip-path=\"url(#clip352)\" d=\"M7020.22 1423.18 L7020.22 1423.18 L7058.68 1423.18 L7058.68 1423.18 L7020.22 1423.18 L7020.22 1423.18  Z\" fill=\"#009af9\" fill-rule=\"evenodd\" fill-opacity=\"1\"/>\n",
       "<polyline clip-path=\"url(#clip352)\" style=\"stroke:#000000; stroke-linecap:round; stroke-linejoin:round; stroke-width:4; stroke-opacity:1; fill:none\" points=\"7020.22,1423.18 7020.22,1423.18 7058.68,1423.18 7020.22,1423.18 \"/>\n",
       "<path clip-path=\"url(#clip352)\" d=\"M7058.68 1350.76 L7058.68 1423.18 L7097.14 1423.18 L7097.14 1350.76 L7058.68 1350.76 L7058.68 1350.76  Z\" fill=\"#009af9\" fill-rule=\"evenodd\" fill-opacity=\"1\"/>\n",
       "<polyline clip-path=\"url(#clip352)\" style=\"stroke:#000000; stroke-linecap:round; stroke-linejoin:round; stroke-width:4; stroke-opacity:1; fill:none\" points=\"7058.68,1350.76 7058.68,1423.18 7097.14,1423.18 7097.14,1350.76 7058.68,1350.76 \"/>\n",
       "<path clip-path=\"url(#clip352)\" d=\"M7097.14 1423.18 L7097.14 1423.18 L7135.6 1423.18 L7135.6 1423.18 L7097.14 1423.18 L7097.14 1423.18  Z\" fill=\"#009af9\" fill-rule=\"evenodd\" fill-opacity=\"1\"/>\n",
       "<polyline clip-path=\"url(#clip352)\" style=\"stroke:#000000; stroke-linecap:round; stroke-linejoin:round; stroke-width:4; stroke-opacity:1; fill:none\" points=\"7097.14,1423.18 7097.14,1423.18 7135.6,1423.18 7097.14,1423.18 \"/>\n",
       "<path clip-path=\"url(#clip352)\" d=\"M7135.6 1423.18 L7135.6 1423.18 L7174.06 1423.18 L7174.06 1423.18 L7135.6 1423.18 L7135.6 1423.18  Z\" fill=\"#009af9\" fill-rule=\"evenodd\" fill-opacity=\"1\"/>\n",
       "<polyline clip-path=\"url(#clip352)\" style=\"stroke:#000000; stroke-linecap:round; stroke-linejoin:round; stroke-width:4; stroke-opacity:1; fill:none\" points=\"7135.6,1423.18 7135.6,1423.18 7174.06,1423.18 7135.6,1423.18 \"/>\n",
       "<path clip-path=\"url(#clip352)\" d=\"M7174.06 1350.76 L7174.06 1423.18 L7212.52 1423.18 L7212.52 1350.76 L7174.06 1350.76 L7174.06 1350.76  Z\" fill=\"#009af9\" fill-rule=\"evenodd\" fill-opacity=\"1\"/>\n",
       "<polyline clip-path=\"url(#clip352)\" style=\"stroke:#000000; stroke-linecap:round; stroke-linejoin:round; stroke-width:4; stroke-opacity:1; fill:none\" points=\"7174.06,1350.76 7174.06,1423.18 7212.52,1423.18 7212.52,1350.76 7174.06,1350.76 \"/>\n",
       "<path clip-path=\"url(#clip352)\" d=\"M7212.52 1423.18 L7212.52 1423.18 L7250.98 1423.18 L7250.98 1423.18 L7212.52 1423.18 L7212.52 1423.18  Z\" fill=\"#009af9\" fill-rule=\"evenodd\" fill-opacity=\"1\"/>\n",
       "<polyline clip-path=\"url(#clip352)\" style=\"stroke:#000000; stroke-linecap:round; stroke-linejoin:round; stroke-width:4; stroke-opacity:1; fill:none\" points=\"7212.52,1423.18 7212.52,1423.18 7250.98,1423.18 7212.52,1423.18 \"/>\n",
       "<path clip-path=\"url(#clip352)\" d=\"M7250.98 1350.76 L7250.98 1423.18 L7289.44 1423.18 L7289.44 1350.76 L7250.98 1350.76 L7250.98 1350.76  Z\" fill=\"#009af9\" fill-rule=\"evenodd\" fill-opacity=\"1\"/>\n",
       "<polyline clip-path=\"url(#clip352)\" style=\"stroke:#000000; stroke-linecap:round; stroke-linejoin:round; stroke-width:4; stroke-opacity:1; fill:none\" points=\"7250.98,1350.76 7250.98,1423.18 7289.44,1423.18 7289.44,1350.76 7250.98,1350.76 \"/>\n",
       "<path clip-path=\"url(#clip352)\" d=\"M7289.44 1423.18 L7289.44 1423.18 L7327.89 1423.18 L7327.89 1423.18 L7289.44 1423.18 L7289.44 1423.18  Z\" fill=\"#009af9\" fill-rule=\"evenodd\" fill-opacity=\"1\"/>\n",
       "<polyline clip-path=\"url(#clip352)\" style=\"stroke:#000000; stroke-linecap:round; stroke-linejoin:round; stroke-width:4; stroke-opacity:1; fill:none\" points=\"7289.44,1423.18 7289.44,1423.18 7327.89,1423.18 7289.44,1423.18 \"/>\n",
       "<path clip-path=\"url(#clip352)\" d=\"M7327.89 1423.18 L7327.89 1423.18 L7366.35 1423.18 L7366.35 1423.18 L7327.89 1423.18 L7327.89 1423.18  Z\" fill=\"#009af9\" fill-rule=\"evenodd\" fill-opacity=\"1\"/>\n",
       "<polyline clip-path=\"url(#clip352)\" style=\"stroke:#000000; stroke-linecap:round; stroke-linejoin:round; stroke-width:4; stroke-opacity:1; fill:none\" points=\"7327.89,1423.18 7327.89,1423.18 7366.35,1423.18 7327.89,1423.18 \"/>\n",
       "<path clip-path=\"url(#clip352)\" d=\"M7366.35 1423.18 L7366.35 1423.18 L7404.81 1423.18 L7404.81 1423.18 L7366.35 1423.18 L7366.35 1423.18  Z\" fill=\"#009af9\" fill-rule=\"evenodd\" fill-opacity=\"1\"/>\n",
       "<polyline clip-path=\"url(#clip352)\" style=\"stroke:#000000; stroke-linecap:round; stroke-linejoin:round; stroke-width:4; stroke-opacity:1; fill:none\" points=\"7366.35,1423.18 7366.35,1423.18 7404.81,1423.18 7366.35,1423.18 \"/>\n",
       "<path clip-path=\"url(#clip352)\" d=\"M7404.81 1423.18 L7404.81 1423.18 L7443.27 1423.18 L7443.27 1423.18 L7404.81 1423.18 L7404.81 1423.18  Z\" fill=\"#009af9\" fill-rule=\"evenodd\" fill-opacity=\"1\"/>\n",
       "<polyline clip-path=\"url(#clip352)\" style=\"stroke:#000000; stroke-linecap:round; stroke-linejoin:round; stroke-width:4; stroke-opacity:1; fill:none\" points=\"7404.81,1423.18 7404.81,1423.18 7443.27,1423.18 7404.81,1423.18 \"/>\n",
       "<path clip-path=\"url(#clip352)\" d=\"M7443.27 1423.18 L7443.27 1423.18 L7481.73 1423.18 L7481.73 1423.18 L7443.27 1423.18 L7443.27 1423.18  Z\" fill=\"#009af9\" fill-rule=\"evenodd\" fill-opacity=\"1\"/>\n",
       "<polyline clip-path=\"url(#clip352)\" style=\"stroke:#000000; stroke-linecap:round; stroke-linejoin:round; stroke-width:4; stroke-opacity:1; fill:none\" points=\"7443.27,1423.18 7443.27,1423.18 7481.73,1423.18 7443.27,1423.18 \"/>\n",
       "<path clip-path=\"url(#clip352)\" d=\"M7481.73 1423.18 L7481.73 1423.18 L7520.19 1423.18 L7520.19 1423.18 L7481.73 1423.18 L7481.73 1423.18  Z\" fill=\"#009af9\" fill-rule=\"evenodd\" fill-opacity=\"1\"/>\n",
       "<polyline clip-path=\"url(#clip352)\" style=\"stroke:#000000; stroke-linecap:round; stroke-linejoin:round; stroke-width:4; stroke-opacity:1; fill:none\" points=\"7481.73,1423.18 7481.73,1423.18 7520.19,1423.18 7481.73,1423.18 \"/>\n",
       "<path clip-path=\"url(#clip352)\" d=\"M7520.19 1423.18 L7520.19 1423.18 L7558.65 1423.18 L7558.65 1423.18 L7520.19 1423.18 L7520.19 1423.18  Z\" fill=\"#009af9\" fill-rule=\"evenodd\" fill-opacity=\"1\"/>\n",
       "<polyline clip-path=\"url(#clip352)\" style=\"stroke:#000000; stroke-linecap:round; stroke-linejoin:round; stroke-width:4; stroke-opacity:1; fill:none\" points=\"7520.19,1423.18 7520.19,1423.18 7558.65,1423.18 7520.19,1423.18 \"/>\n",
       "<path clip-path=\"url(#clip352)\" d=\"M7558.65 1423.18 L7558.65 1423.18 L7597.11 1423.18 L7597.11 1423.18 L7558.65 1423.18 L7558.65 1423.18  Z\" fill=\"#009af9\" fill-rule=\"evenodd\" fill-opacity=\"1\"/>\n",
       "<polyline clip-path=\"url(#clip352)\" style=\"stroke:#000000; stroke-linecap:round; stroke-linejoin:round; stroke-width:4; stroke-opacity:1; fill:none\" points=\"7558.65,1423.18 7558.65,1423.18 7597.11,1423.18 7558.65,1423.18 \"/>\n",
       "<path clip-path=\"url(#clip352)\" d=\"M7597.11 1423.18 L7597.11 1423.18 L7635.57 1423.18 L7635.57 1423.18 L7597.11 1423.18 L7597.11 1423.18  Z\" fill=\"#009af9\" fill-rule=\"evenodd\" fill-opacity=\"1\"/>\n",
       "<polyline clip-path=\"url(#clip352)\" style=\"stroke:#000000; stroke-linecap:round; stroke-linejoin:round; stroke-width:4; stroke-opacity:1; fill:none\" points=\"7597.11,1423.18 7597.11,1423.18 7635.57,1423.18 7597.11,1423.18 \"/>\n",
       "<path clip-path=\"url(#clip352)\" d=\"M7635.57 1423.18 L7635.57 1423.18 L7674.02 1423.18 L7674.02 1423.18 L7635.57 1423.18 L7635.57 1423.18  Z\" fill=\"#009af9\" fill-rule=\"evenodd\" fill-opacity=\"1\"/>\n",
       "<polyline clip-path=\"url(#clip352)\" style=\"stroke:#000000; stroke-linecap:round; stroke-linejoin:round; stroke-width:4; stroke-opacity:1; fill:none\" points=\"7635.57,1423.18 7635.57,1423.18 7674.02,1423.18 7635.57,1423.18 \"/>\n",
       "<path clip-path=\"url(#clip352)\" d=\"M7674.02 1423.18 L7674.02 1423.18 L7712.48 1423.18 L7712.48 1423.18 L7674.02 1423.18 L7674.02 1423.18  Z\" fill=\"#009af9\" fill-rule=\"evenodd\" fill-opacity=\"1\"/>\n",
       "<polyline clip-path=\"url(#clip352)\" style=\"stroke:#000000; stroke-linecap:round; stroke-linejoin:round; stroke-width:4; stroke-opacity:1; fill:none\" points=\"7674.02,1423.18 7674.02,1423.18 7712.48,1423.18 7674.02,1423.18 \"/>\n",
       "<path clip-path=\"url(#clip352)\" d=\"M7712.48 1423.18 L7712.48 1423.18 L7750.94 1423.18 L7750.94 1423.18 L7712.48 1423.18 L7712.48 1423.18  Z\" fill=\"#009af9\" fill-rule=\"evenodd\" fill-opacity=\"1\"/>\n",
       "<polyline clip-path=\"url(#clip352)\" style=\"stroke:#000000; stroke-linecap:round; stroke-linejoin:round; stroke-width:4; stroke-opacity:1; fill:none\" points=\"7712.48,1423.18 7712.48,1423.18 7750.94,1423.18 7712.48,1423.18 \"/>\n",
       "<path clip-path=\"url(#clip352)\" d=\"M7750.94 1350.76 L7750.94 1423.18 L7789.4 1423.18 L7789.4 1350.76 L7750.94 1350.76 L7750.94 1350.76  Z\" fill=\"#009af9\" fill-rule=\"evenodd\" fill-opacity=\"1\"/>\n",
       "<polyline clip-path=\"url(#clip352)\" style=\"stroke:#000000; stroke-linecap:round; stroke-linejoin:round; stroke-width:4; stroke-opacity:1; fill:none\" points=\"7750.94,1350.76 7750.94,1423.18 7789.4,1423.18 7789.4,1350.76 7750.94,1350.76 \"/>\n",
       "<path clip-path=\"url(#clip352)\" d=\"M7789.4 1423.18 L7789.4 1423.18 L7827.86 1423.18 L7827.86 1423.18 L7789.4 1423.18 L7789.4 1423.18  Z\" fill=\"#009af9\" fill-rule=\"evenodd\" fill-opacity=\"1\"/>\n",
       "<polyline clip-path=\"url(#clip352)\" style=\"stroke:#000000; stroke-linecap:round; stroke-linejoin:round; stroke-width:4; stroke-opacity:1; fill:none\" points=\"7789.4,1423.18 7789.4,1423.18 7827.86,1423.18 7789.4,1423.18 \"/>\n",
       "<path clip-path=\"url(#clip352)\" d=\"M7827.86 1423.18 L7827.86 1423.18 L7866.32 1423.18 L7866.32 1423.18 L7827.86 1423.18 L7827.86 1423.18  Z\" fill=\"#009af9\" fill-rule=\"evenodd\" fill-opacity=\"1\"/>\n",
       "<polyline clip-path=\"url(#clip352)\" style=\"stroke:#000000; stroke-linecap:round; stroke-linejoin:round; stroke-width:4; stroke-opacity:1; fill:none\" points=\"7827.86,1423.18 7827.86,1423.18 7866.32,1423.18 7827.86,1423.18 \"/>\n",
       "<path clip-path=\"url(#clip352)\" d=\"M7866.32 1423.18 L7866.32 1423.18 L7904.78 1423.18 L7904.78 1423.18 L7866.32 1423.18 L7866.32 1423.18  Z\" fill=\"#009af9\" fill-rule=\"evenodd\" fill-opacity=\"1\"/>\n",
       "<polyline clip-path=\"url(#clip352)\" style=\"stroke:#000000; stroke-linecap:round; stroke-linejoin:round; stroke-width:4; stroke-opacity:1; fill:none\" points=\"7866.32,1423.18 7866.32,1423.18 7904.78,1423.18 7866.32,1423.18 \"/>\n",
       "<path clip-path=\"url(#clip352)\" d=\"M7904.78 1423.18 L7904.78 1423.18 L7943.24 1423.18 L7943.24 1423.18 L7904.78 1423.18 L7904.78 1423.18  Z\" fill=\"#009af9\" fill-rule=\"evenodd\" fill-opacity=\"1\"/>\n",
       "<polyline clip-path=\"url(#clip352)\" style=\"stroke:#000000; stroke-linecap:round; stroke-linejoin:round; stroke-width:4; stroke-opacity:1; fill:none\" points=\"7904.78,1423.18 7904.78,1423.18 7943.24,1423.18 7904.78,1423.18 \"/>\n",
       "<path clip-path=\"url(#clip352)\" d=\"M7943.24 1350.76 L7943.24 1423.18 L7981.7 1423.18 L7981.7 1350.76 L7943.24 1350.76 L7943.24 1350.76  Z\" fill=\"#009af9\" fill-rule=\"evenodd\" fill-opacity=\"1\"/>\n",
       "<polyline clip-path=\"url(#clip352)\" style=\"stroke:#000000; stroke-linecap:round; stroke-linejoin:round; stroke-width:4; stroke-opacity:1; fill:none\" points=\"7943.24,1350.76 7943.24,1423.18 7981.7,1423.18 7981.7,1350.76 7943.24,1350.76 \"/>\n",
       "<path clip-path=\"url(#clip352)\" d=\"M7981.7 1423.18 L7981.7 1423.18 L8020.15 1423.18 L8020.15 1423.18 L7981.7 1423.18 L7981.7 1423.18  Z\" fill=\"#009af9\" fill-rule=\"evenodd\" fill-opacity=\"1\"/>\n",
       "<polyline clip-path=\"url(#clip352)\" style=\"stroke:#000000; stroke-linecap:round; stroke-linejoin:round; stroke-width:4; stroke-opacity:1; fill:none\" points=\"7981.7,1423.18 7981.7,1423.18 8020.15,1423.18 7981.7,1423.18 \"/>\n",
       "<path clip-path=\"url(#clip352)\" d=\"M8020.15 1423.18 L8020.15 1423.18 L8058.61 1423.18 L8058.61 1423.18 L8020.15 1423.18 L8020.15 1423.18  Z\" fill=\"#009af9\" fill-rule=\"evenodd\" fill-opacity=\"1\"/>\n",
       "<polyline clip-path=\"url(#clip352)\" style=\"stroke:#000000; stroke-linecap:round; stroke-linejoin:round; stroke-width:4; stroke-opacity:1; fill:none\" points=\"8020.15,1423.18 8020.15,1423.18 8058.61,1423.18 8020.15,1423.18 \"/>\n",
       "<path clip-path=\"url(#clip352)\" d=\"M8058.61 1423.18 L8058.61 1423.18 L8097.07 1423.18 L8097.07 1423.18 L8058.61 1423.18 L8058.61 1423.18  Z\" fill=\"#009af9\" fill-rule=\"evenodd\" fill-opacity=\"1\"/>\n",
       "<polyline clip-path=\"url(#clip352)\" style=\"stroke:#000000; stroke-linecap:round; stroke-linejoin:round; stroke-width:4; stroke-opacity:1; fill:none\" points=\"8058.61,1423.18 8058.61,1423.18 8097.07,1423.18 8058.61,1423.18 \"/>\n",
       "<path clip-path=\"url(#clip352)\" d=\"M8097.07 1423.18 L8097.07 1423.18 L8135.53 1423.18 L8135.53 1423.18 L8097.07 1423.18 L8097.07 1423.18  Z\" fill=\"#009af9\" fill-rule=\"evenodd\" fill-opacity=\"1\"/>\n",
       "<polyline clip-path=\"url(#clip352)\" style=\"stroke:#000000; stroke-linecap:round; stroke-linejoin:round; stroke-width:4; stroke-opacity:1; fill:none\" points=\"8097.07,1423.18 8097.07,1423.18 8135.53,1423.18 8097.07,1423.18 \"/>\n",
       "<path clip-path=\"url(#clip352)\" d=\"M8135.53 1423.18 L8135.53 1423.18 L8173.99 1423.18 L8173.99 1423.18 L8135.53 1423.18 L8135.53 1423.18  Z\" fill=\"#009af9\" fill-rule=\"evenodd\" fill-opacity=\"1\"/>\n",
       "<polyline clip-path=\"url(#clip352)\" style=\"stroke:#000000; stroke-linecap:round; stroke-linejoin:round; stroke-width:4; stroke-opacity:1; fill:none\" points=\"8135.53,1423.18 8135.53,1423.18 8173.99,1423.18 8135.53,1423.18 \"/>\n",
       "<path clip-path=\"url(#clip352)\" d=\"M8173.99 1423.18 L8173.99 1423.18 L8212.45 1423.18 L8212.45 1423.18 L8173.99 1423.18 L8173.99 1423.18  Z\" fill=\"#009af9\" fill-rule=\"evenodd\" fill-opacity=\"1\"/>\n",
       "<polyline clip-path=\"url(#clip352)\" style=\"stroke:#000000; stroke-linecap:round; stroke-linejoin:round; stroke-width:4; stroke-opacity:1; fill:none\" points=\"8173.99,1423.18 8173.99,1423.18 8212.45,1423.18 8173.99,1423.18 \"/>\n",
       "<path clip-path=\"url(#clip352)\" d=\"M8212.45 1423.18 L8212.45 1423.18 L8250.91 1423.18 L8250.91 1423.18 L8212.45 1423.18 L8212.45 1423.18  Z\" fill=\"#009af9\" fill-rule=\"evenodd\" fill-opacity=\"1\"/>\n",
       "<polyline clip-path=\"url(#clip352)\" style=\"stroke:#000000; stroke-linecap:round; stroke-linejoin:round; stroke-width:4; stroke-opacity:1; fill:none\" points=\"8212.45,1423.18 8212.45,1423.18 8250.91,1423.18 8212.45,1423.18 \"/>\n",
       "<path clip-path=\"url(#clip352)\" d=\"M8250.91 1423.18 L8250.91 1423.18 L8289.37 1423.18 L8289.37 1423.18 L8250.91 1423.18 L8250.91 1423.18  Z\" fill=\"#009af9\" fill-rule=\"evenodd\" fill-opacity=\"1\"/>\n",
       "<polyline clip-path=\"url(#clip352)\" style=\"stroke:#000000; stroke-linecap:round; stroke-linejoin:round; stroke-width:4; stroke-opacity:1; fill:none\" points=\"8250.91,1423.18 8250.91,1423.18 8289.37,1423.18 8250.91,1423.18 \"/>\n",
       "<path clip-path=\"url(#clip352)\" d=\"M8289.37 1423.18 L8289.37 1423.18 L8327.83 1423.18 L8327.83 1423.18 L8289.37 1423.18 L8289.37 1423.18  Z\" fill=\"#009af9\" fill-rule=\"evenodd\" fill-opacity=\"1\"/>\n",
       "<polyline clip-path=\"url(#clip352)\" style=\"stroke:#000000; stroke-linecap:round; stroke-linejoin:round; stroke-width:4; stroke-opacity:1; fill:none\" points=\"8289.37,1423.18 8289.37,1423.18 8327.83,1423.18 8289.37,1423.18 \"/>\n",
       "<path clip-path=\"url(#clip352)\" d=\"M8327.83 1350.76 L8327.83 1423.18 L8366.28 1423.18 L8366.28 1350.76 L8327.83 1350.76 L8327.83 1350.76  Z\" fill=\"#009af9\" fill-rule=\"evenodd\" fill-opacity=\"1\"/>\n",
       "<polyline clip-path=\"url(#clip352)\" style=\"stroke:#000000; stroke-linecap:round; stroke-linejoin:round; stroke-width:4; stroke-opacity:1; fill:none\" points=\"8327.83,1350.76 8327.83,1423.18 8366.28,1423.18 8366.28,1350.76 8327.83,1350.76 \"/>\n",
       "<path clip-path=\"url(#clip352)\" d=\"M8366.28 1423.18 L8366.28 1423.18 L8404.74 1423.18 L8404.74 1423.18 L8366.28 1423.18 L8366.28 1423.18  Z\" fill=\"#009af9\" fill-rule=\"evenodd\" fill-opacity=\"1\"/>\n",
       "<polyline clip-path=\"url(#clip352)\" style=\"stroke:#000000; stroke-linecap:round; stroke-linejoin:round; stroke-width:4; stroke-opacity:1; fill:none\" points=\"8366.28,1423.18 8366.28,1423.18 8404.74,1423.18 8366.28,1423.18 \"/>\n",
       "<path clip-path=\"url(#clip352)\" d=\"M8404.74 1350.76 L8404.74 1423.18 L8443.2 1423.18 L8443.2 1350.76 L8404.74 1350.76 L8404.74 1350.76  Z\" fill=\"#009af9\" fill-rule=\"evenodd\" fill-opacity=\"1\"/>\n",
       "<polyline clip-path=\"url(#clip352)\" style=\"stroke:#000000; stroke-linecap:round; stroke-linejoin:round; stroke-width:4; stroke-opacity:1; fill:none\" points=\"8404.74,1350.76 8404.74,1423.18 8443.2,1423.18 8443.2,1350.76 8404.74,1350.76 \"/>\n",
       "<path clip-path=\"url(#clip352)\" d=\"M8443.2 1423.18 L8443.2 1423.18 L8481.66 1423.18 L8481.66 1423.18 L8443.2 1423.18 L8443.2 1423.18  Z\" fill=\"#009af9\" fill-rule=\"evenodd\" fill-opacity=\"1\"/>\n",
       "<polyline clip-path=\"url(#clip352)\" style=\"stroke:#000000; stroke-linecap:round; stroke-linejoin:round; stroke-width:4; stroke-opacity:1; fill:none\" points=\"8443.2,1423.18 8443.2,1423.18 8481.66,1423.18 8443.2,1423.18 \"/>\n",
       "<path clip-path=\"url(#clip352)\" d=\"M8481.66 1350.76 L8481.66 1423.18 L8520.12 1423.18 L8520.12 1350.76 L8481.66 1350.76 L8481.66 1350.76  Z\" fill=\"#009af9\" fill-rule=\"evenodd\" fill-opacity=\"1\"/>\n",
       "<polyline clip-path=\"url(#clip352)\" style=\"stroke:#000000; stroke-linecap:round; stroke-linejoin:round; stroke-width:4; stroke-opacity:1; fill:none\" points=\"8481.66,1350.76 8481.66,1423.18 8520.12,1423.18 8520.12,1350.76 8481.66,1350.76 \"/>\n",
       "<path clip-path=\"url(#clip352)\" d=\"M8520.12 1423.18 L8520.12 1423.18 L8558.58 1423.18 L8558.58 1423.18 L8520.12 1423.18 L8520.12 1423.18  Z\" fill=\"#009af9\" fill-rule=\"evenodd\" fill-opacity=\"1\"/>\n",
       "<polyline clip-path=\"url(#clip352)\" style=\"stroke:#000000; stroke-linecap:round; stroke-linejoin:round; stroke-width:4; stroke-opacity:1; fill:none\" points=\"8520.12,1423.18 8520.12,1423.18 8558.58,1423.18 8520.12,1423.18 \"/>\n",
       "<path clip-path=\"url(#clip352)\" d=\"M8558.58 1350.76 L8558.58 1423.18 L8597.04 1423.18 L8597.04 1350.76 L8558.58 1350.76 L8558.58 1350.76  Z\" fill=\"#009af9\" fill-rule=\"evenodd\" fill-opacity=\"1\"/>\n",
       "<polyline clip-path=\"url(#clip352)\" style=\"stroke:#000000; stroke-linecap:round; stroke-linejoin:round; stroke-width:4; stroke-opacity:1; fill:none\" points=\"8558.58,1350.76 8558.58,1423.18 8597.04,1423.18 8597.04,1350.76 8558.58,1350.76 \"/>\n",
       "<path clip-path=\"url(#clip352)\" d=\"M8597.04 1423.18 L8597.04 1423.18 L8635.5 1423.18 L8635.5 1423.18 L8597.04 1423.18 L8597.04 1423.18  Z\" fill=\"#009af9\" fill-rule=\"evenodd\" fill-opacity=\"1\"/>\n",
       "<polyline clip-path=\"url(#clip352)\" style=\"stroke:#000000; stroke-linecap:round; stroke-linejoin:round; stroke-width:4; stroke-opacity:1; fill:none\" points=\"8597.04,1423.18 8597.04,1423.18 8635.5,1423.18 8597.04,1423.18 \"/>\n",
       "<path clip-path=\"url(#clip352)\" d=\"M8635.5 1423.18 L8635.5 1423.18 L8673.96 1423.18 L8673.96 1423.18 L8635.5 1423.18 L8635.5 1423.18  Z\" fill=\"#009af9\" fill-rule=\"evenodd\" fill-opacity=\"1\"/>\n",
       "<polyline clip-path=\"url(#clip352)\" style=\"stroke:#000000; stroke-linecap:round; stroke-linejoin:round; stroke-width:4; stroke-opacity:1; fill:none\" points=\"8635.5,1423.18 8635.5,1423.18 8673.96,1423.18 8635.5,1423.18 \"/>\n",
       "<path clip-path=\"url(#clip352)\" d=\"M8673.96 1423.18 L8673.96 1423.18 L8712.42 1423.18 L8712.42 1423.18 L8673.96 1423.18 L8673.96 1423.18  Z\" fill=\"#009af9\" fill-rule=\"evenodd\" fill-opacity=\"1\"/>\n",
       "<polyline clip-path=\"url(#clip352)\" style=\"stroke:#000000; stroke-linecap:round; stroke-linejoin:round; stroke-width:4; stroke-opacity:1; fill:none\" points=\"8673.96,1423.18 8673.96,1423.18 8712.42,1423.18 8673.96,1423.18 \"/>\n",
       "<path clip-path=\"url(#clip352)\" d=\"M8712.42 1423.18 L8712.42 1423.18 L8750.87 1423.18 L8750.87 1423.18 L8712.42 1423.18 L8712.42 1423.18  Z\" fill=\"#009af9\" fill-rule=\"evenodd\" fill-opacity=\"1\"/>\n",
       "<polyline clip-path=\"url(#clip352)\" style=\"stroke:#000000; stroke-linecap:round; stroke-linejoin:round; stroke-width:4; stroke-opacity:1; fill:none\" points=\"8712.42,1423.18 8712.42,1423.18 8750.87,1423.18 8712.42,1423.18 \"/>\n",
       "<path clip-path=\"url(#clip352)\" d=\"M8750.87 1423.18 L8750.87 1423.18 L8789.33 1423.18 L8789.33 1423.18 L8750.87 1423.18 L8750.87 1423.18  Z\" fill=\"#009af9\" fill-rule=\"evenodd\" fill-opacity=\"1\"/>\n",
       "<polyline clip-path=\"url(#clip352)\" style=\"stroke:#000000; stroke-linecap:round; stroke-linejoin:round; stroke-width:4; stroke-opacity:1; fill:none\" points=\"8750.87,1423.18 8750.87,1423.18 8789.33,1423.18 8750.87,1423.18 \"/>\n",
       "<path clip-path=\"url(#clip352)\" d=\"M8789.33 1423.18 L8789.33 1423.18 L8827.79 1423.18 L8827.79 1423.18 L8789.33 1423.18 L8789.33 1423.18  Z\" fill=\"#009af9\" fill-rule=\"evenodd\" fill-opacity=\"1\"/>\n",
       "<polyline clip-path=\"url(#clip352)\" style=\"stroke:#000000; stroke-linecap:round; stroke-linejoin:round; stroke-width:4; stroke-opacity:1; fill:none\" points=\"8789.33,1423.18 8789.33,1423.18 8827.79,1423.18 8789.33,1423.18 \"/>\n",
       "<path clip-path=\"url(#clip352)\" d=\"M8827.79 1423.18 L8827.79 1423.18 L8866.25 1423.18 L8866.25 1423.18 L8827.79 1423.18 L8827.79 1423.18  Z\" fill=\"#009af9\" fill-rule=\"evenodd\" fill-opacity=\"1\"/>\n",
       "<polyline clip-path=\"url(#clip352)\" style=\"stroke:#000000; stroke-linecap:round; stroke-linejoin:round; stroke-width:4; stroke-opacity:1; fill:none\" points=\"8827.79,1423.18 8827.79,1423.18 8866.25,1423.18 8827.79,1423.18 \"/>\n",
       "<path clip-path=\"url(#clip352)\" d=\"M8866.25 1423.18 L8866.25 1423.18 L8904.71 1423.18 L8904.71 1423.18 L8866.25 1423.18 L8866.25 1423.18  Z\" fill=\"#009af9\" fill-rule=\"evenodd\" fill-opacity=\"1\"/>\n",
       "<polyline clip-path=\"url(#clip352)\" style=\"stroke:#000000; stroke-linecap:round; stroke-linejoin:round; stroke-width:4; stroke-opacity:1; fill:none\" points=\"8866.25,1423.18 8866.25,1423.18 8904.71,1423.18 8866.25,1423.18 \"/>\n",
       "<path clip-path=\"url(#clip352)\" d=\"M8904.71 1423.18 L8904.71 1423.18 L8943.17 1423.18 L8943.17 1423.18 L8904.71 1423.18 L8904.71 1423.18  Z\" fill=\"#009af9\" fill-rule=\"evenodd\" fill-opacity=\"1\"/>\n",
       "<polyline clip-path=\"url(#clip352)\" style=\"stroke:#000000; stroke-linecap:round; stroke-linejoin:round; stroke-width:4; stroke-opacity:1; fill:none\" points=\"8904.71,1423.18 8904.71,1423.18 8943.17,1423.18 8904.71,1423.18 \"/>\n",
       "<path clip-path=\"url(#clip352)\" d=\"M8943.17 1423.18 L8943.17 1423.18 L8981.63 1423.18 L8981.63 1423.18 L8943.17 1423.18 L8943.17 1423.18  Z\" fill=\"#009af9\" fill-rule=\"evenodd\" fill-opacity=\"1\"/>\n",
       "<polyline clip-path=\"url(#clip352)\" style=\"stroke:#000000; stroke-linecap:round; stroke-linejoin:round; stroke-width:4; stroke-opacity:1; fill:none\" points=\"8943.17,1423.18 8943.17,1423.18 8981.63,1423.18 8943.17,1423.18 \"/>\n",
       "<path clip-path=\"url(#clip352)\" d=\"M8981.63 1423.18 L8981.63 1423.18 L9020.09 1423.18 L9020.09 1423.18 L8981.63 1423.18 L8981.63 1423.18  Z\" fill=\"#009af9\" fill-rule=\"evenodd\" fill-opacity=\"1\"/>\n",
       "<polyline clip-path=\"url(#clip352)\" style=\"stroke:#000000; stroke-linecap:round; stroke-linejoin:round; stroke-width:4; stroke-opacity:1; fill:none\" points=\"8981.63,1423.18 8981.63,1423.18 9020.09,1423.18 8981.63,1423.18 \"/>\n",
       "<path clip-path=\"url(#clip352)\" d=\"M9020.09 1423.18 L9020.09 1423.18 L9058.55 1423.18 L9058.55 1423.18 L9020.09 1423.18 L9020.09 1423.18  Z\" fill=\"#009af9\" fill-rule=\"evenodd\" fill-opacity=\"1\"/>\n",
       "<polyline clip-path=\"url(#clip352)\" style=\"stroke:#000000; stroke-linecap:round; stroke-linejoin:round; stroke-width:4; stroke-opacity:1; fill:none\" points=\"9020.09,1423.18 9020.09,1423.18 9058.55,1423.18 9020.09,1423.18 \"/>\n",
       "<path clip-path=\"url(#clip352)\" d=\"M9058.55 1423.18 L9058.55 1423.18 L9097 1423.18 L9097 1423.18 L9058.55 1423.18 L9058.55 1423.18  Z\" fill=\"#009af9\" fill-rule=\"evenodd\" fill-opacity=\"1\"/>\n",
       "<polyline clip-path=\"url(#clip352)\" style=\"stroke:#000000; stroke-linecap:round; stroke-linejoin:round; stroke-width:4; stroke-opacity:1; fill:none\" points=\"9058.55,1423.18 9058.55,1423.18 9097,1423.18 9058.55,1423.18 \"/>\n",
       "<path clip-path=\"url(#clip352)\" d=\"M9097 1423.18 L9097 1423.18 L9135.46 1423.18 L9135.46 1423.18 L9097 1423.18 L9097 1423.18  Z\" fill=\"#009af9\" fill-rule=\"evenodd\" fill-opacity=\"1\"/>\n",
       "<polyline clip-path=\"url(#clip352)\" style=\"stroke:#000000; stroke-linecap:round; stroke-linejoin:round; stroke-width:4; stroke-opacity:1; fill:none\" points=\"9097,1423.18 9097,1423.18 9135.46,1423.18 9097,1423.18 \"/>\n",
       "<path clip-path=\"url(#clip352)\" d=\"M9135.46 1423.18 L9135.46 1423.18 L9173.92 1423.18 L9173.92 1423.18 L9135.46 1423.18 L9135.46 1423.18  Z\" fill=\"#009af9\" fill-rule=\"evenodd\" fill-opacity=\"1\"/>\n",
       "<polyline clip-path=\"url(#clip352)\" style=\"stroke:#000000; stroke-linecap:round; stroke-linejoin:round; stroke-width:4; stroke-opacity:1; fill:none\" points=\"9135.46,1423.18 9135.46,1423.18 9173.92,1423.18 9135.46,1423.18 \"/>\n",
       "<path clip-path=\"url(#clip352)\" d=\"M9173.92 1423.18 L9173.92 1423.18 L9212.38 1423.18 L9212.38 1423.18 L9173.92 1423.18 L9173.92 1423.18  Z\" fill=\"#009af9\" fill-rule=\"evenodd\" fill-opacity=\"1\"/>\n",
       "<polyline clip-path=\"url(#clip352)\" style=\"stroke:#000000; stroke-linecap:round; stroke-linejoin:round; stroke-width:4; stroke-opacity:1; fill:none\" points=\"9173.92,1423.18 9173.92,1423.18 9212.38,1423.18 9173.92,1423.18 \"/>\n",
       "<path clip-path=\"url(#clip352)\" d=\"M9212.38 1423.18 L9212.38 1423.18 L9250.84 1423.18 L9250.84 1423.18 L9212.38 1423.18 L9212.38 1423.18  Z\" fill=\"#009af9\" fill-rule=\"evenodd\" fill-opacity=\"1\"/>\n",
       "<polyline clip-path=\"url(#clip352)\" style=\"stroke:#000000; stroke-linecap:round; stroke-linejoin:round; stroke-width:4; stroke-opacity:1; fill:none\" points=\"9212.38,1423.18 9212.38,1423.18 9250.84,1423.18 9212.38,1423.18 \"/>\n",
       "<path clip-path=\"url(#clip352)\" d=\"M9250.84 1423.18 L9250.84 1423.18 L9289.3 1423.18 L9289.3 1423.18 L9250.84 1423.18 L9250.84 1423.18  Z\" fill=\"#009af9\" fill-rule=\"evenodd\" fill-opacity=\"1\"/>\n",
       "<polyline clip-path=\"url(#clip352)\" style=\"stroke:#000000; stroke-linecap:round; stroke-linejoin:round; stroke-width:4; stroke-opacity:1; fill:none\" points=\"9250.84,1423.18 9250.84,1423.18 9289.3,1423.18 9250.84,1423.18 \"/>\n",
       "<path clip-path=\"url(#clip352)\" d=\"M9289.3 1423.18 L9289.3 1423.18 L9327.76 1423.18 L9327.76 1423.18 L9289.3 1423.18 L9289.3 1423.18  Z\" fill=\"#009af9\" fill-rule=\"evenodd\" fill-opacity=\"1\"/>\n",
       "<polyline clip-path=\"url(#clip352)\" style=\"stroke:#000000; stroke-linecap:round; stroke-linejoin:round; stroke-width:4; stroke-opacity:1; fill:none\" points=\"9289.3,1423.18 9289.3,1423.18 9327.76,1423.18 9289.3,1423.18 \"/>\n",
       "<path clip-path=\"url(#clip352)\" d=\"M9327.76 1423.18 L9327.76 1423.18 L9366.22 1423.18 L9366.22 1423.18 L9327.76 1423.18 L9327.76 1423.18  Z\" fill=\"#009af9\" fill-rule=\"evenodd\" fill-opacity=\"1\"/>\n",
       "<polyline clip-path=\"url(#clip352)\" style=\"stroke:#000000; stroke-linecap:round; stroke-linejoin:round; stroke-width:4; stroke-opacity:1; fill:none\" points=\"9327.76,1423.18 9327.76,1423.18 9366.22,1423.18 9327.76,1423.18 \"/>\n",
       "<path clip-path=\"url(#clip352)\" d=\"M9366.22 1423.18 L9366.22 1423.18 L9404.68 1423.18 L9404.68 1423.18 L9366.22 1423.18 L9366.22 1423.18  Z\" fill=\"#009af9\" fill-rule=\"evenodd\" fill-opacity=\"1\"/>\n",
       "<polyline clip-path=\"url(#clip352)\" style=\"stroke:#000000; stroke-linecap:round; stroke-linejoin:round; stroke-width:4; stroke-opacity:1; fill:none\" points=\"9366.22,1423.18 9366.22,1423.18 9404.68,1423.18 9366.22,1423.18 \"/>\n",
       "<path clip-path=\"url(#clip352)\" d=\"M9404.68 1423.18 L9404.68 1423.18 L9443.13 1423.18 L9443.13 1423.18 L9404.68 1423.18 L9404.68 1423.18  Z\" fill=\"#009af9\" fill-rule=\"evenodd\" fill-opacity=\"1\"/>\n",
       "<polyline clip-path=\"url(#clip352)\" style=\"stroke:#000000; stroke-linecap:round; stroke-linejoin:round; stroke-width:4; stroke-opacity:1; fill:none\" points=\"9404.68,1423.18 9404.68,1423.18 9443.13,1423.18 9404.68,1423.18 \"/>\n",
       "<path clip-path=\"url(#clip352)\" d=\"M9443.13 1423.18 L9443.13 1423.18 L9481.59 1423.18 L9481.59 1423.18 L9443.13 1423.18 L9443.13 1423.18  Z\" fill=\"#009af9\" fill-rule=\"evenodd\" fill-opacity=\"1\"/>\n",
       "<polyline clip-path=\"url(#clip352)\" style=\"stroke:#000000; stroke-linecap:round; stroke-linejoin:round; stroke-width:4; stroke-opacity:1; fill:none\" points=\"9443.13,1423.18 9443.13,1423.18 9481.59,1423.18 9443.13,1423.18 \"/>\n",
       "<path clip-path=\"url(#clip352)\" d=\"M9481.59 1423.18 L9481.59 1423.18 L9520.05 1423.18 L9520.05 1423.18 L9481.59 1423.18 L9481.59 1423.18  Z\" fill=\"#009af9\" fill-rule=\"evenodd\" fill-opacity=\"1\"/>\n",
       "<polyline clip-path=\"url(#clip352)\" style=\"stroke:#000000; stroke-linecap:round; stroke-linejoin:round; stroke-width:4; stroke-opacity:1; fill:none\" points=\"9481.59,1423.18 9481.59,1423.18 9520.05,1423.18 9481.59,1423.18 \"/>\n",
       "<path clip-path=\"url(#clip352)\" d=\"M9520.05 1350.76 L9520.05 1423.18 L9558.51 1423.18 L9558.51 1350.76 L9520.05 1350.76 L9520.05 1350.76  Z\" fill=\"#009af9\" fill-rule=\"evenodd\" fill-opacity=\"1\"/>\n",
       "<polyline clip-path=\"url(#clip352)\" style=\"stroke:#000000; stroke-linecap:round; stroke-linejoin:round; stroke-width:4; stroke-opacity:1; fill:none\" points=\"9520.05,1350.76 9520.05,1423.18 9558.51,1423.18 9558.51,1350.76 9520.05,1350.76 \"/>\n",
       "<path clip-path=\"url(#clip352)\" d=\"M9558.51 1423.18 L9558.51 1423.18 L9596.97 1423.18 L9596.97 1423.18 L9558.51 1423.18 L9558.51 1423.18  Z\" fill=\"#009af9\" fill-rule=\"evenodd\" fill-opacity=\"1\"/>\n",
       "<polyline clip-path=\"url(#clip352)\" style=\"stroke:#000000; stroke-linecap:round; stroke-linejoin:round; stroke-width:4; stroke-opacity:1; fill:none\" points=\"9558.51,1423.18 9558.51,1423.18 9596.97,1423.18 9558.51,1423.18 \"/>\n",
       "<path clip-path=\"url(#clip352)\" d=\"M9596.97 1423.18 L9596.97 1423.18 L9635.43 1423.18 L9635.43 1423.18 L9596.97 1423.18 L9596.97 1423.18  Z\" fill=\"#009af9\" fill-rule=\"evenodd\" fill-opacity=\"1\"/>\n",
       "<polyline clip-path=\"url(#clip352)\" style=\"stroke:#000000; stroke-linecap:round; stroke-linejoin:round; stroke-width:4; stroke-opacity:1; fill:none\" points=\"9596.97,1423.18 9596.97,1423.18 9635.43,1423.18 9596.97,1423.18 \"/>\n",
       "<path clip-path=\"url(#clip352)\" d=\"M9635.43 1423.18 L9635.43 1423.18 L9673.89 1423.18 L9673.89 1423.18 L9635.43 1423.18 L9635.43 1423.18  Z\" fill=\"#009af9\" fill-rule=\"evenodd\" fill-opacity=\"1\"/>\n",
       "<polyline clip-path=\"url(#clip352)\" style=\"stroke:#000000; stroke-linecap:round; stroke-linejoin:round; stroke-width:4; stroke-opacity:1; fill:none\" points=\"9635.43,1423.18 9635.43,1423.18 9673.89,1423.18 9635.43,1423.18 \"/>\n",
       "<path clip-path=\"url(#clip352)\" d=\"M9673.89 1423.18 L9673.89 1423.18 L9712.35 1423.18 L9712.35 1423.18 L9673.89 1423.18 L9673.89 1423.18  Z\" fill=\"#009af9\" fill-rule=\"evenodd\" fill-opacity=\"1\"/>\n",
       "<polyline clip-path=\"url(#clip352)\" style=\"stroke:#000000; stroke-linecap:round; stroke-linejoin:round; stroke-width:4; stroke-opacity:1; fill:none\" points=\"9673.89,1423.18 9673.89,1423.18 9712.35,1423.18 9673.89,1423.18 \"/>\n",
       "<path clip-path=\"url(#clip352)\" d=\"M9712.35 1423.18 L9712.35 1423.18 L9750.81 1423.18 L9750.81 1423.18 L9712.35 1423.18 L9712.35 1423.18  Z\" fill=\"#009af9\" fill-rule=\"evenodd\" fill-opacity=\"1\"/>\n",
       "<polyline clip-path=\"url(#clip352)\" style=\"stroke:#000000; stroke-linecap:round; stroke-linejoin:round; stroke-width:4; stroke-opacity:1; fill:none\" points=\"9712.35,1423.18 9712.35,1423.18 9750.81,1423.18 9712.35,1423.18 \"/>\n",
       "<path clip-path=\"url(#clip352)\" d=\"M9750.81 1423.18 L9750.81 1423.18 L9789.26 1423.18 L9789.26 1423.18 L9750.81 1423.18 L9750.81 1423.18  Z\" fill=\"#009af9\" fill-rule=\"evenodd\" fill-opacity=\"1\"/>\n",
       "<polyline clip-path=\"url(#clip352)\" style=\"stroke:#000000; stroke-linecap:round; stroke-linejoin:round; stroke-width:4; stroke-opacity:1; fill:none\" points=\"9750.81,1423.18 9750.81,1423.18 9789.26,1423.18 9750.81,1423.18 \"/>\n",
       "<path clip-path=\"url(#clip352)\" d=\"M9789.26 1423.18 L9789.26 1423.18 L9827.72 1423.18 L9827.72 1423.18 L9789.26 1423.18 L9789.26 1423.18  Z\" fill=\"#009af9\" fill-rule=\"evenodd\" fill-opacity=\"1\"/>\n",
       "<polyline clip-path=\"url(#clip352)\" style=\"stroke:#000000; stroke-linecap:round; stroke-linejoin:round; stroke-width:4; stroke-opacity:1; fill:none\" points=\"9789.26,1423.18 9789.26,1423.18 9827.72,1423.18 9789.26,1423.18 \"/>\n",
       "<path clip-path=\"url(#clip352)\" d=\"M9827.72 1423.18 L9827.72 1423.18 L9866.18 1423.18 L9866.18 1423.18 L9827.72 1423.18 L9827.72 1423.18  Z\" fill=\"#009af9\" fill-rule=\"evenodd\" fill-opacity=\"1\"/>\n",
       "<polyline clip-path=\"url(#clip352)\" style=\"stroke:#000000; stroke-linecap:round; stroke-linejoin:round; stroke-width:4; stroke-opacity:1; fill:none\" points=\"9827.72,1423.18 9827.72,1423.18 9866.18,1423.18 9827.72,1423.18 \"/>\n",
       "<path clip-path=\"url(#clip352)\" d=\"M9866.18 1423.18 L9866.18 1423.18 L9904.64 1423.18 L9904.64 1423.18 L9866.18 1423.18 L9866.18 1423.18  Z\" fill=\"#009af9\" fill-rule=\"evenodd\" fill-opacity=\"1\"/>\n",
       "<polyline clip-path=\"url(#clip352)\" style=\"stroke:#000000; stroke-linecap:round; stroke-linejoin:round; stroke-width:4; stroke-opacity:1; fill:none\" points=\"9866.18,1423.18 9866.18,1423.18 9904.64,1423.18 9866.18,1423.18 \"/>\n",
       "<path clip-path=\"url(#clip352)\" d=\"M9904.64 1423.18 L9904.64 1423.18 L9943.1 1423.18 L9943.1 1423.18 L9904.64 1423.18 L9904.64 1423.18  Z\" fill=\"#009af9\" fill-rule=\"evenodd\" fill-opacity=\"1\"/>\n",
       "<polyline clip-path=\"url(#clip352)\" style=\"stroke:#000000; stroke-linecap:round; stroke-linejoin:round; stroke-width:4; stroke-opacity:1; fill:none\" points=\"9904.64,1423.18 9904.64,1423.18 9943.1,1423.18 9904.64,1423.18 \"/>\n",
       "<path clip-path=\"url(#clip352)\" d=\"M9943.1 1423.18 L9943.1 1423.18 L9981.56 1423.18 L9981.56 1423.18 L9943.1 1423.18 L9943.1 1423.18  Z\" fill=\"#009af9\" fill-rule=\"evenodd\" fill-opacity=\"1\"/>\n",
       "<polyline clip-path=\"url(#clip352)\" style=\"stroke:#000000; stroke-linecap:round; stroke-linejoin:round; stroke-width:4; stroke-opacity:1; fill:none\" points=\"9943.1,1423.18 9943.1,1423.18 9981.56,1423.18 9943.1,1423.18 \"/>\n",
       "<path clip-path=\"url(#clip352)\" d=\"M9981.56 1423.18 L9981.56 1423.18 L10020 1423.18 L10020 1423.18 L9981.56 1423.18 L9981.56 1423.18  Z\" fill=\"#009af9\" fill-rule=\"evenodd\" fill-opacity=\"1\"/>\n",
       "<polyline clip-path=\"url(#clip352)\" style=\"stroke:#000000; stroke-linecap:round; stroke-linejoin:round; stroke-width:4; stroke-opacity:1; fill:none\" points=\"9981.56,1423.18 9981.56,1423.18 10020,1423.18 9981.56,1423.18 \"/>\n",
       "<path clip-path=\"url(#clip352)\" d=\"M10020 1423.18 L10020 1423.18 L10058.5 1423.18 L10058.5 1423.18 L10020 1423.18 L10020 1423.18  Z\" fill=\"#009af9\" fill-rule=\"evenodd\" fill-opacity=\"1\"/>\n",
       "<polyline clip-path=\"url(#clip352)\" style=\"stroke:#000000; stroke-linecap:round; stroke-linejoin:round; stroke-width:4; stroke-opacity:1; fill:none\" points=\"10020,1423.18 10020,1423.18 10058.5,1423.18 10020,1423.18 \"/>\n",
       "<path clip-path=\"url(#clip352)\" d=\"M10058.5 1350.76 L10058.5 1423.18 L10096.9 1423.18 L10096.9 1350.76 L10058.5 1350.76 L10058.5 1350.76  Z\" fill=\"#009af9\" fill-rule=\"evenodd\" fill-opacity=\"1\"/>\n",
       "<polyline clip-path=\"url(#clip352)\" style=\"stroke:#000000; stroke-linecap:round; stroke-linejoin:round; stroke-width:4; stroke-opacity:1; fill:none\" points=\"10058.5,1350.76 10058.5,1423.18 10096.9,1423.18 10096.9,1350.76 10058.5,1350.76 \"/>\n",
       "<path clip-path=\"url(#clip352)\" d=\"M10096.9 1423.18 L10096.9 1423.18 L10135.4 1423.18 L10135.4 1423.18 L10096.9 1423.18 L10096.9 1423.18  Z\" fill=\"#009af9\" fill-rule=\"evenodd\" fill-opacity=\"1\"/>\n",
       "<polyline clip-path=\"url(#clip352)\" style=\"stroke:#000000; stroke-linecap:round; stroke-linejoin:round; stroke-width:4; stroke-opacity:1; fill:none\" points=\"10096.9,1423.18 10096.9,1423.18 10135.4,1423.18 10096.9,1423.18 \"/>\n",
       "<path clip-path=\"url(#clip352)\" d=\"M10135.4 1423.18 L10135.4 1423.18 L10173.9 1423.18 L10173.9 1423.18 L10135.4 1423.18 L10135.4 1423.18  Z\" fill=\"#009af9\" fill-rule=\"evenodd\" fill-opacity=\"1\"/>\n",
       "<polyline clip-path=\"url(#clip352)\" style=\"stroke:#000000; stroke-linecap:round; stroke-linejoin:round; stroke-width:4; stroke-opacity:1; fill:none\" points=\"10135.4,1423.18 10135.4,1423.18 10173.9,1423.18 10135.4,1423.18 \"/>\n",
       "<path clip-path=\"url(#clip352)\" d=\"M10173.9 1423.18 L10173.9 1423.18 L10212.3 1423.18 L10212.3 1423.18 L10173.9 1423.18 L10173.9 1423.18  Z\" fill=\"#009af9\" fill-rule=\"evenodd\" fill-opacity=\"1\"/>\n",
       "<polyline clip-path=\"url(#clip352)\" style=\"stroke:#000000; stroke-linecap:round; stroke-linejoin:round; stroke-width:4; stroke-opacity:1; fill:none\" points=\"10173.9,1423.18 10173.9,1423.18 10212.3,1423.18 10173.9,1423.18 \"/>\n",
       "<path clip-path=\"url(#clip352)\" d=\"M10212.3 1423.18 L10212.3 1423.18 L10250.8 1423.18 L10250.8 1423.18 L10212.3 1423.18 L10212.3 1423.18  Z\" fill=\"#009af9\" fill-rule=\"evenodd\" fill-opacity=\"1\"/>\n",
       "<polyline clip-path=\"url(#clip352)\" style=\"stroke:#000000; stroke-linecap:round; stroke-linejoin:round; stroke-width:4; stroke-opacity:1; fill:none\" points=\"10212.3,1423.18 10212.3,1423.18 10250.8,1423.18 10212.3,1423.18 \"/>\n",
       "<path clip-path=\"url(#clip352)\" d=\"M10250.8 1423.18 L10250.8 1423.18 L10289.2 1423.18 L10289.2 1423.18 L10250.8 1423.18 L10250.8 1423.18  Z\" fill=\"#009af9\" fill-rule=\"evenodd\" fill-opacity=\"1\"/>\n",
       "<polyline clip-path=\"url(#clip352)\" style=\"stroke:#000000; stroke-linecap:round; stroke-linejoin:round; stroke-width:4; stroke-opacity:1; fill:none\" points=\"10250.8,1423.18 10250.8,1423.18 10289.2,1423.18 10250.8,1423.18 \"/>\n",
       "<path clip-path=\"url(#clip352)\" d=\"M10289.2 1423.18 L10289.2 1423.18 L10327.7 1423.18 L10327.7 1423.18 L10289.2 1423.18 L10289.2 1423.18  Z\" fill=\"#009af9\" fill-rule=\"evenodd\" fill-opacity=\"1\"/>\n",
       "<polyline clip-path=\"url(#clip352)\" style=\"stroke:#000000; stroke-linecap:round; stroke-linejoin:round; stroke-width:4; stroke-opacity:1; fill:none\" points=\"10289.2,1423.18 10289.2,1423.18 10327.7,1423.18 10289.2,1423.18 \"/>\n",
       "<path clip-path=\"url(#clip352)\" d=\"M10327.7 1423.18 L10327.7 1423.18 L10366.1 1423.18 L10366.1 1423.18 L10327.7 1423.18 L10327.7 1423.18  Z\" fill=\"#009af9\" fill-rule=\"evenodd\" fill-opacity=\"1\"/>\n",
       "<polyline clip-path=\"url(#clip352)\" style=\"stroke:#000000; stroke-linecap:round; stroke-linejoin:round; stroke-width:4; stroke-opacity:1; fill:none\" points=\"10327.7,1423.18 10327.7,1423.18 10366.1,1423.18 10327.7,1423.18 \"/>\n",
       "<path clip-path=\"url(#clip352)\" d=\"M10366.1 1423.18 L10366.1 1423.18 L10404.6 1423.18 L10404.6 1423.18 L10366.1 1423.18 L10366.1 1423.18  Z\" fill=\"#009af9\" fill-rule=\"evenodd\" fill-opacity=\"1\"/>\n",
       "<polyline clip-path=\"url(#clip352)\" style=\"stroke:#000000; stroke-linecap:round; stroke-linejoin:round; stroke-width:4; stroke-opacity:1; fill:none\" points=\"10366.1,1423.18 10366.1,1423.18 10404.6,1423.18 10366.1,1423.18 \"/>\n",
       "<path clip-path=\"url(#clip352)\" d=\"M10404.6 1423.18 L10404.6 1423.18 L10443.1 1423.18 L10443.1 1423.18 L10404.6 1423.18 L10404.6 1423.18  Z\" fill=\"#009af9\" fill-rule=\"evenodd\" fill-opacity=\"1\"/>\n",
       "<polyline clip-path=\"url(#clip352)\" style=\"stroke:#000000; stroke-linecap:round; stroke-linejoin:round; stroke-width:4; stroke-opacity:1; fill:none\" points=\"10404.6,1423.18 10404.6,1423.18 10443.1,1423.18 10404.6,1423.18 \"/>\n",
       "<path clip-path=\"url(#clip352)\" d=\"M10443.1 1423.18 L10443.1 1423.18 L10481.5 1423.18 L10481.5 1423.18 L10443.1 1423.18 L10443.1 1423.18  Z\" fill=\"#009af9\" fill-rule=\"evenodd\" fill-opacity=\"1\"/>\n",
       "<polyline clip-path=\"url(#clip352)\" style=\"stroke:#000000; stroke-linecap:round; stroke-linejoin:round; stroke-width:4; stroke-opacity:1; fill:none\" points=\"10443.1,1423.18 10443.1,1423.18 10481.5,1423.18 10443.1,1423.18 \"/>\n",
       "<path clip-path=\"url(#clip352)\" d=\"M10481.5 1423.18 L10481.5 1423.18 L10520 1423.18 L10520 1423.18 L10481.5 1423.18 L10481.5 1423.18  Z\" fill=\"#009af9\" fill-rule=\"evenodd\" fill-opacity=\"1\"/>\n",
       "<polyline clip-path=\"url(#clip352)\" style=\"stroke:#000000; stroke-linecap:round; stroke-linejoin:round; stroke-width:4; stroke-opacity:1; fill:none\" points=\"10481.5,1423.18 10481.5,1423.18 10520,1423.18 10481.5,1423.18 \"/>\n",
       "<path clip-path=\"url(#clip352)\" d=\"M10520 1423.18 L10520 1423.18 L10558.4 1423.18 L10558.4 1423.18 L10520 1423.18 L10520 1423.18  Z\" fill=\"#009af9\" fill-rule=\"evenodd\" fill-opacity=\"1\"/>\n",
       "<polyline clip-path=\"url(#clip352)\" style=\"stroke:#000000; stroke-linecap:round; stroke-linejoin:round; stroke-width:4; stroke-opacity:1; fill:none\" points=\"10520,1423.18 10520,1423.18 10558.4,1423.18 10520,1423.18 \"/>\n",
       "<path clip-path=\"url(#clip352)\" d=\"M10558.4 1423.18 L10558.4 1423.18 L10596.9 1423.18 L10596.9 1423.18 L10558.4 1423.18 L10558.4 1423.18  Z\" fill=\"#009af9\" fill-rule=\"evenodd\" fill-opacity=\"1\"/>\n",
       "<polyline clip-path=\"url(#clip352)\" style=\"stroke:#000000; stroke-linecap:round; stroke-linejoin:round; stroke-width:4; stroke-opacity:1; fill:none\" points=\"10558.4,1423.18 10558.4,1423.18 10596.9,1423.18 10558.4,1423.18 \"/>\n",
       "<path clip-path=\"url(#clip352)\" d=\"M10596.9 1423.18 L10596.9 1423.18 L10635.4 1423.18 L10635.4 1423.18 L10596.9 1423.18 L10596.9 1423.18  Z\" fill=\"#009af9\" fill-rule=\"evenodd\" fill-opacity=\"1\"/>\n",
       "<polyline clip-path=\"url(#clip352)\" style=\"stroke:#000000; stroke-linecap:round; stroke-linejoin:round; stroke-width:4; stroke-opacity:1; fill:none\" points=\"10596.9,1423.18 10596.9,1423.18 10635.4,1423.18 10596.9,1423.18 \"/>\n",
       "<path clip-path=\"url(#clip352)\" d=\"M10635.4 1423.18 L10635.4 1423.18 L10673.8 1423.18 L10673.8 1423.18 L10635.4 1423.18 L10635.4 1423.18  Z\" fill=\"#009af9\" fill-rule=\"evenodd\" fill-opacity=\"1\"/>\n",
       "<polyline clip-path=\"url(#clip352)\" style=\"stroke:#000000; stroke-linecap:round; stroke-linejoin:round; stroke-width:4; stroke-opacity:1; fill:none\" points=\"10635.4,1423.18 10635.4,1423.18 10673.8,1423.18 10635.4,1423.18 \"/>\n",
       "<path clip-path=\"url(#clip352)\" d=\"M10673.8 1423.18 L10673.8 1423.18 L10712.3 1423.18 L10712.3 1423.18 L10673.8 1423.18 L10673.8 1423.18  Z\" fill=\"#009af9\" fill-rule=\"evenodd\" fill-opacity=\"1\"/>\n",
       "<polyline clip-path=\"url(#clip352)\" style=\"stroke:#000000; stroke-linecap:round; stroke-linejoin:round; stroke-width:4; stroke-opacity:1; fill:none\" points=\"10673.8,1423.18 10673.8,1423.18 10712.3,1423.18 10673.8,1423.18 \"/>\n",
       "<path clip-path=\"url(#clip352)\" d=\"M10712.3 1423.18 L10712.3 1423.18 L10750.7 1423.18 L10750.7 1423.18 L10712.3 1423.18 L10712.3 1423.18  Z\" fill=\"#009af9\" fill-rule=\"evenodd\" fill-opacity=\"1\"/>\n",
       "<polyline clip-path=\"url(#clip352)\" style=\"stroke:#000000; stroke-linecap:round; stroke-linejoin:round; stroke-width:4; stroke-opacity:1; fill:none\" points=\"10712.3,1423.18 10712.3,1423.18 10750.7,1423.18 10712.3,1423.18 \"/>\n",
       "<path clip-path=\"url(#clip352)\" d=\"M10750.7 1423.18 L10750.7 1423.18 L10789.2 1423.18 L10789.2 1423.18 L10750.7 1423.18 L10750.7 1423.18  Z\" fill=\"#009af9\" fill-rule=\"evenodd\" fill-opacity=\"1\"/>\n",
       "<polyline clip-path=\"url(#clip352)\" style=\"stroke:#000000; stroke-linecap:round; stroke-linejoin:round; stroke-width:4; stroke-opacity:1; fill:none\" points=\"10750.7,1423.18 10750.7,1423.18 10789.2,1423.18 10750.7,1423.18 \"/>\n",
       "<path clip-path=\"url(#clip352)\" d=\"M10789.2 1423.18 L10789.2 1423.18 L10827.7 1423.18 L10827.7 1423.18 L10789.2 1423.18 L10789.2 1423.18  Z\" fill=\"#009af9\" fill-rule=\"evenodd\" fill-opacity=\"1\"/>\n",
       "<polyline clip-path=\"url(#clip352)\" style=\"stroke:#000000; stroke-linecap:round; stroke-linejoin:round; stroke-width:4; stroke-opacity:1; fill:none\" points=\"10789.2,1423.18 10789.2,1423.18 10827.7,1423.18 10789.2,1423.18 \"/>\n",
       "<path clip-path=\"url(#clip352)\" d=\"M10827.7 1423.18 L10827.7 1423.18 L10866.1 1423.18 L10866.1 1423.18 L10827.7 1423.18 L10827.7 1423.18  Z\" fill=\"#009af9\" fill-rule=\"evenodd\" fill-opacity=\"1\"/>\n",
       "<polyline clip-path=\"url(#clip352)\" style=\"stroke:#000000; stroke-linecap:round; stroke-linejoin:round; stroke-width:4; stroke-opacity:1; fill:none\" points=\"10827.7,1423.18 10827.7,1423.18 10866.1,1423.18 10827.7,1423.18 \"/>\n",
       "<path clip-path=\"url(#clip352)\" d=\"M10866.1 1423.18 L10866.1 1423.18 L10904.6 1423.18 L10904.6 1423.18 L10866.1 1423.18 L10866.1 1423.18  Z\" fill=\"#009af9\" fill-rule=\"evenodd\" fill-opacity=\"1\"/>\n",
       "<polyline clip-path=\"url(#clip352)\" style=\"stroke:#000000; stroke-linecap:round; stroke-linejoin:round; stroke-width:4; stroke-opacity:1; fill:none\" points=\"10866.1,1423.18 10866.1,1423.18 10904.6,1423.18 10866.1,1423.18 \"/>\n",
       "<path clip-path=\"url(#clip352)\" d=\"M10904.6 1423.18 L10904.6 1423.18 L10943 1423.18 L10943 1423.18 L10904.6 1423.18 L10904.6 1423.18  Z\" fill=\"#009af9\" fill-rule=\"evenodd\" fill-opacity=\"1\"/>\n",
       "<polyline clip-path=\"url(#clip352)\" style=\"stroke:#000000; stroke-linecap:round; stroke-linejoin:round; stroke-width:4; stroke-opacity:1; fill:none\" points=\"10904.6,1423.18 10904.6,1423.18 10943,1423.18 10904.6,1423.18 \"/>\n",
       "<path clip-path=\"url(#clip352)\" d=\"M10943 1423.18 L10943 1423.18 L10981.5 1423.18 L10981.5 1423.18 L10943 1423.18 L10943 1423.18  Z\" fill=\"#009af9\" fill-rule=\"evenodd\" fill-opacity=\"1\"/>\n",
       "<polyline clip-path=\"url(#clip352)\" style=\"stroke:#000000; stroke-linecap:round; stroke-linejoin:round; stroke-width:4; stroke-opacity:1; fill:none\" points=\"10943,1423.18 10943,1423.18 10981.5,1423.18 10943,1423.18 \"/>\n",
       "<path clip-path=\"url(#clip352)\" d=\"M10981.5 1423.18 L10981.5 1423.18 L11019.9 1423.18 L11019.9 1423.18 L10981.5 1423.18 L10981.5 1423.18  Z\" fill=\"#009af9\" fill-rule=\"evenodd\" fill-opacity=\"1\"/>\n",
       "<polyline clip-path=\"url(#clip352)\" style=\"stroke:#000000; stroke-linecap:round; stroke-linejoin:round; stroke-width:4; stroke-opacity:1; fill:none\" points=\"10981.5,1423.18 10981.5,1423.18 11019.9,1423.18 10981.5,1423.18 \"/>\n",
       "<path clip-path=\"url(#clip352)\" d=\"M11019.9 1423.18 L11019.9 1423.18 L11058.4 1423.18 L11058.4 1423.18 L11019.9 1423.18 L11019.9 1423.18  Z\" fill=\"#009af9\" fill-rule=\"evenodd\" fill-opacity=\"1\"/>\n",
       "<polyline clip-path=\"url(#clip352)\" style=\"stroke:#000000; stroke-linecap:round; stroke-linejoin:round; stroke-width:4; stroke-opacity:1; fill:none\" points=\"11019.9,1423.18 11019.9,1423.18 11058.4,1423.18 11019.9,1423.18 \"/>\n",
       "<path clip-path=\"url(#clip352)\" d=\"M11058.4 1423.18 L11058.4 1423.18 L11096.9 1423.18 L11096.9 1423.18 L11058.4 1423.18 L11058.4 1423.18  Z\" fill=\"#009af9\" fill-rule=\"evenodd\" fill-opacity=\"1\"/>\n",
       "<polyline clip-path=\"url(#clip352)\" style=\"stroke:#000000; stroke-linecap:round; stroke-linejoin:round; stroke-width:4; stroke-opacity:1; fill:none\" points=\"11058.4,1423.18 11058.4,1423.18 11096.9,1423.18 11058.4,1423.18 \"/>\n",
       "<path clip-path=\"url(#clip352)\" d=\"M11096.9 1423.18 L11096.9 1423.18 L11135.3 1423.18 L11135.3 1423.18 L11096.9 1423.18 L11096.9 1423.18  Z\" fill=\"#009af9\" fill-rule=\"evenodd\" fill-opacity=\"1\"/>\n",
       "<polyline clip-path=\"url(#clip352)\" style=\"stroke:#000000; stroke-linecap:round; stroke-linejoin:round; stroke-width:4; stroke-opacity:1; fill:none\" points=\"11096.9,1423.18 11096.9,1423.18 11135.3,1423.18 11096.9,1423.18 \"/>\n",
       "<path clip-path=\"url(#clip352)\" d=\"M11135.3 1423.18 L11135.3 1423.18 L11173.8 1423.18 L11173.8 1423.18 L11135.3 1423.18 L11135.3 1423.18  Z\" fill=\"#009af9\" fill-rule=\"evenodd\" fill-opacity=\"1\"/>\n",
       "<polyline clip-path=\"url(#clip352)\" style=\"stroke:#000000; stroke-linecap:round; stroke-linejoin:round; stroke-width:4; stroke-opacity:1; fill:none\" points=\"11135.3,1423.18 11135.3,1423.18 11173.8,1423.18 11135.3,1423.18 \"/>\n",
       "<path clip-path=\"url(#clip352)\" d=\"M11173.8 1423.18 L11173.8 1423.18 L11212.2 1423.18 L11212.2 1423.18 L11173.8 1423.18 L11173.8 1423.18  Z\" fill=\"#009af9\" fill-rule=\"evenodd\" fill-opacity=\"1\"/>\n",
       "<polyline clip-path=\"url(#clip352)\" style=\"stroke:#000000; stroke-linecap:round; stroke-linejoin:round; stroke-width:4; stroke-opacity:1; fill:none\" points=\"11173.8,1423.18 11173.8,1423.18 11212.2,1423.18 11173.8,1423.18 \"/>\n",
       "<path clip-path=\"url(#clip352)\" d=\"M11212.2 1423.18 L11212.2 1423.18 L11250.7 1423.18 L11250.7 1423.18 L11212.2 1423.18 L11212.2 1423.18  Z\" fill=\"#009af9\" fill-rule=\"evenodd\" fill-opacity=\"1\"/>\n",
       "<polyline clip-path=\"url(#clip352)\" style=\"stroke:#000000; stroke-linecap:round; stroke-linejoin:round; stroke-width:4; stroke-opacity:1; fill:none\" points=\"11212.2,1423.18 11212.2,1423.18 11250.7,1423.18 11212.2,1423.18 \"/>\n",
       "<path clip-path=\"url(#clip352)\" d=\"M11250.7 1423.18 L11250.7 1423.18 L11289.2 1423.18 L11289.2 1423.18 L11250.7 1423.18 L11250.7 1423.18  Z\" fill=\"#009af9\" fill-rule=\"evenodd\" fill-opacity=\"1\"/>\n",
       "<polyline clip-path=\"url(#clip352)\" style=\"stroke:#000000; stroke-linecap:round; stroke-linejoin:round; stroke-width:4; stroke-opacity:1; fill:none\" points=\"11250.7,1423.18 11250.7,1423.18 11289.2,1423.18 11250.7,1423.18 \"/>\n",
       "<path clip-path=\"url(#clip352)\" d=\"M11289.2 1423.18 L11289.2 1423.18 L11327.6 1423.18 L11327.6 1423.18 L11289.2 1423.18 L11289.2 1423.18  Z\" fill=\"#009af9\" fill-rule=\"evenodd\" fill-opacity=\"1\"/>\n",
       "<polyline clip-path=\"url(#clip352)\" style=\"stroke:#000000; stroke-linecap:round; stroke-linejoin:round; stroke-width:4; stroke-opacity:1; fill:none\" points=\"11289.2,1423.18 11289.2,1423.18 11327.6,1423.18 11289.2,1423.18 \"/>\n",
       "<path clip-path=\"url(#clip352)\" d=\"M11327.6 1423.18 L11327.6 1423.18 L11366.1 1423.18 L11366.1 1423.18 L11327.6 1423.18 L11327.6 1423.18  Z\" fill=\"#009af9\" fill-rule=\"evenodd\" fill-opacity=\"1\"/>\n",
       "<polyline clip-path=\"url(#clip352)\" style=\"stroke:#000000; stroke-linecap:round; stroke-linejoin:round; stroke-width:4; stroke-opacity:1; fill:none\" points=\"11327.6,1423.18 11327.6,1423.18 11366.1,1423.18 11327.6,1423.18 \"/>\n",
       "<path clip-path=\"url(#clip352)\" d=\"M11366.1 1423.18 L11366.1 1423.18 L11404.5 1423.18 L11404.5 1423.18 L11366.1 1423.18 L11366.1 1423.18  Z\" fill=\"#009af9\" fill-rule=\"evenodd\" fill-opacity=\"1\"/>\n",
       "<polyline clip-path=\"url(#clip352)\" style=\"stroke:#000000; stroke-linecap:round; stroke-linejoin:round; stroke-width:4; stroke-opacity:1; fill:none\" points=\"11366.1,1423.18 11366.1,1423.18 11404.5,1423.18 11366.1,1423.18 \"/>\n",
       "<path clip-path=\"url(#clip352)\" d=\"M11404.5 1423.18 L11404.5 1423.18 L11443 1423.18 L11443 1423.18 L11404.5 1423.18 L11404.5 1423.18  Z\" fill=\"#009af9\" fill-rule=\"evenodd\" fill-opacity=\"1\"/>\n",
       "<polyline clip-path=\"url(#clip352)\" style=\"stroke:#000000; stroke-linecap:round; stroke-linejoin:round; stroke-width:4; stroke-opacity:1; fill:none\" points=\"11404.5,1423.18 11404.5,1423.18 11443,1423.18 11404.5,1423.18 \"/>\n",
       "<path clip-path=\"url(#clip352)\" d=\"M11443 1423.18 L11443 1423.18 L11481.5 1423.18 L11481.5 1423.18 L11443 1423.18 L11443 1423.18  Z\" fill=\"#009af9\" fill-rule=\"evenodd\" fill-opacity=\"1\"/>\n",
       "<polyline clip-path=\"url(#clip352)\" style=\"stroke:#000000; stroke-linecap:round; stroke-linejoin:round; stroke-width:4; stroke-opacity:1; fill:none\" points=\"11443,1423.18 11443,1423.18 11481.5,1423.18 11443,1423.18 \"/>\n",
       "<path clip-path=\"url(#clip352)\" d=\"M11481.5 1423.18 L11481.5 1423.18 L11519.9 1423.18 L11519.9 1423.18 L11481.5 1423.18 L11481.5 1423.18  Z\" fill=\"#009af9\" fill-rule=\"evenodd\" fill-opacity=\"1\"/>\n",
       "<polyline clip-path=\"url(#clip352)\" style=\"stroke:#000000; stroke-linecap:round; stroke-linejoin:round; stroke-width:4; stroke-opacity:1; fill:none\" points=\"11481.5,1423.18 11481.5,1423.18 11519.9,1423.18 11481.5,1423.18 \"/>\n",
       "<path clip-path=\"url(#clip352)\" d=\"M11519.9 1423.18 L11519.9 1423.18 L11558.4 1423.18 L11558.4 1423.18 L11519.9 1423.18 L11519.9 1423.18  Z\" fill=\"#009af9\" fill-rule=\"evenodd\" fill-opacity=\"1\"/>\n",
       "<polyline clip-path=\"url(#clip352)\" style=\"stroke:#000000; stroke-linecap:round; stroke-linejoin:round; stroke-width:4; stroke-opacity:1; fill:none\" points=\"11519.9,1423.18 11519.9,1423.18 11558.4,1423.18 11519.9,1423.18 \"/>\n",
       "<path clip-path=\"url(#clip352)\" d=\"M11558.4 1423.18 L11558.4 1423.18 L11596.8 1423.18 L11596.8 1423.18 L11558.4 1423.18 L11558.4 1423.18  Z\" fill=\"#009af9\" fill-rule=\"evenodd\" fill-opacity=\"1\"/>\n",
       "<polyline clip-path=\"url(#clip352)\" style=\"stroke:#000000; stroke-linecap:round; stroke-linejoin:round; stroke-width:4; stroke-opacity:1; fill:none\" points=\"11558.4,1423.18 11558.4,1423.18 11596.8,1423.18 11558.4,1423.18 \"/>\n",
       "<path clip-path=\"url(#clip352)\" d=\"M11596.8 1423.18 L11596.8 1423.18 L11635.3 1423.18 L11635.3 1423.18 L11596.8 1423.18 L11596.8 1423.18  Z\" fill=\"#009af9\" fill-rule=\"evenodd\" fill-opacity=\"1\"/>\n",
       "<polyline clip-path=\"url(#clip352)\" style=\"stroke:#000000; stroke-linecap:round; stroke-linejoin:round; stroke-width:4; stroke-opacity:1; fill:none\" points=\"11596.8,1423.18 11596.8,1423.18 11635.3,1423.18 11596.8,1423.18 \"/>\n",
       "<path clip-path=\"url(#clip352)\" d=\"M11635.3 1423.18 L11635.3 1423.18 L11673.8 1423.18 L11673.8 1423.18 L11635.3 1423.18 L11635.3 1423.18  Z\" fill=\"#009af9\" fill-rule=\"evenodd\" fill-opacity=\"1\"/>\n",
       "<polyline clip-path=\"url(#clip352)\" style=\"stroke:#000000; stroke-linecap:round; stroke-linejoin:round; stroke-width:4; stroke-opacity:1; fill:none\" points=\"11635.3,1423.18 11635.3,1423.18 11673.8,1423.18 11635.3,1423.18 \"/>\n",
       "<path clip-path=\"url(#clip352)\" d=\"M11673.8 1423.18 L11673.8 1423.18 L11712.2 1423.18 L11712.2 1423.18 L11673.8 1423.18 L11673.8 1423.18  Z\" fill=\"#009af9\" fill-rule=\"evenodd\" fill-opacity=\"1\"/>\n",
       "<polyline clip-path=\"url(#clip352)\" style=\"stroke:#000000; stroke-linecap:round; stroke-linejoin:round; stroke-width:4; stroke-opacity:1; fill:none\" points=\"11673.8,1423.18 11673.8,1423.18 11712.2,1423.18 11673.8,1423.18 \"/>\n",
       "<path clip-path=\"url(#clip352)\" d=\"M11712.2 1423.18 L11712.2 1423.18 L11750.7 1423.18 L11750.7 1423.18 L11712.2 1423.18 L11712.2 1423.18  Z\" fill=\"#009af9\" fill-rule=\"evenodd\" fill-opacity=\"1\"/>\n",
       "<polyline clip-path=\"url(#clip352)\" style=\"stroke:#000000; stroke-linecap:round; stroke-linejoin:round; stroke-width:4; stroke-opacity:1; fill:none\" points=\"11712.2,1423.18 11712.2,1423.18 11750.7,1423.18 11712.2,1423.18 \"/>\n",
       "<path clip-path=\"url(#clip352)\" d=\"M11750.7 1423.18 L11750.7 1423.18 L11789.1 1423.18 L11789.1 1423.18 L11750.7 1423.18 L11750.7 1423.18  Z\" fill=\"#009af9\" fill-rule=\"evenodd\" fill-opacity=\"1\"/>\n",
       "<polyline clip-path=\"url(#clip352)\" style=\"stroke:#000000; stroke-linecap:round; stroke-linejoin:round; stroke-width:4; stroke-opacity:1; fill:none\" points=\"11750.7,1423.18 11750.7,1423.18 11789.1,1423.18 11750.7,1423.18 \"/>\n",
       "<path clip-path=\"url(#clip352)\" d=\"M11789.1 1423.18 L11789.1 1423.18 L11827.6 1423.18 L11827.6 1423.18 L11789.1 1423.18 L11789.1 1423.18  Z\" fill=\"#009af9\" fill-rule=\"evenodd\" fill-opacity=\"1\"/>\n",
       "<polyline clip-path=\"url(#clip352)\" style=\"stroke:#000000; stroke-linecap:round; stroke-linejoin:round; stroke-width:4; stroke-opacity:1; fill:none\" points=\"11789.1,1423.18 11789.1,1423.18 11827.6,1423.18 11789.1,1423.18 \"/>\n",
       "<path clip-path=\"url(#clip352)\" d=\"M11827.6 1423.18 L11827.6 1423.18 L11866 1423.18 L11866 1423.18 L11827.6 1423.18 L11827.6 1423.18  Z\" fill=\"#009af9\" fill-rule=\"evenodd\" fill-opacity=\"1\"/>\n",
       "<polyline clip-path=\"url(#clip352)\" style=\"stroke:#000000; stroke-linecap:round; stroke-linejoin:round; stroke-width:4; stroke-opacity:1; fill:none\" points=\"11827.6,1423.18 11827.6,1423.18 11866,1423.18 11827.6,1423.18 \"/>\n",
       "<path clip-path=\"url(#clip352)\" d=\"M11866 1423.18 L11866 1423.18 L11904.5 1423.18 L11904.5 1423.18 L11866 1423.18 L11866 1423.18  Z\" fill=\"#009af9\" fill-rule=\"evenodd\" fill-opacity=\"1\"/>\n",
       "<polyline clip-path=\"url(#clip352)\" style=\"stroke:#000000; stroke-linecap:round; stroke-linejoin:round; stroke-width:4; stroke-opacity:1; fill:none\" points=\"11866,1423.18 11866,1423.18 11904.5,1423.18 11866,1423.18 \"/>\n",
       "<path clip-path=\"url(#clip352)\" d=\"M11904.5 1423.18 L11904.5 1423.18 L11943 1423.18 L11943 1423.18 L11904.5 1423.18 L11904.5 1423.18  Z\" fill=\"#009af9\" fill-rule=\"evenodd\" fill-opacity=\"1\"/>\n",
       "<polyline clip-path=\"url(#clip352)\" style=\"stroke:#000000; stroke-linecap:round; stroke-linejoin:round; stroke-width:4; stroke-opacity:1; fill:none\" points=\"11904.5,1423.18 11904.5,1423.18 11943,1423.18 11904.5,1423.18 \"/>\n",
       "<path clip-path=\"url(#clip352)\" d=\"M11943 1423.18 L11943 1423.18 L11981.4 1423.18 L11981.4 1423.18 L11943 1423.18 L11943 1423.18  Z\" fill=\"#009af9\" fill-rule=\"evenodd\" fill-opacity=\"1\"/>\n",
       "<polyline clip-path=\"url(#clip352)\" style=\"stroke:#000000; stroke-linecap:round; stroke-linejoin:round; stroke-width:4; stroke-opacity:1; fill:none\" points=\"11943,1423.18 11943,1423.18 11981.4,1423.18 11943,1423.18 \"/>\n",
       "<path clip-path=\"url(#clip352)\" d=\"M11981.4 1423.18 L11981.4 1423.18 L12019.9 1423.18 L12019.9 1423.18 L11981.4 1423.18 L11981.4 1423.18  Z\" fill=\"#009af9\" fill-rule=\"evenodd\" fill-opacity=\"1\"/>\n",
       "<polyline clip-path=\"url(#clip352)\" style=\"stroke:#000000; stroke-linecap:round; stroke-linejoin:round; stroke-width:4; stroke-opacity:1; fill:none\" points=\"11981.4,1423.18 11981.4,1423.18 12019.9,1423.18 11981.4,1423.18 \"/>\n",
       "<path clip-path=\"url(#clip352)\" d=\"M12019.9 1423.18 L12019.9 1423.18 L12058.3 1423.18 L12058.3 1423.18 L12019.9 1423.18 L12019.9 1423.18  Z\" fill=\"#009af9\" fill-rule=\"evenodd\" fill-opacity=\"1\"/>\n",
       "<polyline clip-path=\"url(#clip352)\" style=\"stroke:#000000; stroke-linecap:round; stroke-linejoin:round; stroke-width:4; stroke-opacity:1; fill:none\" points=\"12019.9,1423.18 12019.9,1423.18 12058.3,1423.18 12019.9,1423.18 \"/>\n",
       "<path clip-path=\"url(#clip352)\" d=\"M12058.3 1423.18 L12058.3 1423.18 L12096.8 1423.18 L12096.8 1423.18 L12058.3 1423.18 L12058.3 1423.18  Z\" fill=\"#009af9\" fill-rule=\"evenodd\" fill-opacity=\"1\"/>\n",
       "<polyline clip-path=\"url(#clip352)\" style=\"stroke:#000000; stroke-linecap:round; stroke-linejoin:round; stroke-width:4; stroke-opacity:1; fill:none\" points=\"12058.3,1423.18 12058.3,1423.18 12096.8,1423.18 12058.3,1423.18 \"/>\n",
       "<path clip-path=\"url(#clip352)\" d=\"M12096.8 1423.18 L12096.8 1423.18 L12135.3 1423.18 L12135.3 1423.18 L12096.8 1423.18 L12096.8 1423.18  Z\" fill=\"#009af9\" fill-rule=\"evenodd\" fill-opacity=\"1\"/>\n",
       "<polyline clip-path=\"url(#clip352)\" style=\"stroke:#000000; stroke-linecap:round; stroke-linejoin:round; stroke-width:4; stroke-opacity:1; fill:none\" points=\"12096.8,1423.18 12096.8,1423.18 12135.3,1423.18 12096.8,1423.18 \"/>\n",
       "<path clip-path=\"url(#clip352)\" d=\"M12135.3 1423.18 L12135.3 1423.18 L12173.7 1423.18 L12173.7 1423.18 L12135.3 1423.18 L12135.3 1423.18  Z\" fill=\"#009af9\" fill-rule=\"evenodd\" fill-opacity=\"1\"/>\n",
       "<polyline clip-path=\"url(#clip352)\" style=\"stroke:#000000; stroke-linecap:round; stroke-linejoin:round; stroke-width:4; stroke-opacity:1; fill:none\" points=\"12135.3,1423.18 12135.3,1423.18 12173.7,1423.18 12135.3,1423.18 \"/>\n",
       "<path clip-path=\"url(#clip352)\" d=\"M12173.7 1423.18 L12173.7 1423.18 L12212.2 1423.18 L12212.2 1423.18 L12173.7 1423.18 L12173.7 1423.18  Z\" fill=\"#009af9\" fill-rule=\"evenodd\" fill-opacity=\"1\"/>\n",
       "<polyline clip-path=\"url(#clip352)\" style=\"stroke:#000000; stroke-linecap:round; stroke-linejoin:round; stroke-width:4; stroke-opacity:1; fill:none\" points=\"12173.7,1423.18 12173.7,1423.18 12212.2,1423.18 12173.7,1423.18 \"/>\n",
       "<path clip-path=\"url(#clip352)\" d=\"M12212.2 1423.18 L12212.2 1423.18 L12250.6 1423.18 L12250.6 1423.18 L12212.2 1423.18 L12212.2 1423.18  Z\" fill=\"#009af9\" fill-rule=\"evenodd\" fill-opacity=\"1\"/>\n",
       "<polyline clip-path=\"url(#clip352)\" style=\"stroke:#000000; stroke-linecap:round; stroke-linejoin:round; stroke-width:4; stroke-opacity:1; fill:none\" points=\"12212.2,1423.18 12212.2,1423.18 12250.6,1423.18 12212.2,1423.18 \"/>\n",
       "<path clip-path=\"url(#clip352)\" d=\"M12250.6 1423.18 L12250.6 1423.18 L12289.1 1423.18 L12289.1 1423.18 L12250.6 1423.18 L12250.6 1423.18  Z\" fill=\"#009af9\" fill-rule=\"evenodd\" fill-opacity=\"1\"/>\n",
       "<polyline clip-path=\"url(#clip352)\" style=\"stroke:#000000; stroke-linecap:round; stroke-linejoin:round; stroke-width:4; stroke-opacity:1; fill:none\" points=\"12250.6,1423.18 12250.6,1423.18 12289.1,1423.18 12250.6,1423.18 \"/>\n",
       "<path clip-path=\"url(#clip352)\" d=\"M12289.1 1423.18 L12289.1 1423.18 L12327.6 1423.18 L12327.6 1423.18 L12289.1 1423.18 L12289.1 1423.18  Z\" fill=\"#009af9\" fill-rule=\"evenodd\" fill-opacity=\"1\"/>\n",
       "<polyline clip-path=\"url(#clip352)\" style=\"stroke:#000000; stroke-linecap:round; stroke-linejoin:round; stroke-width:4; stroke-opacity:1; fill:none\" points=\"12289.1,1423.18 12289.1,1423.18 12327.6,1423.18 12289.1,1423.18 \"/>\n",
       "<path clip-path=\"url(#clip352)\" d=\"M12327.6 1423.18 L12327.6 1423.18 L12366 1423.18 L12366 1423.18 L12327.6 1423.18 L12327.6 1423.18  Z\" fill=\"#009af9\" fill-rule=\"evenodd\" fill-opacity=\"1\"/>\n",
       "<polyline clip-path=\"url(#clip352)\" style=\"stroke:#000000; stroke-linecap:round; stroke-linejoin:round; stroke-width:4; stroke-opacity:1; fill:none\" points=\"12327.6,1423.18 12327.6,1423.18 12366,1423.18 12327.6,1423.18 \"/>\n",
       "<path clip-path=\"url(#clip352)\" d=\"M12366 1423.18 L12366 1423.18 L12404.5 1423.18 L12404.5 1423.18 L12366 1423.18 L12366 1423.18  Z\" fill=\"#009af9\" fill-rule=\"evenodd\" fill-opacity=\"1\"/>\n",
       "<polyline clip-path=\"url(#clip352)\" style=\"stroke:#000000; stroke-linecap:round; stroke-linejoin:round; stroke-width:4; stroke-opacity:1; fill:none\" points=\"12366,1423.18 12366,1423.18 12404.5,1423.18 12366,1423.18 \"/>\n",
       "<path clip-path=\"url(#clip352)\" d=\"M12404.5 1423.18 L12404.5 1423.18 L12442.9 1423.18 L12442.9 1423.18 L12404.5 1423.18 L12404.5 1423.18  Z\" fill=\"#009af9\" fill-rule=\"evenodd\" fill-opacity=\"1\"/>\n",
       "<polyline clip-path=\"url(#clip352)\" style=\"stroke:#000000; stroke-linecap:round; stroke-linejoin:round; stroke-width:4; stroke-opacity:1; fill:none\" points=\"12404.5,1423.18 12404.5,1423.18 12442.9,1423.18 12404.5,1423.18 \"/>\n",
       "<path clip-path=\"url(#clip352)\" d=\"M12442.9 1423.18 L12442.9 1423.18 L12481.4 1423.18 L12481.4 1423.18 L12442.9 1423.18 L12442.9 1423.18  Z\" fill=\"#009af9\" fill-rule=\"evenodd\" fill-opacity=\"1\"/>\n",
       "<polyline clip-path=\"url(#clip352)\" style=\"stroke:#000000; stroke-linecap:round; stroke-linejoin:round; stroke-width:4; stroke-opacity:1; fill:none\" points=\"12442.9,1423.18 12442.9,1423.18 12481.4,1423.18 12442.9,1423.18 \"/>\n",
       "<path clip-path=\"url(#clip352)\" d=\"M12481.4 1423.18 L12481.4 1423.18 L12519.8 1423.18 L12519.8 1423.18 L12481.4 1423.18 L12481.4 1423.18  Z\" fill=\"#009af9\" fill-rule=\"evenodd\" fill-opacity=\"1\"/>\n",
       "<polyline clip-path=\"url(#clip352)\" style=\"stroke:#000000; stroke-linecap:round; stroke-linejoin:round; stroke-width:4; stroke-opacity:1; fill:none\" points=\"12481.4,1423.18 12481.4,1423.18 12519.8,1423.18 12481.4,1423.18 \"/>\n",
       "<path clip-path=\"url(#clip352)\" d=\"M12519.8 1423.18 L12519.8 1423.18 L12558.3 1423.18 L12558.3 1423.18 L12519.8 1423.18 L12519.8 1423.18  Z\" fill=\"#009af9\" fill-rule=\"evenodd\" fill-opacity=\"1\"/>\n",
       "<polyline clip-path=\"url(#clip352)\" style=\"stroke:#000000; stroke-linecap:round; stroke-linejoin:round; stroke-width:4; stroke-opacity:1; fill:none\" points=\"12519.8,1423.18 12519.8,1423.18 12558.3,1423.18 12519.8,1423.18 \"/>\n",
       "<path clip-path=\"url(#clip352)\" d=\"M12558.3 1423.18 L12558.3 1423.18 L12596.8 1423.18 L12596.8 1423.18 L12558.3 1423.18 L12558.3 1423.18  Z\" fill=\"#009af9\" fill-rule=\"evenodd\" fill-opacity=\"1\"/>\n",
       "<polyline clip-path=\"url(#clip352)\" style=\"stroke:#000000; stroke-linecap:round; stroke-linejoin:round; stroke-width:4; stroke-opacity:1; fill:none\" points=\"12558.3,1423.18 12558.3,1423.18 12596.8,1423.18 12558.3,1423.18 \"/>\n",
       "<path clip-path=\"url(#clip352)\" d=\"M12596.8 1423.18 L12596.8 1423.18 L12635.2 1423.18 L12635.2 1423.18 L12596.8 1423.18 L12596.8 1423.18  Z\" fill=\"#009af9\" fill-rule=\"evenodd\" fill-opacity=\"1\"/>\n",
       "<polyline clip-path=\"url(#clip352)\" style=\"stroke:#000000; stroke-linecap:round; stroke-linejoin:round; stroke-width:4; stroke-opacity:1; fill:none\" points=\"12596.8,1423.18 12596.8,1423.18 12635.2,1423.18 12596.8,1423.18 \"/>\n",
       "<path clip-path=\"url(#clip352)\" d=\"M12635.2 1423.18 L12635.2 1423.18 L12673.7 1423.18 L12673.7 1423.18 L12635.2 1423.18 L12635.2 1423.18  Z\" fill=\"#009af9\" fill-rule=\"evenodd\" fill-opacity=\"1\"/>\n",
       "<polyline clip-path=\"url(#clip352)\" style=\"stroke:#000000; stroke-linecap:round; stroke-linejoin:round; stroke-width:4; stroke-opacity:1; fill:none\" points=\"12635.2,1423.18 12635.2,1423.18 12673.7,1423.18 12635.2,1423.18 \"/>\n",
       "<path clip-path=\"url(#clip352)\" d=\"M12673.7 1423.18 L12673.7 1423.18 L12712.1 1423.18 L12712.1 1423.18 L12673.7 1423.18 L12673.7 1423.18  Z\" fill=\"#009af9\" fill-rule=\"evenodd\" fill-opacity=\"1\"/>\n",
       "<polyline clip-path=\"url(#clip352)\" style=\"stroke:#000000; stroke-linecap:round; stroke-linejoin:round; stroke-width:4; stroke-opacity:1; fill:none\" points=\"12673.7,1423.18 12673.7,1423.18 12712.1,1423.18 12673.7,1423.18 \"/>\n",
       "<path clip-path=\"url(#clip352)\" d=\"M12712.1 1423.18 L12712.1 1423.18 L12750.6 1423.18 L12750.6 1423.18 L12712.1 1423.18 L12712.1 1423.18  Z\" fill=\"#009af9\" fill-rule=\"evenodd\" fill-opacity=\"1\"/>\n",
       "<polyline clip-path=\"url(#clip352)\" style=\"stroke:#000000; stroke-linecap:round; stroke-linejoin:round; stroke-width:4; stroke-opacity:1; fill:none\" points=\"12712.1,1423.18 12712.1,1423.18 12750.6,1423.18 12712.1,1423.18 \"/>\n",
       "<path clip-path=\"url(#clip352)\" d=\"M12750.6 1423.18 L12750.6 1423.18 L12789.1 1423.18 L12789.1 1423.18 L12750.6 1423.18 L12750.6 1423.18  Z\" fill=\"#009af9\" fill-rule=\"evenodd\" fill-opacity=\"1\"/>\n",
       "<polyline clip-path=\"url(#clip352)\" style=\"stroke:#000000; stroke-linecap:round; stroke-linejoin:round; stroke-width:4; stroke-opacity:1; fill:none\" points=\"12750.6,1423.18 12750.6,1423.18 12789.1,1423.18 12750.6,1423.18 \"/>\n",
       "<path clip-path=\"url(#clip352)\" d=\"M12789.1 1423.18 L12789.1 1423.18 L12827.5 1423.18 L12827.5 1423.18 L12789.1 1423.18 L12789.1 1423.18  Z\" fill=\"#009af9\" fill-rule=\"evenodd\" fill-opacity=\"1\"/>\n",
       "<polyline clip-path=\"url(#clip352)\" style=\"stroke:#000000; stroke-linecap:round; stroke-linejoin:round; stroke-width:4; stroke-opacity:1; fill:none\" points=\"12789.1,1423.18 12789.1,1423.18 12827.5,1423.18 12789.1,1423.18 \"/>\n",
       "<path clip-path=\"url(#clip352)\" d=\"M12827.5 1423.18 L12827.5 1423.18 L12866 1423.18 L12866 1423.18 L12827.5 1423.18 L12827.5 1423.18  Z\" fill=\"#009af9\" fill-rule=\"evenodd\" fill-opacity=\"1\"/>\n",
       "<polyline clip-path=\"url(#clip352)\" style=\"stroke:#000000; stroke-linecap:round; stroke-linejoin:round; stroke-width:4; stroke-opacity:1; fill:none\" points=\"12827.5,1423.18 12827.5,1423.18 12866,1423.18 12827.5,1423.18 \"/>\n",
       "<path clip-path=\"url(#clip352)\" d=\"M12866 1423.18 L12866 1423.18 L12904.4 1423.18 L12904.4 1423.18 L12866 1423.18 L12866 1423.18  Z\" fill=\"#009af9\" fill-rule=\"evenodd\" fill-opacity=\"1\"/>\n",
       "<polyline clip-path=\"url(#clip352)\" style=\"stroke:#000000; stroke-linecap:round; stroke-linejoin:round; stroke-width:4; stroke-opacity:1; fill:none\" points=\"12866,1423.18 12866,1423.18 12904.4,1423.18 12866,1423.18 \"/>\n",
       "<path clip-path=\"url(#clip352)\" d=\"M12904.4 1423.18 L12904.4 1423.18 L12942.9 1423.18 L12942.9 1423.18 L12904.4 1423.18 L12904.4 1423.18  Z\" fill=\"#009af9\" fill-rule=\"evenodd\" fill-opacity=\"1\"/>\n",
       "<polyline clip-path=\"url(#clip352)\" style=\"stroke:#000000; stroke-linecap:round; stroke-linejoin:round; stroke-width:4; stroke-opacity:1; fill:none\" points=\"12904.4,1423.18 12904.4,1423.18 12942.9,1423.18 12904.4,1423.18 \"/>\n",
       "<path clip-path=\"url(#clip352)\" d=\"M12942.9 1423.18 L12942.9 1423.18 L12981.4 1423.18 L12981.4 1423.18 L12942.9 1423.18 L12942.9 1423.18  Z\" fill=\"#009af9\" fill-rule=\"evenodd\" fill-opacity=\"1\"/>\n",
       "<polyline clip-path=\"url(#clip352)\" style=\"stroke:#000000; stroke-linecap:round; stroke-linejoin:round; stroke-width:4; stroke-opacity:1; fill:none\" points=\"12942.9,1423.18 12942.9,1423.18 12981.4,1423.18 12942.9,1423.18 \"/>\n",
       "<path clip-path=\"url(#clip352)\" d=\"M12981.4 1423.18 L12981.4 1423.18 L13019.8 1423.18 L13019.8 1423.18 L12981.4 1423.18 L12981.4 1423.18  Z\" fill=\"#009af9\" fill-rule=\"evenodd\" fill-opacity=\"1\"/>\n",
       "<polyline clip-path=\"url(#clip352)\" style=\"stroke:#000000; stroke-linecap:round; stroke-linejoin:round; stroke-width:4; stroke-opacity:1; fill:none\" points=\"12981.4,1423.18 12981.4,1423.18 13019.8,1423.18 12981.4,1423.18 \"/>\n",
       "<path clip-path=\"url(#clip352)\" d=\"M13019.8 1423.18 L13019.8 1423.18 L13058.3 1423.18 L13058.3 1423.18 L13019.8 1423.18 L13019.8 1423.18  Z\" fill=\"#009af9\" fill-rule=\"evenodd\" fill-opacity=\"1\"/>\n",
       "<polyline clip-path=\"url(#clip352)\" style=\"stroke:#000000; stroke-linecap:round; stroke-linejoin:round; stroke-width:4; stroke-opacity:1; fill:none\" points=\"13019.8,1423.18 13019.8,1423.18 13058.3,1423.18 13019.8,1423.18 \"/>\n",
       "<path clip-path=\"url(#clip352)\" d=\"M13058.3 1423.18 L13058.3 1423.18 L13096.7 1423.18 L13096.7 1423.18 L13058.3 1423.18 L13058.3 1423.18  Z\" fill=\"#009af9\" fill-rule=\"evenodd\" fill-opacity=\"1\"/>\n",
       "<polyline clip-path=\"url(#clip352)\" style=\"stroke:#000000; stroke-linecap:round; stroke-linejoin:round; stroke-width:4; stroke-opacity:1; fill:none\" points=\"13058.3,1423.18 13058.3,1423.18 13096.7,1423.18 13058.3,1423.18 \"/>\n",
       "<path clip-path=\"url(#clip352)\" d=\"M13096.7 1423.18 L13096.7 1423.18 L13135.2 1423.18 L13135.2 1423.18 L13096.7 1423.18 L13096.7 1423.18  Z\" fill=\"#009af9\" fill-rule=\"evenodd\" fill-opacity=\"1\"/>\n",
       "<polyline clip-path=\"url(#clip352)\" style=\"stroke:#000000; stroke-linecap:round; stroke-linejoin:round; stroke-width:4; stroke-opacity:1; fill:none\" points=\"13096.7,1423.18 13096.7,1423.18 13135.2,1423.18 13096.7,1423.18 \"/>\n",
       "<path clip-path=\"url(#clip352)\" d=\"M13135.2 1423.18 L13135.2 1423.18 L13173.6 1423.18 L13173.6 1423.18 L13135.2 1423.18 L13135.2 1423.18  Z\" fill=\"#009af9\" fill-rule=\"evenodd\" fill-opacity=\"1\"/>\n",
       "<polyline clip-path=\"url(#clip352)\" style=\"stroke:#000000; stroke-linecap:round; stroke-linejoin:round; stroke-width:4; stroke-opacity:1; fill:none\" points=\"13135.2,1423.18 13135.2,1423.18 13173.6,1423.18 13135.2,1423.18 \"/>\n",
       "<path clip-path=\"url(#clip352)\" d=\"M13173.6 1423.18 L13173.6 1423.18 L13212.1 1423.18 L13212.1 1423.18 L13173.6 1423.18 L13173.6 1423.18  Z\" fill=\"#009af9\" fill-rule=\"evenodd\" fill-opacity=\"1\"/>\n",
       "<polyline clip-path=\"url(#clip352)\" style=\"stroke:#000000; stroke-linecap:round; stroke-linejoin:round; stroke-width:4; stroke-opacity:1; fill:none\" points=\"13173.6,1423.18 13173.6,1423.18 13212.1,1423.18 13173.6,1423.18 \"/>\n",
       "<path clip-path=\"url(#clip352)\" d=\"M13212.1 1423.18 L13212.1 1423.18 L13250.6 1423.18 L13250.6 1423.18 L13212.1 1423.18 L13212.1 1423.18  Z\" fill=\"#009af9\" fill-rule=\"evenodd\" fill-opacity=\"1\"/>\n",
       "<polyline clip-path=\"url(#clip352)\" style=\"stroke:#000000; stroke-linecap:round; stroke-linejoin:round; stroke-width:4; stroke-opacity:1; fill:none\" points=\"13212.1,1423.18 13212.1,1423.18 13250.6,1423.18 13212.1,1423.18 \"/>\n",
       "<path clip-path=\"url(#clip352)\" d=\"M13250.6 1423.18 L13250.6 1423.18 L13289 1423.18 L13289 1423.18 L13250.6 1423.18 L13250.6 1423.18  Z\" fill=\"#009af9\" fill-rule=\"evenodd\" fill-opacity=\"1\"/>\n",
       "<polyline clip-path=\"url(#clip352)\" style=\"stroke:#000000; stroke-linecap:round; stroke-linejoin:round; stroke-width:4; stroke-opacity:1; fill:none\" points=\"13250.6,1423.18 13250.6,1423.18 13289,1423.18 13250.6,1423.18 \"/>\n",
       "<path clip-path=\"url(#clip352)\" d=\"M13289 1423.18 L13289 1423.18 L13327.5 1423.18 L13327.5 1423.18 L13289 1423.18 L13289 1423.18  Z\" fill=\"#009af9\" fill-rule=\"evenodd\" fill-opacity=\"1\"/>\n",
       "<polyline clip-path=\"url(#clip352)\" style=\"stroke:#000000; stroke-linecap:round; stroke-linejoin:round; stroke-width:4; stroke-opacity:1; fill:none\" points=\"13289,1423.18 13289,1423.18 13327.5,1423.18 13289,1423.18 \"/>\n",
       "<path clip-path=\"url(#clip352)\" d=\"M13327.5 1423.18 L13327.5 1423.18 L13365.9 1423.18 L13365.9 1423.18 L13327.5 1423.18 L13327.5 1423.18  Z\" fill=\"#009af9\" fill-rule=\"evenodd\" fill-opacity=\"1\"/>\n",
       "<polyline clip-path=\"url(#clip352)\" style=\"stroke:#000000; stroke-linecap:round; stroke-linejoin:round; stroke-width:4; stroke-opacity:1; fill:none\" points=\"13327.5,1423.18 13327.5,1423.18 13365.9,1423.18 13327.5,1423.18 \"/>\n",
       "<path clip-path=\"url(#clip352)\" d=\"M13365.9 1423.18 L13365.9 1423.18 L13404.4 1423.18 L13404.4 1423.18 L13365.9 1423.18 L13365.9 1423.18  Z\" fill=\"#009af9\" fill-rule=\"evenodd\" fill-opacity=\"1\"/>\n",
       "<polyline clip-path=\"url(#clip352)\" style=\"stroke:#000000; stroke-linecap:round; stroke-linejoin:round; stroke-width:4; stroke-opacity:1; fill:none\" points=\"13365.9,1423.18 13365.9,1423.18 13404.4,1423.18 13365.9,1423.18 \"/>\n",
       "<path clip-path=\"url(#clip352)\" d=\"M13404.4 1423.18 L13404.4 1423.18 L13442.9 1423.18 L13442.9 1423.18 L13404.4 1423.18 L13404.4 1423.18  Z\" fill=\"#009af9\" fill-rule=\"evenodd\" fill-opacity=\"1\"/>\n",
       "<polyline clip-path=\"url(#clip352)\" style=\"stroke:#000000; stroke-linecap:round; stroke-linejoin:round; stroke-width:4; stroke-opacity:1; fill:none\" points=\"13404.4,1423.18 13404.4,1423.18 13442.9,1423.18 13404.4,1423.18 \"/>\n",
       "<path clip-path=\"url(#clip352)\" d=\"M13442.9 1423.18 L13442.9 1423.18 L13481.3 1423.18 L13481.3 1423.18 L13442.9 1423.18 L13442.9 1423.18  Z\" fill=\"#009af9\" fill-rule=\"evenodd\" fill-opacity=\"1\"/>\n",
       "<polyline clip-path=\"url(#clip352)\" style=\"stroke:#000000; stroke-linecap:round; stroke-linejoin:round; stroke-width:4; stroke-opacity:1; fill:none\" points=\"13442.9,1423.18 13442.9,1423.18 13481.3,1423.18 13442.9,1423.18 \"/>\n",
       "<path clip-path=\"url(#clip352)\" d=\"M13481.3 1423.18 L13481.3 1423.18 L13519.8 1423.18 L13519.8 1423.18 L13481.3 1423.18 L13481.3 1423.18  Z\" fill=\"#009af9\" fill-rule=\"evenodd\" fill-opacity=\"1\"/>\n",
       "<polyline clip-path=\"url(#clip352)\" style=\"stroke:#000000; stroke-linecap:round; stroke-linejoin:round; stroke-width:4; stroke-opacity:1; fill:none\" points=\"13481.3,1423.18 13481.3,1423.18 13519.8,1423.18 13481.3,1423.18 \"/>\n",
       "<path clip-path=\"url(#clip352)\" d=\"M13519.8 1423.18 L13519.8 1423.18 L13558.2 1423.18 L13558.2 1423.18 L13519.8 1423.18 L13519.8 1423.18  Z\" fill=\"#009af9\" fill-rule=\"evenodd\" fill-opacity=\"1\"/>\n",
       "<polyline clip-path=\"url(#clip352)\" style=\"stroke:#000000; stroke-linecap:round; stroke-linejoin:round; stroke-width:4; stroke-opacity:1; fill:none\" points=\"13519.8,1423.18 13519.8,1423.18 13558.2,1423.18 13519.8,1423.18 \"/>\n",
       "<path clip-path=\"url(#clip352)\" d=\"M13558.2 1423.18 L13558.2 1423.18 L13596.7 1423.18 L13596.7 1423.18 L13558.2 1423.18 L13558.2 1423.18  Z\" fill=\"#009af9\" fill-rule=\"evenodd\" fill-opacity=\"1\"/>\n",
       "<polyline clip-path=\"url(#clip352)\" style=\"stroke:#000000; stroke-linecap:round; stroke-linejoin:round; stroke-width:4; stroke-opacity:1; fill:none\" points=\"13558.2,1423.18 13558.2,1423.18 13596.7,1423.18 13558.2,1423.18 \"/>\n",
       "<path clip-path=\"url(#clip352)\" d=\"M13596.7 1423.18 L13596.7 1423.18 L13635.2 1423.18 L13635.2 1423.18 L13596.7 1423.18 L13596.7 1423.18  Z\" fill=\"#009af9\" fill-rule=\"evenodd\" fill-opacity=\"1\"/>\n",
       "<polyline clip-path=\"url(#clip352)\" style=\"stroke:#000000; stroke-linecap:round; stroke-linejoin:round; stroke-width:4; stroke-opacity:1; fill:none\" points=\"13596.7,1423.18 13596.7,1423.18 13635.2,1423.18 13596.7,1423.18 \"/>\n",
       "<path clip-path=\"url(#clip352)\" d=\"M13635.2 1423.18 L13635.2 1423.18 L13673.6 1423.18 L13673.6 1423.18 L13635.2 1423.18 L13635.2 1423.18  Z\" fill=\"#009af9\" fill-rule=\"evenodd\" fill-opacity=\"1\"/>\n",
       "<polyline clip-path=\"url(#clip352)\" style=\"stroke:#000000; stroke-linecap:round; stroke-linejoin:round; stroke-width:4; stroke-opacity:1; fill:none\" points=\"13635.2,1423.18 13635.2,1423.18 13673.6,1423.18 13635.2,1423.18 \"/>\n",
       "<path clip-path=\"url(#clip352)\" d=\"M13673.6 1423.18 L13673.6 1423.18 L13712.1 1423.18 L13712.1 1423.18 L13673.6 1423.18 L13673.6 1423.18  Z\" fill=\"#009af9\" fill-rule=\"evenodd\" fill-opacity=\"1\"/>\n",
       "<polyline clip-path=\"url(#clip352)\" style=\"stroke:#000000; stroke-linecap:round; stroke-linejoin:round; stroke-width:4; stroke-opacity:1; fill:none\" points=\"13673.6,1423.18 13673.6,1423.18 13712.1,1423.18 13673.6,1423.18 \"/>\n",
       "<path clip-path=\"url(#clip352)\" d=\"M13712.1 1423.18 L13712.1 1423.18 L13750.5 1423.18 L13750.5 1423.18 L13712.1 1423.18 L13712.1 1423.18  Z\" fill=\"#009af9\" fill-rule=\"evenodd\" fill-opacity=\"1\"/>\n",
       "<polyline clip-path=\"url(#clip352)\" style=\"stroke:#000000; stroke-linecap:round; stroke-linejoin:round; stroke-width:4; stroke-opacity:1; fill:none\" points=\"13712.1,1423.18 13712.1,1423.18 13750.5,1423.18 13712.1,1423.18 \"/>\n",
       "<path clip-path=\"url(#clip352)\" d=\"M13750.5 1423.18 L13750.5 1423.18 L13789 1423.18 L13789 1423.18 L13750.5 1423.18 L13750.5 1423.18  Z\" fill=\"#009af9\" fill-rule=\"evenodd\" fill-opacity=\"1\"/>\n",
       "<polyline clip-path=\"url(#clip352)\" style=\"stroke:#000000; stroke-linecap:round; stroke-linejoin:round; stroke-width:4; stroke-opacity:1; fill:none\" points=\"13750.5,1423.18 13750.5,1423.18 13789,1423.18 13750.5,1423.18 \"/>\n",
       "<path clip-path=\"url(#clip352)\" d=\"M13789 1423.18 L13789 1423.18 L13827.5 1423.18 L13827.5 1423.18 L13789 1423.18 L13789 1423.18  Z\" fill=\"#009af9\" fill-rule=\"evenodd\" fill-opacity=\"1\"/>\n",
       "<polyline clip-path=\"url(#clip352)\" style=\"stroke:#000000; stroke-linecap:round; stroke-linejoin:round; stroke-width:4; stroke-opacity:1; fill:none\" points=\"13789,1423.18 13789,1423.18 13827.5,1423.18 13789,1423.18 \"/>\n",
       "<path clip-path=\"url(#clip352)\" d=\"M13827.5 1423.18 L13827.5 1423.18 L13865.9 1423.18 L13865.9 1423.18 L13827.5 1423.18 L13827.5 1423.18  Z\" fill=\"#009af9\" fill-rule=\"evenodd\" fill-opacity=\"1\"/>\n",
       "<polyline clip-path=\"url(#clip352)\" style=\"stroke:#000000; stroke-linecap:round; stroke-linejoin:round; stroke-width:4; stroke-opacity:1; fill:none\" points=\"13827.5,1423.18 13827.5,1423.18 13865.9,1423.18 13827.5,1423.18 \"/>\n",
       "<path clip-path=\"url(#clip352)\" d=\"M13865.9 1423.18 L13865.9 1423.18 L13904.4 1423.18 L13904.4 1423.18 L13865.9 1423.18 L13865.9 1423.18  Z\" fill=\"#009af9\" fill-rule=\"evenodd\" fill-opacity=\"1\"/>\n",
       "<polyline clip-path=\"url(#clip352)\" style=\"stroke:#000000; stroke-linecap:round; stroke-linejoin:round; stroke-width:4; stroke-opacity:1; fill:none\" points=\"13865.9,1423.18 13865.9,1423.18 13904.4,1423.18 13865.9,1423.18 \"/>\n",
       "<path clip-path=\"url(#clip352)\" d=\"M13904.4 1423.18 L13904.4 1423.18 L13942.8 1423.18 L13942.8 1423.18 L13904.4 1423.18 L13904.4 1423.18  Z\" fill=\"#009af9\" fill-rule=\"evenodd\" fill-opacity=\"1\"/>\n",
       "<polyline clip-path=\"url(#clip352)\" style=\"stroke:#000000; stroke-linecap:round; stroke-linejoin:round; stroke-width:4; stroke-opacity:1; fill:none\" points=\"13904.4,1423.18 13904.4,1423.18 13942.8,1423.18 13904.4,1423.18 \"/>\n",
       "<path clip-path=\"url(#clip352)\" d=\"M13942.8 1423.18 L13942.8 1423.18 L13981.3 1423.18 L13981.3 1423.18 L13942.8 1423.18 L13942.8 1423.18  Z\" fill=\"#009af9\" fill-rule=\"evenodd\" fill-opacity=\"1\"/>\n",
       "<polyline clip-path=\"url(#clip352)\" style=\"stroke:#000000; stroke-linecap:round; stroke-linejoin:round; stroke-width:4; stroke-opacity:1; fill:none\" points=\"13942.8,1423.18 13942.8,1423.18 13981.3,1423.18 13942.8,1423.18 \"/>\n",
       "<path clip-path=\"url(#clip352)\" d=\"M13981.3 1423.18 L13981.3 1423.18 L14019.7 1423.18 L14019.7 1423.18 L13981.3 1423.18 L13981.3 1423.18  Z\" fill=\"#009af9\" fill-rule=\"evenodd\" fill-opacity=\"1\"/>\n",
       "<polyline clip-path=\"url(#clip352)\" style=\"stroke:#000000; stroke-linecap:round; stroke-linejoin:round; stroke-width:4; stroke-opacity:1; fill:none\" points=\"13981.3,1423.18 13981.3,1423.18 14019.7,1423.18 13981.3,1423.18 \"/>\n",
       "<path clip-path=\"url(#clip352)\" d=\"M14019.7 1423.18 L14019.7 1423.18 L14058.2 1423.18 L14058.2 1423.18 L14019.7 1423.18 L14019.7 1423.18  Z\" fill=\"#009af9\" fill-rule=\"evenodd\" fill-opacity=\"1\"/>\n",
       "<polyline clip-path=\"url(#clip352)\" style=\"stroke:#000000; stroke-linecap:round; stroke-linejoin:round; stroke-width:4; stroke-opacity:1; fill:none\" points=\"14019.7,1423.18 14019.7,1423.18 14058.2,1423.18 14019.7,1423.18 \"/>\n",
       "<path clip-path=\"url(#clip352)\" d=\"M14058.2 1423.18 L14058.2 1423.18 L14096.7 1423.18 L14096.7 1423.18 L14058.2 1423.18 L14058.2 1423.18  Z\" fill=\"#009af9\" fill-rule=\"evenodd\" fill-opacity=\"1\"/>\n",
       "<polyline clip-path=\"url(#clip352)\" style=\"stroke:#000000; stroke-linecap:round; stroke-linejoin:round; stroke-width:4; stroke-opacity:1; fill:none\" points=\"14058.2,1423.18 14058.2,1423.18 14096.7,1423.18 14058.2,1423.18 \"/>\n",
       "<path clip-path=\"url(#clip352)\" d=\"M14096.7 1423.18 L14096.7 1423.18 L14135.1 1423.18 L14135.1 1423.18 L14096.7 1423.18 L14096.7 1423.18  Z\" fill=\"#009af9\" fill-rule=\"evenodd\" fill-opacity=\"1\"/>\n",
       "<polyline clip-path=\"url(#clip352)\" style=\"stroke:#000000; stroke-linecap:round; stroke-linejoin:round; stroke-width:4; stroke-opacity:1; fill:none\" points=\"14096.7,1423.18 14096.7,1423.18 14135.1,1423.18 14096.7,1423.18 \"/>\n",
       "<path clip-path=\"url(#clip352)\" d=\"M14135.1 1423.18 L14135.1 1423.18 L14173.6 1423.18 L14173.6 1423.18 L14135.1 1423.18 L14135.1 1423.18  Z\" fill=\"#009af9\" fill-rule=\"evenodd\" fill-opacity=\"1\"/>\n",
       "<polyline clip-path=\"url(#clip352)\" style=\"stroke:#000000; stroke-linecap:round; stroke-linejoin:round; stroke-width:4; stroke-opacity:1; fill:none\" points=\"14135.1,1423.18 14135.1,1423.18 14173.6,1423.18 14135.1,1423.18 \"/>\n",
       "<path clip-path=\"url(#clip352)\" d=\"M14173.6 1423.18 L14173.6 1423.18 L14212 1423.18 L14212 1423.18 L14173.6 1423.18 L14173.6 1423.18  Z\" fill=\"#009af9\" fill-rule=\"evenodd\" fill-opacity=\"1\"/>\n",
       "<polyline clip-path=\"url(#clip352)\" style=\"stroke:#000000; stroke-linecap:round; stroke-linejoin:round; stroke-width:4; stroke-opacity:1; fill:none\" points=\"14173.6,1423.18 14173.6,1423.18 14212,1423.18 14173.6,1423.18 \"/>\n",
       "<path clip-path=\"url(#clip352)\" d=\"M14212 1423.18 L14212 1423.18 L14250.5 1423.18 L14250.5 1423.18 L14212 1423.18 L14212 1423.18  Z\" fill=\"#009af9\" fill-rule=\"evenodd\" fill-opacity=\"1\"/>\n",
       "<polyline clip-path=\"url(#clip352)\" style=\"stroke:#000000; stroke-linecap:round; stroke-linejoin:round; stroke-width:4; stroke-opacity:1; fill:none\" points=\"14212,1423.18 14212,1423.18 14250.5,1423.18 14212,1423.18 \"/>\n",
       "<path clip-path=\"url(#clip352)\" d=\"M14250.5 1423.18 L14250.5 1423.18 L14289 1423.18 L14289 1423.18 L14250.5 1423.18 L14250.5 1423.18  Z\" fill=\"#009af9\" fill-rule=\"evenodd\" fill-opacity=\"1\"/>\n",
       "<polyline clip-path=\"url(#clip352)\" style=\"stroke:#000000; stroke-linecap:round; stroke-linejoin:round; stroke-width:4; stroke-opacity:1; fill:none\" points=\"14250.5,1423.18 14250.5,1423.18 14289,1423.18 14250.5,1423.18 \"/>\n",
       "<path clip-path=\"url(#clip352)\" d=\"M14289 1423.18 L14289 1423.18 L14327.4 1423.18 L14327.4 1423.18 L14289 1423.18 L14289 1423.18  Z\" fill=\"#009af9\" fill-rule=\"evenodd\" fill-opacity=\"1\"/>\n",
       "<polyline clip-path=\"url(#clip352)\" style=\"stroke:#000000; stroke-linecap:round; stroke-linejoin:round; stroke-width:4; stroke-opacity:1; fill:none\" points=\"14289,1423.18 14289,1423.18 14327.4,1423.18 14289,1423.18 \"/>\n",
       "<path clip-path=\"url(#clip352)\" d=\"M14327.4 1423.18 L14327.4 1423.18 L14365.9 1423.18 L14365.9 1423.18 L14327.4 1423.18 L14327.4 1423.18  Z\" fill=\"#009af9\" fill-rule=\"evenodd\" fill-opacity=\"1\"/>\n",
       "<polyline clip-path=\"url(#clip352)\" style=\"stroke:#000000; stroke-linecap:round; stroke-linejoin:round; stroke-width:4; stroke-opacity:1; fill:none\" points=\"14327.4,1423.18 14327.4,1423.18 14365.9,1423.18 14327.4,1423.18 \"/>\n",
       "<path clip-path=\"url(#clip352)\" d=\"M14365.9 1423.18 L14365.9 1423.18 L14404.3 1423.18 L14404.3 1423.18 L14365.9 1423.18 L14365.9 1423.18  Z\" fill=\"#009af9\" fill-rule=\"evenodd\" fill-opacity=\"1\"/>\n",
       "<polyline clip-path=\"url(#clip352)\" style=\"stroke:#000000; stroke-linecap:round; stroke-linejoin:round; stroke-width:4; stroke-opacity:1; fill:none\" points=\"14365.9,1423.18 14365.9,1423.18 14404.3,1423.18 14365.9,1423.18 \"/>\n",
       "<path clip-path=\"url(#clip352)\" d=\"M14404.3 1423.18 L14404.3 1423.18 L14442.8 1423.18 L14442.8 1423.18 L14404.3 1423.18 L14404.3 1423.18  Z\" fill=\"#009af9\" fill-rule=\"evenodd\" fill-opacity=\"1\"/>\n",
       "<polyline clip-path=\"url(#clip352)\" style=\"stroke:#000000; stroke-linecap:round; stroke-linejoin:round; stroke-width:4; stroke-opacity:1; fill:none\" points=\"14404.3,1423.18 14404.3,1423.18 14442.8,1423.18 14404.3,1423.18 \"/>\n",
       "<path clip-path=\"url(#clip352)\" d=\"M14442.8 1423.18 L14442.8 1423.18 L14481.3 1423.18 L14481.3 1423.18 L14442.8 1423.18 L14442.8 1423.18  Z\" fill=\"#009af9\" fill-rule=\"evenodd\" fill-opacity=\"1\"/>\n",
       "<polyline clip-path=\"url(#clip352)\" style=\"stroke:#000000; stroke-linecap:round; stroke-linejoin:round; stroke-width:4; stroke-opacity:1; fill:none\" points=\"14442.8,1423.18 14442.8,1423.18 14481.3,1423.18 14442.8,1423.18 \"/>\n",
       "<path clip-path=\"url(#clip352)\" d=\"M14481.3 1423.18 L14481.3 1423.18 L14519.7 1423.18 L14519.7 1423.18 L14481.3 1423.18 L14481.3 1423.18  Z\" fill=\"#009af9\" fill-rule=\"evenodd\" fill-opacity=\"1\"/>\n",
       "<polyline clip-path=\"url(#clip352)\" style=\"stroke:#000000; stroke-linecap:round; stroke-linejoin:round; stroke-width:4; stroke-opacity:1; fill:none\" points=\"14481.3,1423.18 14481.3,1423.18 14519.7,1423.18 14481.3,1423.18 \"/>\n",
       "<path clip-path=\"url(#clip352)\" d=\"M14519.7 1423.18 L14519.7 1423.18 L14558.2 1423.18 L14558.2 1423.18 L14519.7 1423.18 L14519.7 1423.18  Z\" fill=\"#009af9\" fill-rule=\"evenodd\" fill-opacity=\"1\"/>\n",
       "<polyline clip-path=\"url(#clip352)\" style=\"stroke:#000000; stroke-linecap:round; stroke-linejoin:round; stroke-width:4; stroke-opacity:1; fill:none\" points=\"14519.7,1423.18 14519.7,1423.18 14558.2,1423.18 14519.7,1423.18 \"/>\n",
       "<path clip-path=\"url(#clip352)\" d=\"M14558.2 1423.18 L14558.2 1423.18 L14596.6 1423.18 L14596.6 1423.18 L14558.2 1423.18 L14558.2 1423.18  Z\" fill=\"#009af9\" fill-rule=\"evenodd\" fill-opacity=\"1\"/>\n",
       "<polyline clip-path=\"url(#clip352)\" style=\"stroke:#000000; stroke-linecap:round; stroke-linejoin:round; stroke-width:4; stroke-opacity:1; fill:none\" points=\"14558.2,1423.18 14558.2,1423.18 14596.6,1423.18 14558.2,1423.18 \"/>\n",
       "<path clip-path=\"url(#clip352)\" d=\"M14596.6 1423.18 L14596.6 1423.18 L14635.1 1423.18 L14635.1 1423.18 L14596.6 1423.18 L14596.6 1423.18  Z\" fill=\"#009af9\" fill-rule=\"evenodd\" fill-opacity=\"1\"/>\n",
       "<polyline clip-path=\"url(#clip352)\" style=\"stroke:#000000; stroke-linecap:round; stroke-linejoin:round; stroke-width:4; stroke-opacity:1; fill:none\" points=\"14596.6,1423.18 14596.6,1423.18 14635.1,1423.18 14596.6,1423.18 \"/>\n",
       "<path clip-path=\"url(#clip352)\" d=\"M14635.1 1423.18 L14635.1 1423.18 L14673.5 1423.18 L14673.5 1423.18 L14635.1 1423.18 L14635.1 1423.18  Z\" fill=\"#009af9\" fill-rule=\"evenodd\" fill-opacity=\"1\"/>\n",
       "<polyline clip-path=\"url(#clip352)\" style=\"stroke:#000000; stroke-linecap:round; stroke-linejoin:round; stroke-width:4; stroke-opacity:1; fill:none\" points=\"14635.1,1423.18 14635.1,1423.18 14673.5,1423.18 14635.1,1423.18 \"/>\n",
       "<path clip-path=\"url(#clip352)\" d=\"M14673.5 1423.18 L14673.5 1423.18 L14712 1423.18 L14712 1423.18 L14673.5 1423.18 L14673.5 1423.18  Z\" fill=\"#009af9\" fill-rule=\"evenodd\" fill-opacity=\"1\"/>\n",
       "<polyline clip-path=\"url(#clip352)\" style=\"stroke:#000000; stroke-linecap:round; stroke-linejoin:round; stroke-width:4; stroke-opacity:1; fill:none\" points=\"14673.5,1423.18 14673.5,1423.18 14712,1423.18 14673.5,1423.18 \"/>\n",
       "<path clip-path=\"url(#clip352)\" d=\"M14712 1423.18 L14712 1423.18 L14750.5 1423.18 L14750.5 1423.18 L14712 1423.18 L14712 1423.18  Z\" fill=\"#009af9\" fill-rule=\"evenodd\" fill-opacity=\"1\"/>\n",
       "<polyline clip-path=\"url(#clip352)\" style=\"stroke:#000000; stroke-linecap:round; stroke-linejoin:round; stroke-width:4; stroke-opacity:1; fill:none\" points=\"14712,1423.18 14712,1423.18 14750.5,1423.18 14712,1423.18 \"/>\n",
       "<path clip-path=\"url(#clip352)\" d=\"M14750.5 1423.18 L14750.5 1423.18 L14788.9 1423.18 L14788.9 1423.18 L14750.5 1423.18 L14750.5 1423.18  Z\" fill=\"#009af9\" fill-rule=\"evenodd\" fill-opacity=\"1\"/>\n",
       "<polyline clip-path=\"url(#clip352)\" style=\"stroke:#000000; stroke-linecap:round; stroke-linejoin:round; stroke-width:4; stroke-opacity:1; fill:none\" points=\"14750.5,1423.18 14750.5,1423.18 14788.9,1423.18 14750.5,1423.18 \"/>\n",
       "<path clip-path=\"url(#clip352)\" d=\"M14788.9 1423.18 L14788.9 1423.18 L14827.4 1423.18 L14827.4 1423.18 L14788.9 1423.18 L14788.9 1423.18  Z\" fill=\"#009af9\" fill-rule=\"evenodd\" fill-opacity=\"1\"/>\n",
       "<polyline clip-path=\"url(#clip352)\" style=\"stroke:#000000; stroke-linecap:round; stroke-linejoin:round; stroke-width:4; stroke-opacity:1; fill:none\" points=\"14788.9,1423.18 14788.9,1423.18 14827.4,1423.18 14788.9,1423.18 \"/>\n",
       "<path clip-path=\"url(#clip352)\" d=\"M14827.4 1423.18 L14827.4 1423.18 L14865.8 1423.18 L14865.8 1423.18 L14827.4 1423.18 L14827.4 1423.18  Z\" fill=\"#009af9\" fill-rule=\"evenodd\" fill-opacity=\"1\"/>\n",
       "<polyline clip-path=\"url(#clip352)\" style=\"stroke:#000000; stroke-linecap:round; stroke-linejoin:round; stroke-width:4; stroke-opacity:1; fill:none\" points=\"14827.4,1423.18 14827.4,1423.18 14865.8,1423.18 14827.4,1423.18 \"/>\n",
       "<path clip-path=\"url(#clip352)\" d=\"M14865.8 1423.18 L14865.8 1423.18 L14904.3 1423.18 L14904.3 1423.18 L14865.8 1423.18 L14865.8 1423.18  Z\" fill=\"#009af9\" fill-rule=\"evenodd\" fill-opacity=\"1\"/>\n",
       "<polyline clip-path=\"url(#clip352)\" style=\"stroke:#000000; stroke-linecap:round; stroke-linejoin:round; stroke-width:4; stroke-opacity:1; fill:none\" points=\"14865.8,1423.18 14865.8,1423.18 14904.3,1423.18 14865.8,1423.18 \"/>\n",
       "<path clip-path=\"url(#clip352)\" d=\"M14904.3 1423.18 L14904.3 1423.18 L14942.8 1423.18 L14942.8 1423.18 L14904.3 1423.18 L14904.3 1423.18  Z\" fill=\"#009af9\" fill-rule=\"evenodd\" fill-opacity=\"1\"/>\n",
       "<polyline clip-path=\"url(#clip352)\" style=\"stroke:#000000; stroke-linecap:round; stroke-linejoin:round; stroke-width:4; stroke-opacity:1; fill:none\" points=\"14904.3,1423.18 14904.3,1423.18 14942.8,1423.18 14904.3,1423.18 \"/>\n",
       "<path clip-path=\"url(#clip352)\" d=\"M14942.8 1423.18 L14942.8 1423.18 L14981.2 1423.18 L14981.2 1423.18 L14942.8 1423.18 L14942.8 1423.18  Z\" fill=\"#009af9\" fill-rule=\"evenodd\" fill-opacity=\"1\"/>\n",
       "<polyline clip-path=\"url(#clip352)\" style=\"stroke:#000000; stroke-linecap:round; stroke-linejoin:round; stroke-width:4; stroke-opacity:1; fill:none\" points=\"14942.8,1423.18 14942.8,1423.18 14981.2,1423.18 14942.8,1423.18 \"/>\n",
       "<path clip-path=\"url(#clip352)\" d=\"M14981.2 1423.18 L14981.2 1423.18 L15019.7 1423.18 L15019.7 1423.18 L14981.2 1423.18 L14981.2 1423.18  Z\" fill=\"#009af9\" fill-rule=\"evenodd\" fill-opacity=\"1\"/>\n",
       "<polyline clip-path=\"url(#clip352)\" style=\"stroke:#000000; stroke-linecap:round; stroke-linejoin:round; stroke-width:4; stroke-opacity:1; fill:none\" points=\"14981.2,1423.18 14981.2,1423.18 15019.7,1423.18 14981.2,1423.18 \"/>\n",
       "<path clip-path=\"url(#clip352)\" d=\"M15019.7 1423.18 L15019.7 1423.18 L15058.1 1423.18 L15058.1 1423.18 L15019.7 1423.18 L15019.7 1423.18  Z\" fill=\"#009af9\" fill-rule=\"evenodd\" fill-opacity=\"1\"/>\n",
       "<polyline clip-path=\"url(#clip352)\" style=\"stroke:#000000; stroke-linecap:round; stroke-linejoin:round; stroke-width:4; stroke-opacity:1; fill:none\" points=\"15019.7,1423.18 15019.7,1423.18 15058.1,1423.18 15019.7,1423.18 \"/>\n",
       "<path clip-path=\"url(#clip352)\" d=\"M15058.1 1423.18 L15058.1 1423.18 L15096.6 1423.18 L15096.6 1423.18 L15058.1 1423.18 L15058.1 1423.18  Z\" fill=\"#009af9\" fill-rule=\"evenodd\" fill-opacity=\"1\"/>\n",
       "<polyline clip-path=\"url(#clip352)\" style=\"stroke:#000000; stroke-linecap:round; stroke-linejoin:round; stroke-width:4; stroke-opacity:1; fill:none\" points=\"15058.1,1423.18 15058.1,1423.18 15096.6,1423.18 15058.1,1423.18 \"/>\n",
       "<path clip-path=\"url(#clip352)\" d=\"M15096.6 1423.18 L15096.6 1423.18 L15135.1 1423.18 L15135.1 1423.18 L15096.6 1423.18 L15096.6 1423.18  Z\" fill=\"#009af9\" fill-rule=\"evenodd\" fill-opacity=\"1\"/>\n",
       "<polyline clip-path=\"url(#clip352)\" style=\"stroke:#000000; stroke-linecap:round; stroke-linejoin:round; stroke-width:4; stroke-opacity:1; fill:none\" points=\"15096.6,1423.18 15096.6,1423.18 15135.1,1423.18 15096.6,1423.18 \"/>\n",
       "<path clip-path=\"url(#clip352)\" d=\"M15135.1 1423.18 L15135.1 1423.18 L15173.5 1423.18 L15173.5 1423.18 L15135.1 1423.18 L15135.1 1423.18  Z\" fill=\"#009af9\" fill-rule=\"evenodd\" fill-opacity=\"1\"/>\n",
       "<polyline clip-path=\"url(#clip352)\" style=\"stroke:#000000; stroke-linecap:round; stroke-linejoin:round; stroke-width:4; stroke-opacity:1; fill:none\" points=\"15135.1,1423.18 15135.1,1423.18 15173.5,1423.18 15135.1,1423.18 \"/>\n",
       "<path clip-path=\"url(#clip352)\" d=\"M15173.5 1423.18 L15173.5 1423.18 L15212 1423.18 L15212 1423.18 L15173.5 1423.18 L15173.5 1423.18  Z\" fill=\"#009af9\" fill-rule=\"evenodd\" fill-opacity=\"1\"/>\n",
       "<polyline clip-path=\"url(#clip352)\" style=\"stroke:#000000; stroke-linecap:round; stroke-linejoin:round; stroke-width:4; stroke-opacity:1; fill:none\" points=\"15173.5,1423.18 15173.5,1423.18 15212,1423.18 15173.5,1423.18 \"/>\n",
       "<path clip-path=\"url(#clip352)\" d=\"M15212 1423.18 L15212 1423.18 L15250.4 1423.18 L15250.4 1423.18 L15212 1423.18 L15212 1423.18  Z\" fill=\"#009af9\" fill-rule=\"evenodd\" fill-opacity=\"1\"/>\n",
       "<polyline clip-path=\"url(#clip352)\" style=\"stroke:#000000; stroke-linecap:round; stroke-linejoin:round; stroke-width:4; stroke-opacity:1; fill:none\" points=\"15212,1423.18 15212,1423.18 15250.4,1423.18 15212,1423.18 \"/>\n",
       "<path clip-path=\"url(#clip352)\" d=\"M15250.4 1423.18 L15250.4 1423.18 L15288.9 1423.18 L15288.9 1423.18 L15250.4 1423.18 L15250.4 1423.18  Z\" fill=\"#009af9\" fill-rule=\"evenodd\" fill-opacity=\"1\"/>\n",
       "<polyline clip-path=\"url(#clip352)\" style=\"stroke:#000000; stroke-linecap:round; stroke-linejoin:round; stroke-width:4; stroke-opacity:1; fill:none\" points=\"15250.4,1423.18 15250.4,1423.18 15288.9,1423.18 15250.4,1423.18 \"/>\n",
       "<path clip-path=\"url(#clip352)\" d=\"M15288.9 1423.18 L15288.9 1423.18 L15327.3 1423.18 L15327.3 1423.18 L15288.9 1423.18 L15288.9 1423.18  Z\" fill=\"#009af9\" fill-rule=\"evenodd\" fill-opacity=\"1\"/>\n",
       "<polyline clip-path=\"url(#clip352)\" style=\"stroke:#000000; stroke-linecap:round; stroke-linejoin:round; stroke-width:4; stroke-opacity:1; fill:none\" points=\"15288.9,1423.18 15288.9,1423.18 15327.3,1423.18 15288.9,1423.18 \"/>\n",
       "<path clip-path=\"url(#clip352)\" d=\"M15327.3 1423.18 L15327.3 1423.18 L15365.8 1423.18 L15365.8 1423.18 L15327.3 1423.18 L15327.3 1423.18  Z\" fill=\"#009af9\" fill-rule=\"evenodd\" fill-opacity=\"1\"/>\n",
       "<polyline clip-path=\"url(#clip352)\" style=\"stroke:#000000; stroke-linecap:round; stroke-linejoin:round; stroke-width:4; stroke-opacity:1; fill:none\" points=\"15327.3,1423.18 15327.3,1423.18 15365.8,1423.18 15327.3,1423.18 \"/>\n",
       "<path clip-path=\"url(#clip352)\" d=\"M15365.8 1423.18 L15365.8 1423.18 L15404.3 1423.18 L15404.3 1423.18 L15365.8 1423.18 L15365.8 1423.18  Z\" fill=\"#009af9\" fill-rule=\"evenodd\" fill-opacity=\"1\"/>\n",
       "<polyline clip-path=\"url(#clip352)\" style=\"stroke:#000000; stroke-linecap:round; stroke-linejoin:round; stroke-width:4; stroke-opacity:1; fill:none\" points=\"15365.8,1423.18 15365.8,1423.18 15404.3,1423.18 15365.8,1423.18 \"/>\n",
       "<path clip-path=\"url(#clip352)\" d=\"M15404.3 1423.18 L15404.3 1423.18 L15442.7 1423.18 L15442.7 1423.18 L15404.3 1423.18 L15404.3 1423.18  Z\" fill=\"#009af9\" fill-rule=\"evenodd\" fill-opacity=\"1\"/>\n",
       "<polyline clip-path=\"url(#clip352)\" style=\"stroke:#000000; stroke-linecap:round; stroke-linejoin:round; stroke-width:4; stroke-opacity:1; fill:none\" points=\"15404.3,1423.18 15404.3,1423.18 15442.7,1423.18 15404.3,1423.18 \"/>\n",
       "<path clip-path=\"url(#clip352)\" d=\"M15442.7 1423.18 L15442.7 1423.18 L15481.2 1423.18 L15481.2 1423.18 L15442.7 1423.18 L15442.7 1423.18  Z\" fill=\"#009af9\" fill-rule=\"evenodd\" fill-opacity=\"1\"/>\n",
       "<polyline clip-path=\"url(#clip352)\" style=\"stroke:#000000; stroke-linecap:round; stroke-linejoin:round; stroke-width:4; stroke-opacity:1; fill:none\" points=\"15442.7,1423.18 15442.7,1423.18 15481.2,1423.18 15442.7,1423.18 \"/>\n",
       "<path clip-path=\"url(#clip352)\" d=\"M15481.2 1423.18 L15481.2 1423.18 L15519.6 1423.18 L15519.6 1423.18 L15481.2 1423.18 L15481.2 1423.18  Z\" fill=\"#009af9\" fill-rule=\"evenodd\" fill-opacity=\"1\"/>\n",
       "<polyline clip-path=\"url(#clip352)\" style=\"stroke:#000000; stroke-linecap:round; stroke-linejoin:round; stroke-width:4; stroke-opacity:1; fill:none\" points=\"15481.2,1423.18 15481.2,1423.18 15519.6,1423.18 15481.2,1423.18 \"/>\n",
       "<path clip-path=\"url(#clip352)\" d=\"M15519.6 1423.18 L15519.6 1423.18 L15558.1 1423.18 L15558.1 1423.18 L15519.6 1423.18 L15519.6 1423.18  Z\" fill=\"#009af9\" fill-rule=\"evenodd\" fill-opacity=\"1\"/>\n",
       "<polyline clip-path=\"url(#clip352)\" style=\"stroke:#000000; stroke-linecap:round; stroke-linejoin:round; stroke-width:4; stroke-opacity:1; fill:none\" points=\"15519.6,1423.18 15519.6,1423.18 15558.1,1423.18 15519.6,1423.18 \"/>\n",
       "<path clip-path=\"url(#clip352)\" d=\"M15558.1 1423.18 L15558.1 1423.18 L15596.6 1423.18 L15596.6 1423.18 L15558.1 1423.18 L15558.1 1423.18  Z\" fill=\"#009af9\" fill-rule=\"evenodd\" fill-opacity=\"1\"/>\n",
       "<polyline clip-path=\"url(#clip352)\" style=\"stroke:#000000; stroke-linecap:round; stroke-linejoin:round; stroke-width:4; stroke-opacity:1; fill:none\" points=\"15558.1,1423.18 15558.1,1423.18 15596.6,1423.18 15558.1,1423.18 \"/>\n",
       "<path clip-path=\"url(#clip352)\" d=\"M15596.6 1423.18 L15596.6 1423.18 L15635 1423.18 L15635 1423.18 L15596.6 1423.18 L15596.6 1423.18  Z\" fill=\"#009af9\" fill-rule=\"evenodd\" fill-opacity=\"1\"/>\n",
       "<polyline clip-path=\"url(#clip352)\" style=\"stroke:#000000; stroke-linecap:round; stroke-linejoin:round; stroke-width:4; stroke-opacity:1; fill:none\" points=\"15596.6,1423.18 15596.6,1423.18 15635,1423.18 15596.6,1423.18 \"/>\n",
       "<path clip-path=\"url(#clip352)\" d=\"M15635 1423.18 L15635 1423.18 L15673.5 1423.18 L15673.5 1423.18 L15635 1423.18 L15635 1423.18  Z\" fill=\"#009af9\" fill-rule=\"evenodd\" fill-opacity=\"1\"/>\n",
       "<polyline clip-path=\"url(#clip352)\" style=\"stroke:#000000; stroke-linecap:round; stroke-linejoin:round; stroke-width:4; stroke-opacity:1; fill:none\" points=\"15635,1423.18 15635,1423.18 15673.5,1423.18 15635,1423.18 \"/>\n",
       "<path clip-path=\"url(#clip352)\" d=\"M15673.5 1423.18 L15673.5 1423.18 L15711.9 1423.18 L15711.9 1423.18 L15673.5 1423.18 L15673.5 1423.18  Z\" fill=\"#009af9\" fill-rule=\"evenodd\" fill-opacity=\"1\"/>\n",
       "<polyline clip-path=\"url(#clip352)\" style=\"stroke:#000000; stroke-linecap:round; stroke-linejoin:round; stroke-width:4; stroke-opacity:1; fill:none\" points=\"15673.5,1423.18 15673.5,1423.18 15711.9,1423.18 15673.5,1423.18 \"/>\n",
       "<path clip-path=\"url(#clip352)\" d=\"M15711.9 1423.18 L15711.9 1423.18 L15750.4 1423.18 L15750.4 1423.18 L15711.9 1423.18 L15711.9 1423.18  Z\" fill=\"#009af9\" fill-rule=\"evenodd\" fill-opacity=\"1\"/>\n",
       "<polyline clip-path=\"url(#clip352)\" style=\"stroke:#000000; stroke-linecap:round; stroke-linejoin:round; stroke-width:4; stroke-opacity:1; fill:none\" points=\"15711.9,1423.18 15711.9,1423.18 15750.4,1423.18 15711.9,1423.18 \"/>\n",
       "<path clip-path=\"url(#clip352)\" d=\"M15750.4 1423.18 L15750.4 1423.18 L15788.9 1423.18 L15788.9 1423.18 L15750.4 1423.18 L15750.4 1423.18  Z\" fill=\"#009af9\" fill-rule=\"evenodd\" fill-opacity=\"1\"/>\n",
       "<polyline clip-path=\"url(#clip352)\" style=\"stroke:#000000; stroke-linecap:round; stroke-linejoin:round; stroke-width:4; stroke-opacity:1; fill:none\" points=\"15750.4,1423.18 15750.4,1423.18 15788.9,1423.18 15750.4,1423.18 \"/>\n",
       "<path clip-path=\"url(#clip352)\" d=\"M15788.9 1423.18 L15788.9 1423.18 L15827.3 1423.18 L15827.3 1423.18 L15788.9 1423.18 L15788.9 1423.18  Z\" fill=\"#009af9\" fill-rule=\"evenodd\" fill-opacity=\"1\"/>\n",
       "<polyline clip-path=\"url(#clip352)\" style=\"stroke:#000000; stroke-linecap:round; stroke-linejoin:round; stroke-width:4; stroke-opacity:1; fill:none\" points=\"15788.9,1423.18 15788.9,1423.18 15827.3,1423.18 15788.9,1423.18 \"/>\n",
       "<path clip-path=\"url(#clip352)\" d=\"M15827.3 1423.18 L15827.3 1423.18 L15865.8 1423.18 L15865.8 1423.18 L15827.3 1423.18 L15827.3 1423.18  Z\" fill=\"#009af9\" fill-rule=\"evenodd\" fill-opacity=\"1\"/>\n",
       "<polyline clip-path=\"url(#clip352)\" style=\"stroke:#000000; stroke-linecap:round; stroke-linejoin:round; stroke-width:4; stroke-opacity:1; fill:none\" points=\"15827.3,1423.18 15827.3,1423.18 15865.8,1423.18 15827.3,1423.18 \"/>\n",
       "<path clip-path=\"url(#clip352)\" d=\"M15865.8 1423.18 L15865.8 1423.18 L15904.2 1423.18 L15904.2 1423.18 L15865.8 1423.18 L15865.8 1423.18  Z\" fill=\"#009af9\" fill-rule=\"evenodd\" fill-opacity=\"1\"/>\n",
       "<polyline clip-path=\"url(#clip352)\" style=\"stroke:#000000; stroke-linecap:round; stroke-linejoin:round; stroke-width:4; stroke-opacity:1; fill:none\" points=\"15865.8,1423.18 15865.8,1423.18 15904.2,1423.18 15865.8,1423.18 \"/>\n",
       "<path clip-path=\"url(#clip352)\" d=\"M15904.2 1423.18 L15904.2 1423.18 L15942.7 1423.18 L15942.7 1423.18 L15904.2 1423.18 L15904.2 1423.18  Z\" fill=\"#009af9\" fill-rule=\"evenodd\" fill-opacity=\"1\"/>\n",
       "<polyline clip-path=\"url(#clip352)\" style=\"stroke:#000000; stroke-linecap:round; stroke-linejoin:round; stroke-width:4; stroke-opacity:1; fill:none\" points=\"15904.2,1423.18 15904.2,1423.18 15942.7,1423.18 15904.2,1423.18 \"/>\n",
       "<path clip-path=\"url(#clip352)\" d=\"M15942.7 1423.18 L15942.7 1423.18 L15981.1 1423.18 L15981.1 1423.18 L15942.7 1423.18 L15942.7 1423.18  Z\" fill=\"#009af9\" fill-rule=\"evenodd\" fill-opacity=\"1\"/>\n",
       "<polyline clip-path=\"url(#clip352)\" style=\"stroke:#000000; stroke-linecap:round; stroke-linejoin:round; stroke-width:4; stroke-opacity:1; fill:none\" points=\"15942.7,1423.18 15942.7,1423.18 15981.1,1423.18 15942.7,1423.18 \"/>\n",
       "<path clip-path=\"url(#clip352)\" d=\"M15981.1 1423.18 L15981.1 1423.18 L16019.6 1423.18 L16019.6 1423.18 L15981.1 1423.18 L15981.1 1423.18  Z\" fill=\"#009af9\" fill-rule=\"evenodd\" fill-opacity=\"1\"/>\n",
       "<polyline clip-path=\"url(#clip352)\" style=\"stroke:#000000; stroke-linecap:round; stroke-linejoin:round; stroke-width:4; stroke-opacity:1; fill:none\" points=\"15981.1,1423.18 15981.1,1423.18 16019.6,1423.18 15981.1,1423.18 \"/>\n",
       "<path clip-path=\"url(#clip352)\" d=\"M16019.6 1423.18 L16019.6 1423.18 L16058.1 1423.18 L16058.1 1423.18 L16019.6 1423.18 L16019.6 1423.18  Z\" fill=\"#009af9\" fill-rule=\"evenodd\" fill-opacity=\"1\"/>\n",
       "<polyline clip-path=\"url(#clip352)\" style=\"stroke:#000000; stroke-linecap:round; stroke-linejoin:round; stroke-width:4; stroke-opacity:1; fill:none\" points=\"16019.6,1423.18 16019.6,1423.18 16058.1,1423.18 16019.6,1423.18 \"/>\n",
       "<path clip-path=\"url(#clip352)\" d=\"M16058.1 1423.18 L16058.1 1423.18 L16096.5 1423.18 L16096.5 1423.18 L16058.1 1423.18 L16058.1 1423.18  Z\" fill=\"#009af9\" fill-rule=\"evenodd\" fill-opacity=\"1\"/>\n",
       "<polyline clip-path=\"url(#clip352)\" style=\"stroke:#000000; stroke-linecap:round; stroke-linejoin:round; stroke-width:4; stroke-opacity:1; fill:none\" points=\"16058.1,1423.18 16058.1,1423.18 16096.5,1423.18 16058.1,1423.18 \"/>\n",
       "<path clip-path=\"url(#clip352)\" d=\"M16096.5 1423.18 L16096.5 1423.18 L16135 1423.18 L16135 1423.18 L16096.5 1423.18 L16096.5 1423.18  Z\" fill=\"#009af9\" fill-rule=\"evenodd\" fill-opacity=\"1\"/>\n",
       "<polyline clip-path=\"url(#clip352)\" style=\"stroke:#000000; stroke-linecap:round; stroke-linejoin:round; stroke-width:4; stroke-opacity:1; fill:none\" points=\"16096.5,1423.18 16096.5,1423.18 16135,1423.18 16096.5,1423.18 \"/>\n",
       "<path clip-path=\"url(#clip352)\" d=\"M16135 1423.18 L16135 1423.18 L16173.4 1423.18 L16173.4 1423.18 L16135 1423.18 L16135 1423.18  Z\" fill=\"#009af9\" fill-rule=\"evenodd\" fill-opacity=\"1\"/>\n",
       "<polyline clip-path=\"url(#clip352)\" style=\"stroke:#000000; stroke-linecap:round; stroke-linejoin:round; stroke-width:4; stroke-opacity:1; fill:none\" points=\"16135,1423.18 16135,1423.18 16173.4,1423.18 16135,1423.18 \"/>\n",
       "<path clip-path=\"url(#clip352)\" d=\"M16173.4 1423.18 L16173.4 1423.18 L16211.9 1423.18 L16211.9 1423.18 L16173.4 1423.18 L16173.4 1423.18  Z\" fill=\"#009af9\" fill-rule=\"evenodd\" fill-opacity=\"1\"/>\n",
       "<polyline clip-path=\"url(#clip352)\" style=\"stroke:#000000; stroke-linecap:round; stroke-linejoin:round; stroke-width:4; stroke-opacity:1; fill:none\" points=\"16173.4,1423.18 16173.4,1423.18 16211.9,1423.18 16173.4,1423.18 \"/>\n",
       "<path clip-path=\"url(#clip352)\" d=\"M16211.9 1423.18 L16211.9 1423.18 L16250.4 1423.18 L16250.4 1423.18 L16211.9 1423.18 L16211.9 1423.18  Z\" fill=\"#009af9\" fill-rule=\"evenodd\" fill-opacity=\"1\"/>\n",
       "<polyline clip-path=\"url(#clip352)\" style=\"stroke:#000000; stroke-linecap:round; stroke-linejoin:round; stroke-width:4; stroke-opacity:1; fill:none\" points=\"16211.9,1423.18 16211.9,1423.18 16250.4,1423.18 16211.9,1423.18 \"/>\n",
       "<path clip-path=\"url(#clip352)\" d=\"M16250.4 1423.18 L16250.4 1423.18 L16288.8 1423.18 L16288.8 1423.18 L16250.4 1423.18 L16250.4 1423.18  Z\" fill=\"#009af9\" fill-rule=\"evenodd\" fill-opacity=\"1\"/>\n",
       "<polyline clip-path=\"url(#clip352)\" style=\"stroke:#000000; stroke-linecap:round; stroke-linejoin:round; stroke-width:4; stroke-opacity:1; fill:none\" points=\"16250.4,1423.18 16250.4,1423.18 16288.8,1423.18 16250.4,1423.18 \"/>\n",
       "<path clip-path=\"url(#clip352)\" d=\"M16288.8 1423.18 L16288.8 1423.18 L16327.3 1423.18 L16327.3 1423.18 L16288.8 1423.18 L16288.8 1423.18  Z\" fill=\"#009af9\" fill-rule=\"evenodd\" fill-opacity=\"1\"/>\n",
       "<polyline clip-path=\"url(#clip352)\" style=\"stroke:#000000; stroke-linecap:round; stroke-linejoin:round; stroke-width:4; stroke-opacity:1; fill:none\" points=\"16288.8,1423.18 16288.8,1423.18 16327.3,1423.18 16288.8,1423.18 \"/>\n",
       "<path clip-path=\"url(#clip352)\" d=\"M16327.3 1423.18 L16327.3 1423.18 L16365.7 1423.18 L16365.7 1423.18 L16327.3 1423.18 L16327.3 1423.18  Z\" fill=\"#009af9\" fill-rule=\"evenodd\" fill-opacity=\"1\"/>\n",
       "<polyline clip-path=\"url(#clip352)\" style=\"stroke:#000000; stroke-linecap:round; stroke-linejoin:round; stroke-width:4; stroke-opacity:1; fill:none\" points=\"16327.3,1423.18 16327.3,1423.18 16365.7,1423.18 16327.3,1423.18 \"/>\n",
       "<path clip-path=\"url(#clip352)\" d=\"M16365.7 1423.18 L16365.7 1423.18 L16404.2 1423.18 L16404.2 1423.18 L16365.7 1423.18 L16365.7 1423.18  Z\" fill=\"#009af9\" fill-rule=\"evenodd\" fill-opacity=\"1\"/>\n",
       "<polyline clip-path=\"url(#clip352)\" style=\"stroke:#000000; stroke-linecap:round; stroke-linejoin:round; stroke-width:4; stroke-opacity:1; fill:none\" points=\"16365.7,1423.18 16365.7,1423.18 16404.2,1423.18 16365.7,1423.18 \"/>\n",
       "<path clip-path=\"url(#clip352)\" d=\"M16404.2 1423.18 L16404.2 1423.18 L16442.7 1423.18 L16442.7 1423.18 L16404.2 1423.18 L16404.2 1423.18  Z\" fill=\"#009af9\" fill-rule=\"evenodd\" fill-opacity=\"1\"/>\n",
       "<polyline clip-path=\"url(#clip352)\" style=\"stroke:#000000; stroke-linecap:round; stroke-linejoin:round; stroke-width:4; stroke-opacity:1; fill:none\" points=\"16404.2,1423.18 16404.2,1423.18 16442.7,1423.18 16404.2,1423.18 \"/>\n",
       "<path clip-path=\"url(#clip352)\" d=\"M16442.7 1423.18 L16442.7 1423.18 L16481.1 1423.18 L16481.1 1423.18 L16442.7 1423.18 L16442.7 1423.18  Z\" fill=\"#009af9\" fill-rule=\"evenodd\" fill-opacity=\"1\"/>\n",
       "<polyline clip-path=\"url(#clip352)\" style=\"stroke:#000000; stroke-linecap:round; stroke-linejoin:round; stroke-width:4; stroke-opacity:1; fill:none\" points=\"16442.7,1423.18 16442.7,1423.18 16481.1,1423.18 16442.7,1423.18 \"/>\n",
       "<path clip-path=\"url(#clip352)\" d=\"M16481.1 1423.18 L16481.1 1423.18 L16519.6 1423.18 L16519.6 1423.18 L16481.1 1423.18 L16481.1 1423.18  Z\" fill=\"#009af9\" fill-rule=\"evenodd\" fill-opacity=\"1\"/>\n",
       "<polyline clip-path=\"url(#clip352)\" style=\"stroke:#000000; stroke-linecap:round; stroke-linejoin:round; stroke-width:4; stroke-opacity:1; fill:none\" points=\"16481.1,1423.18 16481.1,1423.18 16519.6,1423.18 16481.1,1423.18 \"/>\n",
       "<path clip-path=\"url(#clip352)\" d=\"M16519.6 1423.18 L16519.6 1423.18 L16558 1423.18 L16558 1423.18 L16519.6 1423.18 L16519.6 1423.18  Z\" fill=\"#009af9\" fill-rule=\"evenodd\" fill-opacity=\"1\"/>\n",
       "<polyline clip-path=\"url(#clip352)\" style=\"stroke:#000000; stroke-linecap:round; stroke-linejoin:round; stroke-width:4; stroke-opacity:1; fill:none\" points=\"16519.6,1423.18 16519.6,1423.18 16558,1423.18 16519.6,1423.18 \"/>\n",
       "<path clip-path=\"url(#clip352)\" d=\"M16558 1423.18 L16558 1423.18 L16596.5 1423.18 L16596.5 1423.18 L16558 1423.18 L16558 1423.18  Z\" fill=\"#009af9\" fill-rule=\"evenodd\" fill-opacity=\"1\"/>\n",
       "<polyline clip-path=\"url(#clip352)\" style=\"stroke:#000000; stroke-linecap:round; stroke-linejoin:round; stroke-width:4; stroke-opacity:1; fill:none\" points=\"16558,1423.18 16558,1423.18 16596.5,1423.18 16558,1423.18 \"/>\n",
       "<path clip-path=\"url(#clip352)\" d=\"M16596.5 1423.18 L16596.5 1423.18 L16635 1423.18 L16635 1423.18 L16596.5 1423.18 L16596.5 1423.18  Z\" fill=\"#009af9\" fill-rule=\"evenodd\" fill-opacity=\"1\"/>\n",
       "<polyline clip-path=\"url(#clip352)\" style=\"stroke:#000000; stroke-linecap:round; stroke-linejoin:round; stroke-width:4; stroke-opacity:1; fill:none\" points=\"16596.5,1423.18 16596.5,1423.18 16635,1423.18 16596.5,1423.18 \"/>\n",
       "<path clip-path=\"url(#clip352)\" d=\"M16635 1423.18 L16635 1423.18 L16673.4 1423.18 L16673.4 1423.18 L16635 1423.18 L16635 1423.18  Z\" fill=\"#009af9\" fill-rule=\"evenodd\" fill-opacity=\"1\"/>\n",
       "<polyline clip-path=\"url(#clip352)\" style=\"stroke:#000000; stroke-linecap:round; stroke-linejoin:round; stroke-width:4; stroke-opacity:1; fill:none\" points=\"16635,1423.18 16635,1423.18 16673.4,1423.18 16635,1423.18 \"/>\n",
       "<path clip-path=\"url(#clip352)\" d=\"M16673.4 1423.18 L16673.4 1423.18 L16711.9 1423.18 L16711.9 1423.18 L16673.4 1423.18 L16673.4 1423.18  Z\" fill=\"#009af9\" fill-rule=\"evenodd\" fill-opacity=\"1\"/>\n",
       "<polyline clip-path=\"url(#clip352)\" style=\"stroke:#000000; stroke-linecap:round; stroke-linejoin:round; stroke-width:4; stroke-opacity:1; fill:none\" points=\"16673.4,1423.18 16673.4,1423.18 16711.9,1423.18 16673.4,1423.18 \"/>\n",
       "<path clip-path=\"url(#clip352)\" d=\"M16711.9 1423.18 L16711.9 1423.18 L16750.3 1423.18 L16750.3 1423.18 L16711.9 1423.18 L16711.9 1423.18  Z\" fill=\"#009af9\" fill-rule=\"evenodd\" fill-opacity=\"1\"/>\n",
       "<polyline clip-path=\"url(#clip352)\" style=\"stroke:#000000; stroke-linecap:round; stroke-linejoin:round; stroke-width:4; stroke-opacity:1; fill:none\" points=\"16711.9,1423.18 16711.9,1423.18 16750.3,1423.18 16711.9,1423.18 \"/>\n",
       "<path clip-path=\"url(#clip352)\" d=\"M16750.3 1423.18 L16750.3 1423.18 L16788.8 1423.18 L16788.8 1423.18 L16750.3 1423.18 L16750.3 1423.18  Z\" fill=\"#009af9\" fill-rule=\"evenodd\" fill-opacity=\"1\"/>\n",
       "<polyline clip-path=\"url(#clip352)\" style=\"stroke:#000000; stroke-linecap:round; stroke-linejoin:round; stroke-width:4; stroke-opacity:1; fill:none\" points=\"16750.3,1423.18 16750.3,1423.18 16788.8,1423.18 16750.3,1423.18 \"/>\n",
       "<path clip-path=\"url(#clip352)\" d=\"M16788.8 1423.18 L16788.8 1423.18 L16827.2 1423.18 L16827.2 1423.18 L16788.8 1423.18 L16788.8 1423.18  Z\" fill=\"#009af9\" fill-rule=\"evenodd\" fill-opacity=\"1\"/>\n",
       "<polyline clip-path=\"url(#clip352)\" style=\"stroke:#000000; stroke-linecap:round; stroke-linejoin:round; stroke-width:4; stroke-opacity:1; fill:none\" points=\"16788.8,1423.18 16788.8,1423.18 16827.2,1423.18 16788.8,1423.18 \"/>\n",
       "<path clip-path=\"url(#clip352)\" d=\"M16827.2 1423.18 L16827.2 1423.18 L16865.7 1423.18 L16865.7 1423.18 L16827.2 1423.18 L16827.2 1423.18  Z\" fill=\"#009af9\" fill-rule=\"evenodd\" fill-opacity=\"1\"/>\n",
       "<polyline clip-path=\"url(#clip352)\" style=\"stroke:#000000; stroke-linecap:round; stroke-linejoin:round; stroke-width:4; stroke-opacity:1; fill:none\" points=\"16827.2,1423.18 16827.2,1423.18 16865.7,1423.18 16827.2,1423.18 \"/>\n",
       "<path clip-path=\"url(#clip352)\" d=\"M16865.7 1423.18 L16865.7 1423.18 L16904.2 1423.18 L16904.2 1423.18 L16865.7 1423.18 L16865.7 1423.18  Z\" fill=\"#009af9\" fill-rule=\"evenodd\" fill-opacity=\"1\"/>\n",
       "<polyline clip-path=\"url(#clip352)\" style=\"stroke:#000000; stroke-linecap:round; stroke-linejoin:round; stroke-width:4; stroke-opacity:1; fill:none\" points=\"16865.7,1423.18 16865.7,1423.18 16904.2,1423.18 16865.7,1423.18 \"/>\n",
       "<path clip-path=\"url(#clip352)\" d=\"M16904.2 1423.18 L16904.2 1423.18 L16942.6 1423.18 L16942.6 1423.18 L16904.2 1423.18 L16904.2 1423.18  Z\" fill=\"#009af9\" fill-rule=\"evenodd\" fill-opacity=\"1\"/>\n",
       "<polyline clip-path=\"url(#clip352)\" style=\"stroke:#000000; stroke-linecap:round; stroke-linejoin:round; stroke-width:4; stroke-opacity:1; fill:none\" points=\"16904.2,1423.18 16904.2,1423.18 16942.6,1423.18 16904.2,1423.18 \"/>\n",
       "<path clip-path=\"url(#clip352)\" d=\"M16942.6 1350.76 L16942.6 1423.18 L16981.1 1423.18 L16981.1 1350.76 L16942.6 1350.76 L16942.6 1350.76  Z\" fill=\"#009af9\" fill-rule=\"evenodd\" fill-opacity=\"1\"/>\n",
       "<polyline clip-path=\"url(#clip352)\" style=\"stroke:#000000; stroke-linecap:round; stroke-linejoin:round; stroke-width:4; stroke-opacity:1; fill:none\" points=\"16942.6,1350.76 16942.6,1423.18 16981.1,1423.18 16981.1,1350.76 16942.6,1350.76 \"/>\n",
       "<path clip-path=\"url(#clip352)\" d=\"M16981.1 1423.18 L16981.1 1423.18 L17019.5 1423.18 L17019.5 1423.18 L16981.1 1423.18 L16981.1 1423.18  Z\" fill=\"#009af9\" fill-rule=\"evenodd\" fill-opacity=\"1\"/>\n",
       "<polyline clip-path=\"url(#clip352)\" style=\"stroke:#000000; stroke-linecap:round; stroke-linejoin:round; stroke-width:4; stroke-opacity:1; fill:none\" points=\"16981.1,1423.18 16981.1,1423.18 17019.5,1423.18 16981.1,1423.18 \"/>\n",
       "<path clip-path=\"url(#clip352)\" d=\"M17019.5 1423.18 L17019.5 1423.18 L17058 1423.18 L17058 1423.18 L17019.5 1423.18 L17019.5 1423.18  Z\" fill=\"#009af9\" fill-rule=\"evenodd\" fill-opacity=\"1\"/>\n",
       "<polyline clip-path=\"url(#clip352)\" style=\"stroke:#000000; stroke-linecap:round; stroke-linejoin:round; stroke-width:4; stroke-opacity:1; fill:none\" points=\"17019.5,1423.18 17019.5,1423.18 17058,1423.18 17019.5,1423.18 \"/>\n",
       "<path clip-path=\"url(#clip352)\" d=\"M17058 1423.18 L17058 1423.18 L17096.5 1423.18 L17096.5 1423.18 L17058 1423.18 L17058 1423.18  Z\" fill=\"#009af9\" fill-rule=\"evenodd\" fill-opacity=\"1\"/>\n",
       "<polyline clip-path=\"url(#clip352)\" style=\"stroke:#000000; stroke-linecap:round; stroke-linejoin:round; stroke-width:4; stroke-opacity:1; fill:none\" points=\"17058,1423.18 17058,1423.18 17096.5,1423.18 17058,1423.18 \"/>\n",
       "<path clip-path=\"url(#clip352)\" d=\"M17096.5 1423.18 L17096.5 1423.18 L17134.9 1423.18 L17134.9 1423.18 L17096.5 1423.18 L17096.5 1423.18  Z\" fill=\"#009af9\" fill-rule=\"evenodd\" fill-opacity=\"1\"/>\n",
       "<polyline clip-path=\"url(#clip352)\" style=\"stroke:#000000; stroke-linecap:round; stroke-linejoin:round; stroke-width:4; stroke-opacity:1; fill:none\" points=\"17096.5,1423.18 17096.5,1423.18 17134.9,1423.18 17096.5,1423.18 \"/>\n",
       "<path clip-path=\"url(#clip352)\" d=\"M17134.9 1423.18 L17134.9 1423.18 L17173.4 1423.18 L17173.4 1423.18 L17134.9 1423.18 L17134.9 1423.18  Z\" fill=\"#009af9\" fill-rule=\"evenodd\" fill-opacity=\"1\"/>\n",
       "<polyline clip-path=\"url(#clip352)\" style=\"stroke:#000000; stroke-linecap:round; stroke-linejoin:round; stroke-width:4; stroke-opacity:1; fill:none\" points=\"17134.9,1423.18 17134.9,1423.18 17173.4,1423.18 17134.9,1423.18 \"/>\n",
       "<path clip-path=\"url(#clip352)\" d=\"M17173.4 1423.18 L17173.4 1423.18 L17211.8 1423.18 L17211.8 1423.18 L17173.4 1423.18 L17173.4 1423.18  Z\" fill=\"#009af9\" fill-rule=\"evenodd\" fill-opacity=\"1\"/>\n",
       "<polyline clip-path=\"url(#clip352)\" style=\"stroke:#000000; stroke-linecap:round; stroke-linejoin:round; stroke-width:4; stroke-opacity:1; fill:none\" points=\"17173.4,1423.18 17173.4,1423.18 17211.8,1423.18 17173.4,1423.18 \"/>\n",
       "<path clip-path=\"url(#clip352)\" d=\"M17211.8 1423.18 L17211.8 1423.18 L17250.3 1423.18 L17250.3 1423.18 L17211.8 1423.18 L17211.8 1423.18  Z\" fill=\"#009af9\" fill-rule=\"evenodd\" fill-opacity=\"1\"/>\n",
       "<polyline clip-path=\"url(#clip352)\" style=\"stroke:#000000; stroke-linecap:round; stroke-linejoin:round; stroke-width:4; stroke-opacity:1; fill:none\" points=\"17211.8,1423.18 17211.8,1423.18 17250.3,1423.18 17211.8,1423.18 \"/>\n",
       "<path clip-path=\"url(#clip352)\" d=\"M17250.3 1350.76 L17250.3 1423.18 L17288.8 1423.18 L17288.8 1350.76 L17250.3 1350.76 L17250.3 1350.76  Z\" fill=\"#009af9\" fill-rule=\"evenodd\" fill-opacity=\"1\"/>\n",
       "<polyline clip-path=\"url(#clip352)\" style=\"stroke:#000000; stroke-linecap:round; stroke-linejoin:round; stroke-width:4; stroke-opacity:1; fill:none\" points=\"17250.3,1350.76 17250.3,1423.18 17288.8,1423.18 17288.8,1350.76 17250.3,1350.76 \"/>\n",
       "<path clip-path=\"url(#clip352)\" d=\"M17288.8 1423.18 L17288.8 1423.18 L17327.2 1423.18 L17327.2 1423.18 L17288.8 1423.18 L17288.8 1423.18  Z\" fill=\"#009af9\" fill-rule=\"evenodd\" fill-opacity=\"1\"/>\n",
       "<polyline clip-path=\"url(#clip352)\" style=\"stroke:#000000; stroke-linecap:round; stroke-linejoin:round; stroke-width:4; stroke-opacity:1; fill:none\" points=\"17288.8,1423.18 17288.8,1423.18 17327.2,1423.18 17288.8,1423.18 \"/>\n",
       "<path clip-path=\"url(#clip352)\" d=\"M17327.2 1423.18 L17327.2 1423.18 L17365.7 1423.18 L17365.7 1423.18 L17327.2 1423.18 L17327.2 1423.18  Z\" fill=\"#009af9\" fill-rule=\"evenodd\" fill-opacity=\"1\"/>\n",
       "<polyline clip-path=\"url(#clip352)\" style=\"stroke:#000000; stroke-linecap:round; stroke-linejoin:round; stroke-width:4; stroke-opacity:1; fill:none\" points=\"17327.2,1423.18 17327.2,1423.18 17365.7,1423.18 17327.2,1423.18 \"/>\n",
       "<path clip-path=\"url(#clip352)\" d=\"M17365.7 1423.18 L17365.7 1423.18 L17404.1 1423.18 L17404.1 1423.18 L17365.7 1423.18 L17365.7 1423.18  Z\" fill=\"#009af9\" fill-rule=\"evenodd\" fill-opacity=\"1\"/>\n",
       "<polyline clip-path=\"url(#clip352)\" style=\"stroke:#000000; stroke-linecap:round; stroke-linejoin:round; stroke-width:4; stroke-opacity:1; fill:none\" points=\"17365.7,1423.18 17365.7,1423.18 17404.1,1423.18 17365.7,1423.18 \"/>\n",
       "<path clip-path=\"url(#clip352)\" d=\"M17404.1 1423.18 L17404.1 1423.18 L17442.6 1423.18 L17442.6 1423.18 L17404.1 1423.18 L17404.1 1423.18  Z\" fill=\"#009af9\" fill-rule=\"evenodd\" fill-opacity=\"1\"/>\n",
       "<polyline clip-path=\"url(#clip352)\" style=\"stroke:#000000; stroke-linecap:round; stroke-linejoin:round; stroke-width:4; stroke-opacity:1; fill:none\" points=\"17404.1,1423.18 17404.1,1423.18 17442.6,1423.18 17404.1,1423.18 \"/>\n",
       "<path clip-path=\"url(#clip352)\" d=\"M17442.6 1423.18 L17442.6 1423.18 L17481 1423.18 L17481 1423.18 L17442.6 1423.18 L17442.6 1423.18  Z\" fill=\"#009af9\" fill-rule=\"evenodd\" fill-opacity=\"1\"/>\n",
       "<polyline clip-path=\"url(#clip352)\" style=\"stroke:#000000; stroke-linecap:round; stroke-linejoin:round; stroke-width:4; stroke-opacity:1; fill:none\" points=\"17442.6,1423.18 17442.6,1423.18 17481,1423.18 17442.6,1423.18 \"/>\n",
       "<path clip-path=\"url(#clip352)\" d=\"M17481 1423.18 L17481 1423.18 L17519.5 1423.18 L17519.5 1423.18 L17481 1423.18 L17481 1423.18  Z\" fill=\"#009af9\" fill-rule=\"evenodd\" fill-opacity=\"1\"/>\n",
       "<polyline clip-path=\"url(#clip352)\" style=\"stroke:#000000; stroke-linecap:round; stroke-linejoin:round; stroke-width:4; stroke-opacity:1; fill:none\" points=\"17481,1423.18 17481,1423.18 17519.5,1423.18 17481,1423.18 \"/>\n",
       "<path clip-path=\"url(#clip352)\" d=\"M17519.5 1350.76 L17519.5 1423.18 L17558 1423.18 L17558 1350.76 L17519.5 1350.76 L17519.5 1350.76  Z\" fill=\"#009af9\" fill-rule=\"evenodd\" fill-opacity=\"1\"/>\n",
       "<polyline clip-path=\"url(#clip352)\" style=\"stroke:#000000; stroke-linecap:round; stroke-linejoin:round; stroke-width:4; stroke-opacity:1; fill:none\" points=\"17519.5,1350.76 17519.5,1423.18 17558,1423.18 17558,1350.76 17519.5,1350.76 \"/>\n",
       "<path clip-path=\"url(#clip352)\" d=\"M17558 1350.76 L17558 1423.18 L17596.4 1423.18 L17596.4 1350.76 L17558 1350.76 L17558 1350.76  Z\" fill=\"#009af9\" fill-rule=\"evenodd\" fill-opacity=\"1\"/>\n",
       "<polyline clip-path=\"url(#clip352)\" style=\"stroke:#000000; stroke-linecap:round; stroke-linejoin:round; stroke-width:4; stroke-opacity:1; fill:none\" points=\"17558,1350.76 17558,1423.18 17596.4,1423.18 17596.4,1350.76 17558,1350.76 \"/>\n",
       "<circle clip-path=\"url(#clip352)\" style=\"fill:#009af9; stroke:none; fill-opacity:0\" cx=\"270.684\" cy=\"1350.76\" r=\"2\"/>\n",
       "<circle clip-path=\"url(#clip352)\" style=\"fill:#009af9; stroke:none; fill-opacity:0\" cx=\"309.143\" cy=\"1423.18\" r=\"2\"/>\n",
       "<circle clip-path=\"url(#clip352)\" style=\"fill:#009af9; stroke:none; fill-opacity:0\" cx=\"347.602\" cy=\"1278.34\" r=\"2\"/>\n",
       "<circle clip-path=\"url(#clip352)\" style=\"fill:#009af9; stroke:none; fill-opacity:0\" cx=\"386.061\" cy=\"1423.18\" r=\"2\"/>\n",
       "<circle clip-path=\"url(#clip352)\" style=\"fill:#009af9; stroke:none; fill-opacity:0\" cx=\"424.52\" cy=\"1061.09\" r=\"2\"/>\n",
       "<circle clip-path=\"url(#clip352)\" style=\"fill:#009af9; stroke:none; fill-opacity:0\" cx=\"462.979\" cy=\"1278.34\" r=\"2\"/>\n",
       "<circle clip-path=\"url(#clip352)\" style=\"fill:#009af9; stroke:none; fill-opacity:0\" cx=\"501.438\" cy=\"1133.51\" r=\"2\"/>\n",
       "<circle clip-path=\"url(#clip352)\" style=\"fill:#009af9; stroke:none; fill-opacity:0\" cx=\"539.897\" cy=\"916.256\" r=\"2\"/>\n",
       "<circle clip-path=\"url(#clip352)\" style=\"fill:#009af9; stroke:none; fill-opacity:0\" cx=\"578.356\" cy=\"916.256\" r=\"2\"/>\n",
       "<circle clip-path=\"url(#clip352)\" style=\"fill:#009af9; stroke:none; fill-opacity:0\" cx=\"616.815\" cy=\"626.585\" r=\"2\"/>\n",
       "<circle clip-path=\"url(#clip352)\" style=\"fill:#009af9; stroke:none; fill-opacity:0\" cx=\"655.273\" cy=\"47.2441\" r=\"2\"/>\n",
       "<circle clip-path=\"url(#clip352)\" style=\"fill:#009af9; stroke:none; fill-opacity:0\" cx=\"693.732\" cy=\"916.256\" r=\"2\"/>\n",
       "<circle clip-path=\"url(#clip352)\" style=\"fill:#009af9; stroke:none; fill-opacity:0\" cx=\"732.191\" cy=\"916.256\" r=\"2\"/>\n",
       "<circle clip-path=\"url(#clip352)\" style=\"fill:#009af9; stroke:none; fill-opacity:0\" cx=\"770.65\" cy=\"264.497\" r=\"2\"/>\n",
       "<circle clip-path=\"url(#clip352)\" style=\"fill:#009af9; stroke:none; fill-opacity:0\" cx=\"809.109\" cy=\"916.256\" r=\"2\"/>\n",
       "<circle clip-path=\"url(#clip352)\" style=\"fill:#009af9; stroke:none; fill-opacity:0\" cx=\"847.568\" cy=\"916.256\" r=\"2\"/>\n",
       "<circle clip-path=\"url(#clip352)\" style=\"fill:#009af9; stroke:none; fill-opacity:0\" cx=\"886.027\" cy=\"699.003\" r=\"2\"/>\n",
       "<circle clip-path=\"url(#clip352)\" style=\"fill:#009af9; stroke:none; fill-opacity:0\" cx=\"924.486\" cy=\"47.2441\" r=\"2\"/>\n",
       "<circle clip-path=\"url(#clip352)\" style=\"fill:#009af9; stroke:none; fill-opacity:0\" cx=\"962.945\" cy=\"626.585\" r=\"2\"/>\n",
       "<circle clip-path=\"url(#clip352)\" style=\"fill:#009af9; stroke:none; fill-opacity:0\" cx=\"1001.4\" cy=\"409.332\" r=\"2\"/>\n",
       "<circle clip-path=\"url(#clip352)\" style=\"fill:#009af9; stroke:none; fill-opacity:0\" cx=\"1039.86\" cy=\"626.585\" r=\"2\"/>\n",
       "<circle clip-path=\"url(#clip352)\" style=\"fill:#009af9; stroke:none; fill-opacity:0\" cx=\"1078.32\" cy=\"699.003\" r=\"2\"/>\n",
       "<circle clip-path=\"url(#clip352)\" style=\"fill:#009af9; stroke:none; fill-opacity:0\" cx=\"1116.78\" cy=\"1061.09\" r=\"2\"/>\n",
       "<circle clip-path=\"url(#clip352)\" style=\"fill:#009af9; stroke:none; fill-opacity:0\" cx=\"1155.24\" cy=\"1133.51\" r=\"2\"/>\n",
       "<circle clip-path=\"url(#clip352)\" style=\"fill:#009af9; stroke:none; fill-opacity:0\" cx=\"1193.7\" cy=\"699.003\" r=\"2\"/>\n",
       "<circle clip-path=\"url(#clip352)\" style=\"fill:#009af9; stroke:none; fill-opacity:0\" cx=\"1232.16\" cy=\"916.256\" r=\"2\"/>\n",
       "<circle clip-path=\"url(#clip352)\" style=\"fill:#009af9; stroke:none; fill-opacity:0\" cx=\"1270.62\" cy=\"1061.09\" r=\"2\"/>\n",
       "<circle clip-path=\"url(#clip352)\" style=\"fill:#009af9; stroke:none; fill-opacity:0\" cx=\"1309.07\" cy=\"843.838\" r=\"2\"/>\n",
       "<circle clip-path=\"url(#clip352)\" style=\"fill:#009af9; stroke:none; fill-opacity:0\" cx=\"1347.53\" cy=\"771.421\" r=\"2\"/>\n",
       "<circle clip-path=\"url(#clip352)\" style=\"fill:#009af9; stroke:none; fill-opacity:0\" cx=\"1385.99\" cy=\"843.838\" r=\"2\"/>\n",
       "<circle clip-path=\"url(#clip352)\" style=\"fill:#009af9; stroke:none; fill-opacity:0\" cx=\"1424.45\" cy=\"916.256\" r=\"2\"/>\n",
       "<circle clip-path=\"url(#clip352)\" style=\"fill:#009af9; stroke:none; fill-opacity:0\" cx=\"1462.91\" cy=\"771.421\" r=\"2\"/>\n",
       "<circle clip-path=\"url(#clip352)\" style=\"fill:#009af9; stroke:none; fill-opacity:0\" cx=\"1501.37\" cy=\"1061.09\" r=\"2\"/>\n",
       "<circle clip-path=\"url(#clip352)\" style=\"fill:#009af9; stroke:none; fill-opacity:0\" cx=\"1539.83\" cy=\"843.838\" r=\"2\"/>\n",
       "<circle clip-path=\"url(#clip352)\" style=\"fill:#009af9; stroke:none; fill-opacity:0\" cx=\"1578.29\" cy=\"771.421\" r=\"2\"/>\n",
       "<circle clip-path=\"url(#clip352)\" style=\"fill:#009af9; stroke:none; fill-opacity:0\" cx=\"1616.75\" cy=\"843.838\" r=\"2\"/>\n",
       "<circle clip-path=\"url(#clip352)\" style=\"fill:#009af9; stroke:none; fill-opacity:0\" cx=\"1655.21\" cy=\"1133.51\" r=\"2\"/>\n",
       "<circle clip-path=\"url(#clip352)\" style=\"fill:#009af9; stroke:none; fill-opacity:0\" cx=\"1693.66\" cy=\"1133.51\" r=\"2\"/>\n",
       "<circle clip-path=\"url(#clip352)\" style=\"fill:#009af9; stroke:none; fill-opacity:0\" cx=\"1732.12\" cy=\"771.421\" r=\"2\"/>\n",
       "<circle clip-path=\"url(#clip352)\" style=\"fill:#009af9; stroke:none; fill-opacity:0\" cx=\"1770.58\" cy=\"1205.93\" r=\"2\"/>\n",
       "<circle clip-path=\"url(#clip352)\" style=\"fill:#009af9; stroke:none; fill-opacity:0\" cx=\"1809.04\" cy=\"1350.76\" r=\"2\"/>\n",
       "<circle clip-path=\"url(#clip352)\" style=\"fill:#009af9; stroke:none; fill-opacity:0\" cx=\"1847.5\" cy=\"1278.34\" r=\"2\"/>\n",
       "<circle clip-path=\"url(#clip352)\" style=\"fill:#009af9; stroke:none; fill-opacity:0\" cx=\"1885.96\" cy=\"1061.09\" r=\"2\"/>\n",
       "<circle clip-path=\"url(#clip352)\" style=\"fill:#009af9; stroke:none; fill-opacity:0\" cx=\"1924.42\" cy=\"988.674\" r=\"2\"/>\n",
       "<circle clip-path=\"url(#clip352)\" style=\"fill:#009af9; stroke:none; fill-opacity:0\" cx=\"1962.88\" cy=\"916.256\" r=\"2\"/>\n",
       "<circle clip-path=\"url(#clip352)\" style=\"fill:#009af9; stroke:none; fill-opacity:0\" cx=\"2001.34\" cy=\"1278.34\" r=\"2\"/>\n",
       "<circle clip-path=\"url(#clip352)\" style=\"fill:#009af9; stroke:none; fill-opacity:0\" cx=\"2039.79\" cy=\"916.256\" r=\"2\"/>\n",
       "<circle clip-path=\"url(#clip352)\" style=\"fill:#009af9; stroke:none; fill-opacity:0\" cx=\"2078.25\" cy=\"1061.09\" r=\"2\"/>\n",
       "<circle clip-path=\"url(#clip352)\" style=\"fill:#009af9; stroke:none; fill-opacity:0\" cx=\"2116.71\" cy=\"988.674\" r=\"2\"/>\n",
       "<circle clip-path=\"url(#clip352)\" style=\"fill:#009af9; stroke:none; fill-opacity:0\" cx=\"2155.17\" cy=\"1133.51\" r=\"2\"/>\n",
       "<circle clip-path=\"url(#clip352)\" style=\"fill:#009af9; stroke:none; fill-opacity:0\" cx=\"2193.63\" cy=\"1061.09\" r=\"2\"/>\n",
       "<circle clip-path=\"url(#clip352)\" style=\"fill:#009af9; stroke:none; fill-opacity:0\" cx=\"2232.09\" cy=\"1133.51\" r=\"2\"/>\n",
       "<circle clip-path=\"url(#clip352)\" style=\"fill:#009af9; stroke:none; fill-opacity:0\" cx=\"2270.55\" cy=\"1061.09\" r=\"2\"/>\n",
       "<circle clip-path=\"url(#clip352)\" style=\"fill:#009af9; stroke:none; fill-opacity:0\" cx=\"2309.01\" cy=\"843.838\" r=\"2\"/>\n",
       "<circle clip-path=\"url(#clip352)\" style=\"fill:#009af9; stroke:none; fill-opacity:0\" cx=\"2347.47\" cy=\"1278.34\" r=\"2\"/>\n",
       "</svg>\n"
      ],
      "text/html": [
       "<?xml version=\"1.0\" encoding=\"utf-8\"?>\n",
       "<svg xmlns=\"http://www.w3.org/2000/svg\" xmlns:xlink=\"http://www.w3.org/1999/xlink\" width=\"600\" height=\"400\" viewBox=\"0 0 2400 1600\">\n",
       "<defs>\n",
       "  <clipPath id=\"clip400\">\n",
       "    <rect x=\"0\" y=\"0\" width=\"2400\" height=\"1600\"/>\n",
       "  </clipPath>\n",
       "</defs>\n",
       "<path clip-path=\"url(#clip400)\" d=\"M0 1600 L2400 1600 L2400 0 L0 0  Z\" fill=\"#ffffff\" fill-rule=\"evenodd\" fill-opacity=\"1\"/>\n",
       "<defs>\n",
       "  <clipPath id=\"clip401\">\n",
       "    <rect x=\"480\" y=\"0\" width=\"1681\" height=\"1600\"/>\n",
       "  </clipPath>\n",
       "</defs>\n",
       "<path clip-path=\"url(#clip400)\" d=\"M202.227 1423.18 L2352.76 1423.18 L2352.76 47.2441 L202.227 47.2441  Z\" fill=\"#ffffff\" fill-rule=\"evenodd\" fill-opacity=\"1\"/>\n",
       "<defs>\n",
       "  <clipPath id=\"clip402\">\n",
       "    <rect x=\"202\" y=\"47\" width=\"2152\" height=\"1377\"/>\n",
       "  </clipPath>\n",
       "</defs>\n",
       "<polyline clip-path=\"url(#clip402)\" style=\"stroke:#000000; stroke-linecap:round; stroke-linejoin:round; stroke-width:2; stroke-opacity:0.1; fill:none\" points=\"328.373,1423.18 328.373,47.2441 \"/>\n",
       "<polyline clip-path=\"url(#clip402)\" style=\"stroke:#000000; stroke-linecap:round; stroke-linejoin:round; stroke-width:2; stroke-opacity:0.1; fill:none\" points=\"712.962,1423.18 712.962,47.2441 \"/>\n",
       "<polyline clip-path=\"url(#clip402)\" style=\"stroke:#000000; stroke-linecap:round; stroke-linejoin:round; stroke-width:2; stroke-opacity:0.1; fill:none\" points=\"1097.55,1423.18 1097.55,47.2441 \"/>\n",
       "<polyline clip-path=\"url(#clip402)\" style=\"stroke:#000000; stroke-linecap:round; stroke-linejoin:round; stroke-width:2; stroke-opacity:0.1; fill:none\" points=\"1482.14,1423.18 1482.14,47.2441 \"/>\n",
       "<polyline clip-path=\"url(#clip402)\" style=\"stroke:#000000; stroke-linecap:round; stroke-linejoin:round; stroke-width:2; stroke-opacity:0.1; fill:none\" points=\"1866.73,1423.18 1866.73,47.2441 \"/>\n",
       "<polyline clip-path=\"url(#clip402)\" style=\"stroke:#000000; stroke-linecap:round; stroke-linejoin:round; stroke-width:2; stroke-opacity:0.1; fill:none\" points=\"2251.32,1423.18 2251.32,47.2441 \"/>\n",
       "<polyline clip-path=\"url(#clip400)\" style=\"stroke:#000000; stroke-linecap:round; stroke-linejoin:round; stroke-width:4; stroke-opacity:1; fill:none\" points=\"202.227,1423.18 2352.76,1423.18 \"/>\n",
       "<polyline clip-path=\"url(#clip400)\" style=\"stroke:#000000; stroke-linecap:round; stroke-linejoin:round; stroke-width:4; stroke-opacity:1; fill:none\" points=\"328.373,1423.18 328.373,1404.28 \"/>\n",
       "<polyline clip-path=\"url(#clip400)\" style=\"stroke:#000000; stroke-linecap:round; stroke-linejoin:round; stroke-width:4; stroke-opacity:1; fill:none\" points=\"712.962,1423.18 712.962,1404.28 \"/>\n",
       "<polyline clip-path=\"url(#clip400)\" style=\"stroke:#000000; stroke-linecap:round; stroke-linejoin:round; stroke-width:4; stroke-opacity:1; fill:none\" points=\"1097.55,1423.18 1097.55,1404.28 \"/>\n",
       "<polyline clip-path=\"url(#clip400)\" style=\"stroke:#000000; stroke-linecap:round; stroke-linejoin:round; stroke-width:4; stroke-opacity:1; fill:none\" points=\"1482.14,1423.18 1482.14,1404.28 \"/>\n",
       "<polyline clip-path=\"url(#clip400)\" style=\"stroke:#000000; stroke-linecap:round; stroke-linejoin:round; stroke-width:4; stroke-opacity:1; fill:none\" points=\"1866.73,1423.18 1866.73,1404.28 \"/>\n",
       "<polyline clip-path=\"url(#clip400)\" style=\"stroke:#000000; stroke-linecap:round; stroke-linejoin:round; stroke-width:4; stroke-opacity:1; fill:none\" points=\"2251.32,1423.18 2251.32,1404.28 \"/>\n",
       "<path clip-path=\"url(#clip400)\" d=\"M281.382 1484.86 L281.382 1480.6 Q283.141 1481.44 284.947 1481.88 Q286.753 1482.32 288.489 1482.32 Q293.118 1482.32 295.549 1479.21 Q298.002 1476.09 298.35 1469.75 Q297.007 1471.74 294.947 1472.8 Q292.887 1473.87 290.387 1473.87 Q285.202 1473.87 282.169 1470.74 Q279.16 1467.59 279.16 1462.15 Q279.16 1456.83 282.308 1453.61 Q285.456 1450.39 290.688 1450.39 Q296.683 1450.39 299.831 1455 Q303.002 1459.58 303.002 1468.33 Q303.002 1476.51 299.114 1481.39 Q295.248 1486.25 288.697 1486.25 Q286.938 1486.25 285.132 1485.9 Q283.327 1485.56 281.382 1484.86 M290.688 1470.21 Q293.836 1470.21 295.665 1468.06 Q297.516 1465.9 297.516 1462.15 Q297.516 1458.43 295.665 1456.27 Q293.836 1454.1 290.688 1454.1 Q287.54 1454.1 285.688 1456.27 Q283.859 1458.43 283.859 1462.15 Q283.859 1465.9 285.688 1468.06 Q287.54 1470.21 290.688 1470.21 Z\" fill=\"#000000\" fill-rule=\"nonzero\" fill-opacity=\"1\" /><path clip-path=\"url(#clip400)\" d=\"M311.405 1479.7 L316.289 1479.7 L316.289 1485.58 L311.405 1485.58 L311.405 1479.7 Z\" fill=\"#000000\" fill-rule=\"nonzero\" fill-opacity=\"1\" /><path clip-path=\"url(#clip400)\" d=\"M325.294 1451.02 L347.516 1451.02 L347.516 1453.01 L334.97 1485.58 L330.086 1485.58 L341.891 1454.96 L325.294 1454.96 L325.294 1451.02 Z\" fill=\"#000000\" fill-rule=\"nonzero\" fill-opacity=\"1\" /><path clip-path=\"url(#clip400)\" d=\"M356.683 1451.02 L375.039 1451.02 L375.039 1454.96 L360.965 1454.96 L360.965 1463.43 Q361.984 1463.08 363.002 1462.92 Q364.021 1462.73 365.039 1462.73 Q370.826 1462.73 374.206 1465.9 Q377.585 1469.08 377.585 1474.49 Q377.585 1480.07 374.113 1483.17 Q370.641 1486.25 364.322 1486.25 Q362.146 1486.25 359.877 1485.88 Q357.632 1485.51 355.224 1484.77 L355.224 1480.07 Q357.308 1481.2 359.53 1481.76 Q361.752 1482.32 364.229 1482.32 Q368.234 1482.32 370.572 1480.21 Q372.909 1478.1 372.909 1474.49 Q372.909 1470.88 370.572 1468.77 Q368.234 1466.67 364.229 1466.67 Q362.354 1466.67 360.479 1467.08 Q358.627 1467.5 356.683 1468.38 L356.683 1451.02 Z\" fill=\"#000000\" fill-rule=\"nonzero\" fill-opacity=\"1\" /><path clip-path=\"url(#clip400)\" d=\"M665.474 1484.86 L665.474 1480.6 Q667.233 1481.44 669.038 1481.88 Q670.844 1482.32 672.58 1482.32 Q677.21 1482.32 679.64 1479.21 Q682.094 1476.09 682.441 1469.75 Q681.099 1471.74 679.038 1472.8 Q676.978 1473.87 674.478 1473.87 Q669.293 1473.87 666.261 1470.74 Q663.251 1467.59 663.251 1462.15 Q663.251 1456.83 666.4 1453.61 Q669.548 1450.39 674.779 1450.39 Q680.774 1450.39 683.923 1455 Q687.094 1459.58 687.094 1468.33 Q687.094 1476.51 683.205 1481.39 Q679.339 1486.25 672.788 1486.25 Q671.029 1486.25 669.224 1485.9 Q667.418 1485.56 665.474 1484.86 M674.779 1470.21 Q677.927 1470.21 679.756 1468.06 Q681.608 1465.9 681.608 1462.15 Q681.608 1458.43 679.756 1456.27 Q677.927 1454.1 674.779 1454.1 Q671.631 1454.1 669.779 1456.27 Q667.95 1458.43 667.95 1462.15 Q667.95 1465.9 669.779 1468.06 Q671.631 1470.21 674.779 1470.21 Z\" fill=\"#000000\" fill-rule=\"nonzero\" fill-opacity=\"1\" /><path clip-path=\"url(#clip400)\" d=\"M695.497 1479.7 L700.381 1479.7 L700.381 1485.58 L695.497 1485.58 L695.497 1479.7 Z\" fill=\"#000000\" fill-rule=\"nonzero\" fill-opacity=\"1\" /><path clip-path=\"url(#clip400)\" d=\"M720.566 1469.17 Q717.233 1469.17 715.311 1470.95 Q713.413 1472.73 713.413 1475.86 Q713.413 1478.98 715.311 1480.77 Q717.233 1482.55 720.566 1482.55 Q723.899 1482.55 725.821 1480.77 Q727.742 1478.96 727.742 1475.86 Q727.742 1472.73 725.821 1470.95 Q723.922 1469.17 720.566 1469.17 M715.89 1467.18 Q712.881 1466.44 711.191 1464.38 Q709.524 1462.32 709.524 1459.35 Q709.524 1455.21 712.464 1452.8 Q715.427 1450.39 720.566 1450.39 Q725.728 1450.39 728.668 1452.8 Q731.608 1455.21 731.608 1459.35 Q731.608 1462.32 729.918 1464.38 Q728.251 1466.44 725.265 1467.18 Q728.645 1467.96 730.52 1470.26 Q732.418 1472.55 732.418 1475.86 Q732.418 1480.88 729.339 1483.57 Q726.283 1486.25 720.566 1486.25 Q714.848 1486.25 711.77 1483.57 Q708.714 1480.88 708.714 1475.86 Q708.714 1472.55 710.612 1470.26 Q712.51 1467.96 715.89 1467.18 M714.177 1459.79 Q714.177 1462.48 715.844 1463.98 Q717.534 1465.49 720.566 1465.49 Q723.575 1465.49 725.265 1463.98 Q726.978 1462.48 726.978 1459.79 Q726.978 1457.11 725.265 1455.6 Q723.575 1454.1 720.566 1454.1 Q717.534 1454.1 715.844 1455.6 Q714.177 1457.11 714.177 1459.79 Z\" fill=\"#000000\" fill-rule=\"nonzero\" fill-opacity=\"1\" /><path clip-path=\"url(#clip400)\" d=\"M750.728 1454.1 Q747.117 1454.1 745.288 1457.66 Q743.482 1461.2 743.482 1468.33 Q743.482 1475.44 745.288 1479.01 Q747.117 1482.55 750.728 1482.55 Q754.362 1482.55 756.168 1479.01 Q757.996 1475.44 757.996 1468.33 Q757.996 1461.2 756.168 1457.66 Q754.362 1454.1 750.728 1454.1 M750.728 1450.39 Q756.538 1450.39 759.593 1455 Q762.672 1459.58 762.672 1468.33 Q762.672 1477.06 759.593 1481.67 Q756.538 1486.25 750.728 1486.25 Q744.918 1486.25 741.839 1481.67 Q738.783 1477.06 738.783 1468.33 Q738.783 1459.58 741.839 1455 Q744.918 1450.39 750.728 1450.39 Z\" fill=\"#000000\" fill-rule=\"nonzero\" fill-opacity=\"1\" /><path clip-path=\"url(#clip400)\" d=\"M1050.56 1484.86 L1050.56 1480.6 Q1052.32 1481.44 1054.13 1481.88 Q1055.93 1482.32 1057.67 1482.32 Q1062.3 1482.32 1064.73 1479.21 Q1067.18 1476.09 1067.53 1469.75 Q1066.19 1471.74 1064.13 1472.8 Q1062.06 1473.87 1059.56 1473.87 Q1054.38 1473.87 1051.35 1470.74 Q1048.34 1467.59 1048.34 1462.15 Q1048.34 1456.83 1051.49 1453.61 Q1054.63 1450.39 1059.87 1450.39 Q1065.86 1450.39 1069.01 1455 Q1072.18 1459.58 1072.18 1468.33 Q1072.18 1476.51 1068.29 1481.39 Q1064.43 1486.25 1057.88 1486.25 Q1056.12 1486.25 1054.31 1485.9 Q1052.5 1485.56 1050.56 1484.86 M1059.87 1470.21 Q1063.01 1470.21 1064.84 1468.06 Q1066.69 1465.9 1066.69 1462.15 Q1066.69 1458.43 1064.84 1456.27 Q1063.01 1454.1 1059.87 1454.1 Q1056.72 1454.1 1054.87 1456.27 Q1053.04 1458.43 1053.04 1462.15 Q1053.04 1465.9 1054.87 1468.06 Q1056.72 1470.21 1059.87 1470.21 Z\" fill=\"#000000\" fill-rule=\"nonzero\" fill-opacity=\"1\" /><path clip-path=\"url(#clip400)\" d=\"M1080.58 1479.7 L1085.47 1479.7 L1085.47 1485.58 L1080.58 1485.58 L1080.58 1479.7 Z\" fill=\"#000000\" fill-rule=\"nonzero\" fill-opacity=\"1\" /><path clip-path=\"url(#clip400)\" d=\"M1105.65 1469.17 Q1102.32 1469.17 1100.4 1470.95 Q1098.5 1472.73 1098.5 1475.86 Q1098.5 1478.98 1100.4 1480.77 Q1102.32 1482.55 1105.65 1482.55 Q1108.99 1482.55 1110.91 1480.77 Q1112.83 1478.96 1112.83 1475.86 Q1112.83 1472.73 1110.91 1470.95 Q1109.01 1469.17 1105.65 1469.17 M1100.98 1467.18 Q1097.97 1466.44 1096.28 1464.38 Q1094.61 1462.32 1094.61 1459.35 Q1094.61 1455.21 1097.55 1452.8 Q1100.51 1450.39 1105.65 1450.39 Q1110.81 1450.39 1113.75 1452.8 Q1116.69 1455.21 1116.69 1459.35 Q1116.69 1462.32 1115 1464.38 Q1113.34 1466.44 1110.35 1467.18 Q1113.73 1467.96 1115.61 1470.26 Q1117.5 1472.55 1117.5 1475.86 Q1117.5 1480.88 1114.43 1483.57 Q1111.37 1486.25 1105.65 1486.25 Q1099.94 1486.25 1096.86 1483.57 Q1093.8 1480.88 1093.8 1475.86 Q1093.8 1472.55 1095.7 1470.26 Q1097.6 1467.96 1100.98 1467.18 M1099.26 1459.79 Q1099.26 1462.48 1100.93 1463.98 Q1102.62 1465.49 1105.65 1465.49 Q1108.66 1465.49 1110.35 1463.98 Q1112.06 1462.48 1112.06 1459.79 Q1112.06 1457.11 1110.35 1455.6 Q1108.66 1454.1 1105.65 1454.1 Q1102.62 1454.1 1100.93 1455.6 Q1099.26 1457.11 1099.26 1459.79 Z\" fill=\"#000000\" fill-rule=\"nonzero\" fill-opacity=\"1\" /><path clip-path=\"url(#clip400)\" d=\"M1125.86 1451.02 L1144.22 1451.02 L1144.22 1454.96 L1130.14 1454.96 L1130.14 1463.43 Q1131.16 1463.08 1132.18 1462.92 Q1133.2 1462.73 1134.22 1462.73 Q1140 1462.73 1143.38 1465.9 Q1146.76 1469.08 1146.76 1474.49 Q1146.76 1480.07 1143.29 1483.17 Q1139.82 1486.25 1133.5 1486.25 Q1131.32 1486.25 1129.06 1485.88 Q1126.81 1485.51 1124.4 1484.77 L1124.4 1480.07 Q1126.49 1481.2 1128.71 1481.76 Q1130.93 1482.32 1133.41 1482.32 Q1137.41 1482.32 1139.75 1480.21 Q1142.09 1478.1 1142.09 1474.49 Q1142.09 1470.88 1139.75 1468.77 Q1137.41 1466.67 1133.41 1466.67 Q1131.53 1466.67 1129.66 1467.08 Q1127.81 1467.5 1125.86 1468.38 L1125.86 1451.02 Z\" fill=\"#000000\" fill-rule=\"nonzero\" fill-opacity=\"1\" /><path clip-path=\"url(#clip400)\" d=\"M1434.65 1484.86 L1434.65 1480.6 Q1436.41 1481.44 1438.22 1481.88 Q1440.02 1482.32 1441.76 1482.32 Q1446.39 1482.32 1448.82 1479.21 Q1451.27 1476.09 1451.62 1469.75 Q1450.28 1471.74 1448.22 1472.8 Q1446.16 1473.87 1443.66 1473.87 Q1438.47 1473.87 1435.44 1470.74 Q1432.43 1467.59 1432.43 1462.15 Q1432.43 1456.83 1435.58 1453.61 Q1438.73 1450.39 1443.96 1450.39 Q1449.95 1450.39 1453.1 1455 Q1456.27 1459.58 1456.27 1468.33 Q1456.27 1476.51 1452.38 1481.39 Q1448.52 1486.25 1441.97 1486.25 Q1440.21 1486.25 1438.4 1485.9 Q1436.6 1485.56 1434.65 1484.86 M1443.96 1470.21 Q1447.11 1470.21 1448.93 1468.06 Q1450.79 1465.9 1450.79 1462.15 Q1450.79 1458.43 1448.93 1456.27 Q1447.11 1454.1 1443.96 1454.1 Q1440.81 1454.1 1438.96 1456.27 Q1437.13 1458.43 1437.13 1462.15 Q1437.13 1465.9 1438.96 1468.06 Q1440.81 1470.21 1443.96 1470.21 Z\" fill=\"#000000\" fill-rule=\"nonzero\" fill-opacity=\"1\" /><path clip-path=\"url(#clip400)\" d=\"M1464.67 1479.7 L1469.56 1479.7 L1469.56 1485.58 L1464.67 1485.58 L1464.67 1479.7 Z\" fill=\"#000000\" fill-rule=\"nonzero\" fill-opacity=\"1\" /><path clip-path=\"url(#clip400)\" d=\"M1479.88 1484.86 L1479.88 1480.6 Q1481.64 1481.44 1483.45 1481.88 Q1485.25 1482.32 1486.99 1482.32 Q1491.62 1482.32 1494.05 1479.21 Q1496.5 1476.09 1496.85 1469.75 Q1495.51 1471.74 1493.45 1472.8 Q1491.39 1473.87 1488.89 1473.87 Q1483.7 1473.87 1480.67 1470.74 Q1477.66 1467.59 1477.66 1462.15 Q1477.66 1456.83 1480.81 1453.61 Q1483.96 1450.39 1489.19 1450.39 Q1495.18 1450.39 1498.33 1455 Q1501.5 1459.58 1501.5 1468.33 Q1501.5 1476.51 1497.61 1481.39 Q1493.75 1486.25 1487.2 1486.25 Q1485.44 1486.25 1483.63 1485.9 Q1481.83 1485.56 1479.88 1484.86 M1489.19 1470.21 Q1492.34 1470.21 1494.17 1468.06 Q1496.02 1465.9 1496.02 1462.15 Q1496.02 1458.43 1494.17 1456.27 Q1492.34 1454.1 1489.19 1454.1 Q1486.04 1454.1 1484.19 1456.27 Q1482.36 1458.43 1482.36 1462.15 Q1482.36 1465.9 1484.19 1468.06 Q1486.04 1470.21 1489.19 1470.21 Z\" fill=\"#000000\" fill-rule=\"nonzero\" fill-opacity=\"1\" /><path clip-path=\"url(#clip400)\" d=\"M1519.91 1454.1 Q1516.29 1454.1 1514.47 1457.66 Q1512.66 1461.2 1512.66 1468.33 Q1512.66 1475.44 1514.47 1479.01 Q1516.29 1482.55 1519.91 1482.55 Q1523.54 1482.55 1525.35 1479.01 Q1527.17 1475.44 1527.17 1468.33 Q1527.17 1461.2 1525.35 1457.66 Q1523.54 1454.1 1519.91 1454.1 M1519.91 1450.39 Q1525.72 1450.39 1528.77 1455 Q1531.85 1459.58 1531.85 1468.33 Q1531.85 1477.06 1528.77 1481.67 Q1525.72 1486.25 1519.91 1486.25 Q1514.1 1486.25 1511.02 1481.67 Q1507.96 1477.06 1507.96 1468.33 Q1507.96 1459.58 1511.02 1455 Q1514.1 1450.39 1519.91 1450.39 Z\" fill=\"#000000\" fill-rule=\"nonzero\" fill-opacity=\"1\" /><path clip-path=\"url(#clip400)\" d=\"M1819.74 1484.86 L1819.74 1480.6 Q1821.5 1481.44 1823.3 1481.88 Q1825.11 1482.32 1826.85 1482.32 Q1831.47 1482.32 1833.91 1479.21 Q1836.36 1476.09 1836.71 1469.75 Q1835.36 1471.74 1833.3 1472.8 Q1831.24 1473.87 1828.74 1473.87 Q1823.56 1473.87 1820.53 1470.74 Q1817.52 1467.59 1817.52 1462.15 Q1817.52 1456.83 1820.66 1453.61 Q1823.81 1450.39 1829.04 1450.39 Q1835.04 1450.39 1838.19 1455 Q1841.36 1459.58 1841.36 1468.33 Q1841.36 1476.51 1837.47 1481.39 Q1833.6 1486.25 1827.05 1486.25 Q1825.29 1486.25 1823.49 1485.9 Q1821.68 1485.56 1819.74 1484.86 M1829.04 1470.21 Q1832.19 1470.21 1834.02 1468.06 Q1835.87 1465.9 1835.87 1462.15 Q1835.87 1458.43 1834.02 1456.27 Q1832.19 1454.1 1829.04 1454.1 Q1825.9 1454.1 1824.04 1456.27 Q1822.22 1458.43 1822.22 1462.15 Q1822.22 1465.9 1824.04 1468.06 Q1825.9 1470.21 1829.04 1470.21 Z\" fill=\"#000000\" fill-rule=\"nonzero\" fill-opacity=\"1\" /><path clip-path=\"url(#clip400)\" d=\"M1849.76 1479.7 L1854.65 1479.7 L1854.65 1485.58 L1849.76 1485.58 L1849.76 1479.7 Z\" fill=\"#000000\" fill-rule=\"nonzero\" fill-opacity=\"1\" /><path clip-path=\"url(#clip400)\" d=\"M1864.97 1484.86 L1864.97 1480.6 Q1866.73 1481.44 1868.53 1481.88 Q1870.34 1482.32 1872.08 1482.32 Q1876.71 1482.32 1879.14 1479.21 Q1881.59 1476.09 1881.94 1469.75 Q1880.59 1471.74 1878.53 1472.8 Q1876.47 1473.87 1873.97 1473.87 Q1868.79 1473.87 1865.76 1470.74 Q1862.75 1467.59 1862.75 1462.15 Q1862.75 1456.83 1865.9 1453.61 Q1869.04 1450.39 1874.28 1450.39 Q1880.27 1450.39 1883.42 1455 Q1886.59 1459.58 1886.59 1468.33 Q1886.59 1476.51 1882.7 1481.39 Q1878.84 1486.25 1872.28 1486.25 Q1870.53 1486.25 1868.72 1485.9 Q1866.91 1485.56 1864.97 1484.86 M1874.28 1470.21 Q1877.42 1470.21 1879.25 1468.06 Q1881.1 1465.9 1881.1 1462.15 Q1881.1 1458.43 1879.25 1456.27 Q1877.42 1454.1 1874.28 1454.1 Q1871.13 1454.1 1869.28 1456.27 Q1867.45 1458.43 1867.45 1462.15 Q1867.45 1465.9 1869.28 1468.06 Q1871.13 1470.21 1874.28 1470.21 Z\" fill=\"#000000\" fill-rule=\"nonzero\" fill-opacity=\"1\" /><path clip-path=\"url(#clip400)\" d=\"M1895.04 1451.02 L1913.4 1451.02 L1913.4 1454.96 L1899.32 1454.96 L1899.32 1463.43 Q1900.34 1463.08 1901.36 1462.92 Q1902.38 1462.73 1903.4 1462.73 Q1909.18 1462.73 1912.56 1465.9 Q1915.94 1469.08 1915.94 1474.49 Q1915.94 1480.07 1912.47 1483.17 Q1909 1486.25 1902.68 1486.25 Q1900.5 1486.25 1898.23 1485.88 Q1895.99 1485.51 1893.58 1484.77 L1893.58 1480.07 Q1895.66 1481.2 1897.89 1481.76 Q1900.11 1482.32 1902.59 1482.32 Q1906.59 1482.32 1908.93 1480.21 Q1911.27 1478.1 1911.27 1474.49 Q1911.27 1470.88 1908.93 1468.77 Q1906.59 1466.67 1902.59 1466.67 Q1900.71 1466.67 1898.84 1467.08 Q1896.98 1467.5 1895.04 1468.38 L1895.04 1451.02 Z\" fill=\"#000000\" fill-rule=\"nonzero\" fill-opacity=\"1\" /><path clip-path=\"url(#clip400)\" d=\"M2188.31 1481.64 L2195.95 1481.64 L2195.95 1455.28 L2187.64 1456.95 L2187.64 1452.69 L2195.9 1451.02 L2200.58 1451.02 L2200.58 1481.64 L2208.22 1481.64 L2208.22 1485.58 L2188.31 1485.58 L2188.31 1481.64 Z\" fill=\"#000000\" fill-rule=\"nonzero\" fill-opacity=\"1\" /><path clip-path=\"url(#clip400)\" d=\"M2227.66 1454.1 Q2224.05 1454.1 2222.22 1457.66 Q2220.42 1461.2 2220.42 1468.33 Q2220.42 1475.44 2222.22 1479.01 Q2224.05 1482.55 2227.66 1482.55 Q2231.3 1482.55 2233.1 1479.01 Q2234.93 1475.44 2234.93 1468.33 Q2234.93 1461.2 2233.1 1457.66 Q2231.3 1454.1 2227.66 1454.1 M2227.66 1450.39 Q2233.47 1450.39 2236.53 1455 Q2239.61 1459.58 2239.61 1468.33 Q2239.61 1477.06 2236.53 1481.67 Q2233.47 1486.25 2227.66 1486.25 Q2221.85 1486.25 2218.77 1481.67 Q2215.72 1477.06 2215.72 1468.33 Q2215.72 1459.58 2218.77 1455 Q2221.85 1450.39 2227.66 1450.39 Z\" fill=\"#000000\" fill-rule=\"nonzero\" fill-opacity=\"1\" /><path clip-path=\"url(#clip400)\" d=\"M2247.82 1479.7 L2252.71 1479.7 L2252.71 1485.58 L2247.82 1485.58 L2247.82 1479.7 Z\" fill=\"#000000\" fill-rule=\"nonzero\" fill-opacity=\"1\" /><path clip-path=\"url(#clip400)\" d=\"M2272.89 1454.1 Q2269.28 1454.1 2267.45 1457.66 Q2265.65 1461.2 2265.65 1468.33 Q2265.65 1475.44 2267.45 1479.01 Q2269.28 1482.55 2272.89 1482.55 Q2276.53 1482.55 2278.33 1479.01 Q2280.16 1475.44 2280.16 1468.33 Q2280.16 1461.2 2278.33 1457.66 Q2276.53 1454.1 2272.89 1454.1 M2272.89 1450.39 Q2278.7 1450.39 2281.76 1455 Q2284.84 1459.58 2284.84 1468.33 Q2284.84 1477.06 2281.76 1481.67 Q2278.7 1486.25 2272.89 1486.25 Q2267.08 1486.25 2264 1481.67 Q2260.95 1477.06 2260.95 1468.33 Q2260.95 1459.58 2264 1455 Q2267.08 1450.39 2272.89 1450.39 Z\" fill=\"#000000\" fill-rule=\"nonzero\" fill-opacity=\"1\" /><path clip-path=\"url(#clip400)\" d=\"M2303.05 1454.1 Q2299.44 1454.1 2297.61 1457.66 Q2295.81 1461.2 2295.81 1468.33 Q2295.81 1475.44 2297.61 1479.01 Q2299.44 1482.55 2303.05 1482.55 Q2306.69 1482.55 2308.49 1479.01 Q2310.32 1475.44 2310.32 1468.33 Q2310.32 1461.2 2308.49 1457.66 Q2306.69 1454.1 2303.05 1454.1 M2303.05 1450.39 Q2308.86 1450.39 2311.92 1455 Q2315 1459.58 2315 1468.33 Q2315 1477.06 2311.92 1481.67 Q2308.86 1486.25 2303.05 1486.25 Q2297.24 1486.25 2294.17 1481.67 Q2291.11 1477.06 2291.11 1468.33 Q2291.11 1459.58 2294.17 1455 Q2297.24 1450.39 2303.05 1450.39 Z\" fill=\"#000000\" fill-rule=\"nonzero\" fill-opacity=\"1\" /><path clip-path=\"url(#clip400)\" d=\"M1108.83 1539.24 Q1111.03 1535.29 1114.08 1533.41 Q1117.14 1531.54 1121.28 1531.54 Q1126.85 1531.54 1129.87 1535.45 Q1132.89 1539.33 1132.89 1546.53 L1132.89 1568.04 L1127.01 1568.04 L1127.01 1546.72 Q1127.01 1541.59 1125.19 1539.11 Q1123.38 1536.63 1119.65 1536.63 Q1115.1 1536.63 1112.46 1539.65 Q1109.82 1542.68 1109.82 1547.9 L1109.82 1568.04 L1103.93 1568.04 L1103.93 1546.72 Q1103.93 1541.56 1102.12 1539.11 Q1100.3 1536.63 1096.51 1536.63 Q1092.03 1536.63 1089.39 1539.68 Q1086.74 1542.71 1086.74 1547.9 L1086.74 1568.04 L1080.86 1568.04 L1080.86 1532.4 L1086.74 1532.4 L1086.74 1537.93 Q1088.75 1534.66 1091.55 1533.1 Q1094.35 1531.54 1098.2 1531.54 Q1102.08 1531.54 1104.79 1533.51 Q1107.53 1535.48 1108.83 1539.24 Z\" fill=\"#000000\" fill-rule=\"nonzero\" fill-opacity=\"1\" /><path clip-path=\"url(#clip400)\" d=\"M1144.58 1532.4 L1150.43 1532.4 L1150.43 1568.04 L1144.58 1568.04 L1144.58 1532.4 M1144.58 1518.52 L1150.43 1518.52 L1150.43 1525.93 L1144.58 1525.93 L1144.58 1518.52 Z\" fill=\"#000000\" fill-rule=\"nonzero\" fill-opacity=\"1\" /><path clip-path=\"url(#clip400)\" d=\"M1162.69 1518.52 L1168.54 1518.52 L1168.54 1568.04 L1162.69 1568.04 L1162.69 1518.52 Z\" fill=\"#000000\" fill-rule=\"nonzero\" fill-opacity=\"1\" /><path clip-path=\"url(#clip400)\" d=\"M1180.8 1518.52 L1186.65 1518.52 L1186.65 1568.04 L1180.8 1568.04 L1180.8 1518.52 Z\" fill=\"#000000\" fill-rule=\"nonzero\" fill-opacity=\"1\" /><path clip-path=\"url(#clip400)\" d=\"M1198.91 1532.4 L1204.76 1532.4 L1204.76 1568.04 L1198.91 1568.04 L1198.91 1532.4 M1198.91 1518.52 L1204.76 1518.52 L1204.76 1525.93 L1198.91 1525.93 L1198.91 1518.52 Z\" fill=\"#000000\" fill-rule=\"nonzero\" fill-opacity=\"1\" /><path clip-path=\"url(#clip400)\" d=\"M1239.74 1533.45 L1239.74 1538.98 Q1237.26 1537.71 1234.59 1537.07 Q1231.91 1536.44 1229.05 1536.44 Q1224.69 1536.44 1222.49 1537.77 Q1220.33 1539.11 1220.33 1541.79 Q1220.33 1543.82 1221.89 1545 Q1223.45 1546.15 1228.16 1547.2 L1230.16 1547.64 Q1236.4 1548.98 1239.01 1551.43 Q1241.65 1553.85 1241.65 1558.21 Q1241.65 1563.17 1237.71 1566.07 Q1233.79 1568.97 1226.92 1568.97 Q1224.05 1568.97 1220.93 1568.39 Q1217.85 1567.85 1214.41 1566.74 L1214.41 1560.69 Q1217.65 1562.38 1220.81 1563.24 Q1223.96 1564.07 1227.04 1564.07 Q1231.18 1564.07 1233.41 1562.66 Q1235.64 1561.23 1235.64 1558.65 Q1235.64 1556.27 1234.01 1554.99 Q1232.42 1553.72 1226.98 1552.54 L1224.94 1552.07 Q1219.5 1550.92 1217.08 1548.56 Q1214.66 1546.18 1214.66 1542.04 Q1214.66 1537.01 1218.23 1534.27 Q1221.79 1531.54 1228.35 1531.54 Q1231.59 1531.54 1234.46 1532.01 Q1237.32 1532.49 1239.74 1533.45 Z\" fill=\"#000000\" fill-rule=\"nonzero\" fill-opacity=\"1\" /><path clip-path=\"url(#clip400)\" d=\"M1281.47 1548.76 L1281.47 1551.62 L1254.54 1551.62 Q1254.93 1557.67 1258.17 1560.85 Q1261.45 1564 1267.27 1564 Q1270.65 1564 1273.8 1563.17 Q1276.98 1562.35 1280.1 1560.69 L1280.1 1566.23 Q1276.95 1567.57 1273.64 1568.27 Q1270.33 1568.97 1266.92 1568.97 Q1258.39 1568.97 1253.4 1564 Q1248.43 1559.04 1248.43 1550.57 Q1248.43 1541.82 1253.14 1536.69 Q1257.89 1531.54 1265.91 1531.54 Q1273.1 1531.54 1277.27 1536.18 Q1281.47 1540.8 1281.47 1548.76 M1275.61 1547.04 Q1275.55 1542.23 1272.91 1539.37 Q1270.3 1536.5 1265.97 1536.5 Q1261.07 1536.5 1258.11 1539.27 Q1255.18 1542.04 1254.73 1547.07 L1275.61 1547.04 Z\" fill=\"#000000\" fill-rule=\"nonzero\" fill-opacity=\"1\" /><path clip-path=\"url(#clip400)\" d=\"M1316.74 1533.76 L1316.74 1539.24 Q1314.25 1537.87 1311.74 1537.2 Q1309.26 1536.5 1306.71 1536.5 Q1301.01 1536.5 1297.86 1540.13 Q1294.71 1543.73 1294.71 1550.25 Q1294.71 1556.78 1297.86 1560.4 Q1301.01 1564 1306.71 1564 Q1309.26 1564 1311.74 1563.33 Q1314.25 1562.63 1316.74 1561.26 L1316.74 1566.68 Q1314.29 1567.82 1311.64 1568.39 Q1309.03 1568.97 1306.07 1568.97 Q1298.02 1568.97 1293.28 1563.91 Q1288.54 1558.85 1288.54 1550.25 Q1288.54 1541.53 1293.31 1536.53 Q1298.12 1531.54 1306.46 1531.54 Q1309.16 1531.54 1311.74 1532.11 Q1314.32 1532.65 1316.74 1533.76 Z\" fill=\"#000000\" fill-rule=\"nonzero\" fill-opacity=\"1\" /><path clip-path=\"url(#clip400)\" d=\"M1340.73 1536.5 Q1336.02 1536.5 1333.29 1540.19 Q1330.55 1543.85 1330.55 1550.25 Q1330.55 1556.65 1333.26 1560.34 Q1335.99 1564 1340.73 1564 Q1345.41 1564 1348.15 1560.31 Q1350.89 1556.62 1350.89 1550.25 Q1350.89 1543.92 1348.15 1540.23 Q1345.41 1536.5 1340.73 1536.5 M1340.73 1531.54 Q1348.37 1531.54 1352.73 1536.5 Q1357.09 1541.47 1357.09 1550.25 Q1357.09 1559 1352.73 1564 Q1348.37 1568.97 1340.73 1568.97 Q1333.06 1568.97 1328.7 1564 Q1324.38 1559 1324.38 1550.25 Q1324.38 1541.47 1328.7 1536.5 Q1333.06 1531.54 1340.73 1531.54 Z\" fill=\"#000000\" fill-rule=\"nonzero\" fill-opacity=\"1\" /><path clip-path=\"url(#clip400)\" d=\"M1396.43 1546.53 L1396.43 1568.04 L1390.58 1568.04 L1390.58 1546.72 Q1390.58 1541.66 1388.61 1539.14 Q1386.63 1536.63 1382.68 1536.63 Q1377.94 1536.63 1375.21 1539.65 Q1372.47 1542.68 1372.47 1547.9 L1372.47 1568.04 L1366.58 1568.04 L1366.58 1532.4 L1372.47 1532.4 L1372.47 1537.93 Q1374.57 1534.72 1377.4 1533.13 Q1380.27 1531.54 1383.99 1531.54 Q1390.13 1531.54 1393.28 1535.36 Q1396.43 1539.14 1396.43 1546.53 Z\" fill=\"#000000\" fill-rule=\"nonzero\" fill-opacity=\"1\" /><path clip-path=\"url(#clip400)\" d=\"M1431.57 1537.81 L1431.57 1518.52 L1437.43 1518.52 L1437.43 1568.04 L1431.57 1568.04 L1431.57 1562.7 Q1429.73 1565.88 1426.89 1567.44 Q1424.09 1568.97 1420.15 1568.97 Q1413.69 1568.97 1409.61 1563.81 Q1405.57 1558.65 1405.57 1550.25 Q1405.57 1541.85 1409.61 1536.69 Q1413.69 1531.54 1420.15 1531.54 Q1424.09 1531.54 1426.89 1533.1 Q1429.73 1534.62 1431.57 1537.81 M1411.62 1550.25 Q1411.62 1556.71 1414.26 1560.4 Q1416.93 1564.07 1421.58 1564.07 Q1426.23 1564.07 1428.9 1560.4 Q1431.57 1556.71 1431.57 1550.25 Q1431.57 1543.79 1428.9 1540.13 Q1426.23 1536.44 1421.58 1536.44 Q1416.93 1536.44 1414.26 1540.13 Q1411.62 1543.79 1411.62 1550.25 Z\" fill=\"#000000\" fill-rule=\"nonzero\" fill-opacity=\"1\" /><path clip-path=\"url(#clip400)\" d=\"M1472.22 1533.45 L1472.22 1538.98 Q1469.74 1537.71 1467.06 1537.07 Q1464.39 1536.44 1461.52 1536.44 Q1457.16 1536.44 1454.97 1537.77 Q1452.8 1539.11 1452.8 1541.79 Q1452.8 1543.82 1454.36 1545 Q1455.92 1546.15 1460.63 1547.2 L1462.64 1547.64 Q1468.88 1548.98 1471.49 1551.43 Q1474.13 1553.85 1474.13 1558.21 Q1474.13 1563.17 1470.18 1566.07 Q1466.27 1568.97 1459.39 1568.97 Q1456.53 1568.97 1453.41 1568.39 Q1450.32 1567.85 1446.88 1566.74 L1446.88 1560.69 Q1450.13 1562.38 1453.28 1563.24 Q1456.43 1564.07 1459.52 1564.07 Q1463.66 1564.07 1465.88 1562.66 Q1468.11 1561.23 1468.11 1558.65 Q1468.11 1556.27 1466.49 1554.99 Q1464.9 1553.72 1459.46 1552.54 L1457.42 1552.07 Q1451.98 1550.92 1449.56 1548.56 Q1447.14 1546.18 1447.14 1542.04 Q1447.14 1537.01 1450.7 1534.27 Q1454.27 1531.54 1460.82 1531.54 Q1464.07 1531.54 1466.94 1532.01 Q1469.8 1532.49 1472.22 1533.45 Z\" fill=\"#000000\" fill-rule=\"nonzero\" fill-opacity=\"1\" /><polyline clip-path=\"url(#clip402)\" style=\"stroke:#000000; stroke-linecap:round; stroke-linejoin:round; stroke-width:2; stroke-opacity:0.1; fill:none\" points=\"202.227,1423.18 2352.76,1423.18 \"/>\n",
       "<polyline clip-path=\"url(#clip402)\" style=\"stroke:#000000; stroke-linecap:round; stroke-linejoin:round; stroke-width:2; stroke-opacity:0.1; fill:none\" points=\"202.227,1061.09 2352.76,1061.09 \"/>\n",
       "<polyline clip-path=\"url(#clip402)\" style=\"stroke:#000000; stroke-linecap:round; stroke-linejoin:round; stroke-width:2; stroke-opacity:0.1; fill:none\" points=\"202.227,699.003 2352.76,699.003 \"/>\n",
       "<polyline clip-path=\"url(#clip402)\" style=\"stroke:#000000; stroke-linecap:round; stroke-linejoin:round; stroke-width:2; stroke-opacity:0.1; fill:none\" points=\"202.227,336.915 2352.76,336.915 \"/>\n",
       "<polyline clip-path=\"url(#clip400)\" style=\"stroke:#000000; stroke-linecap:round; stroke-linejoin:round; stroke-width:4; stroke-opacity:1; fill:none\" points=\"202.227,1423.18 202.227,47.2441 \"/>\n",
       "<polyline clip-path=\"url(#clip400)\" style=\"stroke:#000000; stroke-linecap:round; stroke-linejoin:round; stroke-width:4; stroke-opacity:1; fill:none\" points=\"202.227,1423.18 221.125,1423.18 \"/>\n",
       "<polyline clip-path=\"url(#clip400)\" style=\"stroke:#000000; stroke-linecap:round; stroke-linejoin:round; stroke-width:4; stroke-opacity:1; fill:none\" points=\"202.227,1061.09 221.125,1061.09 \"/>\n",
       "<polyline clip-path=\"url(#clip400)\" style=\"stroke:#000000; stroke-linecap:round; stroke-linejoin:round; stroke-width:4; stroke-opacity:1; fill:none\" points=\"202.227,699.003 221.125,699.003 \"/>\n",
       "<polyline clip-path=\"url(#clip400)\" style=\"stroke:#000000; stroke-linecap:round; stroke-linejoin:round; stroke-width:4; stroke-opacity:1; fill:none\" points=\"202.227,336.915 221.125,336.915 \"/>\n",
       "<path clip-path=\"url(#clip400)\" d=\"M154.283 1408.98 Q150.672 1408.98 148.843 1412.54 Q147.038 1416.08 147.038 1423.21 Q147.038 1430.32 148.843 1433.89 Q150.672 1437.43 154.283 1437.43 Q157.917 1437.43 159.723 1433.89 Q161.552 1430.32 161.552 1423.21 Q161.552 1416.08 159.723 1412.54 Q157.917 1408.98 154.283 1408.98 M154.283 1405.27 Q160.093 1405.27 163.149 1409.88 Q166.227 1414.46 166.227 1423.21 Q166.227 1431.94 163.149 1436.55 Q160.093 1441.13 154.283 1441.13 Q148.473 1441.13 145.394 1436.55 Q142.339 1431.94 142.339 1423.21 Q142.339 1414.46 145.394 1409.88 Q148.473 1405.27 154.283 1405.27 Z\" fill=\"#000000\" fill-rule=\"nonzero\" fill-opacity=\"1\" /><path clip-path=\"url(#clip400)\" d=\"M145.325 1043.81 L163.681 1043.81 L163.681 1047.75 L149.607 1047.75 L149.607 1056.22 Q150.626 1055.87 151.644 1055.71 Q152.663 1055.52 153.681 1055.52 Q159.468 1055.52 162.848 1058.7 Q166.227 1061.87 166.227 1067.28 Q166.227 1072.86 162.755 1075.96 Q159.283 1079.04 152.964 1079.04 Q150.788 1079.04 148.519 1078.67 Q146.274 1078.3 143.866 1077.56 L143.866 1072.86 Q145.95 1074 148.172 1074.55 Q150.394 1075.11 152.871 1075.11 Q156.876 1075.11 159.214 1073 Q161.552 1070.89 161.552 1067.28 Q161.552 1063.67 159.214 1061.57 Q156.876 1059.46 152.871 1059.46 Q150.996 1059.46 149.121 1059.88 Q147.269 1060.29 145.325 1061.17 L145.325 1043.81 Z\" fill=\"#000000\" fill-rule=\"nonzero\" fill-opacity=\"1\" /><path clip-path=\"url(#clip400)\" d=\"M114.931 712.348 L122.57 712.348 L122.57 685.982 L114.26 687.649 L114.26 683.39 L122.524 681.723 L127.2 681.723 L127.2 712.348 L134.839 712.348 L134.839 716.283 L114.931 716.283 L114.931 712.348 Z\" fill=\"#000000\" fill-rule=\"nonzero\" fill-opacity=\"1\" /><path clip-path=\"url(#clip400)\" d=\"M154.283 684.802 Q150.672 684.802 148.843 688.367 Q147.038 691.908 147.038 699.038 Q147.038 706.144 148.843 709.709 Q150.672 713.251 154.283 713.251 Q157.917 713.251 159.723 709.709 Q161.552 706.144 161.552 699.038 Q161.552 691.908 159.723 688.367 Q157.917 684.802 154.283 684.802 M154.283 681.098 Q160.093 681.098 163.149 685.705 Q166.227 690.288 166.227 699.038 Q166.227 707.765 163.149 712.371 Q160.093 716.954 154.283 716.954 Q148.473 716.954 145.394 712.371 Q142.339 707.765 142.339 699.038 Q142.339 690.288 145.394 685.705 Q148.473 681.098 154.283 681.098 Z\" fill=\"#000000\" fill-rule=\"nonzero\" fill-opacity=\"1\" /><path clip-path=\"url(#clip400)\" d=\"M115.927 350.26 L123.566 350.26 L123.566 323.894 L115.256 325.561 L115.256 321.301 L123.519 319.635 L128.195 319.635 L128.195 350.26 L135.834 350.26 L135.834 354.195 L115.927 354.195 L115.927 350.26 Z\" fill=\"#000000\" fill-rule=\"nonzero\" fill-opacity=\"1\" /><path clip-path=\"url(#clip400)\" d=\"M145.325 319.635 L163.681 319.635 L163.681 323.57 L149.607 323.57 L149.607 332.042 Q150.626 331.695 151.644 331.533 Q152.663 331.348 153.681 331.348 Q159.468 331.348 162.848 334.519 Q166.227 337.69 166.227 343.107 Q166.227 348.686 162.755 351.787 Q159.283 354.866 152.964 354.866 Q150.788 354.866 148.519 354.496 Q146.274 354.125 143.866 353.385 L143.866 348.686 Q145.95 349.82 148.172 350.375 Q150.394 350.931 152.871 350.931 Q156.876 350.931 159.214 348.824 Q161.552 346.718 161.552 343.107 Q161.552 339.496 159.214 337.389 Q156.876 335.283 152.871 335.283 Q150.996 335.283 149.121 335.7 Q147.269 336.116 145.325 336.996 L145.325 319.635 Z\" fill=\"#000000\" fill-rule=\"nonzero\" fill-opacity=\"1\" /><path clip-path=\"url(#clip400)\" d=\"M29.7248 796.386 L35.1993 796.386 Q33.8307 798.869 33.1623 801.383 Q32.4621 803.866 32.4621 806.412 Q32.4621 812.11 36.0905 815.261 Q39.6872 818.412 46.212 818.412 Q52.7369 818.412 56.3653 815.261 Q59.9619 812.11 59.9619 806.412 Q59.9619 803.866 59.2935 801.383 Q58.5933 798.869 57.2247 796.386 L62.6355 796.386 Q63.7814 798.837 64.3543 801.479 Q64.9272 804.089 64.9272 807.049 Q64.9272 815.102 59.8664 819.844 Q54.8057 824.586 46.212 824.586 Q37.491 824.586 32.4939 819.812 Q27.4968 815.006 27.4968 806.667 Q27.4968 803.962 28.0697 801.383 Q28.6108 798.805 29.7248 796.386 Z\" fill=\"#000000\" fill-rule=\"nonzero\" fill-opacity=\"1\" /><path clip-path=\"url(#clip400)\" d=\"M32.4621 772.388 Q32.4621 777.098 36.1542 779.836 Q39.8145 782.573 46.212 782.573 Q52.6095 782.573 56.3017 779.867 Q59.9619 777.13 59.9619 772.388 Q59.9619 767.709 56.2698 764.972 Q52.5777 762.234 46.212 762.234 Q39.8781 762.234 36.186 764.972 Q32.4621 767.709 32.4621 772.388 M27.4968 772.388 Q27.4968 764.749 32.4621 760.388 Q37.4273 756.028 46.212 756.028 Q54.9649 756.028 59.9619 760.388 Q64.9272 764.749 64.9272 772.388 Q64.9272 780.058 59.9619 784.419 Q54.9649 788.748 46.212 788.748 Q37.4273 788.748 32.4621 784.419 Q27.4968 780.058 27.4968 772.388 Z\" fill=\"#000000\" fill-rule=\"nonzero\" fill-opacity=\"1\" /><path clip-path=\"url(#clip400)\" d=\"M49.9359 746.925 L28.3562 746.925 L28.3562 741.068 L49.7131 741.068 Q54.7739 741.068 57.3202 739.095 Q59.8346 737.122 59.8346 733.175 Q59.8346 728.432 56.8109 725.695 Q53.7872 722.926 48.5673 722.926 L28.3562 722.926 L28.3562 717.07 L64.0042 717.07 L64.0042 722.926 L58.5296 722.926 Q61.7762 725.059 63.3676 727.891 Q64.9272 730.692 64.9272 734.416 Q64.9272 740.559 61.1078 743.742 Q57.2883 746.925 49.9359 746.925 M27.4968 732.188 L27.4968 732.188 Z\" fill=\"#000000\" fill-rule=\"nonzero\" fill-opacity=\"1\" /><path clip-path=\"url(#clip400)\" d=\"M42.4881 675.374 L64.0042 675.374 L64.0042 681.231 L42.679 681.231 Q37.6183 681.231 35.1038 683.204 Q32.5894 685.178 32.5894 689.124 Q32.5894 693.867 35.6131 696.604 Q38.6368 699.341 43.8567 699.341 L64.0042 699.341 L64.0042 705.229 L28.3562 705.229 L28.3562 699.341 L33.8944 699.341 Q30.6797 697.241 29.0883 694.408 Q27.4968 691.543 27.4968 687.819 Q27.4968 681.676 31.3163 678.525 Q35.1038 675.374 42.4881 675.374 Z\" fill=\"#000000\" fill-rule=\"nonzero\" fill-opacity=\"1\" /><path clip-path=\"url(#clip400)\" d=\"M18.2347 657.9 L28.3562 657.9 L28.3562 645.837 L32.9077 645.837 L32.9077 657.9 L52.2594 657.9 Q56.6199 657.9 57.8613 656.723 Q59.1026 655.513 59.1026 651.853 L59.1026 645.837 L64.0042 645.837 L64.0042 651.853 Q64.0042 658.633 61.4897 661.211 Q58.9434 663.789 52.2594 663.789 L32.9077 663.789 L32.9077 668.086 L28.3562 668.086 L28.3562 663.789 L18.2347 663.789 L18.2347 657.9 Z\" fill=\"#000000\" fill-rule=\"nonzero\" fill-opacity=\"1\" /><path clip-path=\"url(#clip402)\" d=\"M251.455 1350.76 L251.455 1423.18 L289.914 1423.18 L289.914 1350.76 L251.455 1350.76 L251.455 1350.76  Z\" fill=\"#009af9\" fill-rule=\"evenodd\" fill-opacity=\"1\"/>\n",
       "<polyline clip-path=\"url(#clip402)\" style=\"stroke:#000000; stroke-linecap:round; stroke-linejoin:round; stroke-width:4; stroke-opacity:1; fill:none\" points=\"251.455,1350.76 251.455,1423.18 289.914,1423.18 289.914,1350.76 251.455,1350.76 \"/>\n",
       "<path clip-path=\"url(#clip402)\" d=\"M289.914 1423.18 L289.914 1423.18 L328.373 1423.18 L328.373 1423.18 L289.914 1423.18 L289.914 1423.18  Z\" fill=\"#009af9\" fill-rule=\"evenodd\" fill-opacity=\"1\"/>\n",
       "<polyline clip-path=\"url(#clip402)\" style=\"stroke:#000000; stroke-linecap:round; stroke-linejoin:round; stroke-width:4; stroke-opacity:1; fill:none\" points=\"289.914,1423.18 289.914,1423.18 328.373,1423.18 289.914,1423.18 \"/>\n",
       "<path clip-path=\"url(#clip402)\" d=\"M328.373 1278.34 L328.373 1423.18 L366.832 1423.18 L366.832 1278.34 L328.373 1278.34 L328.373 1278.34  Z\" fill=\"#009af9\" fill-rule=\"evenodd\" fill-opacity=\"1\"/>\n",
       "<polyline clip-path=\"url(#clip402)\" style=\"stroke:#000000; stroke-linecap:round; stroke-linejoin:round; stroke-width:4; stroke-opacity:1; fill:none\" points=\"328.373,1278.34 328.373,1423.18 366.832,1423.18 366.832,1278.34 328.373,1278.34 \"/>\n",
       "<path clip-path=\"url(#clip402)\" d=\"M366.832 1423.18 L366.832 1423.18 L405.291 1423.18 L405.291 1423.18 L366.832 1423.18 L366.832 1423.18  Z\" fill=\"#009af9\" fill-rule=\"evenodd\" fill-opacity=\"1\"/>\n",
       "<polyline clip-path=\"url(#clip402)\" style=\"stroke:#000000; stroke-linecap:round; stroke-linejoin:round; stroke-width:4; stroke-opacity:1; fill:none\" points=\"366.832,1423.18 366.832,1423.18 405.291,1423.18 366.832,1423.18 \"/>\n",
       "<path clip-path=\"url(#clip402)\" d=\"M405.291 1061.09 L405.291 1423.18 L443.749 1423.18 L443.749 1061.09 L405.291 1061.09 L405.291 1061.09  Z\" fill=\"#009af9\" fill-rule=\"evenodd\" fill-opacity=\"1\"/>\n",
       "<polyline clip-path=\"url(#clip402)\" style=\"stroke:#000000; stroke-linecap:round; stroke-linejoin:round; stroke-width:4; stroke-opacity:1; fill:none\" points=\"405.291,1061.09 405.291,1423.18 443.749,1423.18 443.749,1061.09 405.291,1061.09 \"/>\n",
       "<path clip-path=\"url(#clip402)\" d=\"M443.749 1278.34 L443.749 1423.18 L482.208 1423.18 L482.208 1278.34 L443.749 1278.34 L443.749 1278.34  Z\" fill=\"#009af9\" fill-rule=\"evenodd\" fill-opacity=\"1\"/>\n",
       "<polyline clip-path=\"url(#clip402)\" style=\"stroke:#000000; stroke-linecap:round; stroke-linejoin:round; stroke-width:4; stroke-opacity:1; fill:none\" points=\"443.749,1278.34 443.749,1423.18 482.208,1423.18 482.208,1278.34 443.749,1278.34 \"/>\n",
       "<path clip-path=\"url(#clip402)\" d=\"M482.208 1133.51 L482.208 1423.18 L520.667 1423.18 L520.667 1133.51 L482.208 1133.51 L482.208 1133.51  Z\" fill=\"#009af9\" fill-rule=\"evenodd\" fill-opacity=\"1\"/>\n",
       "<polyline clip-path=\"url(#clip402)\" style=\"stroke:#000000; stroke-linecap:round; stroke-linejoin:round; stroke-width:4; stroke-opacity:1; fill:none\" points=\"482.208,1133.51 482.208,1423.18 520.667,1423.18 520.667,1133.51 482.208,1133.51 \"/>\n",
       "<path clip-path=\"url(#clip402)\" d=\"M520.667 916.256 L520.667 1423.18 L559.126 1423.18 L559.126 916.256 L520.667 916.256 L520.667 916.256  Z\" fill=\"#009af9\" fill-rule=\"evenodd\" fill-opacity=\"1\"/>\n",
       "<polyline clip-path=\"url(#clip402)\" style=\"stroke:#000000; stroke-linecap:round; stroke-linejoin:round; stroke-width:4; stroke-opacity:1; fill:none\" points=\"520.667,916.256 520.667,1423.18 559.126,1423.18 559.126,916.256 520.667,916.256 \"/>\n",
       "<path clip-path=\"url(#clip402)\" d=\"M559.126 916.256 L559.126 1423.18 L597.585 1423.18 L597.585 916.256 L559.126 916.256 L559.126 916.256  Z\" fill=\"#009af9\" fill-rule=\"evenodd\" fill-opacity=\"1\"/>\n",
       "<polyline clip-path=\"url(#clip402)\" style=\"stroke:#000000; stroke-linecap:round; stroke-linejoin:round; stroke-width:4; stroke-opacity:1; fill:none\" points=\"559.126,916.256 559.126,1423.18 597.585,1423.18 597.585,916.256 559.126,916.256 \"/>\n",
       "<path clip-path=\"url(#clip402)\" d=\"M597.585 626.585 L597.585 1423.18 L636.044 1423.18 L636.044 626.585 L597.585 626.585 L597.585 626.585  Z\" fill=\"#009af9\" fill-rule=\"evenodd\" fill-opacity=\"1\"/>\n",
       "<polyline clip-path=\"url(#clip402)\" style=\"stroke:#000000; stroke-linecap:round; stroke-linejoin:round; stroke-width:4; stroke-opacity:1; fill:none\" points=\"597.585,626.585 597.585,1423.18 636.044,1423.18 636.044,626.585 597.585,626.585 \"/>\n",
       "<path clip-path=\"url(#clip402)\" d=\"M636.044 47.2441 L636.044 1423.18 L674.503 1423.18 L674.503 47.2441 L636.044 47.2441 L636.044 47.2441  Z\" fill=\"#009af9\" fill-rule=\"evenodd\" fill-opacity=\"1\"/>\n",
       "<polyline clip-path=\"url(#clip402)\" style=\"stroke:#000000; stroke-linecap:round; stroke-linejoin:round; stroke-width:4; stroke-opacity:1; fill:none\" points=\"636.044,47.2441 636.044,1423.18 674.503,1423.18 674.503,47.2441 636.044,47.2441 \"/>\n",
       "<path clip-path=\"url(#clip402)\" d=\"M674.503 916.256 L674.503 1423.18 L712.962 1423.18 L712.962 916.256 L674.503 916.256 L674.503 916.256  Z\" fill=\"#009af9\" fill-rule=\"evenodd\" fill-opacity=\"1\"/>\n",
       "<polyline clip-path=\"url(#clip402)\" style=\"stroke:#000000; stroke-linecap:round; stroke-linejoin:round; stroke-width:4; stroke-opacity:1; fill:none\" points=\"674.503,916.256 674.503,1423.18 712.962,1423.18 712.962,916.256 674.503,916.256 \"/>\n",
       "<path clip-path=\"url(#clip402)\" d=\"M712.962 916.256 L712.962 1423.18 L751.421 1423.18 L751.421 916.256 L712.962 916.256 L712.962 916.256  Z\" fill=\"#009af9\" fill-rule=\"evenodd\" fill-opacity=\"1\"/>\n",
       "<polyline clip-path=\"url(#clip402)\" style=\"stroke:#000000; stroke-linecap:round; stroke-linejoin:round; stroke-width:4; stroke-opacity:1; fill:none\" points=\"712.962,916.256 712.962,1423.18 751.421,1423.18 751.421,916.256 712.962,916.256 \"/>\n",
       "<path clip-path=\"url(#clip402)\" d=\"M751.421 264.497 L751.421 1423.18 L789.88 1423.18 L789.88 264.497 L751.421 264.497 L751.421 264.497  Z\" fill=\"#009af9\" fill-rule=\"evenodd\" fill-opacity=\"1\"/>\n",
       "<polyline clip-path=\"url(#clip402)\" style=\"stroke:#000000; stroke-linecap:round; stroke-linejoin:round; stroke-width:4; stroke-opacity:1; fill:none\" points=\"751.421,264.497 751.421,1423.18 789.88,1423.18 789.88,264.497 751.421,264.497 \"/>\n",
       "<path clip-path=\"url(#clip402)\" d=\"M789.88 916.256 L789.88 1423.18 L828.339 1423.18 L828.339 916.256 L789.88 916.256 L789.88 916.256  Z\" fill=\"#009af9\" fill-rule=\"evenodd\" fill-opacity=\"1\"/>\n",
       "<polyline clip-path=\"url(#clip402)\" style=\"stroke:#000000; stroke-linecap:round; stroke-linejoin:round; stroke-width:4; stroke-opacity:1; fill:none\" points=\"789.88,916.256 789.88,1423.18 828.339,1423.18 828.339,916.256 789.88,916.256 \"/>\n",
       "<path clip-path=\"url(#clip402)\" d=\"M828.339 916.256 L828.339 1423.18 L866.797 1423.18 L866.797 916.256 L828.339 916.256 L828.339 916.256  Z\" fill=\"#009af9\" fill-rule=\"evenodd\" fill-opacity=\"1\"/>\n",
       "<polyline clip-path=\"url(#clip402)\" style=\"stroke:#000000; stroke-linecap:round; stroke-linejoin:round; stroke-width:4; stroke-opacity:1; fill:none\" points=\"828.339,916.256 828.339,1423.18 866.797,1423.18 866.797,916.256 828.339,916.256 \"/>\n",
       "<path clip-path=\"url(#clip402)\" d=\"M866.797 699.003 L866.797 1423.18 L905.256 1423.18 L905.256 699.003 L866.797 699.003 L866.797 699.003  Z\" fill=\"#009af9\" fill-rule=\"evenodd\" fill-opacity=\"1\"/>\n",
       "<polyline clip-path=\"url(#clip402)\" style=\"stroke:#000000; stroke-linecap:round; stroke-linejoin:round; stroke-width:4; stroke-opacity:1; fill:none\" points=\"866.797,699.003 866.797,1423.18 905.256,1423.18 905.256,699.003 866.797,699.003 \"/>\n",
       "<path clip-path=\"url(#clip402)\" d=\"M905.256 47.2441 L905.256 1423.18 L943.715 1423.18 L943.715 47.2441 L905.256 47.2441 L905.256 47.2441  Z\" fill=\"#009af9\" fill-rule=\"evenodd\" fill-opacity=\"1\"/>\n",
       "<polyline clip-path=\"url(#clip402)\" style=\"stroke:#000000; stroke-linecap:round; stroke-linejoin:round; stroke-width:4; stroke-opacity:1; fill:none\" points=\"905.256,47.2441 905.256,1423.18 943.715,1423.18 943.715,47.2441 905.256,47.2441 \"/>\n",
       "<path clip-path=\"url(#clip402)\" d=\"M943.715 626.585 L943.715 1423.18 L982.174 1423.18 L982.174 626.585 L943.715 626.585 L943.715 626.585  Z\" fill=\"#009af9\" fill-rule=\"evenodd\" fill-opacity=\"1\"/>\n",
       "<polyline clip-path=\"url(#clip402)\" style=\"stroke:#000000; stroke-linecap:round; stroke-linejoin:round; stroke-width:4; stroke-opacity:1; fill:none\" points=\"943.715,626.585 943.715,1423.18 982.174,1423.18 982.174,626.585 943.715,626.585 \"/>\n",
       "<path clip-path=\"url(#clip402)\" d=\"M982.174 409.332 L982.174 1423.18 L1020.63 1423.18 L1020.63 409.332 L982.174 409.332 L982.174 409.332  Z\" fill=\"#009af9\" fill-rule=\"evenodd\" fill-opacity=\"1\"/>\n",
       "<polyline clip-path=\"url(#clip402)\" style=\"stroke:#000000; stroke-linecap:round; stroke-linejoin:round; stroke-width:4; stroke-opacity:1; fill:none\" points=\"982.174,409.332 982.174,1423.18 1020.63,1423.18 1020.63,409.332 982.174,409.332 \"/>\n",
       "<path clip-path=\"url(#clip402)\" d=\"M1020.63 626.585 L1020.63 1423.18 L1059.09 1423.18 L1059.09 626.585 L1020.63 626.585 L1020.63 626.585  Z\" fill=\"#009af9\" fill-rule=\"evenodd\" fill-opacity=\"1\"/>\n",
       "<polyline clip-path=\"url(#clip402)\" style=\"stroke:#000000; stroke-linecap:round; stroke-linejoin:round; stroke-width:4; stroke-opacity:1; fill:none\" points=\"1020.63,626.585 1020.63,1423.18 1059.09,1423.18 1059.09,626.585 1020.63,626.585 \"/>\n",
       "<path clip-path=\"url(#clip402)\" d=\"M1059.09 699.003 L1059.09 1423.18 L1097.55 1423.18 L1097.55 699.003 L1059.09 699.003 L1059.09 699.003  Z\" fill=\"#009af9\" fill-rule=\"evenodd\" fill-opacity=\"1\"/>\n",
       "<polyline clip-path=\"url(#clip402)\" style=\"stroke:#000000; stroke-linecap:round; stroke-linejoin:round; stroke-width:4; stroke-opacity:1; fill:none\" points=\"1059.09,699.003 1059.09,1423.18 1097.55,1423.18 1097.55,699.003 1059.09,699.003 \"/>\n",
       "<path clip-path=\"url(#clip402)\" d=\"M1097.55 1061.09 L1097.55 1423.18 L1136.01 1423.18 L1136.01 1061.09 L1097.55 1061.09 L1097.55 1061.09  Z\" fill=\"#009af9\" fill-rule=\"evenodd\" fill-opacity=\"1\"/>\n",
       "<polyline clip-path=\"url(#clip402)\" style=\"stroke:#000000; stroke-linecap:round; stroke-linejoin:round; stroke-width:4; stroke-opacity:1; fill:none\" points=\"1097.55,1061.09 1097.55,1423.18 1136.01,1423.18 1136.01,1061.09 1097.55,1061.09 \"/>\n",
       "<path clip-path=\"url(#clip402)\" d=\"M1136.01 1133.51 L1136.01 1423.18 L1174.47 1423.18 L1174.47 1133.51 L1136.01 1133.51 L1136.01 1133.51  Z\" fill=\"#009af9\" fill-rule=\"evenodd\" fill-opacity=\"1\"/>\n",
       "<polyline clip-path=\"url(#clip402)\" style=\"stroke:#000000; stroke-linecap:round; stroke-linejoin:round; stroke-width:4; stroke-opacity:1; fill:none\" points=\"1136.01,1133.51 1136.01,1423.18 1174.47,1423.18 1174.47,1133.51 1136.01,1133.51 \"/>\n",
       "<path clip-path=\"url(#clip402)\" d=\"M1174.47 699.003 L1174.47 1423.18 L1212.93 1423.18 L1212.93 699.003 L1174.47 699.003 L1174.47 699.003  Z\" fill=\"#009af9\" fill-rule=\"evenodd\" fill-opacity=\"1\"/>\n",
       "<polyline clip-path=\"url(#clip402)\" style=\"stroke:#000000; stroke-linecap:round; stroke-linejoin:round; stroke-width:4; stroke-opacity:1; fill:none\" points=\"1174.47,699.003 1174.47,1423.18 1212.93,1423.18 1212.93,699.003 1174.47,699.003 \"/>\n",
       "<path clip-path=\"url(#clip402)\" d=\"M1212.93 916.256 L1212.93 1423.18 L1251.39 1423.18 L1251.39 916.256 L1212.93 916.256 L1212.93 916.256  Z\" fill=\"#009af9\" fill-rule=\"evenodd\" fill-opacity=\"1\"/>\n",
       "<polyline clip-path=\"url(#clip402)\" style=\"stroke:#000000; stroke-linecap:round; stroke-linejoin:round; stroke-width:4; stroke-opacity:1; fill:none\" points=\"1212.93,916.256 1212.93,1423.18 1251.39,1423.18 1251.39,916.256 1212.93,916.256 \"/>\n",
       "<path clip-path=\"url(#clip402)\" d=\"M1251.39 1061.09 L1251.39 1423.18 L1289.85 1423.18 L1289.85 1061.09 L1251.39 1061.09 L1251.39 1061.09  Z\" fill=\"#009af9\" fill-rule=\"evenodd\" fill-opacity=\"1\"/>\n",
       "<polyline clip-path=\"url(#clip402)\" style=\"stroke:#000000; stroke-linecap:round; stroke-linejoin:round; stroke-width:4; stroke-opacity:1; fill:none\" points=\"1251.39,1061.09 1251.39,1423.18 1289.85,1423.18 1289.85,1061.09 1251.39,1061.09 \"/>\n",
       "<path clip-path=\"url(#clip402)\" d=\"M1289.85 843.838 L1289.85 1423.18 L1328.3 1423.18 L1328.3 843.838 L1289.85 843.838 L1289.85 843.838  Z\" fill=\"#009af9\" fill-rule=\"evenodd\" fill-opacity=\"1\"/>\n",
       "<polyline clip-path=\"url(#clip402)\" style=\"stroke:#000000; stroke-linecap:round; stroke-linejoin:round; stroke-width:4; stroke-opacity:1; fill:none\" points=\"1289.85,843.838 1289.85,1423.18 1328.3,1423.18 1328.3,843.838 1289.85,843.838 \"/>\n",
       "<path clip-path=\"url(#clip402)\" d=\"M1328.3 771.421 L1328.3 1423.18 L1366.76 1423.18 L1366.76 771.421 L1328.3 771.421 L1328.3 771.421  Z\" fill=\"#009af9\" fill-rule=\"evenodd\" fill-opacity=\"1\"/>\n",
       "<polyline clip-path=\"url(#clip402)\" style=\"stroke:#000000; stroke-linecap:round; stroke-linejoin:round; stroke-width:4; stroke-opacity:1; fill:none\" points=\"1328.3,771.421 1328.3,1423.18 1366.76,1423.18 1366.76,771.421 1328.3,771.421 \"/>\n",
       "<path clip-path=\"url(#clip402)\" d=\"M1366.76 843.838 L1366.76 1423.18 L1405.22 1423.18 L1405.22 843.838 L1366.76 843.838 L1366.76 843.838  Z\" fill=\"#009af9\" fill-rule=\"evenodd\" fill-opacity=\"1\"/>\n",
       "<polyline clip-path=\"url(#clip402)\" style=\"stroke:#000000; stroke-linecap:round; stroke-linejoin:round; stroke-width:4; stroke-opacity:1; fill:none\" points=\"1366.76,843.838 1366.76,1423.18 1405.22,1423.18 1405.22,843.838 1366.76,843.838 \"/>\n",
       "<path clip-path=\"url(#clip402)\" d=\"M1405.22 916.256 L1405.22 1423.18 L1443.68 1423.18 L1443.68 916.256 L1405.22 916.256 L1405.22 916.256  Z\" fill=\"#009af9\" fill-rule=\"evenodd\" fill-opacity=\"1\"/>\n",
       "<polyline clip-path=\"url(#clip402)\" style=\"stroke:#000000; stroke-linecap:round; stroke-linejoin:round; stroke-width:4; stroke-opacity:1; fill:none\" points=\"1405.22,916.256 1405.22,1423.18 1443.68,1423.18 1443.68,916.256 1405.22,916.256 \"/>\n",
       "<path clip-path=\"url(#clip402)\" d=\"M1443.68 771.421 L1443.68 1423.18 L1482.14 1423.18 L1482.14 771.421 L1443.68 771.421 L1443.68 771.421  Z\" fill=\"#009af9\" fill-rule=\"evenodd\" fill-opacity=\"1\"/>\n",
       "<polyline clip-path=\"url(#clip402)\" style=\"stroke:#000000; stroke-linecap:round; stroke-linejoin:round; stroke-width:4; stroke-opacity:1; fill:none\" points=\"1443.68,771.421 1443.68,1423.18 1482.14,1423.18 1482.14,771.421 1443.68,771.421 \"/>\n",
       "<path clip-path=\"url(#clip402)\" d=\"M1482.14 1061.09 L1482.14 1423.18 L1520.6 1423.18 L1520.6 1061.09 L1482.14 1061.09 L1482.14 1061.09  Z\" fill=\"#009af9\" fill-rule=\"evenodd\" fill-opacity=\"1\"/>\n",
       "<polyline clip-path=\"url(#clip402)\" style=\"stroke:#000000; stroke-linecap:round; stroke-linejoin:round; stroke-width:4; stroke-opacity:1; fill:none\" points=\"1482.14,1061.09 1482.14,1423.18 1520.6,1423.18 1520.6,1061.09 1482.14,1061.09 \"/>\n",
       "<path clip-path=\"url(#clip402)\" d=\"M1520.6 843.838 L1520.6 1423.18 L1559.06 1423.18 L1559.06 843.838 L1520.6 843.838 L1520.6 843.838  Z\" fill=\"#009af9\" fill-rule=\"evenodd\" fill-opacity=\"1\"/>\n",
       "<polyline clip-path=\"url(#clip402)\" style=\"stroke:#000000; stroke-linecap:round; stroke-linejoin:round; stroke-width:4; stroke-opacity:1; fill:none\" points=\"1520.6,843.838 1520.6,1423.18 1559.06,1423.18 1559.06,843.838 1520.6,843.838 \"/>\n",
       "<path clip-path=\"url(#clip402)\" d=\"M1559.06 771.421 L1559.06 1423.18 L1597.52 1423.18 L1597.52 771.421 L1559.06 771.421 L1559.06 771.421  Z\" fill=\"#009af9\" fill-rule=\"evenodd\" fill-opacity=\"1\"/>\n",
       "<polyline clip-path=\"url(#clip402)\" style=\"stroke:#000000; stroke-linecap:round; stroke-linejoin:round; stroke-width:4; stroke-opacity:1; fill:none\" points=\"1559.06,771.421 1559.06,1423.18 1597.52,1423.18 1597.52,771.421 1559.06,771.421 \"/>\n",
       "<path clip-path=\"url(#clip402)\" d=\"M1597.52 843.838 L1597.52 1423.18 L1635.98 1423.18 L1635.98 843.838 L1597.52 843.838 L1597.52 843.838  Z\" fill=\"#009af9\" fill-rule=\"evenodd\" fill-opacity=\"1\"/>\n",
       "<polyline clip-path=\"url(#clip402)\" style=\"stroke:#000000; stroke-linecap:round; stroke-linejoin:round; stroke-width:4; stroke-opacity:1; fill:none\" points=\"1597.52,843.838 1597.52,1423.18 1635.98,1423.18 1635.98,843.838 1597.52,843.838 \"/>\n",
       "<path clip-path=\"url(#clip402)\" d=\"M1635.98 1133.51 L1635.98 1423.18 L1674.43 1423.18 L1674.43 1133.51 L1635.98 1133.51 L1635.98 1133.51  Z\" fill=\"#009af9\" fill-rule=\"evenodd\" fill-opacity=\"1\"/>\n",
       "<polyline clip-path=\"url(#clip402)\" style=\"stroke:#000000; stroke-linecap:round; stroke-linejoin:round; stroke-width:4; stroke-opacity:1; fill:none\" points=\"1635.98,1133.51 1635.98,1423.18 1674.43,1423.18 1674.43,1133.51 1635.98,1133.51 \"/>\n",
       "<path clip-path=\"url(#clip402)\" d=\"M1674.43 1133.51 L1674.43 1423.18 L1712.89 1423.18 L1712.89 1133.51 L1674.43 1133.51 L1674.43 1133.51  Z\" fill=\"#009af9\" fill-rule=\"evenodd\" fill-opacity=\"1\"/>\n",
       "<polyline clip-path=\"url(#clip402)\" style=\"stroke:#000000; stroke-linecap:round; stroke-linejoin:round; stroke-width:4; stroke-opacity:1; fill:none\" points=\"1674.43,1133.51 1674.43,1423.18 1712.89,1423.18 1712.89,1133.51 1674.43,1133.51 \"/>\n",
       "<path clip-path=\"url(#clip402)\" d=\"M1712.89 771.421 L1712.89 1423.18 L1751.35 1423.18 L1751.35 771.421 L1712.89 771.421 L1712.89 771.421  Z\" fill=\"#009af9\" fill-rule=\"evenodd\" fill-opacity=\"1\"/>\n",
       "<polyline clip-path=\"url(#clip402)\" style=\"stroke:#000000; stroke-linecap:round; stroke-linejoin:round; stroke-width:4; stroke-opacity:1; fill:none\" points=\"1712.89,771.421 1712.89,1423.18 1751.35,1423.18 1751.35,771.421 1712.89,771.421 \"/>\n",
       "<path clip-path=\"url(#clip402)\" d=\"M1751.35 1205.93 L1751.35 1423.18 L1789.81 1423.18 L1789.81 1205.93 L1751.35 1205.93 L1751.35 1205.93  Z\" fill=\"#009af9\" fill-rule=\"evenodd\" fill-opacity=\"1\"/>\n",
       "<polyline clip-path=\"url(#clip402)\" style=\"stroke:#000000; stroke-linecap:round; stroke-linejoin:round; stroke-width:4; stroke-opacity:1; fill:none\" points=\"1751.35,1205.93 1751.35,1423.18 1789.81,1423.18 1789.81,1205.93 1751.35,1205.93 \"/>\n",
       "<path clip-path=\"url(#clip402)\" d=\"M1789.81 1350.76 L1789.81 1423.18 L1828.27 1423.18 L1828.27 1350.76 L1789.81 1350.76 L1789.81 1350.76  Z\" fill=\"#009af9\" fill-rule=\"evenodd\" fill-opacity=\"1\"/>\n",
       "<polyline clip-path=\"url(#clip402)\" style=\"stroke:#000000; stroke-linecap:round; stroke-linejoin:round; stroke-width:4; stroke-opacity:1; fill:none\" points=\"1789.81,1350.76 1789.81,1423.18 1828.27,1423.18 1828.27,1350.76 1789.81,1350.76 \"/>\n",
       "<path clip-path=\"url(#clip402)\" d=\"M1828.27 1278.34 L1828.27 1423.18 L1866.73 1423.18 L1866.73 1278.34 L1828.27 1278.34 L1828.27 1278.34  Z\" fill=\"#009af9\" fill-rule=\"evenodd\" fill-opacity=\"1\"/>\n",
       "<polyline clip-path=\"url(#clip402)\" style=\"stroke:#000000; stroke-linecap:round; stroke-linejoin:round; stroke-width:4; stroke-opacity:1; fill:none\" points=\"1828.27,1278.34 1828.27,1423.18 1866.73,1423.18 1866.73,1278.34 1828.27,1278.34 \"/>\n",
       "<path clip-path=\"url(#clip402)\" d=\"M1866.73 1061.09 L1866.73 1423.18 L1905.19 1423.18 L1905.19 1061.09 L1866.73 1061.09 L1866.73 1061.09  Z\" fill=\"#009af9\" fill-rule=\"evenodd\" fill-opacity=\"1\"/>\n",
       "<polyline clip-path=\"url(#clip402)\" style=\"stroke:#000000; stroke-linecap:round; stroke-linejoin:round; stroke-width:4; stroke-opacity:1; fill:none\" points=\"1866.73,1061.09 1866.73,1423.18 1905.19,1423.18 1905.19,1061.09 1866.73,1061.09 \"/>\n",
       "<path clip-path=\"url(#clip402)\" d=\"M1905.19 988.674 L1905.19 1423.18 L1943.65 1423.18 L1943.65 988.674 L1905.19 988.674 L1905.19 988.674  Z\" fill=\"#009af9\" fill-rule=\"evenodd\" fill-opacity=\"1\"/>\n",
       "<polyline clip-path=\"url(#clip402)\" style=\"stroke:#000000; stroke-linecap:round; stroke-linejoin:round; stroke-width:4; stroke-opacity:1; fill:none\" points=\"1905.19,988.674 1905.19,1423.18 1943.65,1423.18 1943.65,988.674 1905.19,988.674 \"/>\n",
       "<path clip-path=\"url(#clip402)\" d=\"M1943.65 916.256 L1943.65 1423.18 L1982.11 1423.18 L1982.11 916.256 L1943.65 916.256 L1943.65 916.256  Z\" fill=\"#009af9\" fill-rule=\"evenodd\" fill-opacity=\"1\"/>\n",
       "<polyline clip-path=\"url(#clip402)\" style=\"stroke:#000000; stroke-linecap:round; stroke-linejoin:round; stroke-width:4; stroke-opacity:1; fill:none\" points=\"1943.65,916.256 1943.65,1423.18 1982.11,1423.18 1982.11,916.256 1943.65,916.256 \"/>\n",
       "<path clip-path=\"url(#clip402)\" d=\"M1982.11 1278.34 L1982.11 1423.18 L2020.56 1423.18 L2020.56 1278.34 L1982.11 1278.34 L1982.11 1278.34  Z\" fill=\"#009af9\" fill-rule=\"evenodd\" fill-opacity=\"1\"/>\n",
       "<polyline clip-path=\"url(#clip402)\" style=\"stroke:#000000; stroke-linecap:round; stroke-linejoin:round; stroke-width:4; stroke-opacity:1; fill:none\" points=\"1982.11,1278.34 1982.11,1423.18 2020.56,1423.18 2020.56,1278.34 1982.11,1278.34 \"/>\n",
       "<path clip-path=\"url(#clip402)\" d=\"M2020.56 916.256 L2020.56 1423.18 L2059.02 1423.18 L2059.02 916.256 L2020.56 916.256 L2020.56 916.256  Z\" fill=\"#009af9\" fill-rule=\"evenodd\" fill-opacity=\"1\"/>\n",
       "<polyline clip-path=\"url(#clip402)\" style=\"stroke:#000000; stroke-linecap:round; stroke-linejoin:round; stroke-width:4; stroke-opacity:1; fill:none\" points=\"2020.56,916.256 2020.56,1423.18 2059.02,1423.18 2059.02,916.256 2020.56,916.256 \"/>\n",
       "<path clip-path=\"url(#clip402)\" d=\"M2059.02 1061.09 L2059.02 1423.18 L2097.48 1423.18 L2097.48 1061.09 L2059.02 1061.09 L2059.02 1061.09  Z\" fill=\"#009af9\" fill-rule=\"evenodd\" fill-opacity=\"1\"/>\n",
       "<polyline clip-path=\"url(#clip402)\" style=\"stroke:#000000; stroke-linecap:round; stroke-linejoin:round; stroke-width:4; stroke-opacity:1; fill:none\" points=\"2059.02,1061.09 2059.02,1423.18 2097.48,1423.18 2097.48,1061.09 2059.02,1061.09 \"/>\n",
       "<path clip-path=\"url(#clip402)\" d=\"M2097.48 988.674 L2097.48 1423.18 L2135.94 1423.18 L2135.94 988.674 L2097.48 988.674 L2097.48 988.674  Z\" fill=\"#009af9\" fill-rule=\"evenodd\" fill-opacity=\"1\"/>\n",
       "<polyline clip-path=\"url(#clip402)\" style=\"stroke:#000000; stroke-linecap:round; stroke-linejoin:round; stroke-width:4; stroke-opacity:1; fill:none\" points=\"2097.48,988.674 2097.48,1423.18 2135.94,1423.18 2135.94,988.674 2097.48,988.674 \"/>\n",
       "<path clip-path=\"url(#clip402)\" d=\"M2135.94 1133.51 L2135.94 1423.18 L2174.4 1423.18 L2174.4 1133.51 L2135.94 1133.51 L2135.94 1133.51  Z\" fill=\"#009af9\" fill-rule=\"evenodd\" fill-opacity=\"1\"/>\n",
       "<polyline clip-path=\"url(#clip402)\" style=\"stroke:#000000; stroke-linecap:round; stroke-linejoin:round; stroke-width:4; stroke-opacity:1; fill:none\" points=\"2135.94,1133.51 2135.94,1423.18 2174.4,1423.18 2174.4,1133.51 2135.94,1133.51 \"/>\n",
       "<path clip-path=\"url(#clip402)\" d=\"M2174.4 1061.09 L2174.4 1423.18 L2212.86 1423.18 L2212.86 1061.09 L2174.4 1061.09 L2174.4 1061.09  Z\" fill=\"#009af9\" fill-rule=\"evenodd\" fill-opacity=\"1\"/>\n",
       "<polyline clip-path=\"url(#clip402)\" style=\"stroke:#000000; stroke-linecap:round; stroke-linejoin:round; stroke-width:4; stroke-opacity:1; fill:none\" points=\"2174.4,1061.09 2174.4,1423.18 2212.86,1423.18 2212.86,1061.09 2174.4,1061.09 \"/>\n",
       "<path clip-path=\"url(#clip402)\" d=\"M2212.86 1133.51 L2212.86 1423.18 L2251.32 1423.18 L2251.32 1133.51 L2212.86 1133.51 L2212.86 1133.51  Z\" fill=\"#009af9\" fill-rule=\"evenodd\" fill-opacity=\"1\"/>\n",
       "<polyline clip-path=\"url(#clip402)\" style=\"stroke:#000000; stroke-linecap:round; stroke-linejoin:round; stroke-width:4; stroke-opacity:1; fill:none\" points=\"2212.86,1133.51 2212.86,1423.18 2251.32,1423.18 2251.32,1133.51 2212.86,1133.51 \"/>\n",
       "<path clip-path=\"url(#clip402)\" d=\"M2251.32 1061.09 L2251.32 1423.18 L2289.78 1423.18 L2289.78 1061.09 L2251.32 1061.09 L2251.32 1061.09  Z\" fill=\"#009af9\" fill-rule=\"evenodd\" fill-opacity=\"1\"/>\n",
       "<polyline clip-path=\"url(#clip402)\" style=\"stroke:#000000; stroke-linecap:round; stroke-linejoin:round; stroke-width:4; stroke-opacity:1; fill:none\" points=\"2251.32,1061.09 2251.32,1423.18 2289.78,1423.18 2289.78,1061.09 2251.32,1061.09 \"/>\n",
       "<path clip-path=\"url(#clip402)\" d=\"M2289.78 843.838 L2289.78 1423.18 L2328.24 1423.18 L2328.24 843.838 L2289.78 843.838 L2289.78 843.838  Z\" fill=\"#009af9\" fill-rule=\"evenodd\" fill-opacity=\"1\"/>\n",
       "<polyline clip-path=\"url(#clip402)\" style=\"stroke:#000000; stroke-linecap:round; stroke-linejoin:round; stroke-width:4; stroke-opacity:1; fill:none\" points=\"2289.78,843.838 2289.78,1423.18 2328.24,1423.18 2328.24,843.838 2289.78,843.838 \"/>\n",
       "<path clip-path=\"url(#clip402)\" d=\"M2328.24 1278.34 L2328.24 1423.18 L2366.69 1423.18 L2366.69 1278.34 L2328.24 1278.34 L2328.24 1278.34  Z\" fill=\"#009af9\" fill-rule=\"evenodd\" fill-opacity=\"1\"/>\n",
       "<polyline clip-path=\"url(#clip402)\" style=\"stroke:#000000; stroke-linecap:round; stroke-linejoin:round; stroke-width:4; stroke-opacity:1; fill:none\" points=\"2328.24,1278.34 2328.24,1423.18 2366.69,1423.18 2366.69,1278.34 2328.24,1278.34 \"/>\n",
       "<path clip-path=\"url(#clip402)\" d=\"M2366.69 1133.51 L2366.69 1423.18 L2405.15 1423.18 L2405.15 1133.51 L2366.69 1133.51 L2366.69 1133.51  Z\" fill=\"#009af9\" fill-rule=\"evenodd\" fill-opacity=\"1\"/>\n",
       "<polyline clip-path=\"url(#clip402)\" style=\"stroke:#000000; stroke-linecap:round; stroke-linejoin:round; stroke-width:4; stroke-opacity:1; fill:none\" points=\"2366.69,1133.51 2366.69,1423.18 2405.15,1423.18 2405.15,1133.51 2366.69,1133.51 \"/>\n",
       "<path clip-path=\"url(#clip402)\" d=\"M2405.15 1278.34 L2405.15 1423.18 L2443.61 1423.18 L2443.61 1278.34 L2405.15 1278.34 L2405.15 1278.34  Z\" fill=\"#009af9\" fill-rule=\"evenodd\" fill-opacity=\"1\"/>\n",
       "<polyline clip-path=\"url(#clip402)\" style=\"stroke:#000000; stroke-linecap:round; stroke-linejoin:round; stroke-width:4; stroke-opacity:1; fill:none\" points=\"2405.15,1278.34 2405.15,1423.18 2443.61,1423.18 2443.61,1278.34 2405.15,1278.34 \"/>\n",
       "<path clip-path=\"url(#clip402)\" d=\"M2443.61 1061.09 L2443.61 1423.18 L2482.07 1423.18 L2482.07 1061.09 L2443.61 1061.09 L2443.61 1061.09  Z\" fill=\"#009af9\" fill-rule=\"evenodd\" fill-opacity=\"1\"/>\n",
       "<polyline clip-path=\"url(#clip402)\" style=\"stroke:#000000; stroke-linecap:round; stroke-linejoin:round; stroke-width:4; stroke-opacity:1; fill:none\" points=\"2443.61,1061.09 2443.61,1423.18 2482.07,1423.18 2482.07,1061.09 2443.61,1061.09 \"/>\n",
       "<path clip-path=\"url(#clip402)\" d=\"M2482.07 1205.93 L2482.07 1423.18 L2520.53 1423.18 L2520.53 1205.93 L2482.07 1205.93 L2482.07 1205.93  Z\" fill=\"#009af9\" fill-rule=\"evenodd\" fill-opacity=\"1\"/>\n",
       "<polyline clip-path=\"url(#clip402)\" style=\"stroke:#000000; stroke-linecap:round; stroke-linejoin:round; stroke-width:4; stroke-opacity:1; fill:none\" points=\"2482.07,1205.93 2482.07,1423.18 2520.53,1423.18 2520.53,1205.93 2482.07,1205.93 \"/>\n",
       "<path clip-path=\"url(#clip402)\" d=\"M2520.53 1278.34 L2520.53 1423.18 L2558.99 1423.18 L2558.99 1278.34 L2520.53 1278.34 L2520.53 1278.34  Z\" fill=\"#009af9\" fill-rule=\"evenodd\" fill-opacity=\"1\"/>\n",
       "<polyline clip-path=\"url(#clip402)\" style=\"stroke:#000000; stroke-linecap:round; stroke-linejoin:round; stroke-width:4; stroke-opacity:1; fill:none\" points=\"2520.53,1278.34 2520.53,1423.18 2558.99,1423.18 2558.99,1278.34 2520.53,1278.34 \"/>\n",
       "<path clip-path=\"url(#clip402)\" d=\"M2558.99 1350.76 L2558.99 1423.18 L2597.45 1423.18 L2597.45 1350.76 L2558.99 1350.76 L2558.99 1350.76  Z\" fill=\"#009af9\" fill-rule=\"evenodd\" fill-opacity=\"1\"/>\n",
       "<polyline clip-path=\"url(#clip402)\" style=\"stroke:#000000; stroke-linecap:round; stroke-linejoin:round; stroke-width:4; stroke-opacity:1; fill:none\" points=\"2558.99,1350.76 2558.99,1423.18 2597.45,1423.18 2597.45,1350.76 2558.99,1350.76 \"/>\n",
       "<path clip-path=\"url(#clip402)\" d=\"M2597.45 1205.93 L2597.45 1423.18 L2635.91 1423.18 L2635.91 1205.93 L2597.45 1205.93 L2597.45 1205.93  Z\" fill=\"#009af9\" fill-rule=\"evenodd\" fill-opacity=\"1\"/>\n",
       "<polyline clip-path=\"url(#clip402)\" style=\"stroke:#000000; stroke-linecap:round; stroke-linejoin:round; stroke-width:4; stroke-opacity:1; fill:none\" points=\"2597.45,1205.93 2597.45,1423.18 2635.91,1423.18 2635.91,1205.93 2597.45,1205.93 \"/>\n",
       "<path clip-path=\"url(#clip402)\" d=\"M2635.91 1350.76 L2635.91 1423.18 L2674.37 1423.18 L2674.37 1350.76 L2635.91 1350.76 L2635.91 1350.76  Z\" fill=\"#009af9\" fill-rule=\"evenodd\" fill-opacity=\"1\"/>\n",
       "<polyline clip-path=\"url(#clip402)\" style=\"stroke:#000000; stroke-linecap:round; stroke-linejoin:round; stroke-width:4; stroke-opacity:1; fill:none\" points=\"2635.91,1350.76 2635.91,1423.18 2674.37,1423.18 2674.37,1350.76 2635.91,1350.76 \"/>\n",
       "<path clip-path=\"url(#clip402)\" d=\"M2674.37 1350.76 L2674.37 1423.18 L2712.83 1423.18 L2712.83 1350.76 L2674.37 1350.76 L2674.37 1350.76  Z\" fill=\"#009af9\" fill-rule=\"evenodd\" fill-opacity=\"1\"/>\n",
       "<polyline clip-path=\"url(#clip402)\" style=\"stroke:#000000; stroke-linecap:round; stroke-linejoin:round; stroke-width:4; stroke-opacity:1; fill:none\" points=\"2674.37,1350.76 2674.37,1423.18 2712.83,1423.18 2712.83,1350.76 2674.37,1350.76 \"/>\n",
       "<path clip-path=\"url(#clip402)\" d=\"M2712.83 1278.34 L2712.83 1423.18 L2751.28 1423.18 L2751.28 1278.34 L2712.83 1278.34 L2712.83 1278.34  Z\" fill=\"#009af9\" fill-rule=\"evenodd\" fill-opacity=\"1\"/>\n",
       "<polyline clip-path=\"url(#clip402)\" style=\"stroke:#000000; stroke-linecap:round; stroke-linejoin:round; stroke-width:4; stroke-opacity:1; fill:none\" points=\"2712.83,1278.34 2712.83,1423.18 2751.28,1423.18 2751.28,1278.34 2712.83,1278.34 \"/>\n",
       "<path clip-path=\"url(#clip402)\" d=\"M2751.28 1205.93 L2751.28 1423.18 L2789.74 1423.18 L2789.74 1205.93 L2751.28 1205.93 L2751.28 1205.93  Z\" fill=\"#009af9\" fill-rule=\"evenodd\" fill-opacity=\"1\"/>\n",
       "<polyline clip-path=\"url(#clip402)\" style=\"stroke:#000000; stroke-linecap:round; stroke-linejoin:round; stroke-width:4; stroke-opacity:1; fill:none\" points=\"2751.28,1205.93 2751.28,1423.18 2789.74,1423.18 2789.74,1205.93 2751.28,1205.93 \"/>\n",
       "<path clip-path=\"url(#clip402)\" d=\"M2789.74 1205.93 L2789.74 1423.18 L2828.2 1423.18 L2828.2 1205.93 L2789.74 1205.93 L2789.74 1205.93  Z\" fill=\"#009af9\" fill-rule=\"evenodd\" fill-opacity=\"1\"/>\n",
       "<polyline clip-path=\"url(#clip402)\" style=\"stroke:#000000; stroke-linecap:round; stroke-linejoin:round; stroke-width:4; stroke-opacity:1; fill:none\" points=\"2789.74,1205.93 2789.74,1423.18 2828.2,1423.18 2828.2,1205.93 2789.74,1205.93 \"/>\n",
       "<path clip-path=\"url(#clip402)\" d=\"M2828.2 1350.76 L2828.2 1423.18 L2866.66 1423.18 L2866.66 1350.76 L2828.2 1350.76 L2828.2 1350.76  Z\" fill=\"#009af9\" fill-rule=\"evenodd\" fill-opacity=\"1\"/>\n",
       "<polyline clip-path=\"url(#clip402)\" style=\"stroke:#000000; stroke-linecap:round; stroke-linejoin:round; stroke-width:4; stroke-opacity:1; fill:none\" points=\"2828.2,1350.76 2828.2,1423.18 2866.66,1423.18 2866.66,1350.76 2828.2,1350.76 \"/>\n",
       "<path clip-path=\"url(#clip402)\" d=\"M2866.66 1061.09 L2866.66 1423.18 L2905.12 1423.18 L2905.12 1061.09 L2866.66 1061.09 L2866.66 1061.09  Z\" fill=\"#009af9\" fill-rule=\"evenodd\" fill-opacity=\"1\"/>\n",
       "<polyline clip-path=\"url(#clip402)\" style=\"stroke:#000000; stroke-linecap:round; stroke-linejoin:round; stroke-width:4; stroke-opacity:1; fill:none\" points=\"2866.66,1061.09 2866.66,1423.18 2905.12,1423.18 2905.12,1061.09 2866.66,1061.09 \"/>\n",
       "<path clip-path=\"url(#clip402)\" d=\"M2905.12 1133.51 L2905.12 1423.18 L2943.58 1423.18 L2943.58 1133.51 L2905.12 1133.51 L2905.12 1133.51  Z\" fill=\"#009af9\" fill-rule=\"evenodd\" fill-opacity=\"1\"/>\n",
       "<polyline clip-path=\"url(#clip402)\" style=\"stroke:#000000; stroke-linecap:round; stroke-linejoin:round; stroke-width:4; stroke-opacity:1; fill:none\" points=\"2905.12,1133.51 2905.12,1423.18 2943.58,1423.18 2943.58,1133.51 2905.12,1133.51 \"/>\n",
       "<path clip-path=\"url(#clip402)\" d=\"M2943.58 1278.34 L2943.58 1423.18 L2982.04 1423.18 L2982.04 1278.34 L2943.58 1278.34 L2943.58 1278.34  Z\" fill=\"#009af9\" fill-rule=\"evenodd\" fill-opacity=\"1\"/>\n",
       "<polyline clip-path=\"url(#clip402)\" style=\"stroke:#000000; stroke-linecap:round; stroke-linejoin:round; stroke-width:4; stroke-opacity:1; fill:none\" points=\"2943.58,1278.34 2943.58,1423.18 2982.04,1423.18 2982.04,1278.34 2943.58,1278.34 \"/>\n",
       "<path clip-path=\"url(#clip402)\" d=\"M2982.04 1133.51 L2982.04 1423.18 L3020.5 1423.18 L3020.5 1133.51 L2982.04 1133.51 L2982.04 1133.51  Z\" fill=\"#009af9\" fill-rule=\"evenodd\" fill-opacity=\"1\"/>\n",
       "<polyline clip-path=\"url(#clip402)\" style=\"stroke:#000000; stroke-linecap:round; stroke-linejoin:round; stroke-width:4; stroke-opacity:1; fill:none\" points=\"2982.04,1133.51 2982.04,1423.18 3020.5,1423.18 3020.5,1133.51 2982.04,1133.51 \"/>\n",
       "<path clip-path=\"url(#clip402)\" d=\"M3020.5 1278.34 L3020.5 1423.18 L3058.96 1423.18 L3058.96 1278.34 L3020.5 1278.34 L3020.5 1278.34  Z\" fill=\"#009af9\" fill-rule=\"evenodd\" fill-opacity=\"1\"/>\n",
       "<polyline clip-path=\"url(#clip402)\" style=\"stroke:#000000; stroke-linecap:round; stroke-linejoin:round; stroke-width:4; stroke-opacity:1; fill:none\" points=\"3020.5,1278.34 3020.5,1423.18 3058.96,1423.18 3058.96,1278.34 3020.5,1278.34 \"/>\n",
       "<path clip-path=\"url(#clip402)\" d=\"M3058.96 1423.18 L3058.96 1423.18 L3097.41 1423.18 L3097.41 1423.18 L3058.96 1423.18 L3058.96 1423.18  Z\" fill=\"#009af9\" fill-rule=\"evenodd\" fill-opacity=\"1\"/>\n",
       "<polyline clip-path=\"url(#clip402)\" style=\"stroke:#000000; stroke-linecap:round; stroke-linejoin:round; stroke-width:4; stroke-opacity:1; fill:none\" points=\"3058.96,1423.18 3058.96,1423.18 3097.41,1423.18 3058.96,1423.18 \"/>\n",
       "<path clip-path=\"url(#clip402)\" d=\"M3097.41 1205.93 L3097.41 1423.18 L3135.87 1423.18 L3135.87 1205.93 L3097.41 1205.93 L3097.41 1205.93  Z\" fill=\"#009af9\" fill-rule=\"evenodd\" fill-opacity=\"1\"/>\n",
       "<polyline clip-path=\"url(#clip402)\" style=\"stroke:#000000; stroke-linecap:round; stroke-linejoin:round; stroke-width:4; stroke-opacity:1; fill:none\" points=\"3097.41,1205.93 3097.41,1423.18 3135.87,1423.18 3135.87,1205.93 3097.41,1205.93 \"/>\n",
       "<path clip-path=\"url(#clip402)\" d=\"M3135.87 1350.76 L3135.87 1423.18 L3174.33 1423.18 L3174.33 1350.76 L3135.87 1350.76 L3135.87 1350.76  Z\" fill=\"#009af9\" fill-rule=\"evenodd\" fill-opacity=\"1\"/>\n",
       "<polyline clip-path=\"url(#clip402)\" style=\"stroke:#000000; stroke-linecap:round; stroke-linejoin:round; stroke-width:4; stroke-opacity:1; fill:none\" points=\"3135.87,1350.76 3135.87,1423.18 3174.33,1423.18 3174.33,1350.76 3135.87,1350.76 \"/>\n",
       "<path clip-path=\"url(#clip402)\" d=\"M3174.33 1205.93 L3174.33 1423.18 L3212.79 1423.18 L3212.79 1205.93 L3174.33 1205.93 L3174.33 1205.93  Z\" fill=\"#009af9\" fill-rule=\"evenodd\" fill-opacity=\"1\"/>\n",
       "<polyline clip-path=\"url(#clip402)\" style=\"stroke:#000000; stroke-linecap:round; stroke-linejoin:round; stroke-width:4; stroke-opacity:1; fill:none\" points=\"3174.33,1205.93 3174.33,1423.18 3212.79,1423.18 3212.79,1205.93 3174.33,1205.93 \"/>\n",
       "<path clip-path=\"url(#clip402)\" d=\"M3212.79 1350.76 L3212.79 1423.18 L3251.25 1423.18 L3251.25 1350.76 L3212.79 1350.76 L3212.79 1350.76  Z\" fill=\"#009af9\" fill-rule=\"evenodd\" fill-opacity=\"1\"/>\n",
       "<polyline clip-path=\"url(#clip402)\" style=\"stroke:#000000; stroke-linecap:round; stroke-linejoin:round; stroke-width:4; stroke-opacity:1; fill:none\" points=\"3212.79,1350.76 3212.79,1423.18 3251.25,1423.18 3251.25,1350.76 3212.79,1350.76 \"/>\n",
       "<path clip-path=\"url(#clip402)\" d=\"M3251.25 1350.76 L3251.25 1423.18 L3289.71 1423.18 L3289.71 1350.76 L3251.25 1350.76 L3251.25 1350.76  Z\" fill=\"#009af9\" fill-rule=\"evenodd\" fill-opacity=\"1\"/>\n",
       "<polyline clip-path=\"url(#clip402)\" style=\"stroke:#000000; stroke-linecap:round; stroke-linejoin:round; stroke-width:4; stroke-opacity:1; fill:none\" points=\"3251.25,1350.76 3251.25,1423.18 3289.71,1423.18 3289.71,1350.76 3251.25,1350.76 \"/>\n",
       "<path clip-path=\"url(#clip402)\" d=\"M3289.71 1350.76 L3289.71 1423.18 L3328.17 1423.18 L3328.17 1350.76 L3289.71 1350.76 L3289.71 1350.76  Z\" fill=\"#009af9\" fill-rule=\"evenodd\" fill-opacity=\"1\"/>\n",
       "<polyline clip-path=\"url(#clip402)\" style=\"stroke:#000000; stroke-linecap:round; stroke-linejoin:round; stroke-width:4; stroke-opacity:1; fill:none\" points=\"3289.71,1350.76 3289.71,1423.18 3328.17,1423.18 3328.17,1350.76 3289.71,1350.76 \"/>\n",
       "<path clip-path=\"url(#clip402)\" d=\"M3328.17 1133.51 L3328.17 1423.18 L3366.63 1423.18 L3366.63 1133.51 L3328.17 1133.51 L3328.17 1133.51  Z\" fill=\"#009af9\" fill-rule=\"evenodd\" fill-opacity=\"1\"/>\n",
       "<polyline clip-path=\"url(#clip402)\" style=\"stroke:#000000; stroke-linecap:round; stroke-linejoin:round; stroke-width:4; stroke-opacity:1; fill:none\" points=\"3328.17,1133.51 3328.17,1423.18 3366.63,1423.18 3366.63,1133.51 3328.17,1133.51 \"/>\n",
       "<path clip-path=\"url(#clip402)\" d=\"M3366.63 1278.34 L3366.63 1423.18 L3405.09 1423.18 L3405.09 1278.34 L3366.63 1278.34 L3366.63 1278.34  Z\" fill=\"#009af9\" fill-rule=\"evenodd\" fill-opacity=\"1\"/>\n",
       "<polyline clip-path=\"url(#clip402)\" style=\"stroke:#000000; stroke-linecap:round; stroke-linejoin:round; stroke-width:4; stroke-opacity:1; fill:none\" points=\"3366.63,1278.34 3366.63,1423.18 3405.09,1423.18 3405.09,1278.34 3366.63,1278.34 \"/>\n",
       "<path clip-path=\"url(#clip402)\" d=\"M3405.09 1205.93 L3405.09 1423.18 L3443.54 1423.18 L3443.54 1205.93 L3405.09 1205.93 L3405.09 1205.93  Z\" fill=\"#009af9\" fill-rule=\"evenodd\" fill-opacity=\"1\"/>\n",
       "<polyline clip-path=\"url(#clip402)\" style=\"stroke:#000000; stroke-linecap:round; stroke-linejoin:round; stroke-width:4; stroke-opacity:1; fill:none\" points=\"3405.09,1205.93 3405.09,1423.18 3443.54,1423.18 3443.54,1205.93 3405.09,1205.93 \"/>\n",
       "<path clip-path=\"url(#clip402)\" d=\"M3443.54 1350.76 L3443.54 1423.18 L3482 1423.18 L3482 1350.76 L3443.54 1350.76 L3443.54 1350.76  Z\" fill=\"#009af9\" fill-rule=\"evenodd\" fill-opacity=\"1\"/>\n",
       "<polyline clip-path=\"url(#clip402)\" style=\"stroke:#000000; stroke-linecap:round; stroke-linejoin:round; stroke-width:4; stroke-opacity:1; fill:none\" points=\"3443.54,1350.76 3443.54,1423.18 3482,1423.18 3482,1350.76 3443.54,1350.76 \"/>\n",
       "<path clip-path=\"url(#clip402)\" d=\"M3482 1061.09 L3482 1423.18 L3520.46 1423.18 L3520.46 1061.09 L3482 1061.09 L3482 1061.09  Z\" fill=\"#009af9\" fill-rule=\"evenodd\" fill-opacity=\"1\"/>\n",
       "<polyline clip-path=\"url(#clip402)\" style=\"stroke:#000000; stroke-linecap:round; stroke-linejoin:round; stroke-width:4; stroke-opacity:1; fill:none\" points=\"3482,1061.09 3482,1423.18 3520.46,1423.18 3520.46,1061.09 3482,1061.09 \"/>\n",
       "<path clip-path=\"url(#clip402)\" d=\"M3520.46 1423.18 L3520.46 1423.18 L3558.92 1423.18 L3558.92 1423.18 L3520.46 1423.18 L3520.46 1423.18  Z\" fill=\"#009af9\" fill-rule=\"evenodd\" fill-opacity=\"1\"/>\n",
       "<polyline clip-path=\"url(#clip402)\" style=\"stroke:#000000; stroke-linecap:round; stroke-linejoin:round; stroke-width:4; stroke-opacity:1; fill:none\" points=\"3520.46,1423.18 3520.46,1423.18 3558.92,1423.18 3520.46,1423.18 \"/>\n",
       "<path clip-path=\"url(#clip402)\" d=\"M3558.92 1423.18 L3558.92 1423.18 L3597.38 1423.18 L3597.38 1423.18 L3558.92 1423.18 L3558.92 1423.18  Z\" fill=\"#009af9\" fill-rule=\"evenodd\" fill-opacity=\"1\"/>\n",
       "<polyline clip-path=\"url(#clip402)\" style=\"stroke:#000000; stroke-linecap:round; stroke-linejoin:round; stroke-width:4; stroke-opacity:1; fill:none\" points=\"3558.92,1423.18 3558.92,1423.18 3597.38,1423.18 3558.92,1423.18 \"/>\n",
       "<path clip-path=\"url(#clip402)\" d=\"M3597.38 1278.34 L3597.38 1423.18 L3635.84 1423.18 L3635.84 1278.34 L3597.38 1278.34 L3597.38 1278.34  Z\" fill=\"#009af9\" fill-rule=\"evenodd\" fill-opacity=\"1\"/>\n",
       "<polyline clip-path=\"url(#clip402)\" style=\"stroke:#000000; stroke-linecap:round; stroke-linejoin:round; stroke-width:4; stroke-opacity:1; fill:none\" points=\"3597.38,1278.34 3597.38,1423.18 3635.84,1423.18 3635.84,1278.34 3597.38,1278.34 \"/>\n",
       "<path clip-path=\"url(#clip402)\" d=\"M3635.84 1350.76 L3635.84 1423.18 L3674.3 1423.18 L3674.3 1350.76 L3635.84 1350.76 L3635.84 1350.76  Z\" fill=\"#009af9\" fill-rule=\"evenodd\" fill-opacity=\"1\"/>\n",
       "<polyline clip-path=\"url(#clip402)\" style=\"stroke:#000000; stroke-linecap:round; stroke-linejoin:round; stroke-width:4; stroke-opacity:1; fill:none\" points=\"3635.84,1350.76 3635.84,1423.18 3674.3,1423.18 3674.3,1350.76 3635.84,1350.76 \"/>\n",
       "<path clip-path=\"url(#clip402)\" d=\"M3674.3 1350.76 L3674.3 1423.18 L3712.76 1423.18 L3712.76 1350.76 L3674.3 1350.76 L3674.3 1350.76  Z\" fill=\"#009af9\" fill-rule=\"evenodd\" fill-opacity=\"1\"/>\n",
       "<polyline clip-path=\"url(#clip402)\" style=\"stroke:#000000; stroke-linecap:round; stroke-linejoin:round; stroke-width:4; stroke-opacity:1; fill:none\" points=\"3674.3,1350.76 3674.3,1423.18 3712.76,1423.18 3712.76,1350.76 3674.3,1350.76 \"/>\n",
       "<path clip-path=\"url(#clip402)\" d=\"M3712.76 1423.18 L3712.76 1423.18 L3751.22 1423.18 L3751.22 1423.18 L3712.76 1423.18 L3712.76 1423.18  Z\" fill=\"#009af9\" fill-rule=\"evenodd\" fill-opacity=\"1\"/>\n",
       "<polyline clip-path=\"url(#clip402)\" style=\"stroke:#000000; stroke-linecap:round; stroke-linejoin:round; stroke-width:4; stroke-opacity:1; fill:none\" points=\"3712.76,1423.18 3712.76,1423.18 3751.22,1423.18 3712.76,1423.18 \"/>\n",
       "<path clip-path=\"url(#clip402)\" d=\"M3751.22 1350.76 L3751.22 1423.18 L3789.67 1423.18 L3789.67 1350.76 L3751.22 1350.76 L3751.22 1350.76  Z\" fill=\"#009af9\" fill-rule=\"evenodd\" fill-opacity=\"1\"/>\n",
       "<polyline clip-path=\"url(#clip402)\" style=\"stroke:#000000; stroke-linecap:round; stroke-linejoin:round; stroke-width:4; stroke-opacity:1; fill:none\" points=\"3751.22,1350.76 3751.22,1423.18 3789.67,1423.18 3789.67,1350.76 3751.22,1350.76 \"/>\n",
       "<path clip-path=\"url(#clip402)\" d=\"M3789.67 1278.34 L3789.67 1423.18 L3828.13 1423.18 L3828.13 1278.34 L3789.67 1278.34 L3789.67 1278.34  Z\" fill=\"#009af9\" fill-rule=\"evenodd\" fill-opacity=\"1\"/>\n",
       "<polyline clip-path=\"url(#clip402)\" style=\"stroke:#000000; stroke-linecap:round; stroke-linejoin:round; stroke-width:4; stroke-opacity:1; fill:none\" points=\"3789.67,1278.34 3789.67,1423.18 3828.13,1423.18 3828.13,1278.34 3789.67,1278.34 \"/>\n",
       "<path clip-path=\"url(#clip402)\" d=\"M3828.13 1350.76 L3828.13 1423.18 L3866.59 1423.18 L3866.59 1350.76 L3828.13 1350.76 L3828.13 1350.76  Z\" fill=\"#009af9\" fill-rule=\"evenodd\" fill-opacity=\"1\"/>\n",
       "<polyline clip-path=\"url(#clip402)\" style=\"stroke:#000000; stroke-linecap:round; stroke-linejoin:round; stroke-width:4; stroke-opacity:1; fill:none\" points=\"3828.13,1350.76 3828.13,1423.18 3866.59,1423.18 3866.59,1350.76 3828.13,1350.76 \"/>\n",
       "<path clip-path=\"url(#clip402)\" d=\"M3866.59 1350.76 L3866.59 1423.18 L3905.05 1423.18 L3905.05 1350.76 L3866.59 1350.76 L3866.59 1350.76  Z\" fill=\"#009af9\" fill-rule=\"evenodd\" fill-opacity=\"1\"/>\n",
       "<polyline clip-path=\"url(#clip402)\" style=\"stroke:#000000; stroke-linecap:round; stroke-linejoin:round; stroke-width:4; stroke-opacity:1; fill:none\" points=\"3866.59,1350.76 3866.59,1423.18 3905.05,1423.18 3905.05,1350.76 3866.59,1350.76 \"/>\n",
       "<path clip-path=\"url(#clip402)\" d=\"M3905.05 1205.93 L3905.05 1423.18 L3943.51 1423.18 L3943.51 1205.93 L3905.05 1205.93 L3905.05 1205.93  Z\" fill=\"#009af9\" fill-rule=\"evenodd\" fill-opacity=\"1\"/>\n",
       "<polyline clip-path=\"url(#clip402)\" style=\"stroke:#000000; stroke-linecap:round; stroke-linejoin:round; stroke-width:4; stroke-opacity:1; fill:none\" points=\"3905.05,1205.93 3905.05,1423.18 3943.51,1423.18 3943.51,1205.93 3905.05,1205.93 \"/>\n",
       "<path clip-path=\"url(#clip402)\" d=\"M3943.51 1423.18 L3943.51 1423.18 L3981.97 1423.18 L3981.97 1423.18 L3943.51 1423.18 L3943.51 1423.18  Z\" fill=\"#009af9\" fill-rule=\"evenodd\" fill-opacity=\"1\"/>\n",
       "<polyline clip-path=\"url(#clip402)\" style=\"stroke:#000000; stroke-linecap:round; stroke-linejoin:round; stroke-width:4; stroke-opacity:1; fill:none\" points=\"3943.51,1423.18 3943.51,1423.18 3981.97,1423.18 3943.51,1423.18 \"/>\n",
       "<path clip-path=\"url(#clip402)\" d=\"M3981.97 1350.76 L3981.97 1423.18 L4020.43 1423.18 L4020.43 1350.76 L3981.97 1350.76 L3981.97 1350.76  Z\" fill=\"#009af9\" fill-rule=\"evenodd\" fill-opacity=\"1\"/>\n",
       "<polyline clip-path=\"url(#clip402)\" style=\"stroke:#000000; stroke-linecap:round; stroke-linejoin:round; stroke-width:4; stroke-opacity:1; fill:none\" points=\"3981.97,1350.76 3981.97,1423.18 4020.43,1423.18 4020.43,1350.76 3981.97,1350.76 \"/>\n",
       "<path clip-path=\"url(#clip402)\" d=\"M4020.43 1423.18 L4020.43 1423.18 L4058.89 1423.18 L4058.89 1423.18 L4020.43 1423.18 L4020.43 1423.18  Z\" fill=\"#009af9\" fill-rule=\"evenodd\" fill-opacity=\"1\"/>\n",
       "<polyline clip-path=\"url(#clip402)\" style=\"stroke:#000000; stroke-linecap:round; stroke-linejoin:round; stroke-width:4; stroke-opacity:1; fill:none\" points=\"4020.43,1423.18 4020.43,1423.18 4058.89,1423.18 4020.43,1423.18 \"/>\n",
       "<path clip-path=\"url(#clip402)\" d=\"M4058.89 1423.18 L4058.89 1423.18 L4097.35 1423.18 L4097.35 1423.18 L4058.89 1423.18 L4058.89 1423.18  Z\" fill=\"#009af9\" fill-rule=\"evenodd\" fill-opacity=\"1\"/>\n",
       "<polyline clip-path=\"url(#clip402)\" style=\"stroke:#000000; stroke-linecap:round; stroke-linejoin:round; stroke-width:4; stroke-opacity:1; fill:none\" points=\"4058.89,1423.18 4058.89,1423.18 4097.35,1423.18 4058.89,1423.18 \"/>\n",
       "<path clip-path=\"url(#clip402)\" d=\"M4097.35 1423.18 L4097.35 1423.18 L4135.8 1423.18 L4135.8 1423.18 L4097.35 1423.18 L4097.35 1423.18  Z\" fill=\"#009af9\" fill-rule=\"evenodd\" fill-opacity=\"1\"/>\n",
       "<polyline clip-path=\"url(#clip402)\" style=\"stroke:#000000; stroke-linecap:round; stroke-linejoin:round; stroke-width:4; stroke-opacity:1; fill:none\" points=\"4097.35,1423.18 4097.35,1423.18 4135.8,1423.18 4097.35,1423.18 \"/>\n",
       "<path clip-path=\"url(#clip402)\" d=\"M4135.8 1423.18 L4135.8 1423.18 L4174.26 1423.18 L4174.26 1423.18 L4135.8 1423.18 L4135.8 1423.18  Z\" fill=\"#009af9\" fill-rule=\"evenodd\" fill-opacity=\"1\"/>\n",
       "<polyline clip-path=\"url(#clip402)\" style=\"stroke:#000000; stroke-linecap:round; stroke-linejoin:round; stroke-width:4; stroke-opacity:1; fill:none\" points=\"4135.8,1423.18 4135.8,1423.18 4174.26,1423.18 4135.8,1423.18 \"/>\n",
       "<path clip-path=\"url(#clip402)\" d=\"M4174.26 1350.76 L4174.26 1423.18 L4212.72 1423.18 L4212.72 1350.76 L4174.26 1350.76 L4174.26 1350.76  Z\" fill=\"#009af9\" fill-rule=\"evenodd\" fill-opacity=\"1\"/>\n",
       "<polyline clip-path=\"url(#clip402)\" style=\"stroke:#000000; stroke-linecap:round; stroke-linejoin:round; stroke-width:4; stroke-opacity:1; fill:none\" points=\"4174.26,1350.76 4174.26,1423.18 4212.72,1423.18 4212.72,1350.76 4174.26,1350.76 \"/>\n",
       "<path clip-path=\"url(#clip402)\" d=\"M4212.72 1423.18 L4212.72 1423.18 L4251.18 1423.18 L4251.18 1423.18 L4212.72 1423.18 L4212.72 1423.18  Z\" fill=\"#009af9\" fill-rule=\"evenodd\" fill-opacity=\"1\"/>\n",
       "<polyline clip-path=\"url(#clip402)\" style=\"stroke:#000000; stroke-linecap:round; stroke-linejoin:round; stroke-width:4; stroke-opacity:1; fill:none\" points=\"4212.72,1423.18 4212.72,1423.18 4251.18,1423.18 4212.72,1423.18 \"/>\n",
       "<path clip-path=\"url(#clip402)\" d=\"M4251.18 1350.76 L4251.18 1423.18 L4289.64 1423.18 L4289.64 1350.76 L4251.18 1350.76 L4251.18 1350.76  Z\" fill=\"#009af9\" fill-rule=\"evenodd\" fill-opacity=\"1\"/>\n",
       "<polyline clip-path=\"url(#clip402)\" style=\"stroke:#000000; stroke-linecap:round; stroke-linejoin:round; stroke-width:4; stroke-opacity:1; fill:none\" points=\"4251.18,1350.76 4251.18,1423.18 4289.64,1423.18 4289.64,1350.76 4251.18,1350.76 \"/>\n",
       "<path clip-path=\"url(#clip402)\" d=\"M4289.64 1278.34 L4289.64 1423.18 L4328.1 1423.18 L4328.1 1278.34 L4289.64 1278.34 L4289.64 1278.34  Z\" fill=\"#009af9\" fill-rule=\"evenodd\" fill-opacity=\"1\"/>\n",
       "<polyline clip-path=\"url(#clip402)\" style=\"stroke:#000000; stroke-linecap:round; stroke-linejoin:round; stroke-width:4; stroke-opacity:1; fill:none\" points=\"4289.64,1278.34 4289.64,1423.18 4328.1,1423.18 4328.1,1278.34 4289.64,1278.34 \"/>\n",
       "<path clip-path=\"url(#clip402)\" d=\"M4328.1 1423.18 L4328.1 1423.18 L4366.56 1423.18 L4366.56 1423.18 L4328.1 1423.18 L4328.1 1423.18  Z\" fill=\"#009af9\" fill-rule=\"evenodd\" fill-opacity=\"1\"/>\n",
       "<polyline clip-path=\"url(#clip402)\" style=\"stroke:#000000; stroke-linecap:round; stroke-linejoin:round; stroke-width:4; stroke-opacity:1; fill:none\" points=\"4328.1,1423.18 4328.1,1423.18 4366.56,1423.18 4328.1,1423.18 \"/>\n",
       "<path clip-path=\"url(#clip402)\" d=\"M4366.56 1350.76 L4366.56 1423.18 L4405.02 1423.18 L4405.02 1350.76 L4366.56 1350.76 L4366.56 1350.76  Z\" fill=\"#009af9\" fill-rule=\"evenodd\" fill-opacity=\"1\"/>\n",
       "<polyline clip-path=\"url(#clip402)\" style=\"stroke:#000000; stroke-linecap:round; stroke-linejoin:round; stroke-width:4; stroke-opacity:1; fill:none\" points=\"4366.56,1350.76 4366.56,1423.18 4405.02,1423.18 4405.02,1350.76 4366.56,1350.76 \"/>\n",
       "<path clip-path=\"url(#clip402)\" d=\"M4405.02 1423.18 L4405.02 1423.18 L4443.48 1423.18 L4443.48 1423.18 L4405.02 1423.18 L4405.02 1423.18  Z\" fill=\"#009af9\" fill-rule=\"evenodd\" fill-opacity=\"1\"/>\n",
       "<polyline clip-path=\"url(#clip402)\" style=\"stroke:#000000; stroke-linecap:round; stroke-linejoin:round; stroke-width:4; stroke-opacity:1; fill:none\" points=\"4405.02,1423.18 4405.02,1423.18 4443.48,1423.18 4405.02,1423.18 \"/>\n",
       "<path clip-path=\"url(#clip402)\" d=\"M4443.48 1423.18 L4443.48 1423.18 L4481.94 1423.18 L4481.94 1423.18 L4443.48 1423.18 L4443.48 1423.18  Z\" fill=\"#009af9\" fill-rule=\"evenodd\" fill-opacity=\"1\"/>\n",
       "<polyline clip-path=\"url(#clip402)\" style=\"stroke:#000000; stroke-linecap:round; stroke-linejoin:round; stroke-width:4; stroke-opacity:1; fill:none\" points=\"4443.48,1423.18 4443.48,1423.18 4481.94,1423.18 4443.48,1423.18 \"/>\n",
       "<path clip-path=\"url(#clip402)\" d=\"M4481.94 1278.34 L4481.94 1423.18 L4520.39 1423.18 L4520.39 1278.34 L4481.94 1278.34 L4481.94 1278.34  Z\" fill=\"#009af9\" fill-rule=\"evenodd\" fill-opacity=\"1\"/>\n",
       "<polyline clip-path=\"url(#clip402)\" style=\"stroke:#000000; stroke-linecap:round; stroke-linejoin:round; stroke-width:4; stroke-opacity:1; fill:none\" points=\"4481.94,1278.34 4481.94,1423.18 4520.39,1423.18 4520.39,1278.34 4481.94,1278.34 \"/>\n",
       "<path clip-path=\"url(#clip402)\" d=\"M4520.39 1350.76 L4520.39 1423.18 L4558.85 1423.18 L4558.85 1350.76 L4520.39 1350.76 L4520.39 1350.76  Z\" fill=\"#009af9\" fill-rule=\"evenodd\" fill-opacity=\"1\"/>\n",
       "<polyline clip-path=\"url(#clip402)\" style=\"stroke:#000000; stroke-linecap:round; stroke-linejoin:round; stroke-width:4; stroke-opacity:1; fill:none\" points=\"4520.39,1350.76 4520.39,1423.18 4558.85,1423.18 4558.85,1350.76 4520.39,1350.76 \"/>\n",
       "<path clip-path=\"url(#clip402)\" d=\"M4558.85 1423.18 L4558.85 1423.18 L4597.31 1423.18 L4597.31 1423.18 L4558.85 1423.18 L4558.85 1423.18  Z\" fill=\"#009af9\" fill-rule=\"evenodd\" fill-opacity=\"1\"/>\n",
       "<polyline clip-path=\"url(#clip402)\" style=\"stroke:#000000; stroke-linecap:round; stroke-linejoin:round; stroke-width:4; stroke-opacity:1; fill:none\" points=\"4558.85,1423.18 4558.85,1423.18 4597.31,1423.18 4558.85,1423.18 \"/>\n",
       "<path clip-path=\"url(#clip402)\" d=\"M4597.31 1350.76 L4597.31 1423.18 L4635.77 1423.18 L4635.77 1350.76 L4597.31 1350.76 L4597.31 1350.76  Z\" fill=\"#009af9\" fill-rule=\"evenodd\" fill-opacity=\"1\"/>\n",
       "<polyline clip-path=\"url(#clip402)\" style=\"stroke:#000000; stroke-linecap:round; stroke-linejoin:round; stroke-width:4; stroke-opacity:1; fill:none\" points=\"4597.31,1350.76 4597.31,1423.18 4635.77,1423.18 4635.77,1350.76 4597.31,1350.76 \"/>\n",
       "<path clip-path=\"url(#clip402)\" d=\"M4635.77 1423.18 L4635.77 1423.18 L4674.23 1423.18 L4674.23 1423.18 L4635.77 1423.18 L4635.77 1423.18  Z\" fill=\"#009af9\" fill-rule=\"evenodd\" fill-opacity=\"1\"/>\n",
       "<polyline clip-path=\"url(#clip402)\" style=\"stroke:#000000; stroke-linecap:round; stroke-linejoin:round; stroke-width:4; stroke-opacity:1; fill:none\" points=\"4635.77,1423.18 4635.77,1423.18 4674.23,1423.18 4635.77,1423.18 \"/>\n",
       "<path clip-path=\"url(#clip402)\" d=\"M4674.23 1423.18 L4674.23 1423.18 L4712.69 1423.18 L4712.69 1423.18 L4674.23 1423.18 L4674.23 1423.18  Z\" fill=\"#009af9\" fill-rule=\"evenodd\" fill-opacity=\"1\"/>\n",
       "<polyline clip-path=\"url(#clip402)\" style=\"stroke:#000000; stroke-linecap:round; stroke-linejoin:round; stroke-width:4; stroke-opacity:1; fill:none\" points=\"4674.23,1423.18 4674.23,1423.18 4712.69,1423.18 4674.23,1423.18 \"/>\n",
       "<path clip-path=\"url(#clip402)\" d=\"M4712.69 1350.76 L4712.69 1423.18 L4751.15 1423.18 L4751.15 1350.76 L4712.69 1350.76 L4712.69 1350.76  Z\" fill=\"#009af9\" fill-rule=\"evenodd\" fill-opacity=\"1\"/>\n",
       "<polyline clip-path=\"url(#clip402)\" style=\"stroke:#000000; stroke-linecap:round; stroke-linejoin:round; stroke-width:4; stroke-opacity:1; fill:none\" points=\"4712.69,1350.76 4712.69,1423.18 4751.15,1423.18 4751.15,1350.76 4712.69,1350.76 \"/>\n",
       "<path clip-path=\"url(#clip402)\" d=\"M4751.15 1423.18 L4751.15 1423.18 L4789.61 1423.18 L4789.61 1423.18 L4751.15 1423.18 L4751.15 1423.18  Z\" fill=\"#009af9\" fill-rule=\"evenodd\" fill-opacity=\"1\"/>\n",
       "<polyline clip-path=\"url(#clip402)\" style=\"stroke:#000000; stroke-linecap:round; stroke-linejoin:round; stroke-width:4; stroke-opacity:1; fill:none\" points=\"4751.15,1423.18 4751.15,1423.18 4789.61,1423.18 4751.15,1423.18 \"/>\n",
       "<path clip-path=\"url(#clip402)\" d=\"M4789.61 1350.76 L4789.61 1423.18 L4828.07 1423.18 L4828.07 1350.76 L4789.61 1350.76 L4789.61 1350.76  Z\" fill=\"#009af9\" fill-rule=\"evenodd\" fill-opacity=\"1\"/>\n",
       "<polyline clip-path=\"url(#clip402)\" style=\"stroke:#000000; stroke-linecap:round; stroke-linejoin:round; stroke-width:4; stroke-opacity:1; fill:none\" points=\"4789.61,1350.76 4789.61,1423.18 4828.07,1423.18 4828.07,1350.76 4789.61,1350.76 \"/>\n",
       "<path clip-path=\"url(#clip402)\" d=\"M4828.07 1423.18 L4828.07 1423.18 L4866.52 1423.18 L4866.52 1423.18 L4828.07 1423.18 L4828.07 1423.18  Z\" fill=\"#009af9\" fill-rule=\"evenodd\" fill-opacity=\"1\"/>\n",
       "<polyline clip-path=\"url(#clip402)\" style=\"stroke:#000000; stroke-linecap:round; stroke-linejoin:round; stroke-width:4; stroke-opacity:1; fill:none\" points=\"4828.07,1423.18 4828.07,1423.18 4866.52,1423.18 4828.07,1423.18 \"/>\n",
       "<path clip-path=\"url(#clip402)\" d=\"M4866.52 1350.76 L4866.52 1423.18 L4904.98 1423.18 L4904.98 1350.76 L4866.52 1350.76 L4866.52 1350.76  Z\" fill=\"#009af9\" fill-rule=\"evenodd\" fill-opacity=\"1\"/>\n",
       "<polyline clip-path=\"url(#clip402)\" style=\"stroke:#000000; stroke-linecap:round; stroke-linejoin:round; stroke-width:4; stroke-opacity:1; fill:none\" points=\"4866.52,1350.76 4866.52,1423.18 4904.98,1423.18 4904.98,1350.76 4866.52,1350.76 \"/>\n",
       "<path clip-path=\"url(#clip402)\" d=\"M4904.98 1350.76 L4904.98 1423.18 L4943.44 1423.18 L4943.44 1350.76 L4904.98 1350.76 L4904.98 1350.76  Z\" fill=\"#009af9\" fill-rule=\"evenodd\" fill-opacity=\"1\"/>\n",
       "<polyline clip-path=\"url(#clip402)\" style=\"stroke:#000000; stroke-linecap:round; stroke-linejoin:round; stroke-width:4; stroke-opacity:1; fill:none\" points=\"4904.98,1350.76 4904.98,1423.18 4943.44,1423.18 4943.44,1350.76 4904.98,1350.76 \"/>\n",
       "<path clip-path=\"url(#clip402)\" d=\"M4943.44 1423.18 L4943.44 1423.18 L4981.9 1423.18 L4981.9 1423.18 L4943.44 1423.18 L4943.44 1423.18  Z\" fill=\"#009af9\" fill-rule=\"evenodd\" fill-opacity=\"1\"/>\n",
       "<polyline clip-path=\"url(#clip402)\" style=\"stroke:#000000; stroke-linecap:round; stroke-linejoin:round; stroke-width:4; stroke-opacity:1; fill:none\" points=\"4943.44,1423.18 4943.44,1423.18 4981.9,1423.18 4943.44,1423.18 \"/>\n",
       "<path clip-path=\"url(#clip402)\" d=\"M4981.9 1423.18 L4981.9 1423.18 L5020.36 1423.18 L5020.36 1423.18 L4981.9 1423.18 L4981.9 1423.18  Z\" fill=\"#009af9\" fill-rule=\"evenodd\" fill-opacity=\"1\"/>\n",
       "<polyline clip-path=\"url(#clip402)\" style=\"stroke:#000000; stroke-linecap:round; stroke-linejoin:round; stroke-width:4; stroke-opacity:1; fill:none\" points=\"4981.9,1423.18 4981.9,1423.18 5020.36,1423.18 4981.9,1423.18 \"/>\n",
       "<path clip-path=\"url(#clip402)\" d=\"M5020.36 1423.18 L5020.36 1423.18 L5058.82 1423.18 L5058.82 1423.18 L5020.36 1423.18 L5020.36 1423.18  Z\" fill=\"#009af9\" fill-rule=\"evenodd\" fill-opacity=\"1\"/>\n",
       "<polyline clip-path=\"url(#clip402)\" style=\"stroke:#000000; stroke-linecap:round; stroke-linejoin:round; stroke-width:4; stroke-opacity:1; fill:none\" points=\"5020.36,1423.18 5020.36,1423.18 5058.82,1423.18 5020.36,1423.18 \"/>\n",
       "<path clip-path=\"url(#clip402)\" d=\"M5058.82 1350.76 L5058.82 1423.18 L5097.28 1423.18 L5097.28 1350.76 L5058.82 1350.76 L5058.82 1350.76  Z\" fill=\"#009af9\" fill-rule=\"evenodd\" fill-opacity=\"1\"/>\n",
       "<polyline clip-path=\"url(#clip402)\" style=\"stroke:#000000; stroke-linecap:round; stroke-linejoin:round; stroke-width:4; stroke-opacity:1; fill:none\" points=\"5058.82,1350.76 5058.82,1423.18 5097.28,1423.18 5097.28,1350.76 5058.82,1350.76 \"/>\n",
       "<path clip-path=\"url(#clip402)\" d=\"M5097.28 1423.18 L5097.28 1423.18 L5135.74 1423.18 L5135.74 1423.18 L5097.28 1423.18 L5097.28 1423.18  Z\" fill=\"#009af9\" fill-rule=\"evenodd\" fill-opacity=\"1\"/>\n",
       "<polyline clip-path=\"url(#clip402)\" style=\"stroke:#000000; stroke-linecap:round; stroke-linejoin:round; stroke-width:4; stroke-opacity:1; fill:none\" points=\"5097.28,1423.18 5097.28,1423.18 5135.74,1423.18 5097.28,1423.18 \"/>\n",
       "<path clip-path=\"url(#clip402)\" d=\"M5135.74 1350.76 L5135.74 1423.18 L5174.2 1423.18 L5174.2 1350.76 L5135.74 1350.76 L5135.74 1350.76  Z\" fill=\"#009af9\" fill-rule=\"evenodd\" fill-opacity=\"1\"/>\n",
       "<polyline clip-path=\"url(#clip402)\" style=\"stroke:#000000; stroke-linecap:round; stroke-linejoin:round; stroke-width:4; stroke-opacity:1; fill:none\" points=\"5135.74,1350.76 5135.74,1423.18 5174.2,1423.18 5174.2,1350.76 5135.74,1350.76 \"/>\n",
       "<path clip-path=\"url(#clip402)\" d=\"M5174.2 1423.18 L5174.2 1423.18 L5212.65 1423.18 L5212.65 1423.18 L5174.2 1423.18 L5174.2 1423.18  Z\" fill=\"#009af9\" fill-rule=\"evenodd\" fill-opacity=\"1\"/>\n",
       "<polyline clip-path=\"url(#clip402)\" style=\"stroke:#000000; stroke-linecap:round; stroke-linejoin:round; stroke-width:4; stroke-opacity:1; fill:none\" points=\"5174.2,1423.18 5174.2,1423.18 5212.65,1423.18 5174.2,1423.18 \"/>\n",
       "<path clip-path=\"url(#clip402)\" d=\"M5212.65 1350.76 L5212.65 1423.18 L5251.11 1423.18 L5251.11 1350.76 L5212.65 1350.76 L5212.65 1350.76  Z\" fill=\"#009af9\" fill-rule=\"evenodd\" fill-opacity=\"1\"/>\n",
       "<polyline clip-path=\"url(#clip402)\" style=\"stroke:#000000; stroke-linecap:round; stroke-linejoin:round; stroke-width:4; stroke-opacity:1; fill:none\" points=\"5212.65,1350.76 5212.65,1423.18 5251.11,1423.18 5251.11,1350.76 5212.65,1350.76 \"/>\n",
       "<path clip-path=\"url(#clip402)\" d=\"M5251.11 1350.76 L5251.11 1423.18 L5289.57 1423.18 L5289.57 1350.76 L5251.11 1350.76 L5251.11 1350.76  Z\" fill=\"#009af9\" fill-rule=\"evenodd\" fill-opacity=\"1\"/>\n",
       "<polyline clip-path=\"url(#clip402)\" style=\"stroke:#000000; stroke-linecap:round; stroke-linejoin:round; stroke-width:4; stroke-opacity:1; fill:none\" points=\"5251.11,1350.76 5251.11,1423.18 5289.57,1423.18 5289.57,1350.76 5251.11,1350.76 \"/>\n",
       "<path clip-path=\"url(#clip402)\" d=\"M5289.57 1350.76 L5289.57 1423.18 L5328.03 1423.18 L5328.03 1350.76 L5289.57 1350.76 L5289.57 1350.76  Z\" fill=\"#009af9\" fill-rule=\"evenodd\" fill-opacity=\"1\"/>\n",
       "<polyline clip-path=\"url(#clip402)\" style=\"stroke:#000000; stroke-linecap:round; stroke-linejoin:round; stroke-width:4; stroke-opacity:1; fill:none\" points=\"5289.57,1350.76 5289.57,1423.18 5328.03,1423.18 5328.03,1350.76 5289.57,1350.76 \"/>\n",
       "<path clip-path=\"url(#clip402)\" d=\"M5328.03 1350.76 L5328.03 1423.18 L5366.49 1423.18 L5366.49 1350.76 L5328.03 1350.76 L5328.03 1350.76  Z\" fill=\"#009af9\" fill-rule=\"evenodd\" fill-opacity=\"1\"/>\n",
       "<polyline clip-path=\"url(#clip402)\" style=\"stroke:#000000; stroke-linecap:round; stroke-linejoin:round; stroke-width:4; stroke-opacity:1; fill:none\" points=\"5328.03,1350.76 5328.03,1423.18 5366.49,1423.18 5366.49,1350.76 5328.03,1350.76 \"/>\n",
       "<path clip-path=\"url(#clip402)\" d=\"M5366.49 1423.18 L5366.49 1423.18 L5404.95 1423.18 L5404.95 1423.18 L5366.49 1423.18 L5366.49 1423.18  Z\" fill=\"#009af9\" fill-rule=\"evenodd\" fill-opacity=\"1\"/>\n",
       "<polyline clip-path=\"url(#clip402)\" style=\"stroke:#000000; stroke-linecap:round; stroke-linejoin:round; stroke-width:4; stroke-opacity:1; fill:none\" points=\"5366.49,1423.18 5366.49,1423.18 5404.95,1423.18 5366.49,1423.18 \"/>\n",
       "<path clip-path=\"url(#clip402)\" d=\"M5404.95 1423.18 L5404.95 1423.18 L5443.41 1423.18 L5443.41 1423.18 L5404.95 1423.18 L5404.95 1423.18  Z\" fill=\"#009af9\" fill-rule=\"evenodd\" fill-opacity=\"1\"/>\n",
       "<polyline clip-path=\"url(#clip402)\" style=\"stroke:#000000; stroke-linecap:round; stroke-linejoin:round; stroke-width:4; stroke-opacity:1; fill:none\" points=\"5404.95,1423.18 5404.95,1423.18 5443.41,1423.18 5404.95,1423.18 \"/>\n",
       "<path clip-path=\"url(#clip402)\" d=\"M5443.41 1423.18 L5443.41 1423.18 L5481.87 1423.18 L5481.87 1423.18 L5443.41 1423.18 L5443.41 1423.18  Z\" fill=\"#009af9\" fill-rule=\"evenodd\" fill-opacity=\"1\"/>\n",
       "<polyline clip-path=\"url(#clip402)\" style=\"stroke:#000000; stroke-linecap:round; stroke-linejoin:round; stroke-width:4; stroke-opacity:1; fill:none\" points=\"5443.41,1423.18 5443.41,1423.18 5481.87,1423.18 5443.41,1423.18 \"/>\n",
       "<path clip-path=\"url(#clip402)\" d=\"M5481.87 1423.18 L5481.87 1423.18 L5520.33 1423.18 L5520.33 1423.18 L5481.87 1423.18 L5481.87 1423.18  Z\" fill=\"#009af9\" fill-rule=\"evenodd\" fill-opacity=\"1\"/>\n",
       "<polyline clip-path=\"url(#clip402)\" style=\"stroke:#000000; stroke-linecap:round; stroke-linejoin:round; stroke-width:4; stroke-opacity:1; fill:none\" points=\"5481.87,1423.18 5481.87,1423.18 5520.33,1423.18 5481.87,1423.18 \"/>\n",
       "<path clip-path=\"url(#clip402)\" d=\"M5520.33 1350.76 L5520.33 1423.18 L5558.78 1423.18 L5558.78 1350.76 L5520.33 1350.76 L5520.33 1350.76  Z\" fill=\"#009af9\" fill-rule=\"evenodd\" fill-opacity=\"1\"/>\n",
       "<polyline clip-path=\"url(#clip402)\" style=\"stroke:#000000; stroke-linecap:round; stroke-linejoin:round; stroke-width:4; stroke-opacity:1; fill:none\" points=\"5520.33,1350.76 5520.33,1423.18 5558.78,1423.18 5558.78,1350.76 5520.33,1350.76 \"/>\n",
       "<path clip-path=\"url(#clip402)\" d=\"M5558.78 1423.18 L5558.78 1423.18 L5597.24 1423.18 L5597.24 1423.18 L5558.78 1423.18 L5558.78 1423.18  Z\" fill=\"#009af9\" fill-rule=\"evenodd\" fill-opacity=\"1\"/>\n",
       "<polyline clip-path=\"url(#clip402)\" style=\"stroke:#000000; stroke-linecap:round; stroke-linejoin:round; stroke-width:4; stroke-opacity:1; fill:none\" points=\"5558.78,1423.18 5558.78,1423.18 5597.24,1423.18 5558.78,1423.18 \"/>\n",
       "<path clip-path=\"url(#clip402)\" d=\"M5597.24 1423.18 L5597.24 1423.18 L5635.7 1423.18 L5635.7 1423.18 L5597.24 1423.18 L5597.24 1423.18  Z\" fill=\"#009af9\" fill-rule=\"evenodd\" fill-opacity=\"1\"/>\n",
       "<polyline clip-path=\"url(#clip402)\" style=\"stroke:#000000; stroke-linecap:round; stroke-linejoin:round; stroke-width:4; stroke-opacity:1; fill:none\" points=\"5597.24,1423.18 5597.24,1423.18 5635.7,1423.18 5597.24,1423.18 \"/>\n",
       "<path clip-path=\"url(#clip402)\" d=\"M5635.7 1350.76 L5635.7 1423.18 L5674.16 1423.18 L5674.16 1350.76 L5635.7 1350.76 L5635.7 1350.76  Z\" fill=\"#009af9\" fill-rule=\"evenodd\" fill-opacity=\"1\"/>\n",
       "<polyline clip-path=\"url(#clip402)\" style=\"stroke:#000000; stroke-linecap:round; stroke-linejoin:round; stroke-width:4; stroke-opacity:1; fill:none\" points=\"5635.7,1350.76 5635.7,1423.18 5674.16,1423.18 5674.16,1350.76 5635.7,1350.76 \"/>\n",
       "<path clip-path=\"url(#clip402)\" d=\"M5674.16 1350.76 L5674.16 1423.18 L5712.62 1423.18 L5712.62 1350.76 L5674.16 1350.76 L5674.16 1350.76  Z\" fill=\"#009af9\" fill-rule=\"evenodd\" fill-opacity=\"1\"/>\n",
       "<polyline clip-path=\"url(#clip402)\" style=\"stroke:#000000; stroke-linecap:round; stroke-linejoin:round; stroke-width:4; stroke-opacity:1; fill:none\" points=\"5674.16,1350.76 5674.16,1423.18 5712.62,1423.18 5712.62,1350.76 5674.16,1350.76 \"/>\n",
       "<path clip-path=\"url(#clip402)\" d=\"M5712.62 1278.34 L5712.62 1423.18 L5751.08 1423.18 L5751.08 1278.34 L5712.62 1278.34 L5712.62 1278.34  Z\" fill=\"#009af9\" fill-rule=\"evenodd\" fill-opacity=\"1\"/>\n",
       "<polyline clip-path=\"url(#clip402)\" style=\"stroke:#000000; stroke-linecap:round; stroke-linejoin:round; stroke-width:4; stroke-opacity:1; fill:none\" points=\"5712.62,1278.34 5712.62,1423.18 5751.08,1423.18 5751.08,1278.34 5712.62,1278.34 \"/>\n",
       "<path clip-path=\"url(#clip402)\" d=\"M5751.08 1423.18 L5751.08 1423.18 L5789.54 1423.18 L5789.54 1423.18 L5751.08 1423.18 L5751.08 1423.18  Z\" fill=\"#009af9\" fill-rule=\"evenodd\" fill-opacity=\"1\"/>\n",
       "<polyline clip-path=\"url(#clip402)\" style=\"stroke:#000000; stroke-linecap:round; stroke-linejoin:round; stroke-width:4; stroke-opacity:1; fill:none\" points=\"5751.08,1423.18 5751.08,1423.18 5789.54,1423.18 5751.08,1423.18 \"/>\n",
       "<path clip-path=\"url(#clip402)\" d=\"M5789.54 1423.18 L5789.54 1423.18 L5828 1423.18 L5828 1423.18 L5789.54 1423.18 L5789.54 1423.18  Z\" fill=\"#009af9\" fill-rule=\"evenodd\" fill-opacity=\"1\"/>\n",
       "<polyline clip-path=\"url(#clip402)\" style=\"stroke:#000000; stroke-linecap:round; stroke-linejoin:round; stroke-width:4; stroke-opacity:1; fill:none\" points=\"5789.54,1423.18 5789.54,1423.18 5828,1423.18 5789.54,1423.18 \"/>\n",
       "<path clip-path=\"url(#clip402)\" d=\"M5828 1423.18 L5828 1423.18 L5866.46 1423.18 L5866.46 1423.18 L5828 1423.18 L5828 1423.18  Z\" fill=\"#009af9\" fill-rule=\"evenodd\" fill-opacity=\"1\"/>\n",
       "<polyline clip-path=\"url(#clip402)\" style=\"stroke:#000000; stroke-linecap:round; stroke-linejoin:round; stroke-width:4; stroke-opacity:1; fill:none\" points=\"5828,1423.18 5828,1423.18 5866.46,1423.18 5828,1423.18 \"/>\n",
       "<path clip-path=\"url(#clip402)\" d=\"M5866.46 1423.18 L5866.46 1423.18 L5904.91 1423.18 L5904.91 1423.18 L5866.46 1423.18 L5866.46 1423.18  Z\" fill=\"#009af9\" fill-rule=\"evenodd\" fill-opacity=\"1\"/>\n",
       "<polyline clip-path=\"url(#clip402)\" style=\"stroke:#000000; stroke-linecap:round; stroke-linejoin:round; stroke-width:4; stroke-opacity:1; fill:none\" points=\"5866.46,1423.18 5866.46,1423.18 5904.91,1423.18 5866.46,1423.18 \"/>\n",
       "<path clip-path=\"url(#clip402)\" d=\"M5904.91 1423.18 L5904.91 1423.18 L5943.37 1423.18 L5943.37 1423.18 L5904.91 1423.18 L5904.91 1423.18  Z\" fill=\"#009af9\" fill-rule=\"evenodd\" fill-opacity=\"1\"/>\n",
       "<polyline clip-path=\"url(#clip402)\" style=\"stroke:#000000; stroke-linecap:round; stroke-linejoin:round; stroke-width:4; stroke-opacity:1; fill:none\" points=\"5904.91,1423.18 5904.91,1423.18 5943.37,1423.18 5904.91,1423.18 \"/>\n",
       "<path clip-path=\"url(#clip402)\" d=\"M5943.37 1423.18 L5943.37 1423.18 L5981.83 1423.18 L5981.83 1423.18 L5943.37 1423.18 L5943.37 1423.18  Z\" fill=\"#009af9\" fill-rule=\"evenodd\" fill-opacity=\"1\"/>\n",
       "<polyline clip-path=\"url(#clip402)\" style=\"stroke:#000000; stroke-linecap:round; stroke-linejoin:round; stroke-width:4; stroke-opacity:1; fill:none\" points=\"5943.37,1423.18 5943.37,1423.18 5981.83,1423.18 5943.37,1423.18 \"/>\n",
       "<path clip-path=\"url(#clip402)\" d=\"M5981.83 1423.18 L5981.83 1423.18 L6020.29 1423.18 L6020.29 1423.18 L5981.83 1423.18 L5981.83 1423.18  Z\" fill=\"#009af9\" fill-rule=\"evenodd\" fill-opacity=\"1\"/>\n",
       "<polyline clip-path=\"url(#clip402)\" style=\"stroke:#000000; stroke-linecap:round; stroke-linejoin:round; stroke-width:4; stroke-opacity:1; fill:none\" points=\"5981.83,1423.18 5981.83,1423.18 6020.29,1423.18 5981.83,1423.18 \"/>\n",
       "<path clip-path=\"url(#clip402)\" d=\"M6020.29 1278.34 L6020.29 1423.18 L6058.75 1423.18 L6058.75 1278.34 L6020.29 1278.34 L6020.29 1278.34  Z\" fill=\"#009af9\" fill-rule=\"evenodd\" fill-opacity=\"1\"/>\n",
       "<polyline clip-path=\"url(#clip402)\" style=\"stroke:#000000; stroke-linecap:round; stroke-linejoin:round; stroke-width:4; stroke-opacity:1; fill:none\" points=\"6020.29,1278.34 6020.29,1423.18 6058.75,1423.18 6058.75,1278.34 6020.29,1278.34 \"/>\n",
       "<path clip-path=\"url(#clip402)\" d=\"M6058.75 1423.18 L6058.75 1423.18 L6097.21 1423.18 L6097.21 1423.18 L6058.75 1423.18 L6058.75 1423.18  Z\" fill=\"#009af9\" fill-rule=\"evenodd\" fill-opacity=\"1\"/>\n",
       "<polyline clip-path=\"url(#clip402)\" style=\"stroke:#000000; stroke-linecap:round; stroke-linejoin:round; stroke-width:4; stroke-opacity:1; fill:none\" points=\"6058.75,1423.18 6058.75,1423.18 6097.21,1423.18 6058.75,1423.18 \"/>\n",
       "<path clip-path=\"url(#clip402)\" d=\"M6097.21 1423.18 L6097.21 1423.18 L6135.67 1423.18 L6135.67 1423.18 L6097.21 1423.18 L6097.21 1423.18  Z\" fill=\"#009af9\" fill-rule=\"evenodd\" fill-opacity=\"1\"/>\n",
       "<polyline clip-path=\"url(#clip402)\" style=\"stroke:#000000; stroke-linecap:round; stroke-linejoin:round; stroke-width:4; stroke-opacity:1; fill:none\" points=\"6097.21,1423.18 6097.21,1423.18 6135.67,1423.18 6097.21,1423.18 \"/>\n",
       "<path clip-path=\"url(#clip402)\" d=\"M6135.67 1423.18 L6135.67 1423.18 L6174.13 1423.18 L6174.13 1423.18 L6135.67 1423.18 L6135.67 1423.18  Z\" fill=\"#009af9\" fill-rule=\"evenodd\" fill-opacity=\"1\"/>\n",
       "<polyline clip-path=\"url(#clip402)\" style=\"stroke:#000000; stroke-linecap:round; stroke-linejoin:round; stroke-width:4; stroke-opacity:1; fill:none\" points=\"6135.67,1423.18 6135.67,1423.18 6174.13,1423.18 6135.67,1423.18 \"/>\n",
       "<path clip-path=\"url(#clip402)\" d=\"M6174.13 1423.18 L6174.13 1423.18 L6212.59 1423.18 L6212.59 1423.18 L6174.13 1423.18 L6174.13 1423.18  Z\" fill=\"#009af9\" fill-rule=\"evenodd\" fill-opacity=\"1\"/>\n",
       "<polyline clip-path=\"url(#clip402)\" style=\"stroke:#000000; stroke-linecap:round; stroke-linejoin:round; stroke-width:4; stroke-opacity:1; fill:none\" points=\"6174.13,1423.18 6174.13,1423.18 6212.59,1423.18 6174.13,1423.18 \"/>\n",
       "<path clip-path=\"url(#clip402)\" d=\"M6212.59 1423.18 L6212.59 1423.18 L6251.04 1423.18 L6251.04 1423.18 L6212.59 1423.18 L6212.59 1423.18  Z\" fill=\"#009af9\" fill-rule=\"evenodd\" fill-opacity=\"1\"/>\n",
       "<polyline clip-path=\"url(#clip402)\" style=\"stroke:#000000; stroke-linecap:round; stroke-linejoin:round; stroke-width:4; stroke-opacity:1; fill:none\" points=\"6212.59,1423.18 6212.59,1423.18 6251.04,1423.18 6212.59,1423.18 \"/>\n",
       "<path clip-path=\"url(#clip402)\" d=\"M6251.04 1350.76 L6251.04 1423.18 L6289.5 1423.18 L6289.5 1350.76 L6251.04 1350.76 L6251.04 1350.76  Z\" fill=\"#009af9\" fill-rule=\"evenodd\" fill-opacity=\"1\"/>\n",
       "<polyline clip-path=\"url(#clip402)\" style=\"stroke:#000000; stroke-linecap:round; stroke-linejoin:round; stroke-width:4; stroke-opacity:1; fill:none\" points=\"6251.04,1350.76 6251.04,1423.18 6289.5,1423.18 6289.5,1350.76 6251.04,1350.76 \"/>\n",
       "<path clip-path=\"url(#clip402)\" d=\"M6289.5 1423.18 L6289.5 1423.18 L6327.96 1423.18 L6327.96 1423.18 L6289.5 1423.18 L6289.5 1423.18  Z\" fill=\"#009af9\" fill-rule=\"evenodd\" fill-opacity=\"1\"/>\n",
       "<polyline clip-path=\"url(#clip402)\" style=\"stroke:#000000; stroke-linecap:round; stroke-linejoin:round; stroke-width:4; stroke-opacity:1; fill:none\" points=\"6289.5,1423.18 6289.5,1423.18 6327.96,1423.18 6289.5,1423.18 \"/>\n",
       "<path clip-path=\"url(#clip402)\" d=\"M6327.96 1350.76 L6327.96 1423.18 L6366.42 1423.18 L6366.42 1350.76 L6327.96 1350.76 L6327.96 1350.76  Z\" fill=\"#009af9\" fill-rule=\"evenodd\" fill-opacity=\"1\"/>\n",
       "<polyline clip-path=\"url(#clip402)\" style=\"stroke:#000000; stroke-linecap:round; stroke-linejoin:round; stroke-width:4; stroke-opacity:1; fill:none\" points=\"6327.96,1350.76 6327.96,1423.18 6366.42,1423.18 6366.42,1350.76 6327.96,1350.76 \"/>\n",
       "<path clip-path=\"url(#clip402)\" d=\"M6366.42 1423.18 L6366.42 1423.18 L6404.88 1423.18 L6404.88 1423.18 L6366.42 1423.18 L6366.42 1423.18  Z\" fill=\"#009af9\" fill-rule=\"evenodd\" fill-opacity=\"1\"/>\n",
       "<polyline clip-path=\"url(#clip402)\" style=\"stroke:#000000; stroke-linecap:round; stroke-linejoin:round; stroke-width:4; stroke-opacity:1; fill:none\" points=\"6366.42,1423.18 6366.42,1423.18 6404.88,1423.18 6366.42,1423.18 \"/>\n",
       "<path clip-path=\"url(#clip402)\" d=\"M6404.88 1423.18 L6404.88 1423.18 L6443.34 1423.18 L6443.34 1423.18 L6404.88 1423.18 L6404.88 1423.18  Z\" fill=\"#009af9\" fill-rule=\"evenodd\" fill-opacity=\"1\"/>\n",
       "<polyline clip-path=\"url(#clip402)\" style=\"stroke:#000000; stroke-linecap:round; stroke-linejoin:round; stroke-width:4; stroke-opacity:1; fill:none\" points=\"6404.88,1423.18 6404.88,1423.18 6443.34,1423.18 6404.88,1423.18 \"/>\n",
       "<path clip-path=\"url(#clip402)\" d=\"M6443.34 1350.76 L6443.34 1423.18 L6481.8 1423.18 L6481.8 1350.76 L6443.34 1350.76 L6443.34 1350.76  Z\" fill=\"#009af9\" fill-rule=\"evenodd\" fill-opacity=\"1\"/>\n",
       "<polyline clip-path=\"url(#clip402)\" style=\"stroke:#000000; stroke-linecap:round; stroke-linejoin:round; stroke-width:4; stroke-opacity:1; fill:none\" points=\"6443.34,1350.76 6443.34,1423.18 6481.8,1423.18 6481.8,1350.76 6443.34,1350.76 \"/>\n",
       "<path clip-path=\"url(#clip402)\" d=\"M6481.8 1423.18 L6481.8 1423.18 L6520.26 1423.18 L6520.26 1423.18 L6481.8 1423.18 L6481.8 1423.18  Z\" fill=\"#009af9\" fill-rule=\"evenodd\" fill-opacity=\"1\"/>\n",
       "<polyline clip-path=\"url(#clip402)\" style=\"stroke:#000000; stroke-linecap:round; stroke-linejoin:round; stroke-width:4; stroke-opacity:1; fill:none\" points=\"6481.8,1423.18 6481.8,1423.18 6520.26,1423.18 6481.8,1423.18 \"/>\n",
       "<path clip-path=\"url(#clip402)\" d=\"M6520.26 1350.76 L6520.26 1423.18 L6558.72 1423.18 L6558.72 1350.76 L6520.26 1350.76 L6520.26 1350.76  Z\" fill=\"#009af9\" fill-rule=\"evenodd\" fill-opacity=\"1\"/>\n",
       "<polyline clip-path=\"url(#clip402)\" style=\"stroke:#000000; stroke-linecap:round; stroke-linejoin:round; stroke-width:4; stroke-opacity:1; fill:none\" points=\"6520.26,1350.76 6520.26,1423.18 6558.72,1423.18 6558.72,1350.76 6520.26,1350.76 \"/>\n",
       "<path clip-path=\"url(#clip402)\" d=\"M6558.72 1423.18 L6558.72 1423.18 L6597.18 1423.18 L6597.18 1423.18 L6558.72 1423.18 L6558.72 1423.18  Z\" fill=\"#009af9\" fill-rule=\"evenodd\" fill-opacity=\"1\"/>\n",
       "<polyline clip-path=\"url(#clip402)\" style=\"stroke:#000000; stroke-linecap:round; stroke-linejoin:round; stroke-width:4; stroke-opacity:1; fill:none\" points=\"6558.72,1423.18 6558.72,1423.18 6597.18,1423.18 6558.72,1423.18 \"/>\n",
       "<path clip-path=\"url(#clip402)\" d=\"M6597.18 1423.18 L6597.18 1423.18 L6635.63 1423.18 L6635.63 1423.18 L6597.18 1423.18 L6597.18 1423.18  Z\" fill=\"#009af9\" fill-rule=\"evenodd\" fill-opacity=\"1\"/>\n",
       "<polyline clip-path=\"url(#clip402)\" style=\"stroke:#000000; stroke-linecap:round; stroke-linejoin:round; stroke-width:4; stroke-opacity:1; fill:none\" points=\"6597.18,1423.18 6597.18,1423.18 6635.63,1423.18 6597.18,1423.18 \"/>\n",
       "<path clip-path=\"url(#clip402)\" d=\"M6635.63 1423.18 L6635.63 1423.18 L6674.09 1423.18 L6674.09 1423.18 L6635.63 1423.18 L6635.63 1423.18  Z\" fill=\"#009af9\" fill-rule=\"evenodd\" fill-opacity=\"1\"/>\n",
       "<polyline clip-path=\"url(#clip402)\" style=\"stroke:#000000; stroke-linecap:round; stroke-linejoin:round; stroke-width:4; stroke-opacity:1; fill:none\" points=\"6635.63,1423.18 6635.63,1423.18 6674.09,1423.18 6635.63,1423.18 \"/>\n",
       "<path clip-path=\"url(#clip402)\" d=\"M6674.09 1350.76 L6674.09 1423.18 L6712.55 1423.18 L6712.55 1350.76 L6674.09 1350.76 L6674.09 1350.76  Z\" fill=\"#009af9\" fill-rule=\"evenodd\" fill-opacity=\"1\"/>\n",
       "<polyline clip-path=\"url(#clip402)\" style=\"stroke:#000000; stroke-linecap:round; stroke-linejoin:round; stroke-width:4; stroke-opacity:1; fill:none\" points=\"6674.09,1350.76 6674.09,1423.18 6712.55,1423.18 6712.55,1350.76 6674.09,1350.76 \"/>\n",
       "<path clip-path=\"url(#clip402)\" d=\"M6712.55 1423.18 L6712.55 1423.18 L6751.01 1423.18 L6751.01 1423.18 L6712.55 1423.18 L6712.55 1423.18  Z\" fill=\"#009af9\" fill-rule=\"evenodd\" fill-opacity=\"1\"/>\n",
       "<polyline clip-path=\"url(#clip402)\" style=\"stroke:#000000; stroke-linecap:round; stroke-linejoin:round; stroke-width:4; stroke-opacity:1; fill:none\" points=\"6712.55,1423.18 6712.55,1423.18 6751.01,1423.18 6712.55,1423.18 \"/>\n",
       "<path clip-path=\"url(#clip402)\" d=\"M6751.01 1423.18 L6751.01 1423.18 L6789.47 1423.18 L6789.47 1423.18 L6751.01 1423.18 L6751.01 1423.18  Z\" fill=\"#009af9\" fill-rule=\"evenodd\" fill-opacity=\"1\"/>\n",
       "<polyline clip-path=\"url(#clip402)\" style=\"stroke:#000000; stroke-linecap:round; stroke-linejoin:round; stroke-width:4; stroke-opacity:1; fill:none\" points=\"6751.01,1423.18 6751.01,1423.18 6789.47,1423.18 6751.01,1423.18 \"/>\n",
       "<path clip-path=\"url(#clip402)\" d=\"M6789.47 1423.18 L6789.47 1423.18 L6827.93 1423.18 L6827.93 1423.18 L6789.47 1423.18 L6789.47 1423.18  Z\" fill=\"#009af9\" fill-rule=\"evenodd\" fill-opacity=\"1\"/>\n",
       "<polyline clip-path=\"url(#clip402)\" style=\"stroke:#000000; stroke-linecap:round; stroke-linejoin:round; stroke-width:4; stroke-opacity:1; fill:none\" points=\"6789.47,1423.18 6789.47,1423.18 6827.93,1423.18 6789.47,1423.18 \"/>\n",
       "<path clip-path=\"url(#clip402)\" d=\"M6827.93 1423.18 L6827.93 1423.18 L6866.39 1423.18 L6866.39 1423.18 L6827.93 1423.18 L6827.93 1423.18  Z\" fill=\"#009af9\" fill-rule=\"evenodd\" fill-opacity=\"1\"/>\n",
       "<polyline clip-path=\"url(#clip402)\" style=\"stroke:#000000; stroke-linecap:round; stroke-linejoin:round; stroke-width:4; stroke-opacity:1; fill:none\" points=\"6827.93,1423.18 6827.93,1423.18 6866.39,1423.18 6827.93,1423.18 \"/>\n",
       "<path clip-path=\"url(#clip402)\" d=\"M6866.39 1423.18 L6866.39 1423.18 L6904.85 1423.18 L6904.85 1423.18 L6866.39 1423.18 L6866.39 1423.18  Z\" fill=\"#009af9\" fill-rule=\"evenodd\" fill-opacity=\"1\"/>\n",
       "<polyline clip-path=\"url(#clip402)\" style=\"stroke:#000000; stroke-linecap:round; stroke-linejoin:round; stroke-width:4; stroke-opacity:1; fill:none\" points=\"6866.39,1423.18 6866.39,1423.18 6904.85,1423.18 6866.39,1423.18 \"/>\n",
       "<path clip-path=\"url(#clip402)\" d=\"M6904.85 1423.18 L6904.85 1423.18 L6943.31 1423.18 L6943.31 1423.18 L6904.85 1423.18 L6904.85 1423.18  Z\" fill=\"#009af9\" fill-rule=\"evenodd\" fill-opacity=\"1\"/>\n",
       "<polyline clip-path=\"url(#clip402)\" style=\"stroke:#000000; stroke-linecap:round; stroke-linejoin:round; stroke-width:4; stroke-opacity:1; fill:none\" points=\"6904.85,1423.18 6904.85,1423.18 6943.31,1423.18 6904.85,1423.18 \"/>\n",
       "<path clip-path=\"url(#clip402)\" d=\"M6943.31 1423.18 L6943.31 1423.18 L6981.76 1423.18 L6981.76 1423.18 L6943.31 1423.18 L6943.31 1423.18  Z\" fill=\"#009af9\" fill-rule=\"evenodd\" fill-opacity=\"1\"/>\n",
       "<polyline clip-path=\"url(#clip402)\" style=\"stroke:#000000; stroke-linecap:round; stroke-linejoin:round; stroke-width:4; stroke-opacity:1; fill:none\" points=\"6943.31,1423.18 6943.31,1423.18 6981.76,1423.18 6943.31,1423.18 \"/>\n",
       "<path clip-path=\"url(#clip402)\" d=\"M6981.76 1423.18 L6981.76 1423.18 L7020.22 1423.18 L7020.22 1423.18 L6981.76 1423.18 L6981.76 1423.18  Z\" fill=\"#009af9\" fill-rule=\"evenodd\" fill-opacity=\"1\"/>\n",
       "<polyline clip-path=\"url(#clip402)\" style=\"stroke:#000000; stroke-linecap:round; stroke-linejoin:round; stroke-width:4; stroke-opacity:1; fill:none\" points=\"6981.76,1423.18 6981.76,1423.18 7020.22,1423.18 6981.76,1423.18 \"/>\n",
       "<path clip-path=\"url(#clip402)\" d=\"M7020.22 1423.18 L7020.22 1423.18 L7058.68 1423.18 L7058.68 1423.18 L7020.22 1423.18 L7020.22 1423.18  Z\" fill=\"#009af9\" fill-rule=\"evenodd\" fill-opacity=\"1\"/>\n",
       "<polyline clip-path=\"url(#clip402)\" style=\"stroke:#000000; stroke-linecap:round; stroke-linejoin:round; stroke-width:4; stroke-opacity:1; fill:none\" points=\"7020.22,1423.18 7020.22,1423.18 7058.68,1423.18 7020.22,1423.18 \"/>\n",
       "<path clip-path=\"url(#clip402)\" d=\"M7058.68 1350.76 L7058.68 1423.18 L7097.14 1423.18 L7097.14 1350.76 L7058.68 1350.76 L7058.68 1350.76  Z\" fill=\"#009af9\" fill-rule=\"evenodd\" fill-opacity=\"1\"/>\n",
       "<polyline clip-path=\"url(#clip402)\" style=\"stroke:#000000; stroke-linecap:round; stroke-linejoin:round; stroke-width:4; stroke-opacity:1; fill:none\" points=\"7058.68,1350.76 7058.68,1423.18 7097.14,1423.18 7097.14,1350.76 7058.68,1350.76 \"/>\n",
       "<path clip-path=\"url(#clip402)\" d=\"M7097.14 1423.18 L7097.14 1423.18 L7135.6 1423.18 L7135.6 1423.18 L7097.14 1423.18 L7097.14 1423.18  Z\" fill=\"#009af9\" fill-rule=\"evenodd\" fill-opacity=\"1\"/>\n",
       "<polyline clip-path=\"url(#clip402)\" style=\"stroke:#000000; stroke-linecap:round; stroke-linejoin:round; stroke-width:4; stroke-opacity:1; fill:none\" points=\"7097.14,1423.18 7097.14,1423.18 7135.6,1423.18 7097.14,1423.18 \"/>\n",
       "<path clip-path=\"url(#clip402)\" d=\"M7135.6 1423.18 L7135.6 1423.18 L7174.06 1423.18 L7174.06 1423.18 L7135.6 1423.18 L7135.6 1423.18  Z\" fill=\"#009af9\" fill-rule=\"evenodd\" fill-opacity=\"1\"/>\n",
       "<polyline clip-path=\"url(#clip402)\" style=\"stroke:#000000; stroke-linecap:round; stroke-linejoin:round; stroke-width:4; stroke-opacity:1; fill:none\" points=\"7135.6,1423.18 7135.6,1423.18 7174.06,1423.18 7135.6,1423.18 \"/>\n",
       "<path clip-path=\"url(#clip402)\" d=\"M7174.06 1350.76 L7174.06 1423.18 L7212.52 1423.18 L7212.52 1350.76 L7174.06 1350.76 L7174.06 1350.76  Z\" fill=\"#009af9\" fill-rule=\"evenodd\" fill-opacity=\"1\"/>\n",
       "<polyline clip-path=\"url(#clip402)\" style=\"stroke:#000000; stroke-linecap:round; stroke-linejoin:round; stroke-width:4; stroke-opacity:1; fill:none\" points=\"7174.06,1350.76 7174.06,1423.18 7212.52,1423.18 7212.52,1350.76 7174.06,1350.76 \"/>\n",
       "<path clip-path=\"url(#clip402)\" d=\"M7212.52 1423.18 L7212.52 1423.18 L7250.98 1423.18 L7250.98 1423.18 L7212.52 1423.18 L7212.52 1423.18  Z\" fill=\"#009af9\" fill-rule=\"evenodd\" fill-opacity=\"1\"/>\n",
       "<polyline clip-path=\"url(#clip402)\" style=\"stroke:#000000; stroke-linecap:round; stroke-linejoin:round; stroke-width:4; stroke-opacity:1; fill:none\" points=\"7212.52,1423.18 7212.52,1423.18 7250.98,1423.18 7212.52,1423.18 \"/>\n",
       "<path clip-path=\"url(#clip402)\" d=\"M7250.98 1350.76 L7250.98 1423.18 L7289.44 1423.18 L7289.44 1350.76 L7250.98 1350.76 L7250.98 1350.76  Z\" fill=\"#009af9\" fill-rule=\"evenodd\" fill-opacity=\"1\"/>\n",
       "<polyline clip-path=\"url(#clip402)\" style=\"stroke:#000000; stroke-linecap:round; stroke-linejoin:round; stroke-width:4; stroke-opacity:1; fill:none\" points=\"7250.98,1350.76 7250.98,1423.18 7289.44,1423.18 7289.44,1350.76 7250.98,1350.76 \"/>\n",
       "<path clip-path=\"url(#clip402)\" d=\"M7289.44 1423.18 L7289.44 1423.18 L7327.89 1423.18 L7327.89 1423.18 L7289.44 1423.18 L7289.44 1423.18  Z\" fill=\"#009af9\" fill-rule=\"evenodd\" fill-opacity=\"1\"/>\n",
       "<polyline clip-path=\"url(#clip402)\" style=\"stroke:#000000; stroke-linecap:round; stroke-linejoin:round; stroke-width:4; stroke-opacity:1; fill:none\" points=\"7289.44,1423.18 7289.44,1423.18 7327.89,1423.18 7289.44,1423.18 \"/>\n",
       "<path clip-path=\"url(#clip402)\" d=\"M7327.89 1423.18 L7327.89 1423.18 L7366.35 1423.18 L7366.35 1423.18 L7327.89 1423.18 L7327.89 1423.18  Z\" fill=\"#009af9\" fill-rule=\"evenodd\" fill-opacity=\"1\"/>\n",
       "<polyline clip-path=\"url(#clip402)\" style=\"stroke:#000000; stroke-linecap:round; stroke-linejoin:round; stroke-width:4; stroke-opacity:1; fill:none\" points=\"7327.89,1423.18 7327.89,1423.18 7366.35,1423.18 7327.89,1423.18 \"/>\n",
       "<path clip-path=\"url(#clip402)\" d=\"M7366.35 1423.18 L7366.35 1423.18 L7404.81 1423.18 L7404.81 1423.18 L7366.35 1423.18 L7366.35 1423.18  Z\" fill=\"#009af9\" fill-rule=\"evenodd\" fill-opacity=\"1\"/>\n",
       "<polyline clip-path=\"url(#clip402)\" style=\"stroke:#000000; stroke-linecap:round; stroke-linejoin:round; stroke-width:4; stroke-opacity:1; fill:none\" points=\"7366.35,1423.18 7366.35,1423.18 7404.81,1423.18 7366.35,1423.18 \"/>\n",
       "<path clip-path=\"url(#clip402)\" d=\"M7404.81 1423.18 L7404.81 1423.18 L7443.27 1423.18 L7443.27 1423.18 L7404.81 1423.18 L7404.81 1423.18  Z\" fill=\"#009af9\" fill-rule=\"evenodd\" fill-opacity=\"1\"/>\n",
       "<polyline clip-path=\"url(#clip402)\" style=\"stroke:#000000; stroke-linecap:round; stroke-linejoin:round; stroke-width:4; stroke-opacity:1; fill:none\" points=\"7404.81,1423.18 7404.81,1423.18 7443.27,1423.18 7404.81,1423.18 \"/>\n",
       "<path clip-path=\"url(#clip402)\" d=\"M7443.27 1423.18 L7443.27 1423.18 L7481.73 1423.18 L7481.73 1423.18 L7443.27 1423.18 L7443.27 1423.18  Z\" fill=\"#009af9\" fill-rule=\"evenodd\" fill-opacity=\"1\"/>\n",
       "<polyline clip-path=\"url(#clip402)\" style=\"stroke:#000000; stroke-linecap:round; stroke-linejoin:round; stroke-width:4; stroke-opacity:1; fill:none\" points=\"7443.27,1423.18 7443.27,1423.18 7481.73,1423.18 7443.27,1423.18 \"/>\n",
       "<path clip-path=\"url(#clip402)\" d=\"M7481.73 1423.18 L7481.73 1423.18 L7520.19 1423.18 L7520.19 1423.18 L7481.73 1423.18 L7481.73 1423.18  Z\" fill=\"#009af9\" fill-rule=\"evenodd\" fill-opacity=\"1\"/>\n",
       "<polyline clip-path=\"url(#clip402)\" style=\"stroke:#000000; stroke-linecap:round; stroke-linejoin:round; stroke-width:4; stroke-opacity:1; fill:none\" points=\"7481.73,1423.18 7481.73,1423.18 7520.19,1423.18 7481.73,1423.18 \"/>\n",
       "<path clip-path=\"url(#clip402)\" d=\"M7520.19 1423.18 L7520.19 1423.18 L7558.65 1423.18 L7558.65 1423.18 L7520.19 1423.18 L7520.19 1423.18  Z\" fill=\"#009af9\" fill-rule=\"evenodd\" fill-opacity=\"1\"/>\n",
       "<polyline clip-path=\"url(#clip402)\" style=\"stroke:#000000; stroke-linecap:round; stroke-linejoin:round; stroke-width:4; stroke-opacity:1; fill:none\" points=\"7520.19,1423.18 7520.19,1423.18 7558.65,1423.18 7520.19,1423.18 \"/>\n",
       "<path clip-path=\"url(#clip402)\" d=\"M7558.65 1423.18 L7558.65 1423.18 L7597.11 1423.18 L7597.11 1423.18 L7558.65 1423.18 L7558.65 1423.18  Z\" fill=\"#009af9\" fill-rule=\"evenodd\" fill-opacity=\"1\"/>\n",
       "<polyline clip-path=\"url(#clip402)\" style=\"stroke:#000000; stroke-linecap:round; stroke-linejoin:round; stroke-width:4; stroke-opacity:1; fill:none\" points=\"7558.65,1423.18 7558.65,1423.18 7597.11,1423.18 7558.65,1423.18 \"/>\n",
       "<path clip-path=\"url(#clip402)\" d=\"M7597.11 1423.18 L7597.11 1423.18 L7635.57 1423.18 L7635.57 1423.18 L7597.11 1423.18 L7597.11 1423.18  Z\" fill=\"#009af9\" fill-rule=\"evenodd\" fill-opacity=\"1\"/>\n",
       "<polyline clip-path=\"url(#clip402)\" style=\"stroke:#000000; stroke-linecap:round; stroke-linejoin:round; stroke-width:4; stroke-opacity:1; fill:none\" points=\"7597.11,1423.18 7597.11,1423.18 7635.57,1423.18 7597.11,1423.18 \"/>\n",
       "<path clip-path=\"url(#clip402)\" d=\"M7635.57 1423.18 L7635.57 1423.18 L7674.02 1423.18 L7674.02 1423.18 L7635.57 1423.18 L7635.57 1423.18  Z\" fill=\"#009af9\" fill-rule=\"evenodd\" fill-opacity=\"1\"/>\n",
       "<polyline clip-path=\"url(#clip402)\" style=\"stroke:#000000; stroke-linecap:round; stroke-linejoin:round; stroke-width:4; stroke-opacity:1; fill:none\" points=\"7635.57,1423.18 7635.57,1423.18 7674.02,1423.18 7635.57,1423.18 \"/>\n",
       "<path clip-path=\"url(#clip402)\" d=\"M7674.02 1423.18 L7674.02 1423.18 L7712.48 1423.18 L7712.48 1423.18 L7674.02 1423.18 L7674.02 1423.18  Z\" fill=\"#009af9\" fill-rule=\"evenodd\" fill-opacity=\"1\"/>\n",
       "<polyline clip-path=\"url(#clip402)\" style=\"stroke:#000000; stroke-linecap:round; stroke-linejoin:round; stroke-width:4; stroke-opacity:1; fill:none\" points=\"7674.02,1423.18 7674.02,1423.18 7712.48,1423.18 7674.02,1423.18 \"/>\n",
       "<path clip-path=\"url(#clip402)\" d=\"M7712.48 1423.18 L7712.48 1423.18 L7750.94 1423.18 L7750.94 1423.18 L7712.48 1423.18 L7712.48 1423.18  Z\" fill=\"#009af9\" fill-rule=\"evenodd\" fill-opacity=\"1\"/>\n",
       "<polyline clip-path=\"url(#clip402)\" style=\"stroke:#000000; stroke-linecap:round; stroke-linejoin:round; stroke-width:4; stroke-opacity:1; fill:none\" points=\"7712.48,1423.18 7712.48,1423.18 7750.94,1423.18 7712.48,1423.18 \"/>\n",
       "<path clip-path=\"url(#clip402)\" d=\"M7750.94 1350.76 L7750.94 1423.18 L7789.4 1423.18 L7789.4 1350.76 L7750.94 1350.76 L7750.94 1350.76  Z\" fill=\"#009af9\" fill-rule=\"evenodd\" fill-opacity=\"1\"/>\n",
       "<polyline clip-path=\"url(#clip402)\" style=\"stroke:#000000; stroke-linecap:round; stroke-linejoin:round; stroke-width:4; stroke-opacity:1; fill:none\" points=\"7750.94,1350.76 7750.94,1423.18 7789.4,1423.18 7789.4,1350.76 7750.94,1350.76 \"/>\n",
       "<path clip-path=\"url(#clip402)\" d=\"M7789.4 1423.18 L7789.4 1423.18 L7827.86 1423.18 L7827.86 1423.18 L7789.4 1423.18 L7789.4 1423.18  Z\" fill=\"#009af9\" fill-rule=\"evenodd\" fill-opacity=\"1\"/>\n",
       "<polyline clip-path=\"url(#clip402)\" style=\"stroke:#000000; stroke-linecap:round; stroke-linejoin:round; stroke-width:4; stroke-opacity:1; fill:none\" points=\"7789.4,1423.18 7789.4,1423.18 7827.86,1423.18 7789.4,1423.18 \"/>\n",
       "<path clip-path=\"url(#clip402)\" d=\"M7827.86 1423.18 L7827.86 1423.18 L7866.32 1423.18 L7866.32 1423.18 L7827.86 1423.18 L7827.86 1423.18  Z\" fill=\"#009af9\" fill-rule=\"evenodd\" fill-opacity=\"1\"/>\n",
       "<polyline clip-path=\"url(#clip402)\" style=\"stroke:#000000; stroke-linecap:round; stroke-linejoin:round; stroke-width:4; stroke-opacity:1; fill:none\" points=\"7827.86,1423.18 7827.86,1423.18 7866.32,1423.18 7827.86,1423.18 \"/>\n",
       "<path clip-path=\"url(#clip402)\" d=\"M7866.32 1423.18 L7866.32 1423.18 L7904.78 1423.18 L7904.78 1423.18 L7866.32 1423.18 L7866.32 1423.18  Z\" fill=\"#009af9\" fill-rule=\"evenodd\" fill-opacity=\"1\"/>\n",
       "<polyline clip-path=\"url(#clip402)\" style=\"stroke:#000000; stroke-linecap:round; stroke-linejoin:round; stroke-width:4; stroke-opacity:1; fill:none\" points=\"7866.32,1423.18 7866.32,1423.18 7904.78,1423.18 7866.32,1423.18 \"/>\n",
       "<path clip-path=\"url(#clip402)\" d=\"M7904.78 1423.18 L7904.78 1423.18 L7943.24 1423.18 L7943.24 1423.18 L7904.78 1423.18 L7904.78 1423.18  Z\" fill=\"#009af9\" fill-rule=\"evenodd\" fill-opacity=\"1\"/>\n",
       "<polyline clip-path=\"url(#clip402)\" style=\"stroke:#000000; stroke-linecap:round; stroke-linejoin:round; stroke-width:4; stroke-opacity:1; fill:none\" points=\"7904.78,1423.18 7904.78,1423.18 7943.24,1423.18 7904.78,1423.18 \"/>\n",
       "<path clip-path=\"url(#clip402)\" d=\"M7943.24 1350.76 L7943.24 1423.18 L7981.7 1423.18 L7981.7 1350.76 L7943.24 1350.76 L7943.24 1350.76  Z\" fill=\"#009af9\" fill-rule=\"evenodd\" fill-opacity=\"1\"/>\n",
       "<polyline clip-path=\"url(#clip402)\" style=\"stroke:#000000; stroke-linecap:round; stroke-linejoin:round; stroke-width:4; stroke-opacity:1; fill:none\" points=\"7943.24,1350.76 7943.24,1423.18 7981.7,1423.18 7981.7,1350.76 7943.24,1350.76 \"/>\n",
       "<path clip-path=\"url(#clip402)\" d=\"M7981.7 1423.18 L7981.7 1423.18 L8020.15 1423.18 L8020.15 1423.18 L7981.7 1423.18 L7981.7 1423.18  Z\" fill=\"#009af9\" fill-rule=\"evenodd\" fill-opacity=\"1\"/>\n",
       "<polyline clip-path=\"url(#clip402)\" style=\"stroke:#000000; stroke-linecap:round; stroke-linejoin:round; stroke-width:4; stroke-opacity:1; fill:none\" points=\"7981.7,1423.18 7981.7,1423.18 8020.15,1423.18 7981.7,1423.18 \"/>\n",
       "<path clip-path=\"url(#clip402)\" d=\"M8020.15 1423.18 L8020.15 1423.18 L8058.61 1423.18 L8058.61 1423.18 L8020.15 1423.18 L8020.15 1423.18  Z\" fill=\"#009af9\" fill-rule=\"evenodd\" fill-opacity=\"1\"/>\n",
       "<polyline clip-path=\"url(#clip402)\" style=\"stroke:#000000; stroke-linecap:round; stroke-linejoin:round; stroke-width:4; stroke-opacity:1; fill:none\" points=\"8020.15,1423.18 8020.15,1423.18 8058.61,1423.18 8020.15,1423.18 \"/>\n",
       "<path clip-path=\"url(#clip402)\" d=\"M8058.61 1423.18 L8058.61 1423.18 L8097.07 1423.18 L8097.07 1423.18 L8058.61 1423.18 L8058.61 1423.18  Z\" fill=\"#009af9\" fill-rule=\"evenodd\" fill-opacity=\"1\"/>\n",
       "<polyline clip-path=\"url(#clip402)\" style=\"stroke:#000000; stroke-linecap:round; stroke-linejoin:round; stroke-width:4; stroke-opacity:1; fill:none\" points=\"8058.61,1423.18 8058.61,1423.18 8097.07,1423.18 8058.61,1423.18 \"/>\n",
       "<path clip-path=\"url(#clip402)\" d=\"M8097.07 1423.18 L8097.07 1423.18 L8135.53 1423.18 L8135.53 1423.18 L8097.07 1423.18 L8097.07 1423.18  Z\" fill=\"#009af9\" fill-rule=\"evenodd\" fill-opacity=\"1\"/>\n",
       "<polyline clip-path=\"url(#clip402)\" style=\"stroke:#000000; stroke-linecap:round; stroke-linejoin:round; stroke-width:4; stroke-opacity:1; fill:none\" points=\"8097.07,1423.18 8097.07,1423.18 8135.53,1423.18 8097.07,1423.18 \"/>\n",
       "<path clip-path=\"url(#clip402)\" d=\"M8135.53 1423.18 L8135.53 1423.18 L8173.99 1423.18 L8173.99 1423.18 L8135.53 1423.18 L8135.53 1423.18  Z\" fill=\"#009af9\" fill-rule=\"evenodd\" fill-opacity=\"1\"/>\n",
       "<polyline clip-path=\"url(#clip402)\" style=\"stroke:#000000; stroke-linecap:round; stroke-linejoin:round; stroke-width:4; stroke-opacity:1; fill:none\" points=\"8135.53,1423.18 8135.53,1423.18 8173.99,1423.18 8135.53,1423.18 \"/>\n",
       "<path clip-path=\"url(#clip402)\" d=\"M8173.99 1423.18 L8173.99 1423.18 L8212.45 1423.18 L8212.45 1423.18 L8173.99 1423.18 L8173.99 1423.18  Z\" fill=\"#009af9\" fill-rule=\"evenodd\" fill-opacity=\"1\"/>\n",
       "<polyline clip-path=\"url(#clip402)\" style=\"stroke:#000000; stroke-linecap:round; stroke-linejoin:round; stroke-width:4; stroke-opacity:1; fill:none\" points=\"8173.99,1423.18 8173.99,1423.18 8212.45,1423.18 8173.99,1423.18 \"/>\n",
       "<path clip-path=\"url(#clip402)\" d=\"M8212.45 1423.18 L8212.45 1423.18 L8250.91 1423.18 L8250.91 1423.18 L8212.45 1423.18 L8212.45 1423.18  Z\" fill=\"#009af9\" fill-rule=\"evenodd\" fill-opacity=\"1\"/>\n",
       "<polyline clip-path=\"url(#clip402)\" style=\"stroke:#000000; stroke-linecap:round; stroke-linejoin:round; stroke-width:4; stroke-opacity:1; fill:none\" points=\"8212.45,1423.18 8212.45,1423.18 8250.91,1423.18 8212.45,1423.18 \"/>\n",
       "<path clip-path=\"url(#clip402)\" d=\"M8250.91 1423.18 L8250.91 1423.18 L8289.37 1423.18 L8289.37 1423.18 L8250.91 1423.18 L8250.91 1423.18  Z\" fill=\"#009af9\" fill-rule=\"evenodd\" fill-opacity=\"1\"/>\n",
       "<polyline clip-path=\"url(#clip402)\" style=\"stroke:#000000; stroke-linecap:round; stroke-linejoin:round; stroke-width:4; stroke-opacity:1; fill:none\" points=\"8250.91,1423.18 8250.91,1423.18 8289.37,1423.18 8250.91,1423.18 \"/>\n",
       "<path clip-path=\"url(#clip402)\" d=\"M8289.37 1423.18 L8289.37 1423.18 L8327.83 1423.18 L8327.83 1423.18 L8289.37 1423.18 L8289.37 1423.18  Z\" fill=\"#009af9\" fill-rule=\"evenodd\" fill-opacity=\"1\"/>\n",
       "<polyline clip-path=\"url(#clip402)\" style=\"stroke:#000000; stroke-linecap:round; stroke-linejoin:round; stroke-width:4; stroke-opacity:1; fill:none\" points=\"8289.37,1423.18 8289.37,1423.18 8327.83,1423.18 8289.37,1423.18 \"/>\n",
       "<path clip-path=\"url(#clip402)\" d=\"M8327.83 1350.76 L8327.83 1423.18 L8366.28 1423.18 L8366.28 1350.76 L8327.83 1350.76 L8327.83 1350.76  Z\" fill=\"#009af9\" fill-rule=\"evenodd\" fill-opacity=\"1\"/>\n",
       "<polyline clip-path=\"url(#clip402)\" style=\"stroke:#000000; stroke-linecap:round; stroke-linejoin:round; stroke-width:4; stroke-opacity:1; fill:none\" points=\"8327.83,1350.76 8327.83,1423.18 8366.28,1423.18 8366.28,1350.76 8327.83,1350.76 \"/>\n",
       "<path clip-path=\"url(#clip402)\" d=\"M8366.28 1423.18 L8366.28 1423.18 L8404.74 1423.18 L8404.74 1423.18 L8366.28 1423.18 L8366.28 1423.18  Z\" fill=\"#009af9\" fill-rule=\"evenodd\" fill-opacity=\"1\"/>\n",
       "<polyline clip-path=\"url(#clip402)\" style=\"stroke:#000000; stroke-linecap:round; stroke-linejoin:round; stroke-width:4; stroke-opacity:1; fill:none\" points=\"8366.28,1423.18 8366.28,1423.18 8404.74,1423.18 8366.28,1423.18 \"/>\n",
       "<path clip-path=\"url(#clip402)\" d=\"M8404.74 1350.76 L8404.74 1423.18 L8443.2 1423.18 L8443.2 1350.76 L8404.74 1350.76 L8404.74 1350.76  Z\" fill=\"#009af9\" fill-rule=\"evenodd\" fill-opacity=\"1\"/>\n",
       "<polyline clip-path=\"url(#clip402)\" style=\"stroke:#000000; stroke-linecap:round; stroke-linejoin:round; stroke-width:4; stroke-opacity:1; fill:none\" points=\"8404.74,1350.76 8404.74,1423.18 8443.2,1423.18 8443.2,1350.76 8404.74,1350.76 \"/>\n",
       "<path clip-path=\"url(#clip402)\" d=\"M8443.2 1423.18 L8443.2 1423.18 L8481.66 1423.18 L8481.66 1423.18 L8443.2 1423.18 L8443.2 1423.18  Z\" fill=\"#009af9\" fill-rule=\"evenodd\" fill-opacity=\"1\"/>\n",
       "<polyline clip-path=\"url(#clip402)\" style=\"stroke:#000000; stroke-linecap:round; stroke-linejoin:round; stroke-width:4; stroke-opacity:1; fill:none\" points=\"8443.2,1423.18 8443.2,1423.18 8481.66,1423.18 8443.2,1423.18 \"/>\n",
       "<path clip-path=\"url(#clip402)\" d=\"M8481.66 1350.76 L8481.66 1423.18 L8520.12 1423.18 L8520.12 1350.76 L8481.66 1350.76 L8481.66 1350.76  Z\" fill=\"#009af9\" fill-rule=\"evenodd\" fill-opacity=\"1\"/>\n",
       "<polyline clip-path=\"url(#clip402)\" style=\"stroke:#000000; stroke-linecap:round; stroke-linejoin:round; stroke-width:4; stroke-opacity:1; fill:none\" points=\"8481.66,1350.76 8481.66,1423.18 8520.12,1423.18 8520.12,1350.76 8481.66,1350.76 \"/>\n",
       "<path clip-path=\"url(#clip402)\" d=\"M8520.12 1423.18 L8520.12 1423.18 L8558.58 1423.18 L8558.58 1423.18 L8520.12 1423.18 L8520.12 1423.18  Z\" fill=\"#009af9\" fill-rule=\"evenodd\" fill-opacity=\"1\"/>\n",
       "<polyline clip-path=\"url(#clip402)\" style=\"stroke:#000000; stroke-linecap:round; stroke-linejoin:round; stroke-width:4; stroke-opacity:1; fill:none\" points=\"8520.12,1423.18 8520.12,1423.18 8558.58,1423.18 8520.12,1423.18 \"/>\n",
       "<path clip-path=\"url(#clip402)\" d=\"M8558.58 1350.76 L8558.58 1423.18 L8597.04 1423.18 L8597.04 1350.76 L8558.58 1350.76 L8558.58 1350.76  Z\" fill=\"#009af9\" fill-rule=\"evenodd\" fill-opacity=\"1\"/>\n",
       "<polyline clip-path=\"url(#clip402)\" style=\"stroke:#000000; stroke-linecap:round; stroke-linejoin:round; stroke-width:4; stroke-opacity:1; fill:none\" points=\"8558.58,1350.76 8558.58,1423.18 8597.04,1423.18 8597.04,1350.76 8558.58,1350.76 \"/>\n",
       "<path clip-path=\"url(#clip402)\" d=\"M8597.04 1423.18 L8597.04 1423.18 L8635.5 1423.18 L8635.5 1423.18 L8597.04 1423.18 L8597.04 1423.18  Z\" fill=\"#009af9\" fill-rule=\"evenodd\" fill-opacity=\"1\"/>\n",
       "<polyline clip-path=\"url(#clip402)\" style=\"stroke:#000000; stroke-linecap:round; stroke-linejoin:round; stroke-width:4; stroke-opacity:1; fill:none\" points=\"8597.04,1423.18 8597.04,1423.18 8635.5,1423.18 8597.04,1423.18 \"/>\n",
       "<path clip-path=\"url(#clip402)\" d=\"M8635.5 1423.18 L8635.5 1423.18 L8673.96 1423.18 L8673.96 1423.18 L8635.5 1423.18 L8635.5 1423.18  Z\" fill=\"#009af9\" fill-rule=\"evenodd\" fill-opacity=\"1\"/>\n",
       "<polyline clip-path=\"url(#clip402)\" style=\"stroke:#000000; stroke-linecap:round; stroke-linejoin:round; stroke-width:4; stroke-opacity:1; fill:none\" points=\"8635.5,1423.18 8635.5,1423.18 8673.96,1423.18 8635.5,1423.18 \"/>\n",
       "<path clip-path=\"url(#clip402)\" d=\"M8673.96 1423.18 L8673.96 1423.18 L8712.42 1423.18 L8712.42 1423.18 L8673.96 1423.18 L8673.96 1423.18  Z\" fill=\"#009af9\" fill-rule=\"evenodd\" fill-opacity=\"1\"/>\n",
       "<polyline clip-path=\"url(#clip402)\" style=\"stroke:#000000; stroke-linecap:round; stroke-linejoin:round; stroke-width:4; stroke-opacity:1; fill:none\" points=\"8673.96,1423.18 8673.96,1423.18 8712.42,1423.18 8673.96,1423.18 \"/>\n",
       "<path clip-path=\"url(#clip402)\" d=\"M8712.42 1423.18 L8712.42 1423.18 L8750.87 1423.18 L8750.87 1423.18 L8712.42 1423.18 L8712.42 1423.18  Z\" fill=\"#009af9\" fill-rule=\"evenodd\" fill-opacity=\"1\"/>\n",
       "<polyline clip-path=\"url(#clip402)\" style=\"stroke:#000000; stroke-linecap:round; stroke-linejoin:round; stroke-width:4; stroke-opacity:1; fill:none\" points=\"8712.42,1423.18 8712.42,1423.18 8750.87,1423.18 8712.42,1423.18 \"/>\n",
       "<path clip-path=\"url(#clip402)\" d=\"M8750.87 1423.18 L8750.87 1423.18 L8789.33 1423.18 L8789.33 1423.18 L8750.87 1423.18 L8750.87 1423.18  Z\" fill=\"#009af9\" fill-rule=\"evenodd\" fill-opacity=\"1\"/>\n",
       "<polyline clip-path=\"url(#clip402)\" style=\"stroke:#000000; stroke-linecap:round; stroke-linejoin:round; stroke-width:4; stroke-opacity:1; fill:none\" points=\"8750.87,1423.18 8750.87,1423.18 8789.33,1423.18 8750.87,1423.18 \"/>\n",
       "<path clip-path=\"url(#clip402)\" d=\"M8789.33 1423.18 L8789.33 1423.18 L8827.79 1423.18 L8827.79 1423.18 L8789.33 1423.18 L8789.33 1423.18  Z\" fill=\"#009af9\" fill-rule=\"evenodd\" fill-opacity=\"1\"/>\n",
       "<polyline clip-path=\"url(#clip402)\" style=\"stroke:#000000; stroke-linecap:round; stroke-linejoin:round; stroke-width:4; stroke-opacity:1; fill:none\" points=\"8789.33,1423.18 8789.33,1423.18 8827.79,1423.18 8789.33,1423.18 \"/>\n",
       "<path clip-path=\"url(#clip402)\" d=\"M8827.79 1423.18 L8827.79 1423.18 L8866.25 1423.18 L8866.25 1423.18 L8827.79 1423.18 L8827.79 1423.18  Z\" fill=\"#009af9\" fill-rule=\"evenodd\" fill-opacity=\"1\"/>\n",
       "<polyline clip-path=\"url(#clip402)\" style=\"stroke:#000000; stroke-linecap:round; stroke-linejoin:round; stroke-width:4; stroke-opacity:1; fill:none\" points=\"8827.79,1423.18 8827.79,1423.18 8866.25,1423.18 8827.79,1423.18 \"/>\n",
       "<path clip-path=\"url(#clip402)\" d=\"M8866.25 1423.18 L8866.25 1423.18 L8904.71 1423.18 L8904.71 1423.18 L8866.25 1423.18 L8866.25 1423.18  Z\" fill=\"#009af9\" fill-rule=\"evenodd\" fill-opacity=\"1\"/>\n",
       "<polyline clip-path=\"url(#clip402)\" style=\"stroke:#000000; stroke-linecap:round; stroke-linejoin:round; stroke-width:4; stroke-opacity:1; fill:none\" points=\"8866.25,1423.18 8866.25,1423.18 8904.71,1423.18 8866.25,1423.18 \"/>\n",
       "<path clip-path=\"url(#clip402)\" d=\"M8904.71 1423.18 L8904.71 1423.18 L8943.17 1423.18 L8943.17 1423.18 L8904.71 1423.18 L8904.71 1423.18  Z\" fill=\"#009af9\" fill-rule=\"evenodd\" fill-opacity=\"1\"/>\n",
       "<polyline clip-path=\"url(#clip402)\" style=\"stroke:#000000; stroke-linecap:round; stroke-linejoin:round; stroke-width:4; stroke-opacity:1; fill:none\" points=\"8904.71,1423.18 8904.71,1423.18 8943.17,1423.18 8904.71,1423.18 \"/>\n",
       "<path clip-path=\"url(#clip402)\" d=\"M8943.17 1423.18 L8943.17 1423.18 L8981.63 1423.18 L8981.63 1423.18 L8943.17 1423.18 L8943.17 1423.18  Z\" fill=\"#009af9\" fill-rule=\"evenodd\" fill-opacity=\"1\"/>\n",
       "<polyline clip-path=\"url(#clip402)\" style=\"stroke:#000000; stroke-linecap:round; stroke-linejoin:round; stroke-width:4; stroke-opacity:1; fill:none\" points=\"8943.17,1423.18 8943.17,1423.18 8981.63,1423.18 8943.17,1423.18 \"/>\n",
       "<path clip-path=\"url(#clip402)\" d=\"M8981.63 1423.18 L8981.63 1423.18 L9020.09 1423.18 L9020.09 1423.18 L8981.63 1423.18 L8981.63 1423.18  Z\" fill=\"#009af9\" fill-rule=\"evenodd\" fill-opacity=\"1\"/>\n",
       "<polyline clip-path=\"url(#clip402)\" style=\"stroke:#000000; stroke-linecap:round; stroke-linejoin:round; stroke-width:4; stroke-opacity:1; fill:none\" points=\"8981.63,1423.18 8981.63,1423.18 9020.09,1423.18 8981.63,1423.18 \"/>\n",
       "<path clip-path=\"url(#clip402)\" d=\"M9020.09 1423.18 L9020.09 1423.18 L9058.55 1423.18 L9058.55 1423.18 L9020.09 1423.18 L9020.09 1423.18  Z\" fill=\"#009af9\" fill-rule=\"evenodd\" fill-opacity=\"1\"/>\n",
       "<polyline clip-path=\"url(#clip402)\" style=\"stroke:#000000; stroke-linecap:round; stroke-linejoin:round; stroke-width:4; stroke-opacity:1; fill:none\" points=\"9020.09,1423.18 9020.09,1423.18 9058.55,1423.18 9020.09,1423.18 \"/>\n",
       "<path clip-path=\"url(#clip402)\" d=\"M9058.55 1423.18 L9058.55 1423.18 L9097 1423.18 L9097 1423.18 L9058.55 1423.18 L9058.55 1423.18  Z\" fill=\"#009af9\" fill-rule=\"evenodd\" fill-opacity=\"1\"/>\n",
       "<polyline clip-path=\"url(#clip402)\" style=\"stroke:#000000; stroke-linecap:round; stroke-linejoin:round; stroke-width:4; stroke-opacity:1; fill:none\" points=\"9058.55,1423.18 9058.55,1423.18 9097,1423.18 9058.55,1423.18 \"/>\n",
       "<path clip-path=\"url(#clip402)\" d=\"M9097 1423.18 L9097 1423.18 L9135.46 1423.18 L9135.46 1423.18 L9097 1423.18 L9097 1423.18  Z\" fill=\"#009af9\" fill-rule=\"evenodd\" fill-opacity=\"1\"/>\n",
       "<polyline clip-path=\"url(#clip402)\" style=\"stroke:#000000; stroke-linecap:round; stroke-linejoin:round; stroke-width:4; stroke-opacity:1; fill:none\" points=\"9097,1423.18 9097,1423.18 9135.46,1423.18 9097,1423.18 \"/>\n",
       "<path clip-path=\"url(#clip402)\" d=\"M9135.46 1423.18 L9135.46 1423.18 L9173.92 1423.18 L9173.92 1423.18 L9135.46 1423.18 L9135.46 1423.18  Z\" fill=\"#009af9\" fill-rule=\"evenodd\" fill-opacity=\"1\"/>\n",
       "<polyline clip-path=\"url(#clip402)\" style=\"stroke:#000000; stroke-linecap:round; stroke-linejoin:round; stroke-width:4; stroke-opacity:1; fill:none\" points=\"9135.46,1423.18 9135.46,1423.18 9173.92,1423.18 9135.46,1423.18 \"/>\n",
       "<path clip-path=\"url(#clip402)\" d=\"M9173.92 1423.18 L9173.92 1423.18 L9212.38 1423.18 L9212.38 1423.18 L9173.92 1423.18 L9173.92 1423.18  Z\" fill=\"#009af9\" fill-rule=\"evenodd\" fill-opacity=\"1\"/>\n",
       "<polyline clip-path=\"url(#clip402)\" style=\"stroke:#000000; stroke-linecap:round; stroke-linejoin:round; stroke-width:4; stroke-opacity:1; fill:none\" points=\"9173.92,1423.18 9173.92,1423.18 9212.38,1423.18 9173.92,1423.18 \"/>\n",
       "<path clip-path=\"url(#clip402)\" d=\"M9212.38 1423.18 L9212.38 1423.18 L9250.84 1423.18 L9250.84 1423.18 L9212.38 1423.18 L9212.38 1423.18  Z\" fill=\"#009af9\" fill-rule=\"evenodd\" fill-opacity=\"1\"/>\n",
       "<polyline clip-path=\"url(#clip402)\" style=\"stroke:#000000; stroke-linecap:round; stroke-linejoin:round; stroke-width:4; stroke-opacity:1; fill:none\" points=\"9212.38,1423.18 9212.38,1423.18 9250.84,1423.18 9212.38,1423.18 \"/>\n",
       "<path clip-path=\"url(#clip402)\" d=\"M9250.84 1423.18 L9250.84 1423.18 L9289.3 1423.18 L9289.3 1423.18 L9250.84 1423.18 L9250.84 1423.18  Z\" fill=\"#009af9\" fill-rule=\"evenodd\" fill-opacity=\"1\"/>\n",
       "<polyline clip-path=\"url(#clip402)\" style=\"stroke:#000000; stroke-linecap:round; stroke-linejoin:round; stroke-width:4; stroke-opacity:1; fill:none\" points=\"9250.84,1423.18 9250.84,1423.18 9289.3,1423.18 9250.84,1423.18 \"/>\n",
       "<path clip-path=\"url(#clip402)\" d=\"M9289.3 1423.18 L9289.3 1423.18 L9327.76 1423.18 L9327.76 1423.18 L9289.3 1423.18 L9289.3 1423.18  Z\" fill=\"#009af9\" fill-rule=\"evenodd\" fill-opacity=\"1\"/>\n",
       "<polyline clip-path=\"url(#clip402)\" style=\"stroke:#000000; stroke-linecap:round; stroke-linejoin:round; stroke-width:4; stroke-opacity:1; fill:none\" points=\"9289.3,1423.18 9289.3,1423.18 9327.76,1423.18 9289.3,1423.18 \"/>\n",
       "<path clip-path=\"url(#clip402)\" d=\"M9327.76 1423.18 L9327.76 1423.18 L9366.22 1423.18 L9366.22 1423.18 L9327.76 1423.18 L9327.76 1423.18  Z\" fill=\"#009af9\" fill-rule=\"evenodd\" fill-opacity=\"1\"/>\n",
       "<polyline clip-path=\"url(#clip402)\" style=\"stroke:#000000; stroke-linecap:round; stroke-linejoin:round; stroke-width:4; stroke-opacity:1; fill:none\" points=\"9327.76,1423.18 9327.76,1423.18 9366.22,1423.18 9327.76,1423.18 \"/>\n",
       "<path clip-path=\"url(#clip402)\" d=\"M9366.22 1423.18 L9366.22 1423.18 L9404.68 1423.18 L9404.68 1423.18 L9366.22 1423.18 L9366.22 1423.18  Z\" fill=\"#009af9\" fill-rule=\"evenodd\" fill-opacity=\"1\"/>\n",
       "<polyline clip-path=\"url(#clip402)\" style=\"stroke:#000000; stroke-linecap:round; stroke-linejoin:round; stroke-width:4; stroke-opacity:1; fill:none\" points=\"9366.22,1423.18 9366.22,1423.18 9404.68,1423.18 9366.22,1423.18 \"/>\n",
       "<path clip-path=\"url(#clip402)\" d=\"M9404.68 1423.18 L9404.68 1423.18 L9443.13 1423.18 L9443.13 1423.18 L9404.68 1423.18 L9404.68 1423.18  Z\" fill=\"#009af9\" fill-rule=\"evenodd\" fill-opacity=\"1\"/>\n",
       "<polyline clip-path=\"url(#clip402)\" style=\"stroke:#000000; stroke-linecap:round; stroke-linejoin:round; stroke-width:4; stroke-opacity:1; fill:none\" points=\"9404.68,1423.18 9404.68,1423.18 9443.13,1423.18 9404.68,1423.18 \"/>\n",
       "<path clip-path=\"url(#clip402)\" d=\"M9443.13 1423.18 L9443.13 1423.18 L9481.59 1423.18 L9481.59 1423.18 L9443.13 1423.18 L9443.13 1423.18  Z\" fill=\"#009af9\" fill-rule=\"evenodd\" fill-opacity=\"1\"/>\n",
       "<polyline clip-path=\"url(#clip402)\" style=\"stroke:#000000; stroke-linecap:round; stroke-linejoin:round; stroke-width:4; stroke-opacity:1; fill:none\" points=\"9443.13,1423.18 9443.13,1423.18 9481.59,1423.18 9443.13,1423.18 \"/>\n",
       "<path clip-path=\"url(#clip402)\" d=\"M9481.59 1423.18 L9481.59 1423.18 L9520.05 1423.18 L9520.05 1423.18 L9481.59 1423.18 L9481.59 1423.18  Z\" fill=\"#009af9\" fill-rule=\"evenodd\" fill-opacity=\"1\"/>\n",
       "<polyline clip-path=\"url(#clip402)\" style=\"stroke:#000000; stroke-linecap:round; stroke-linejoin:round; stroke-width:4; stroke-opacity:1; fill:none\" points=\"9481.59,1423.18 9481.59,1423.18 9520.05,1423.18 9481.59,1423.18 \"/>\n",
       "<path clip-path=\"url(#clip402)\" d=\"M9520.05 1350.76 L9520.05 1423.18 L9558.51 1423.18 L9558.51 1350.76 L9520.05 1350.76 L9520.05 1350.76  Z\" fill=\"#009af9\" fill-rule=\"evenodd\" fill-opacity=\"1\"/>\n",
       "<polyline clip-path=\"url(#clip402)\" style=\"stroke:#000000; stroke-linecap:round; stroke-linejoin:round; stroke-width:4; stroke-opacity:1; fill:none\" points=\"9520.05,1350.76 9520.05,1423.18 9558.51,1423.18 9558.51,1350.76 9520.05,1350.76 \"/>\n",
       "<path clip-path=\"url(#clip402)\" d=\"M9558.51 1423.18 L9558.51 1423.18 L9596.97 1423.18 L9596.97 1423.18 L9558.51 1423.18 L9558.51 1423.18  Z\" fill=\"#009af9\" fill-rule=\"evenodd\" fill-opacity=\"1\"/>\n",
       "<polyline clip-path=\"url(#clip402)\" style=\"stroke:#000000; stroke-linecap:round; stroke-linejoin:round; stroke-width:4; stroke-opacity:1; fill:none\" points=\"9558.51,1423.18 9558.51,1423.18 9596.97,1423.18 9558.51,1423.18 \"/>\n",
       "<path clip-path=\"url(#clip402)\" d=\"M9596.97 1423.18 L9596.97 1423.18 L9635.43 1423.18 L9635.43 1423.18 L9596.97 1423.18 L9596.97 1423.18  Z\" fill=\"#009af9\" fill-rule=\"evenodd\" fill-opacity=\"1\"/>\n",
       "<polyline clip-path=\"url(#clip402)\" style=\"stroke:#000000; stroke-linecap:round; stroke-linejoin:round; stroke-width:4; stroke-opacity:1; fill:none\" points=\"9596.97,1423.18 9596.97,1423.18 9635.43,1423.18 9596.97,1423.18 \"/>\n",
       "<path clip-path=\"url(#clip402)\" d=\"M9635.43 1423.18 L9635.43 1423.18 L9673.89 1423.18 L9673.89 1423.18 L9635.43 1423.18 L9635.43 1423.18  Z\" fill=\"#009af9\" fill-rule=\"evenodd\" fill-opacity=\"1\"/>\n",
       "<polyline clip-path=\"url(#clip402)\" style=\"stroke:#000000; stroke-linecap:round; stroke-linejoin:round; stroke-width:4; stroke-opacity:1; fill:none\" points=\"9635.43,1423.18 9635.43,1423.18 9673.89,1423.18 9635.43,1423.18 \"/>\n",
       "<path clip-path=\"url(#clip402)\" d=\"M9673.89 1423.18 L9673.89 1423.18 L9712.35 1423.18 L9712.35 1423.18 L9673.89 1423.18 L9673.89 1423.18  Z\" fill=\"#009af9\" fill-rule=\"evenodd\" fill-opacity=\"1\"/>\n",
       "<polyline clip-path=\"url(#clip402)\" style=\"stroke:#000000; stroke-linecap:round; stroke-linejoin:round; stroke-width:4; stroke-opacity:1; fill:none\" points=\"9673.89,1423.18 9673.89,1423.18 9712.35,1423.18 9673.89,1423.18 \"/>\n",
       "<path clip-path=\"url(#clip402)\" d=\"M9712.35 1423.18 L9712.35 1423.18 L9750.81 1423.18 L9750.81 1423.18 L9712.35 1423.18 L9712.35 1423.18  Z\" fill=\"#009af9\" fill-rule=\"evenodd\" fill-opacity=\"1\"/>\n",
       "<polyline clip-path=\"url(#clip402)\" style=\"stroke:#000000; stroke-linecap:round; stroke-linejoin:round; stroke-width:4; stroke-opacity:1; fill:none\" points=\"9712.35,1423.18 9712.35,1423.18 9750.81,1423.18 9712.35,1423.18 \"/>\n",
       "<path clip-path=\"url(#clip402)\" d=\"M9750.81 1423.18 L9750.81 1423.18 L9789.26 1423.18 L9789.26 1423.18 L9750.81 1423.18 L9750.81 1423.18  Z\" fill=\"#009af9\" fill-rule=\"evenodd\" fill-opacity=\"1\"/>\n",
       "<polyline clip-path=\"url(#clip402)\" style=\"stroke:#000000; stroke-linecap:round; stroke-linejoin:round; stroke-width:4; stroke-opacity:1; fill:none\" points=\"9750.81,1423.18 9750.81,1423.18 9789.26,1423.18 9750.81,1423.18 \"/>\n",
       "<path clip-path=\"url(#clip402)\" d=\"M9789.26 1423.18 L9789.26 1423.18 L9827.72 1423.18 L9827.72 1423.18 L9789.26 1423.18 L9789.26 1423.18  Z\" fill=\"#009af9\" fill-rule=\"evenodd\" fill-opacity=\"1\"/>\n",
       "<polyline clip-path=\"url(#clip402)\" style=\"stroke:#000000; stroke-linecap:round; stroke-linejoin:round; stroke-width:4; stroke-opacity:1; fill:none\" points=\"9789.26,1423.18 9789.26,1423.18 9827.72,1423.18 9789.26,1423.18 \"/>\n",
       "<path clip-path=\"url(#clip402)\" d=\"M9827.72 1423.18 L9827.72 1423.18 L9866.18 1423.18 L9866.18 1423.18 L9827.72 1423.18 L9827.72 1423.18  Z\" fill=\"#009af9\" fill-rule=\"evenodd\" fill-opacity=\"1\"/>\n",
       "<polyline clip-path=\"url(#clip402)\" style=\"stroke:#000000; stroke-linecap:round; stroke-linejoin:round; stroke-width:4; stroke-opacity:1; fill:none\" points=\"9827.72,1423.18 9827.72,1423.18 9866.18,1423.18 9827.72,1423.18 \"/>\n",
       "<path clip-path=\"url(#clip402)\" d=\"M9866.18 1423.18 L9866.18 1423.18 L9904.64 1423.18 L9904.64 1423.18 L9866.18 1423.18 L9866.18 1423.18  Z\" fill=\"#009af9\" fill-rule=\"evenodd\" fill-opacity=\"1\"/>\n",
       "<polyline clip-path=\"url(#clip402)\" style=\"stroke:#000000; stroke-linecap:round; stroke-linejoin:round; stroke-width:4; stroke-opacity:1; fill:none\" points=\"9866.18,1423.18 9866.18,1423.18 9904.64,1423.18 9866.18,1423.18 \"/>\n",
       "<path clip-path=\"url(#clip402)\" d=\"M9904.64 1423.18 L9904.64 1423.18 L9943.1 1423.18 L9943.1 1423.18 L9904.64 1423.18 L9904.64 1423.18  Z\" fill=\"#009af9\" fill-rule=\"evenodd\" fill-opacity=\"1\"/>\n",
       "<polyline clip-path=\"url(#clip402)\" style=\"stroke:#000000; stroke-linecap:round; stroke-linejoin:round; stroke-width:4; stroke-opacity:1; fill:none\" points=\"9904.64,1423.18 9904.64,1423.18 9943.1,1423.18 9904.64,1423.18 \"/>\n",
       "<path clip-path=\"url(#clip402)\" d=\"M9943.1 1423.18 L9943.1 1423.18 L9981.56 1423.18 L9981.56 1423.18 L9943.1 1423.18 L9943.1 1423.18  Z\" fill=\"#009af9\" fill-rule=\"evenodd\" fill-opacity=\"1\"/>\n",
       "<polyline clip-path=\"url(#clip402)\" style=\"stroke:#000000; stroke-linecap:round; stroke-linejoin:round; stroke-width:4; stroke-opacity:1; fill:none\" points=\"9943.1,1423.18 9943.1,1423.18 9981.56,1423.18 9943.1,1423.18 \"/>\n",
       "<path clip-path=\"url(#clip402)\" d=\"M9981.56 1423.18 L9981.56 1423.18 L10020 1423.18 L10020 1423.18 L9981.56 1423.18 L9981.56 1423.18  Z\" fill=\"#009af9\" fill-rule=\"evenodd\" fill-opacity=\"1\"/>\n",
       "<polyline clip-path=\"url(#clip402)\" style=\"stroke:#000000; stroke-linecap:round; stroke-linejoin:round; stroke-width:4; stroke-opacity:1; fill:none\" points=\"9981.56,1423.18 9981.56,1423.18 10020,1423.18 9981.56,1423.18 \"/>\n",
       "<path clip-path=\"url(#clip402)\" d=\"M10020 1423.18 L10020 1423.18 L10058.5 1423.18 L10058.5 1423.18 L10020 1423.18 L10020 1423.18  Z\" fill=\"#009af9\" fill-rule=\"evenodd\" fill-opacity=\"1\"/>\n",
       "<polyline clip-path=\"url(#clip402)\" style=\"stroke:#000000; stroke-linecap:round; stroke-linejoin:round; stroke-width:4; stroke-opacity:1; fill:none\" points=\"10020,1423.18 10020,1423.18 10058.5,1423.18 10020,1423.18 \"/>\n",
       "<path clip-path=\"url(#clip402)\" d=\"M10058.5 1350.76 L10058.5 1423.18 L10096.9 1423.18 L10096.9 1350.76 L10058.5 1350.76 L10058.5 1350.76  Z\" fill=\"#009af9\" fill-rule=\"evenodd\" fill-opacity=\"1\"/>\n",
       "<polyline clip-path=\"url(#clip402)\" style=\"stroke:#000000; stroke-linecap:round; stroke-linejoin:round; stroke-width:4; stroke-opacity:1; fill:none\" points=\"10058.5,1350.76 10058.5,1423.18 10096.9,1423.18 10096.9,1350.76 10058.5,1350.76 \"/>\n",
       "<path clip-path=\"url(#clip402)\" d=\"M10096.9 1423.18 L10096.9 1423.18 L10135.4 1423.18 L10135.4 1423.18 L10096.9 1423.18 L10096.9 1423.18  Z\" fill=\"#009af9\" fill-rule=\"evenodd\" fill-opacity=\"1\"/>\n",
       "<polyline clip-path=\"url(#clip402)\" style=\"stroke:#000000; stroke-linecap:round; stroke-linejoin:round; stroke-width:4; stroke-opacity:1; fill:none\" points=\"10096.9,1423.18 10096.9,1423.18 10135.4,1423.18 10096.9,1423.18 \"/>\n",
       "<path clip-path=\"url(#clip402)\" d=\"M10135.4 1423.18 L10135.4 1423.18 L10173.9 1423.18 L10173.9 1423.18 L10135.4 1423.18 L10135.4 1423.18  Z\" fill=\"#009af9\" fill-rule=\"evenodd\" fill-opacity=\"1\"/>\n",
       "<polyline clip-path=\"url(#clip402)\" style=\"stroke:#000000; stroke-linecap:round; stroke-linejoin:round; stroke-width:4; stroke-opacity:1; fill:none\" points=\"10135.4,1423.18 10135.4,1423.18 10173.9,1423.18 10135.4,1423.18 \"/>\n",
       "<path clip-path=\"url(#clip402)\" d=\"M10173.9 1423.18 L10173.9 1423.18 L10212.3 1423.18 L10212.3 1423.18 L10173.9 1423.18 L10173.9 1423.18  Z\" fill=\"#009af9\" fill-rule=\"evenodd\" fill-opacity=\"1\"/>\n",
       "<polyline clip-path=\"url(#clip402)\" style=\"stroke:#000000; stroke-linecap:round; stroke-linejoin:round; stroke-width:4; stroke-opacity:1; fill:none\" points=\"10173.9,1423.18 10173.9,1423.18 10212.3,1423.18 10173.9,1423.18 \"/>\n",
       "<path clip-path=\"url(#clip402)\" d=\"M10212.3 1423.18 L10212.3 1423.18 L10250.8 1423.18 L10250.8 1423.18 L10212.3 1423.18 L10212.3 1423.18  Z\" fill=\"#009af9\" fill-rule=\"evenodd\" fill-opacity=\"1\"/>\n",
       "<polyline clip-path=\"url(#clip402)\" style=\"stroke:#000000; stroke-linecap:round; stroke-linejoin:round; stroke-width:4; stroke-opacity:1; fill:none\" points=\"10212.3,1423.18 10212.3,1423.18 10250.8,1423.18 10212.3,1423.18 \"/>\n",
       "<path clip-path=\"url(#clip402)\" d=\"M10250.8 1423.18 L10250.8 1423.18 L10289.2 1423.18 L10289.2 1423.18 L10250.8 1423.18 L10250.8 1423.18  Z\" fill=\"#009af9\" fill-rule=\"evenodd\" fill-opacity=\"1\"/>\n",
       "<polyline clip-path=\"url(#clip402)\" style=\"stroke:#000000; stroke-linecap:round; stroke-linejoin:round; stroke-width:4; stroke-opacity:1; fill:none\" points=\"10250.8,1423.18 10250.8,1423.18 10289.2,1423.18 10250.8,1423.18 \"/>\n",
       "<path clip-path=\"url(#clip402)\" d=\"M10289.2 1423.18 L10289.2 1423.18 L10327.7 1423.18 L10327.7 1423.18 L10289.2 1423.18 L10289.2 1423.18  Z\" fill=\"#009af9\" fill-rule=\"evenodd\" fill-opacity=\"1\"/>\n",
       "<polyline clip-path=\"url(#clip402)\" style=\"stroke:#000000; stroke-linecap:round; stroke-linejoin:round; stroke-width:4; stroke-opacity:1; fill:none\" points=\"10289.2,1423.18 10289.2,1423.18 10327.7,1423.18 10289.2,1423.18 \"/>\n",
       "<path clip-path=\"url(#clip402)\" d=\"M10327.7 1423.18 L10327.7 1423.18 L10366.1 1423.18 L10366.1 1423.18 L10327.7 1423.18 L10327.7 1423.18  Z\" fill=\"#009af9\" fill-rule=\"evenodd\" fill-opacity=\"1\"/>\n",
       "<polyline clip-path=\"url(#clip402)\" style=\"stroke:#000000; stroke-linecap:round; stroke-linejoin:round; stroke-width:4; stroke-opacity:1; fill:none\" points=\"10327.7,1423.18 10327.7,1423.18 10366.1,1423.18 10327.7,1423.18 \"/>\n",
       "<path clip-path=\"url(#clip402)\" d=\"M10366.1 1423.18 L10366.1 1423.18 L10404.6 1423.18 L10404.6 1423.18 L10366.1 1423.18 L10366.1 1423.18  Z\" fill=\"#009af9\" fill-rule=\"evenodd\" fill-opacity=\"1\"/>\n",
       "<polyline clip-path=\"url(#clip402)\" style=\"stroke:#000000; stroke-linecap:round; stroke-linejoin:round; stroke-width:4; stroke-opacity:1; fill:none\" points=\"10366.1,1423.18 10366.1,1423.18 10404.6,1423.18 10366.1,1423.18 \"/>\n",
       "<path clip-path=\"url(#clip402)\" d=\"M10404.6 1423.18 L10404.6 1423.18 L10443.1 1423.18 L10443.1 1423.18 L10404.6 1423.18 L10404.6 1423.18  Z\" fill=\"#009af9\" fill-rule=\"evenodd\" fill-opacity=\"1\"/>\n",
       "<polyline clip-path=\"url(#clip402)\" style=\"stroke:#000000; stroke-linecap:round; stroke-linejoin:round; stroke-width:4; stroke-opacity:1; fill:none\" points=\"10404.6,1423.18 10404.6,1423.18 10443.1,1423.18 10404.6,1423.18 \"/>\n",
       "<path clip-path=\"url(#clip402)\" d=\"M10443.1 1423.18 L10443.1 1423.18 L10481.5 1423.18 L10481.5 1423.18 L10443.1 1423.18 L10443.1 1423.18  Z\" fill=\"#009af9\" fill-rule=\"evenodd\" fill-opacity=\"1\"/>\n",
       "<polyline clip-path=\"url(#clip402)\" style=\"stroke:#000000; stroke-linecap:round; stroke-linejoin:round; stroke-width:4; stroke-opacity:1; fill:none\" points=\"10443.1,1423.18 10443.1,1423.18 10481.5,1423.18 10443.1,1423.18 \"/>\n",
       "<path clip-path=\"url(#clip402)\" d=\"M10481.5 1423.18 L10481.5 1423.18 L10520 1423.18 L10520 1423.18 L10481.5 1423.18 L10481.5 1423.18  Z\" fill=\"#009af9\" fill-rule=\"evenodd\" fill-opacity=\"1\"/>\n",
       "<polyline clip-path=\"url(#clip402)\" style=\"stroke:#000000; stroke-linecap:round; stroke-linejoin:round; stroke-width:4; stroke-opacity:1; fill:none\" points=\"10481.5,1423.18 10481.5,1423.18 10520,1423.18 10481.5,1423.18 \"/>\n",
       "<path clip-path=\"url(#clip402)\" d=\"M10520 1423.18 L10520 1423.18 L10558.4 1423.18 L10558.4 1423.18 L10520 1423.18 L10520 1423.18  Z\" fill=\"#009af9\" fill-rule=\"evenodd\" fill-opacity=\"1\"/>\n",
       "<polyline clip-path=\"url(#clip402)\" style=\"stroke:#000000; stroke-linecap:round; stroke-linejoin:round; stroke-width:4; stroke-opacity:1; fill:none\" points=\"10520,1423.18 10520,1423.18 10558.4,1423.18 10520,1423.18 \"/>\n",
       "<path clip-path=\"url(#clip402)\" d=\"M10558.4 1423.18 L10558.4 1423.18 L10596.9 1423.18 L10596.9 1423.18 L10558.4 1423.18 L10558.4 1423.18  Z\" fill=\"#009af9\" fill-rule=\"evenodd\" fill-opacity=\"1\"/>\n",
       "<polyline clip-path=\"url(#clip402)\" style=\"stroke:#000000; stroke-linecap:round; stroke-linejoin:round; stroke-width:4; stroke-opacity:1; fill:none\" points=\"10558.4,1423.18 10558.4,1423.18 10596.9,1423.18 10558.4,1423.18 \"/>\n",
       "<path clip-path=\"url(#clip402)\" d=\"M10596.9 1423.18 L10596.9 1423.18 L10635.4 1423.18 L10635.4 1423.18 L10596.9 1423.18 L10596.9 1423.18  Z\" fill=\"#009af9\" fill-rule=\"evenodd\" fill-opacity=\"1\"/>\n",
       "<polyline clip-path=\"url(#clip402)\" style=\"stroke:#000000; stroke-linecap:round; stroke-linejoin:round; stroke-width:4; stroke-opacity:1; fill:none\" points=\"10596.9,1423.18 10596.9,1423.18 10635.4,1423.18 10596.9,1423.18 \"/>\n",
       "<path clip-path=\"url(#clip402)\" d=\"M10635.4 1423.18 L10635.4 1423.18 L10673.8 1423.18 L10673.8 1423.18 L10635.4 1423.18 L10635.4 1423.18  Z\" fill=\"#009af9\" fill-rule=\"evenodd\" fill-opacity=\"1\"/>\n",
       "<polyline clip-path=\"url(#clip402)\" style=\"stroke:#000000; stroke-linecap:round; stroke-linejoin:round; stroke-width:4; stroke-opacity:1; fill:none\" points=\"10635.4,1423.18 10635.4,1423.18 10673.8,1423.18 10635.4,1423.18 \"/>\n",
       "<path clip-path=\"url(#clip402)\" d=\"M10673.8 1423.18 L10673.8 1423.18 L10712.3 1423.18 L10712.3 1423.18 L10673.8 1423.18 L10673.8 1423.18  Z\" fill=\"#009af9\" fill-rule=\"evenodd\" fill-opacity=\"1\"/>\n",
       "<polyline clip-path=\"url(#clip402)\" style=\"stroke:#000000; stroke-linecap:round; stroke-linejoin:round; stroke-width:4; stroke-opacity:1; fill:none\" points=\"10673.8,1423.18 10673.8,1423.18 10712.3,1423.18 10673.8,1423.18 \"/>\n",
       "<path clip-path=\"url(#clip402)\" d=\"M10712.3 1423.18 L10712.3 1423.18 L10750.7 1423.18 L10750.7 1423.18 L10712.3 1423.18 L10712.3 1423.18  Z\" fill=\"#009af9\" fill-rule=\"evenodd\" fill-opacity=\"1\"/>\n",
       "<polyline clip-path=\"url(#clip402)\" style=\"stroke:#000000; stroke-linecap:round; stroke-linejoin:round; stroke-width:4; stroke-opacity:1; fill:none\" points=\"10712.3,1423.18 10712.3,1423.18 10750.7,1423.18 10712.3,1423.18 \"/>\n",
       "<path clip-path=\"url(#clip402)\" d=\"M10750.7 1423.18 L10750.7 1423.18 L10789.2 1423.18 L10789.2 1423.18 L10750.7 1423.18 L10750.7 1423.18  Z\" fill=\"#009af9\" fill-rule=\"evenodd\" fill-opacity=\"1\"/>\n",
       "<polyline clip-path=\"url(#clip402)\" style=\"stroke:#000000; stroke-linecap:round; stroke-linejoin:round; stroke-width:4; stroke-opacity:1; fill:none\" points=\"10750.7,1423.18 10750.7,1423.18 10789.2,1423.18 10750.7,1423.18 \"/>\n",
       "<path clip-path=\"url(#clip402)\" d=\"M10789.2 1423.18 L10789.2 1423.18 L10827.7 1423.18 L10827.7 1423.18 L10789.2 1423.18 L10789.2 1423.18  Z\" fill=\"#009af9\" fill-rule=\"evenodd\" fill-opacity=\"1\"/>\n",
       "<polyline clip-path=\"url(#clip402)\" style=\"stroke:#000000; stroke-linecap:round; stroke-linejoin:round; stroke-width:4; stroke-opacity:1; fill:none\" points=\"10789.2,1423.18 10789.2,1423.18 10827.7,1423.18 10789.2,1423.18 \"/>\n",
       "<path clip-path=\"url(#clip402)\" d=\"M10827.7 1423.18 L10827.7 1423.18 L10866.1 1423.18 L10866.1 1423.18 L10827.7 1423.18 L10827.7 1423.18  Z\" fill=\"#009af9\" fill-rule=\"evenodd\" fill-opacity=\"1\"/>\n",
       "<polyline clip-path=\"url(#clip402)\" style=\"stroke:#000000; stroke-linecap:round; stroke-linejoin:round; stroke-width:4; stroke-opacity:1; fill:none\" points=\"10827.7,1423.18 10827.7,1423.18 10866.1,1423.18 10827.7,1423.18 \"/>\n",
       "<path clip-path=\"url(#clip402)\" d=\"M10866.1 1423.18 L10866.1 1423.18 L10904.6 1423.18 L10904.6 1423.18 L10866.1 1423.18 L10866.1 1423.18  Z\" fill=\"#009af9\" fill-rule=\"evenodd\" fill-opacity=\"1\"/>\n",
       "<polyline clip-path=\"url(#clip402)\" style=\"stroke:#000000; stroke-linecap:round; stroke-linejoin:round; stroke-width:4; stroke-opacity:1; fill:none\" points=\"10866.1,1423.18 10866.1,1423.18 10904.6,1423.18 10866.1,1423.18 \"/>\n",
       "<path clip-path=\"url(#clip402)\" d=\"M10904.6 1423.18 L10904.6 1423.18 L10943 1423.18 L10943 1423.18 L10904.6 1423.18 L10904.6 1423.18  Z\" fill=\"#009af9\" fill-rule=\"evenodd\" fill-opacity=\"1\"/>\n",
       "<polyline clip-path=\"url(#clip402)\" style=\"stroke:#000000; stroke-linecap:round; stroke-linejoin:round; stroke-width:4; stroke-opacity:1; fill:none\" points=\"10904.6,1423.18 10904.6,1423.18 10943,1423.18 10904.6,1423.18 \"/>\n",
       "<path clip-path=\"url(#clip402)\" d=\"M10943 1423.18 L10943 1423.18 L10981.5 1423.18 L10981.5 1423.18 L10943 1423.18 L10943 1423.18  Z\" fill=\"#009af9\" fill-rule=\"evenodd\" fill-opacity=\"1\"/>\n",
       "<polyline clip-path=\"url(#clip402)\" style=\"stroke:#000000; stroke-linecap:round; stroke-linejoin:round; stroke-width:4; stroke-opacity:1; fill:none\" points=\"10943,1423.18 10943,1423.18 10981.5,1423.18 10943,1423.18 \"/>\n",
       "<path clip-path=\"url(#clip402)\" d=\"M10981.5 1423.18 L10981.5 1423.18 L11019.9 1423.18 L11019.9 1423.18 L10981.5 1423.18 L10981.5 1423.18  Z\" fill=\"#009af9\" fill-rule=\"evenodd\" fill-opacity=\"1\"/>\n",
       "<polyline clip-path=\"url(#clip402)\" style=\"stroke:#000000; stroke-linecap:round; stroke-linejoin:round; stroke-width:4; stroke-opacity:1; fill:none\" points=\"10981.5,1423.18 10981.5,1423.18 11019.9,1423.18 10981.5,1423.18 \"/>\n",
       "<path clip-path=\"url(#clip402)\" d=\"M11019.9 1423.18 L11019.9 1423.18 L11058.4 1423.18 L11058.4 1423.18 L11019.9 1423.18 L11019.9 1423.18  Z\" fill=\"#009af9\" fill-rule=\"evenodd\" fill-opacity=\"1\"/>\n",
       "<polyline clip-path=\"url(#clip402)\" style=\"stroke:#000000; stroke-linecap:round; stroke-linejoin:round; stroke-width:4; stroke-opacity:1; fill:none\" points=\"11019.9,1423.18 11019.9,1423.18 11058.4,1423.18 11019.9,1423.18 \"/>\n",
       "<path clip-path=\"url(#clip402)\" d=\"M11058.4 1423.18 L11058.4 1423.18 L11096.9 1423.18 L11096.9 1423.18 L11058.4 1423.18 L11058.4 1423.18  Z\" fill=\"#009af9\" fill-rule=\"evenodd\" fill-opacity=\"1\"/>\n",
       "<polyline clip-path=\"url(#clip402)\" style=\"stroke:#000000; stroke-linecap:round; stroke-linejoin:round; stroke-width:4; stroke-opacity:1; fill:none\" points=\"11058.4,1423.18 11058.4,1423.18 11096.9,1423.18 11058.4,1423.18 \"/>\n",
       "<path clip-path=\"url(#clip402)\" d=\"M11096.9 1423.18 L11096.9 1423.18 L11135.3 1423.18 L11135.3 1423.18 L11096.9 1423.18 L11096.9 1423.18  Z\" fill=\"#009af9\" fill-rule=\"evenodd\" fill-opacity=\"1\"/>\n",
       "<polyline clip-path=\"url(#clip402)\" style=\"stroke:#000000; stroke-linecap:round; stroke-linejoin:round; stroke-width:4; stroke-opacity:1; fill:none\" points=\"11096.9,1423.18 11096.9,1423.18 11135.3,1423.18 11096.9,1423.18 \"/>\n",
       "<path clip-path=\"url(#clip402)\" d=\"M11135.3 1423.18 L11135.3 1423.18 L11173.8 1423.18 L11173.8 1423.18 L11135.3 1423.18 L11135.3 1423.18  Z\" fill=\"#009af9\" fill-rule=\"evenodd\" fill-opacity=\"1\"/>\n",
       "<polyline clip-path=\"url(#clip402)\" style=\"stroke:#000000; stroke-linecap:round; stroke-linejoin:round; stroke-width:4; stroke-opacity:1; fill:none\" points=\"11135.3,1423.18 11135.3,1423.18 11173.8,1423.18 11135.3,1423.18 \"/>\n",
       "<path clip-path=\"url(#clip402)\" d=\"M11173.8 1423.18 L11173.8 1423.18 L11212.2 1423.18 L11212.2 1423.18 L11173.8 1423.18 L11173.8 1423.18  Z\" fill=\"#009af9\" fill-rule=\"evenodd\" fill-opacity=\"1\"/>\n",
       "<polyline clip-path=\"url(#clip402)\" style=\"stroke:#000000; stroke-linecap:round; stroke-linejoin:round; stroke-width:4; stroke-opacity:1; fill:none\" points=\"11173.8,1423.18 11173.8,1423.18 11212.2,1423.18 11173.8,1423.18 \"/>\n",
       "<path clip-path=\"url(#clip402)\" d=\"M11212.2 1423.18 L11212.2 1423.18 L11250.7 1423.18 L11250.7 1423.18 L11212.2 1423.18 L11212.2 1423.18  Z\" fill=\"#009af9\" fill-rule=\"evenodd\" fill-opacity=\"1\"/>\n",
       "<polyline clip-path=\"url(#clip402)\" style=\"stroke:#000000; stroke-linecap:round; stroke-linejoin:round; stroke-width:4; stroke-opacity:1; fill:none\" points=\"11212.2,1423.18 11212.2,1423.18 11250.7,1423.18 11212.2,1423.18 \"/>\n",
       "<path clip-path=\"url(#clip402)\" d=\"M11250.7 1423.18 L11250.7 1423.18 L11289.2 1423.18 L11289.2 1423.18 L11250.7 1423.18 L11250.7 1423.18  Z\" fill=\"#009af9\" fill-rule=\"evenodd\" fill-opacity=\"1\"/>\n",
       "<polyline clip-path=\"url(#clip402)\" style=\"stroke:#000000; stroke-linecap:round; stroke-linejoin:round; stroke-width:4; stroke-opacity:1; fill:none\" points=\"11250.7,1423.18 11250.7,1423.18 11289.2,1423.18 11250.7,1423.18 \"/>\n",
       "<path clip-path=\"url(#clip402)\" d=\"M11289.2 1423.18 L11289.2 1423.18 L11327.6 1423.18 L11327.6 1423.18 L11289.2 1423.18 L11289.2 1423.18  Z\" fill=\"#009af9\" fill-rule=\"evenodd\" fill-opacity=\"1\"/>\n",
       "<polyline clip-path=\"url(#clip402)\" style=\"stroke:#000000; stroke-linecap:round; stroke-linejoin:round; stroke-width:4; stroke-opacity:1; fill:none\" points=\"11289.2,1423.18 11289.2,1423.18 11327.6,1423.18 11289.2,1423.18 \"/>\n",
       "<path clip-path=\"url(#clip402)\" d=\"M11327.6 1423.18 L11327.6 1423.18 L11366.1 1423.18 L11366.1 1423.18 L11327.6 1423.18 L11327.6 1423.18  Z\" fill=\"#009af9\" fill-rule=\"evenodd\" fill-opacity=\"1\"/>\n",
       "<polyline clip-path=\"url(#clip402)\" style=\"stroke:#000000; stroke-linecap:round; stroke-linejoin:round; stroke-width:4; stroke-opacity:1; fill:none\" points=\"11327.6,1423.18 11327.6,1423.18 11366.1,1423.18 11327.6,1423.18 \"/>\n",
       "<path clip-path=\"url(#clip402)\" d=\"M11366.1 1423.18 L11366.1 1423.18 L11404.5 1423.18 L11404.5 1423.18 L11366.1 1423.18 L11366.1 1423.18  Z\" fill=\"#009af9\" fill-rule=\"evenodd\" fill-opacity=\"1\"/>\n",
       "<polyline clip-path=\"url(#clip402)\" style=\"stroke:#000000; stroke-linecap:round; stroke-linejoin:round; stroke-width:4; stroke-opacity:1; fill:none\" points=\"11366.1,1423.18 11366.1,1423.18 11404.5,1423.18 11366.1,1423.18 \"/>\n",
       "<path clip-path=\"url(#clip402)\" d=\"M11404.5 1423.18 L11404.5 1423.18 L11443 1423.18 L11443 1423.18 L11404.5 1423.18 L11404.5 1423.18  Z\" fill=\"#009af9\" fill-rule=\"evenodd\" fill-opacity=\"1\"/>\n",
       "<polyline clip-path=\"url(#clip402)\" style=\"stroke:#000000; stroke-linecap:round; stroke-linejoin:round; stroke-width:4; stroke-opacity:1; fill:none\" points=\"11404.5,1423.18 11404.5,1423.18 11443,1423.18 11404.5,1423.18 \"/>\n",
       "<path clip-path=\"url(#clip402)\" d=\"M11443 1423.18 L11443 1423.18 L11481.5 1423.18 L11481.5 1423.18 L11443 1423.18 L11443 1423.18  Z\" fill=\"#009af9\" fill-rule=\"evenodd\" fill-opacity=\"1\"/>\n",
       "<polyline clip-path=\"url(#clip402)\" style=\"stroke:#000000; stroke-linecap:round; stroke-linejoin:round; stroke-width:4; stroke-opacity:1; fill:none\" points=\"11443,1423.18 11443,1423.18 11481.5,1423.18 11443,1423.18 \"/>\n",
       "<path clip-path=\"url(#clip402)\" d=\"M11481.5 1423.18 L11481.5 1423.18 L11519.9 1423.18 L11519.9 1423.18 L11481.5 1423.18 L11481.5 1423.18  Z\" fill=\"#009af9\" fill-rule=\"evenodd\" fill-opacity=\"1\"/>\n",
       "<polyline clip-path=\"url(#clip402)\" style=\"stroke:#000000; stroke-linecap:round; stroke-linejoin:round; stroke-width:4; stroke-opacity:1; fill:none\" points=\"11481.5,1423.18 11481.5,1423.18 11519.9,1423.18 11481.5,1423.18 \"/>\n",
       "<path clip-path=\"url(#clip402)\" d=\"M11519.9 1423.18 L11519.9 1423.18 L11558.4 1423.18 L11558.4 1423.18 L11519.9 1423.18 L11519.9 1423.18  Z\" fill=\"#009af9\" fill-rule=\"evenodd\" fill-opacity=\"1\"/>\n",
       "<polyline clip-path=\"url(#clip402)\" style=\"stroke:#000000; stroke-linecap:round; stroke-linejoin:round; stroke-width:4; stroke-opacity:1; fill:none\" points=\"11519.9,1423.18 11519.9,1423.18 11558.4,1423.18 11519.9,1423.18 \"/>\n",
       "<path clip-path=\"url(#clip402)\" d=\"M11558.4 1423.18 L11558.4 1423.18 L11596.8 1423.18 L11596.8 1423.18 L11558.4 1423.18 L11558.4 1423.18  Z\" fill=\"#009af9\" fill-rule=\"evenodd\" fill-opacity=\"1\"/>\n",
       "<polyline clip-path=\"url(#clip402)\" style=\"stroke:#000000; stroke-linecap:round; stroke-linejoin:round; stroke-width:4; stroke-opacity:1; fill:none\" points=\"11558.4,1423.18 11558.4,1423.18 11596.8,1423.18 11558.4,1423.18 \"/>\n",
       "<path clip-path=\"url(#clip402)\" d=\"M11596.8 1423.18 L11596.8 1423.18 L11635.3 1423.18 L11635.3 1423.18 L11596.8 1423.18 L11596.8 1423.18  Z\" fill=\"#009af9\" fill-rule=\"evenodd\" fill-opacity=\"1\"/>\n",
       "<polyline clip-path=\"url(#clip402)\" style=\"stroke:#000000; stroke-linecap:round; stroke-linejoin:round; stroke-width:4; stroke-opacity:1; fill:none\" points=\"11596.8,1423.18 11596.8,1423.18 11635.3,1423.18 11596.8,1423.18 \"/>\n",
       "<path clip-path=\"url(#clip402)\" d=\"M11635.3 1423.18 L11635.3 1423.18 L11673.8 1423.18 L11673.8 1423.18 L11635.3 1423.18 L11635.3 1423.18  Z\" fill=\"#009af9\" fill-rule=\"evenodd\" fill-opacity=\"1\"/>\n",
       "<polyline clip-path=\"url(#clip402)\" style=\"stroke:#000000; stroke-linecap:round; stroke-linejoin:round; stroke-width:4; stroke-opacity:1; fill:none\" points=\"11635.3,1423.18 11635.3,1423.18 11673.8,1423.18 11635.3,1423.18 \"/>\n",
       "<path clip-path=\"url(#clip402)\" d=\"M11673.8 1423.18 L11673.8 1423.18 L11712.2 1423.18 L11712.2 1423.18 L11673.8 1423.18 L11673.8 1423.18  Z\" fill=\"#009af9\" fill-rule=\"evenodd\" fill-opacity=\"1\"/>\n",
       "<polyline clip-path=\"url(#clip402)\" style=\"stroke:#000000; stroke-linecap:round; stroke-linejoin:round; stroke-width:4; stroke-opacity:1; fill:none\" points=\"11673.8,1423.18 11673.8,1423.18 11712.2,1423.18 11673.8,1423.18 \"/>\n",
       "<path clip-path=\"url(#clip402)\" d=\"M11712.2 1423.18 L11712.2 1423.18 L11750.7 1423.18 L11750.7 1423.18 L11712.2 1423.18 L11712.2 1423.18  Z\" fill=\"#009af9\" fill-rule=\"evenodd\" fill-opacity=\"1\"/>\n",
       "<polyline clip-path=\"url(#clip402)\" style=\"stroke:#000000; stroke-linecap:round; stroke-linejoin:round; stroke-width:4; stroke-opacity:1; fill:none\" points=\"11712.2,1423.18 11712.2,1423.18 11750.7,1423.18 11712.2,1423.18 \"/>\n",
       "<path clip-path=\"url(#clip402)\" d=\"M11750.7 1423.18 L11750.7 1423.18 L11789.1 1423.18 L11789.1 1423.18 L11750.7 1423.18 L11750.7 1423.18  Z\" fill=\"#009af9\" fill-rule=\"evenodd\" fill-opacity=\"1\"/>\n",
       "<polyline clip-path=\"url(#clip402)\" style=\"stroke:#000000; stroke-linecap:round; stroke-linejoin:round; stroke-width:4; stroke-opacity:1; fill:none\" points=\"11750.7,1423.18 11750.7,1423.18 11789.1,1423.18 11750.7,1423.18 \"/>\n",
       "<path clip-path=\"url(#clip402)\" d=\"M11789.1 1423.18 L11789.1 1423.18 L11827.6 1423.18 L11827.6 1423.18 L11789.1 1423.18 L11789.1 1423.18  Z\" fill=\"#009af9\" fill-rule=\"evenodd\" fill-opacity=\"1\"/>\n",
       "<polyline clip-path=\"url(#clip402)\" style=\"stroke:#000000; stroke-linecap:round; stroke-linejoin:round; stroke-width:4; stroke-opacity:1; fill:none\" points=\"11789.1,1423.18 11789.1,1423.18 11827.6,1423.18 11789.1,1423.18 \"/>\n",
       "<path clip-path=\"url(#clip402)\" d=\"M11827.6 1423.18 L11827.6 1423.18 L11866 1423.18 L11866 1423.18 L11827.6 1423.18 L11827.6 1423.18  Z\" fill=\"#009af9\" fill-rule=\"evenodd\" fill-opacity=\"1\"/>\n",
       "<polyline clip-path=\"url(#clip402)\" style=\"stroke:#000000; stroke-linecap:round; stroke-linejoin:round; stroke-width:4; stroke-opacity:1; fill:none\" points=\"11827.6,1423.18 11827.6,1423.18 11866,1423.18 11827.6,1423.18 \"/>\n",
       "<path clip-path=\"url(#clip402)\" d=\"M11866 1423.18 L11866 1423.18 L11904.5 1423.18 L11904.5 1423.18 L11866 1423.18 L11866 1423.18  Z\" fill=\"#009af9\" fill-rule=\"evenodd\" fill-opacity=\"1\"/>\n",
       "<polyline clip-path=\"url(#clip402)\" style=\"stroke:#000000; stroke-linecap:round; stroke-linejoin:round; stroke-width:4; stroke-opacity:1; fill:none\" points=\"11866,1423.18 11866,1423.18 11904.5,1423.18 11866,1423.18 \"/>\n",
       "<path clip-path=\"url(#clip402)\" d=\"M11904.5 1423.18 L11904.5 1423.18 L11943 1423.18 L11943 1423.18 L11904.5 1423.18 L11904.5 1423.18  Z\" fill=\"#009af9\" fill-rule=\"evenodd\" fill-opacity=\"1\"/>\n",
       "<polyline clip-path=\"url(#clip402)\" style=\"stroke:#000000; stroke-linecap:round; stroke-linejoin:round; stroke-width:4; stroke-opacity:1; fill:none\" points=\"11904.5,1423.18 11904.5,1423.18 11943,1423.18 11904.5,1423.18 \"/>\n",
       "<path clip-path=\"url(#clip402)\" d=\"M11943 1423.18 L11943 1423.18 L11981.4 1423.18 L11981.4 1423.18 L11943 1423.18 L11943 1423.18  Z\" fill=\"#009af9\" fill-rule=\"evenodd\" fill-opacity=\"1\"/>\n",
       "<polyline clip-path=\"url(#clip402)\" style=\"stroke:#000000; stroke-linecap:round; stroke-linejoin:round; stroke-width:4; stroke-opacity:1; fill:none\" points=\"11943,1423.18 11943,1423.18 11981.4,1423.18 11943,1423.18 \"/>\n",
       "<path clip-path=\"url(#clip402)\" d=\"M11981.4 1423.18 L11981.4 1423.18 L12019.9 1423.18 L12019.9 1423.18 L11981.4 1423.18 L11981.4 1423.18  Z\" fill=\"#009af9\" fill-rule=\"evenodd\" fill-opacity=\"1\"/>\n",
       "<polyline clip-path=\"url(#clip402)\" style=\"stroke:#000000; stroke-linecap:round; stroke-linejoin:round; stroke-width:4; stroke-opacity:1; fill:none\" points=\"11981.4,1423.18 11981.4,1423.18 12019.9,1423.18 11981.4,1423.18 \"/>\n",
       "<path clip-path=\"url(#clip402)\" d=\"M12019.9 1423.18 L12019.9 1423.18 L12058.3 1423.18 L12058.3 1423.18 L12019.9 1423.18 L12019.9 1423.18  Z\" fill=\"#009af9\" fill-rule=\"evenodd\" fill-opacity=\"1\"/>\n",
       "<polyline clip-path=\"url(#clip402)\" style=\"stroke:#000000; stroke-linecap:round; stroke-linejoin:round; stroke-width:4; stroke-opacity:1; fill:none\" points=\"12019.9,1423.18 12019.9,1423.18 12058.3,1423.18 12019.9,1423.18 \"/>\n",
       "<path clip-path=\"url(#clip402)\" d=\"M12058.3 1423.18 L12058.3 1423.18 L12096.8 1423.18 L12096.8 1423.18 L12058.3 1423.18 L12058.3 1423.18  Z\" fill=\"#009af9\" fill-rule=\"evenodd\" fill-opacity=\"1\"/>\n",
       "<polyline clip-path=\"url(#clip402)\" style=\"stroke:#000000; stroke-linecap:round; stroke-linejoin:round; stroke-width:4; stroke-opacity:1; fill:none\" points=\"12058.3,1423.18 12058.3,1423.18 12096.8,1423.18 12058.3,1423.18 \"/>\n",
       "<path clip-path=\"url(#clip402)\" d=\"M12096.8 1423.18 L12096.8 1423.18 L12135.3 1423.18 L12135.3 1423.18 L12096.8 1423.18 L12096.8 1423.18  Z\" fill=\"#009af9\" fill-rule=\"evenodd\" fill-opacity=\"1\"/>\n",
       "<polyline clip-path=\"url(#clip402)\" style=\"stroke:#000000; stroke-linecap:round; stroke-linejoin:round; stroke-width:4; stroke-opacity:1; fill:none\" points=\"12096.8,1423.18 12096.8,1423.18 12135.3,1423.18 12096.8,1423.18 \"/>\n",
       "<path clip-path=\"url(#clip402)\" d=\"M12135.3 1423.18 L12135.3 1423.18 L12173.7 1423.18 L12173.7 1423.18 L12135.3 1423.18 L12135.3 1423.18  Z\" fill=\"#009af9\" fill-rule=\"evenodd\" fill-opacity=\"1\"/>\n",
       "<polyline clip-path=\"url(#clip402)\" style=\"stroke:#000000; stroke-linecap:round; stroke-linejoin:round; stroke-width:4; stroke-opacity:1; fill:none\" points=\"12135.3,1423.18 12135.3,1423.18 12173.7,1423.18 12135.3,1423.18 \"/>\n",
       "<path clip-path=\"url(#clip402)\" d=\"M12173.7 1423.18 L12173.7 1423.18 L12212.2 1423.18 L12212.2 1423.18 L12173.7 1423.18 L12173.7 1423.18  Z\" fill=\"#009af9\" fill-rule=\"evenodd\" fill-opacity=\"1\"/>\n",
       "<polyline clip-path=\"url(#clip402)\" style=\"stroke:#000000; stroke-linecap:round; stroke-linejoin:round; stroke-width:4; stroke-opacity:1; fill:none\" points=\"12173.7,1423.18 12173.7,1423.18 12212.2,1423.18 12173.7,1423.18 \"/>\n",
       "<path clip-path=\"url(#clip402)\" d=\"M12212.2 1423.18 L12212.2 1423.18 L12250.6 1423.18 L12250.6 1423.18 L12212.2 1423.18 L12212.2 1423.18  Z\" fill=\"#009af9\" fill-rule=\"evenodd\" fill-opacity=\"1\"/>\n",
       "<polyline clip-path=\"url(#clip402)\" style=\"stroke:#000000; stroke-linecap:round; stroke-linejoin:round; stroke-width:4; stroke-opacity:1; fill:none\" points=\"12212.2,1423.18 12212.2,1423.18 12250.6,1423.18 12212.2,1423.18 \"/>\n",
       "<path clip-path=\"url(#clip402)\" d=\"M12250.6 1423.18 L12250.6 1423.18 L12289.1 1423.18 L12289.1 1423.18 L12250.6 1423.18 L12250.6 1423.18  Z\" fill=\"#009af9\" fill-rule=\"evenodd\" fill-opacity=\"1\"/>\n",
       "<polyline clip-path=\"url(#clip402)\" style=\"stroke:#000000; stroke-linecap:round; stroke-linejoin:round; stroke-width:4; stroke-opacity:1; fill:none\" points=\"12250.6,1423.18 12250.6,1423.18 12289.1,1423.18 12250.6,1423.18 \"/>\n",
       "<path clip-path=\"url(#clip402)\" d=\"M12289.1 1423.18 L12289.1 1423.18 L12327.6 1423.18 L12327.6 1423.18 L12289.1 1423.18 L12289.1 1423.18  Z\" fill=\"#009af9\" fill-rule=\"evenodd\" fill-opacity=\"1\"/>\n",
       "<polyline clip-path=\"url(#clip402)\" style=\"stroke:#000000; stroke-linecap:round; stroke-linejoin:round; stroke-width:4; stroke-opacity:1; fill:none\" points=\"12289.1,1423.18 12289.1,1423.18 12327.6,1423.18 12289.1,1423.18 \"/>\n",
       "<path clip-path=\"url(#clip402)\" d=\"M12327.6 1423.18 L12327.6 1423.18 L12366 1423.18 L12366 1423.18 L12327.6 1423.18 L12327.6 1423.18  Z\" fill=\"#009af9\" fill-rule=\"evenodd\" fill-opacity=\"1\"/>\n",
       "<polyline clip-path=\"url(#clip402)\" style=\"stroke:#000000; stroke-linecap:round; stroke-linejoin:round; stroke-width:4; stroke-opacity:1; fill:none\" points=\"12327.6,1423.18 12327.6,1423.18 12366,1423.18 12327.6,1423.18 \"/>\n",
       "<path clip-path=\"url(#clip402)\" d=\"M12366 1423.18 L12366 1423.18 L12404.5 1423.18 L12404.5 1423.18 L12366 1423.18 L12366 1423.18  Z\" fill=\"#009af9\" fill-rule=\"evenodd\" fill-opacity=\"1\"/>\n",
       "<polyline clip-path=\"url(#clip402)\" style=\"stroke:#000000; stroke-linecap:round; stroke-linejoin:round; stroke-width:4; stroke-opacity:1; fill:none\" points=\"12366,1423.18 12366,1423.18 12404.5,1423.18 12366,1423.18 \"/>\n",
       "<path clip-path=\"url(#clip402)\" d=\"M12404.5 1423.18 L12404.5 1423.18 L12442.9 1423.18 L12442.9 1423.18 L12404.5 1423.18 L12404.5 1423.18  Z\" fill=\"#009af9\" fill-rule=\"evenodd\" fill-opacity=\"1\"/>\n",
       "<polyline clip-path=\"url(#clip402)\" style=\"stroke:#000000; stroke-linecap:round; stroke-linejoin:round; stroke-width:4; stroke-opacity:1; fill:none\" points=\"12404.5,1423.18 12404.5,1423.18 12442.9,1423.18 12404.5,1423.18 \"/>\n",
       "<path clip-path=\"url(#clip402)\" d=\"M12442.9 1423.18 L12442.9 1423.18 L12481.4 1423.18 L12481.4 1423.18 L12442.9 1423.18 L12442.9 1423.18  Z\" fill=\"#009af9\" fill-rule=\"evenodd\" fill-opacity=\"1\"/>\n",
       "<polyline clip-path=\"url(#clip402)\" style=\"stroke:#000000; stroke-linecap:round; stroke-linejoin:round; stroke-width:4; stroke-opacity:1; fill:none\" points=\"12442.9,1423.18 12442.9,1423.18 12481.4,1423.18 12442.9,1423.18 \"/>\n",
       "<path clip-path=\"url(#clip402)\" d=\"M12481.4 1423.18 L12481.4 1423.18 L12519.8 1423.18 L12519.8 1423.18 L12481.4 1423.18 L12481.4 1423.18  Z\" fill=\"#009af9\" fill-rule=\"evenodd\" fill-opacity=\"1\"/>\n",
       "<polyline clip-path=\"url(#clip402)\" style=\"stroke:#000000; stroke-linecap:round; stroke-linejoin:round; stroke-width:4; stroke-opacity:1; fill:none\" points=\"12481.4,1423.18 12481.4,1423.18 12519.8,1423.18 12481.4,1423.18 \"/>\n",
       "<path clip-path=\"url(#clip402)\" d=\"M12519.8 1423.18 L12519.8 1423.18 L12558.3 1423.18 L12558.3 1423.18 L12519.8 1423.18 L12519.8 1423.18  Z\" fill=\"#009af9\" fill-rule=\"evenodd\" fill-opacity=\"1\"/>\n",
       "<polyline clip-path=\"url(#clip402)\" style=\"stroke:#000000; stroke-linecap:round; stroke-linejoin:round; stroke-width:4; stroke-opacity:1; fill:none\" points=\"12519.8,1423.18 12519.8,1423.18 12558.3,1423.18 12519.8,1423.18 \"/>\n",
       "<path clip-path=\"url(#clip402)\" d=\"M12558.3 1423.18 L12558.3 1423.18 L12596.8 1423.18 L12596.8 1423.18 L12558.3 1423.18 L12558.3 1423.18  Z\" fill=\"#009af9\" fill-rule=\"evenodd\" fill-opacity=\"1\"/>\n",
       "<polyline clip-path=\"url(#clip402)\" style=\"stroke:#000000; stroke-linecap:round; stroke-linejoin:round; stroke-width:4; stroke-opacity:1; fill:none\" points=\"12558.3,1423.18 12558.3,1423.18 12596.8,1423.18 12558.3,1423.18 \"/>\n",
       "<path clip-path=\"url(#clip402)\" d=\"M12596.8 1423.18 L12596.8 1423.18 L12635.2 1423.18 L12635.2 1423.18 L12596.8 1423.18 L12596.8 1423.18  Z\" fill=\"#009af9\" fill-rule=\"evenodd\" fill-opacity=\"1\"/>\n",
       "<polyline clip-path=\"url(#clip402)\" style=\"stroke:#000000; stroke-linecap:round; stroke-linejoin:round; stroke-width:4; stroke-opacity:1; fill:none\" points=\"12596.8,1423.18 12596.8,1423.18 12635.2,1423.18 12596.8,1423.18 \"/>\n",
       "<path clip-path=\"url(#clip402)\" d=\"M12635.2 1423.18 L12635.2 1423.18 L12673.7 1423.18 L12673.7 1423.18 L12635.2 1423.18 L12635.2 1423.18  Z\" fill=\"#009af9\" fill-rule=\"evenodd\" fill-opacity=\"1\"/>\n",
       "<polyline clip-path=\"url(#clip402)\" style=\"stroke:#000000; stroke-linecap:round; stroke-linejoin:round; stroke-width:4; stroke-opacity:1; fill:none\" points=\"12635.2,1423.18 12635.2,1423.18 12673.7,1423.18 12635.2,1423.18 \"/>\n",
       "<path clip-path=\"url(#clip402)\" d=\"M12673.7 1423.18 L12673.7 1423.18 L12712.1 1423.18 L12712.1 1423.18 L12673.7 1423.18 L12673.7 1423.18  Z\" fill=\"#009af9\" fill-rule=\"evenodd\" fill-opacity=\"1\"/>\n",
       "<polyline clip-path=\"url(#clip402)\" style=\"stroke:#000000; stroke-linecap:round; stroke-linejoin:round; stroke-width:4; stroke-opacity:1; fill:none\" points=\"12673.7,1423.18 12673.7,1423.18 12712.1,1423.18 12673.7,1423.18 \"/>\n",
       "<path clip-path=\"url(#clip402)\" d=\"M12712.1 1423.18 L12712.1 1423.18 L12750.6 1423.18 L12750.6 1423.18 L12712.1 1423.18 L12712.1 1423.18  Z\" fill=\"#009af9\" fill-rule=\"evenodd\" fill-opacity=\"1\"/>\n",
       "<polyline clip-path=\"url(#clip402)\" style=\"stroke:#000000; stroke-linecap:round; stroke-linejoin:round; stroke-width:4; stroke-opacity:1; fill:none\" points=\"12712.1,1423.18 12712.1,1423.18 12750.6,1423.18 12712.1,1423.18 \"/>\n",
       "<path clip-path=\"url(#clip402)\" d=\"M12750.6 1423.18 L12750.6 1423.18 L12789.1 1423.18 L12789.1 1423.18 L12750.6 1423.18 L12750.6 1423.18  Z\" fill=\"#009af9\" fill-rule=\"evenodd\" fill-opacity=\"1\"/>\n",
       "<polyline clip-path=\"url(#clip402)\" style=\"stroke:#000000; stroke-linecap:round; stroke-linejoin:round; stroke-width:4; stroke-opacity:1; fill:none\" points=\"12750.6,1423.18 12750.6,1423.18 12789.1,1423.18 12750.6,1423.18 \"/>\n",
       "<path clip-path=\"url(#clip402)\" d=\"M12789.1 1423.18 L12789.1 1423.18 L12827.5 1423.18 L12827.5 1423.18 L12789.1 1423.18 L12789.1 1423.18  Z\" fill=\"#009af9\" fill-rule=\"evenodd\" fill-opacity=\"1\"/>\n",
       "<polyline clip-path=\"url(#clip402)\" style=\"stroke:#000000; stroke-linecap:round; stroke-linejoin:round; stroke-width:4; stroke-opacity:1; fill:none\" points=\"12789.1,1423.18 12789.1,1423.18 12827.5,1423.18 12789.1,1423.18 \"/>\n",
       "<path clip-path=\"url(#clip402)\" d=\"M12827.5 1423.18 L12827.5 1423.18 L12866 1423.18 L12866 1423.18 L12827.5 1423.18 L12827.5 1423.18  Z\" fill=\"#009af9\" fill-rule=\"evenodd\" fill-opacity=\"1\"/>\n",
       "<polyline clip-path=\"url(#clip402)\" style=\"stroke:#000000; stroke-linecap:round; stroke-linejoin:round; stroke-width:4; stroke-opacity:1; fill:none\" points=\"12827.5,1423.18 12827.5,1423.18 12866,1423.18 12827.5,1423.18 \"/>\n",
       "<path clip-path=\"url(#clip402)\" d=\"M12866 1423.18 L12866 1423.18 L12904.4 1423.18 L12904.4 1423.18 L12866 1423.18 L12866 1423.18  Z\" fill=\"#009af9\" fill-rule=\"evenodd\" fill-opacity=\"1\"/>\n",
       "<polyline clip-path=\"url(#clip402)\" style=\"stroke:#000000; stroke-linecap:round; stroke-linejoin:round; stroke-width:4; stroke-opacity:1; fill:none\" points=\"12866,1423.18 12866,1423.18 12904.4,1423.18 12866,1423.18 \"/>\n",
       "<path clip-path=\"url(#clip402)\" d=\"M12904.4 1423.18 L12904.4 1423.18 L12942.9 1423.18 L12942.9 1423.18 L12904.4 1423.18 L12904.4 1423.18  Z\" fill=\"#009af9\" fill-rule=\"evenodd\" fill-opacity=\"1\"/>\n",
       "<polyline clip-path=\"url(#clip402)\" style=\"stroke:#000000; stroke-linecap:round; stroke-linejoin:round; stroke-width:4; stroke-opacity:1; fill:none\" points=\"12904.4,1423.18 12904.4,1423.18 12942.9,1423.18 12904.4,1423.18 \"/>\n",
       "<path clip-path=\"url(#clip402)\" d=\"M12942.9 1423.18 L12942.9 1423.18 L12981.4 1423.18 L12981.4 1423.18 L12942.9 1423.18 L12942.9 1423.18  Z\" fill=\"#009af9\" fill-rule=\"evenodd\" fill-opacity=\"1\"/>\n",
       "<polyline clip-path=\"url(#clip402)\" style=\"stroke:#000000; stroke-linecap:round; stroke-linejoin:round; stroke-width:4; stroke-opacity:1; fill:none\" points=\"12942.9,1423.18 12942.9,1423.18 12981.4,1423.18 12942.9,1423.18 \"/>\n",
       "<path clip-path=\"url(#clip402)\" d=\"M12981.4 1423.18 L12981.4 1423.18 L13019.8 1423.18 L13019.8 1423.18 L12981.4 1423.18 L12981.4 1423.18  Z\" fill=\"#009af9\" fill-rule=\"evenodd\" fill-opacity=\"1\"/>\n",
       "<polyline clip-path=\"url(#clip402)\" style=\"stroke:#000000; stroke-linecap:round; stroke-linejoin:round; stroke-width:4; stroke-opacity:1; fill:none\" points=\"12981.4,1423.18 12981.4,1423.18 13019.8,1423.18 12981.4,1423.18 \"/>\n",
       "<path clip-path=\"url(#clip402)\" d=\"M13019.8 1423.18 L13019.8 1423.18 L13058.3 1423.18 L13058.3 1423.18 L13019.8 1423.18 L13019.8 1423.18  Z\" fill=\"#009af9\" fill-rule=\"evenodd\" fill-opacity=\"1\"/>\n",
       "<polyline clip-path=\"url(#clip402)\" style=\"stroke:#000000; stroke-linecap:round; stroke-linejoin:round; stroke-width:4; stroke-opacity:1; fill:none\" points=\"13019.8,1423.18 13019.8,1423.18 13058.3,1423.18 13019.8,1423.18 \"/>\n",
       "<path clip-path=\"url(#clip402)\" d=\"M13058.3 1423.18 L13058.3 1423.18 L13096.7 1423.18 L13096.7 1423.18 L13058.3 1423.18 L13058.3 1423.18  Z\" fill=\"#009af9\" fill-rule=\"evenodd\" fill-opacity=\"1\"/>\n",
       "<polyline clip-path=\"url(#clip402)\" style=\"stroke:#000000; stroke-linecap:round; stroke-linejoin:round; stroke-width:4; stroke-opacity:1; fill:none\" points=\"13058.3,1423.18 13058.3,1423.18 13096.7,1423.18 13058.3,1423.18 \"/>\n",
       "<path clip-path=\"url(#clip402)\" d=\"M13096.7 1423.18 L13096.7 1423.18 L13135.2 1423.18 L13135.2 1423.18 L13096.7 1423.18 L13096.7 1423.18  Z\" fill=\"#009af9\" fill-rule=\"evenodd\" fill-opacity=\"1\"/>\n",
       "<polyline clip-path=\"url(#clip402)\" style=\"stroke:#000000; stroke-linecap:round; stroke-linejoin:round; stroke-width:4; stroke-opacity:1; fill:none\" points=\"13096.7,1423.18 13096.7,1423.18 13135.2,1423.18 13096.7,1423.18 \"/>\n",
       "<path clip-path=\"url(#clip402)\" d=\"M13135.2 1423.18 L13135.2 1423.18 L13173.6 1423.18 L13173.6 1423.18 L13135.2 1423.18 L13135.2 1423.18  Z\" fill=\"#009af9\" fill-rule=\"evenodd\" fill-opacity=\"1\"/>\n",
       "<polyline clip-path=\"url(#clip402)\" style=\"stroke:#000000; stroke-linecap:round; stroke-linejoin:round; stroke-width:4; stroke-opacity:1; fill:none\" points=\"13135.2,1423.18 13135.2,1423.18 13173.6,1423.18 13135.2,1423.18 \"/>\n",
       "<path clip-path=\"url(#clip402)\" d=\"M13173.6 1423.18 L13173.6 1423.18 L13212.1 1423.18 L13212.1 1423.18 L13173.6 1423.18 L13173.6 1423.18  Z\" fill=\"#009af9\" fill-rule=\"evenodd\" fill-opacity=\"1\"/>\n",
       "<polyline clip-path=\"url(#clip402)\" style=\"stroke:#000000; stroke-linecap:round; stroke-linejoin:round; stroke-width:4; stroke-opacity:1; fill:none\" points=\"13173.6,1423.18 13173.6,1423.18 13212.1,1423.18 13173.6,1423.18 \"/>\n",
       "<path clip-path=\"url(#clip402)\" d=\"M13212.1 1423.18 L13212.1 1423.18 L13250.6 1423.18 L13250.6 1423.18 L13212.1 1423.18 L13212.1 1423.18  Z\" fill=\"#009af9\" fill-rule=\"evenodd\" fill-opacity=\"1\"/>\n",
       "<polyline clip-path=\"url(#clip402)\" style=\"stroke:#000000; stroke-linecap:round; stroke-linejoin:round; stroke-width:4; stroke-opacity:1; fill:none\" points=\"13212.1,1423.18 13212.1,1423.18 13250.6,1423.18 13212.1,1423.18 \"/>\n",
       "<path clip-path=\"url(#clip402)\" d=\"M13250.6 1423.18 L13250.6 1423.18 L13289 1423.18 L13289 1423.18 L13250.6 1423.18 L13250.6 1423.18  Z\" fill=\"#009af9\" fill-rule=\"evenodd\" fill-opacity=\"1\"/>\n",
       "<polyline clip-path=\"url(#clip402)\" style=\"stroke:#000000; stroke-linecap:round; stroke-linejoin:round; stroke-width:4; stroke-opacity:1; fill:none\" points=\"13250.6,1423.18 13250.6,1423.18 13289,1423.18 13250.6,1423.18 \"/>\n",
       "<path clip-path=\"url(#clip402)\" d=\"M13289 1423.18 L13289 1423.18 L13327.5 1423.18 L13327.5 1423.18 L13289 1423.18 L13289 1423.18  Z\" fill=\"#009af9\" fill-rule=\"evenodd\" fill-opacity=\"1\"/>\n",
       "<polyline clip-path=\"url(#clip402)\" style=\"stroke:#000000; stroke-linecap:round; stroke-linejoin:round; stroke-width:4; stroke-opacity:1; fill:none\" points=\"13289,1423.18 13289,1423.18 13327.5,1423.18 13289,1423.18 \"/>\n",
       "<path clip-path=\"url(#clip402)\" d=\"M13327.5 1423.18 L13327.5 1423.18 L13365.9 1423.18 L13365.9 1423.18 L13327.5 1423.18 L13327.5 1423.18  Z\" fill=\"#009af9\" fill-rule=\"evenodd\" fill-opacity=\"1\"/>\n",
       "<polyline clip-path=\"url(#clip402)\" style=\"stroke:#000000; stroke-linecap:round; stroke-linejoin:round; stroke-width:4; stroke-opacity:1; fill:none\" points=\"13327.5,1423.18 13327.5,1423.18 13365.9,1423.18 13327.5,1423.18 \"/>\n",
       "<path clip-path=\"url(#clip402)\" d=\"M13365.9 1423.18 L13365.9 1423.18 L13404.4 1423.18 L13404.4 1423.18 L13365.9 1423.18 L13365.9 1423.18  Z\" fill=\"#009af9\" fill-rule=\"evenodd\" fill-opacity=\"1\"/>\n",
       "<polyline clip-path=\"url(#clip402)\" style=\"stroke:#000000; stroke-linecap:round; stroke-linejoin:round; stroke-width:4; stroke-opacity:1; fill:none\" points=\"13365.9,1423.18 13365.9,1423.18 13404.4,1423.18 13365.9,1423.18 \"/>\n",
       "<path clip-path=\"url(#clip402)\" d=\"M13404.4 1423.18 L13404.4 1423.18 L13442.9 1423.18 L13442.9 1423.18 L13404.4 1423.18 L13404.4 1423.18  Z\" fill=\"#009af9\" fill-rule=\"evenodd\" fill-opacity=\"1\"/>\n",
       "<polyline clip-path=\"url(#clip402)\" style=\"stroke:#000000; stroke-linecap:round; stroke-linejoin:round; stroke-width:4; stroke-opacity:1; fill:none\" points=\"13404.4,1423.18 13404.4,1423.18 13442.9,1423.18 13404.4,1423.18 \"/>\n",
       "<path clip-path=\"url(#clip402)\" d=\"M13442.9 1423.18 L13442.9 1423.18 L13481.3 1423.18 L13481.3 1423.18 L13442.9 1423.18 L13442.9 1423.18  Z\" fill=\"#009af9\" fill-rule=\"evenodd\" fill-opacity=\"1\"/>\n",
       "<polyline clip-path=\"url(#clip402)\" style=\"stroke:#000000; stroke-linecap:round; stroke-linejoin:round; stroke-width:4; stroke-opacity:1; fill:none\" points=\"13442.9,1423.18 13442.9,1423.18 13481.3,1423.18 13442.9,1423.18 \"/>\n",
       "<path clip-path=\"url(#clip402)\" d=\"M13481.3 1423.18 L13481.3 1423.18 L13519.8 1423.18 L13519.8 1423.18 L13481.3 1423.18 L13481.3 1423.18  Z\" fill=\"#009af9\" fill-rule=\"evenodd\" fill-opacity=\"1\"/>\n",
       "<polyline clip-path=\"url(#clip402)\" style=\"stroke:#000000; stroke-linecap:round; stroke-linejoin:round; stroke-width:4; stroke-opacity:1; fill:none\" points=\"13481.3,1423.18 13481.3,1423.18 13519.8,1423.18 13481.3,1423.18 \"/>\n",
       "<path clip-path=\"url(#clip402)\" d=\"M13519.8 1423.18 L13519.8 1423.18 L13558.2 1423.18 L13558.2 1423.18 L13519.8 1423.18 L13519.8 1423.18  Z\" fill=\"#009af9\" fill-rule=\"evenodd\" fill-opacity=\"1\"/>\n",
       "<polyline clip-path=\"url(#clip402)\" style=\"stroke:#000000; stroke-linecap:round; stroke-linejoin:round; stroke-width:4; stroke-opacity:1; fill:none\" points=\"13519.8,1423.18 13519.8,1423.18 13558.2,1423.18 13519.8,1423.18 \"/>\n",
       "<path clip-path=\"url(#clip402)\" d=\"M13558.2 1423.18 L13558.2 1423.18 L13596.7 1423.18 L13596.7 1423.18 L13558.2 1423.18 L13558.2 1423.18  Z\" fill=\"#009af9\" fill-rule=\"evenodd\" fill-opacity=\"1\"/>\n",
       "<polyline clip-path=\"url(#clip402)\" style=\"stroke:#000000; stroke-linecap:round; stroke-linejoin:round; stroke-width:4; stroke-opacity:1; fill:none\" points=\"13558.2,1423.18 13558.2,1423.18 13596.7,1423.18 13558.2,1423.18 \"/>\n",
       "<path clip-path=\"url(#clip402)\" d=\"M13596.7 1423.18 L13596.7 1423.18 L13635.2 1423.18 L13635.2 1423.18 L13596.7 1423.18 L13596.7 1423.18  Z\" fill=\"#009af9\" fill-rule=\"evenodd\" fill-opacity=\"1\"/>\n",
       "<polyline clip-path=\"url(#clip402)\" style=\"stroke:#000000; stroke-linecap:round; stroke-linejoin:round; stroke-width:4; stroke-opacity:1; fill:none\" points=\"13596.7,1423.18 13596.7,1423.18 13635.2,1423.18 13596.7,1423.18 \"/>\n",
       "<path clip-path=\"url(#clip402)\" d=\"M13635.2 1423.18 L13635.2 1423.18 L13673.6 1423.18 L13673.6 1423.18 L13635.2 1423.18 L13635.2 1423.18  Z\" fill=\"#009af9\" fill-rule=\"evenodd\" fill-opacity=\"1\"/>\n",
       "<polyline clip-path=\"url(#clip402)\" style=\"stroke:#000000; stroke-linecap:round; stroke-linejoin:round; stroke-width:4; stroke-opacity:1; fill:none\" points=\"13635.2,1423.18 13635.2,1423.18 13673.6,1423.18 13635.2,1423.18 \"/>\n",
       "<path clip-path=\"url(#clip402)\" d=\"M13673.6 1423.18 L13673.6 1423.18 L13712.1 1423.18 L13712.1 1423.18 L13673.6 1423.18 L13673.6 1423.18  Z\" fill=\"#009af9\" fill-rule=\"evenodd\" fill-opacity=\"1\"/>\n",
       "<polyline clip-path=\"url(#clip402)\" style=\"stroke:#000000; stroke-linecap:round; stroke-linejoin:round; stroke-width:4; stroke-opacity:1; fill:none\" points=\"13673.6,1423.18 13673.6,1423.18 13712.1,1423.18 13673.6,1423.18 \"/>\n",
       "<path clip-path=\"url(#clip402)\" d=\"M13712.1 1423.18 L13712.1 1423.18 L13750.5 1423.18 L13750.5 1423.18 L13712.1 1423.18 L13712.1 1423.18  Z\" fill=\"#009af9\" fill-rule=\"evenodd\" fill-opacity=\"1\"/>\n",
       "<polyline clip-path=\"url(#clip402)\" style=\"stroke:#000000; stroke-linecap:round; stroke-linejoin:round; stroke-width:4; stroke-opacity:1; fill:none\" points=\"13712.1,1423.18 13712.1,1423.18 13750.5,1423.18 13712.1,1423.18 \"/>\n",
       "<path clip-path=\"url(#clip402)\" d=\"M13750.5 1423.18 L13750.5 1423.18 L13789 1423.18 L13789 1423.18 L13750.5 1423.18 L13750.5 1423.18  Z\" fill=\"#009af9\" fill-rule=\"evenodd\" fill-opacity=\"1\"/>\n",
       "<polyline clip-path=\"url(#clip402)\" style=\"stroke:#000000; stroke-linecap:round; stroke-linejoin:round; stroke-width:4; stroke-opacity:1; fill:none\" points=\"13750.5,1423.18 13750.5,1423.18 13789,1423.18 13750.5,1423.18 \"/>\n",
       "<path clip-path=\"url(#clip402)\" d=\"M13789 1423.18 L13789 1423.18 L13827.5 1423.18 L13827.5 1423.18 L13789 1423.18 L13789 1423.18  Z\" fill=\"#009af9\" fill-rule=\"evenodd\" fill-opacity=\"1\"/>\n",
       "<polyline clip-path=\"url(#clip402)\" style=\"stroke:#000000; stroke-linecap:round; stroke-linejoin:round; stroke-width:4; stroke-opacity:1; fill:none\" points=\"13789,1423.18 13789,1423.18 13827.5,1423.18 13789,1423.18 \"/>\n",
       "<path clip-path=\"url(#clip402)\" d=\"M13827.5 1423.18 L13827.5 1423.18 L13865.9 1423.18 L13865.9 1423.18 L13827.5 1423.18 L13827.5 1423.18  Z\" fill=\"#009af9\" fill-rule=\"evenodd\" fill-opacity=\"1\"/>\n",
       "<polyline clip-path=\"url(#clip402)\" style=\"stroke:#000000; stroke-linecap:round; stroke-linejoin:round; stroke-width:4; stroke-opacity:1; fill:none\" points=\"13827.5,1423.18 13827.5,1423.18 13865.9,1423.18 13827.5,1423.18 \"/>\n",
       "<path clip-path=\"url(#clip402)\" d=\"M13865.9 1423.18 L13865.9 1423.18 L13904.4 1423.18 L13904.4 1423.18 L13865.9 1423.18 L13865.9 1423.18  Z\" fill=\"#009af9\" fill-rule=\"evenodd\" fill-opacity=\"1\"/>\n",
       "<polyline clip-path=\"url(#clip402)\" style=\"stroke:#000000; stroke-linecap:round; stroke-linejoin:round; stroke-width:4; stroke-opacity:1; fill:none\" points=\"13865.9,1423.18 13865.9,1423.18 13904.4,1423.18 13865.9,1423.18 \"/>\n",
       "<path clip-path=\"url(#clip402)\" d=\"M13904.4 1423.18 L13904.4 1423.18 L13942.8 1423.18 L13942.8 1423.18 L13904.4 1423.18 L13904.4 1423.18  Z\" fill=\"#009af9\" fill-rule=\"evenodd\" fill-opacity=\"1\"/>\n",
       "<polyline clip-path=\"url(#clip402)\" style=\"stroke:#000000; stroke-linecap:round; stroke-linejoin:round; stroke-width:4; stroke-opacity:1; fill:none\" points=\"13904.4,1423.18 13904.4,1423.18 13942.8,1423.18 13904.4,1423.18 \"/>\n",
       "<path clip-path=\"url(#clip402)\" d=\"M13942.8 1423.18 L13942.8 1423.18 L13981.3 1423.18 L13981.3 1423.18 L13942.8 1423.18 L13942.8 1423.18  Z\" fill=\"#009af9\" fill-rule=\"evenodd\" fill-opacity=\"1\"/>\n",
       "<polyline clip-path=\"url(#clip402)\" style=\"stroke:#000000; stroke-linecap:round; stroke-linejoin:round; stroke-width:4; stroke-opacity:1; fill:none\" points=\"13942.8,1423.18 13942.8,1423.18 13981.3,1423.18 13942.8,1423.18 \"/>\n",
       "<path clip-path=\"url(#clip402)\" d=\"M13981.3 1423.18 L13981.3 1423.18 L14019.7 1423.18 L14019.7 1423.18 L13981.3 1423.18 L13981.3 1423.18  Z\" fill=\"#009af9\" fill-rule=\"evenodd\" fill-opacity=\"1\"/>\n",
       "<polyline clip-path=\"url(#clip402)\" style=\"stroke:#000000; stroke-linecap:round; stroke-linejoin:round; stroke-width:4; stroke-opacity:1; fill:none\" points=\"13981.3,1423.18 13981.3,1423.18 14019.7,1423.18 13981.3,1423.18 \"/>\n",
       "<path clip-path=\"url(#clip402)\" d=\"M14019.7 1423.18 L14019.7 1423.18 L14058.2 1423.18 L14058.2 1423.18 L14019.7 1423.18 L14019.7 1423.18  Z\" fill=\"#009af9\" fill-rule=\"evenodd\" fill-opacity=\"1\"/>\n",
       "<polyline clip-path=\"url(#clip402)\" style=\"stroke:#000000; stroke-linecap:round; stroke-linejoin:round; stroke-width:4; stroke-opacity:1; fill:none\" points=\"14019.7,1423.18 14019.7,1423.18 14058.2,1423.18 14019.7,1423.18 \"/>\n",
       "<path clip-path=\"url(#clip402)\" d=\"M14058.2 1423.18 L14058.2 1423.18 L14096.7 1423.18 L14096.7 1423.18 L14058.2 1423.18 L14058.2 1423.18  Z\" fill=\"#009af9\" fill-rule=\"evenodd\" fill-opacity=\"1\"/>\n",
       "<polyline clip-path=\"url(#clip402)\" style=\"stroke:#000000; stroke-linecap:round; stroke-linejoin:round; stroke-width:4; stroke-opacity:1; fill:none\" points=\"14058.2,1423.18 14058.2,1423.18 14096.7,1423.18 14058.2,1423.18 \"/>\n",
       "<path clip-path=\"url(#clip402)\" d=\"M14096.7 1423.18 L14096.7 1423.18 L14135.1 1423.18 L14135.1 1423.18 L14096.7 1423.18 L14096.7 1423.18  Z\" fill=\"#009af9\" fill-rule=\"evenodd\" fill-opacity=\"1\"/>\n",
       "<polyline clip-path=\"url(#clip402)\" style=\"stroke:#000000; stroke-linecap:round; stroke-linejoin:round; stroke-width:4; stroke-opacity:1; fill:none\" points=\"14096.7,1423.18 14096.7,1423.18 14135.1,1423.18 14096.7,1423.18 \"/>\n",
       "<path clip-path=\"url(#clip402)\" d=\"M14135.1 1423.18 L14135.1 1423.18 L14173.6 1423.18 L14173.6 1423.18 L14135.1 1423.18 L14135.1 1423.18  Z\" fill=\"#009af9\" fill-rule=\"evenodd\" fill-opacity=\"1\"/>\n",
       "<polyline clip-path=\"url(#clip402)\" style=\"stroke:#000000; stroke-linecap:round; stroke-linejoin:round; stroke-width:4; stroke-opacity:1; fill:none\" points=\"14135.1,1423.18 14135.1,1423.18 14173.6,1423.18 14135.1,1423.18 \"/>\n",
       "<path clip-path=\"url(#clip402)\" d=\"M14173.6 1423.18 L14173.6 1423.18 L14212 1423.18 L14212 1423.18 L14173.6 1423.18 L14173.6 1423.18  Z\" fill=\"#009af9\" fill-rule=\"evenodd\" fill-opacity=\"1\"/>\n",
       "<polyline clip-path=\"url(#clip402)\" style=\"stroke:#000000; stroke-linecap:round; stroke-linejoin:round; stroke-width:4; stroke-opacity:1; fill:none\" points=\"14173.6,1423.18 14173.6,1423.18 14212,1423.18 14173.6,1423.18 \"/>\n",
       "<path clip-path=\"url(#clip402)\" d=\"M14212 1423.18 L14212 1423.18 L14250.5 1423.18 L14250.5 1423.18 L14212 1423.18 L14212 1423.18  Z\" fill=\"#009af9\" fill-rule=\"evenodd\" fill-opacity=\"1\"/>\n",
       "<polyline clip-path=\"url(#clip402)\" style=\"stroke:#000000; stroke-linecap:round; stroke-linejoin:round; stroke-width:4; stroke-opacity:1; fill:none\" points=\"14212,1423.18 14212,1423.18 14250.5,1423.18 14212,1423.18 \"/>\n",
       "<path clip-path=\"url(#clip402)\" d=\"M14250.5 1423.18 L14250.5 1423.18 L14289 1423.18 L14289 1423.18 L14250.5 1423.18 L14250.5 1423.18  Z\" fill=\"#009af9\" fill-rule=\"evenodd\" fill-opacity=\"1\"/>\n",
       "<polyline clip-path=\"url(#clip402)\" style=\"stroke:#000000; stroke-linecap:round; stroke-linejoin:round; stroke-width:4; stroke-opacity:1; fill:none\" points=\"14250.5,1423.18 14250.5,1423.18 14289,1423.18 14250.5,1423.18 \"/>\n",
       "<path clip-path=\"url(#clip402)\" d=\"M14289 1423.18 L14289 1423.18 L14327.4 1423.18 L14327.4 1423.18 L14289 1423.18 L14289 1423.18  Z\" fill=\"#009af9\" fill-rule=\"evenodd\" fill-opacity=\"1\"/>\n",
       "<polyline clip-path=\"url(#clip402)\" style=\"stroke:#000000; stroke-linecap:round; stroke-linejoin:round; stroke-width:4; stroke-opacity:1; fill:none\" points=\"14289,1423.18 14289,1423.18 14327.4,1423.18 14289,1423.18 \"/>\n",
       "<path clip-path=\"url(#clip402)\" d=\"M14327.4 1423.18 L14327.4 1423.18 L14365.9 1423.18 L14365.9 1423.18 L14327.4 1423.18 L14327.4 1423.18  Z\" fill=\"#009af9\" fill-rule=\"evenodd\" fill-opacity=\"1\"/>\n",
       "<polyline clip-path=\"url(#clip402)\" style=\"stroke:#000000; stroke-linecap:round; stroke-linejoin:round; stroke-width:4; stroke-opacity:1; fill:none\" points=\"14327.4,1423.18 14327.4,1423.18 14365.9,1423.18 14327.4,1423.18 \"/>\n",
       "<path clip-path=\"url(#clip402)\" d=\"M14365.9 1423.18 L14365.9 1423.18 L14404.3 1423.18 L14404.3 1423.18 L14365.9 1423.18 L14365.9 1423.18  Z\" fill=\"#009af9\" fill-rule=\"evenodd\" fill-opacity=\"1\"/>\n",
       "<polyline clip-path=\"url(#clip402)\" style=\"stroke:#000000; stroke-linecap:round; stroke-linejoin:round; stroke-width:4; stroke-opacity:1; fill:none\" points=\"14365.9,1423.18 14365.9,1423.18 14404.3,1423.18 14365.9,1423.18 \"/>\n",
       "<path clip-path=\"url(#clip402)\" d=\"M14404.3 1423.18 L14404.3 1423.18 L14442.8 1423.18 L14442.8 1423.18 L14404.3 1423.18 L14404.3 1423.18  Z\" fill=\"#009af9\" fill-rule=\"evenodd\" fill-opacity=\"1\"/>\n",
       "<polyline clip-path=\"url(#clip402)\" style=\"stroke:#000000; stroke-linecap:round; stroke-linejoin:round; stroke-width:4; stroke-opacity:1; fill:none\" points=\"14404.3,1423.18 14404.3,1423.18 14442.8,1423.18 14404.3,1423.18 \"/>\n",
       "<path clip-path=\"url(#clip402)\" d=\"M14442.8 1423.18 L14442.8 1423.18 L14481.3 1423.18 L14481.3 1423.18 L14442.8 1423.18 L14442.8 1423.18  Z\" fill=\"#009af9\" fill-rule=\"evenodd\" fill-opacity=\"1\"/>\n",
       "<polyline clip-path=\"url(#clip402)\" style=\"stroke:#000000; stroke-linecap:round; stroke-linejoin:round; stroke-width:4; stroke-opacity:1; fill:none\" points=\"14442.8,1423.18 14442.8,1423.18 14481.3,1423.18 14442.8,1423.18 \"/>\n",
       "<path clip-path=\"url(#clip402)\" d=\"M14481.3 1423.18 L14481.3 1423.18 L14519.7 1423.18 L14519.7 1423.18 L14481.3 1423.18 L14481.3 1423.18  Z\" fill=\"#009af9\" fill-rule=\"evenodd\" fill-opacity=\"1\"/>\n",
       "<polyline clip-path=\"url(#clip402)\" style=\"stroke:#000000; stroke-linecap:round; stroke-linejoin:round; stroke-width:4; stroke-opacity:1; fill:none\" points=\"14481.3,1423.18 14481.3,1423.18 14519.7,1423.18 14481.3,1423.18 \"/>\n",
       "<path clip-path=\"url(#clip402)\" d=\"M14519.7 1423.18 L14519.7 1423.18 L14558.2 1423.18 L14558.2 1423.18 L14519.7 1423.18 L14519.7 1423.18  Z\" fill=\"#009af9\" fill-rule=\"evenodd\" fill-opacity=\"1\"/>\n",
       "<polyline clip-path=\"url(#clip402)\" style=\"stroke:#000000; stroke-linecap:round; stroke-linejoin:round; stroke-width:4; stroke-opacity:1; fill:none\" points=\"14519.7,1423.18 14519.7,1423.18 14558.2,1423.18 14519.7,1423.18 \"/>\n",
       "<path clip-path=\"url(#clip402)\" d=\"M14558.2 1423.18 L14558.2 1423.18 L14596.6 1423.18 L14596.6 1423.18 L14558.2 1423.18 L14558.2 1423.18  Z\" fill=\"#009af9\" fill-rule=\"evenodd\" fill-opacity=\"1\"/>\n",
       "<polyline clip-path=\"url(#clip402)\" style=\"stroke:#000000; stroke-linecap:round; stroke-linejoin:round; stroke-width:4; stroke-opacity:1; fill:none\" points=\"14558.2,1423.18 14558.2,1423.18 14596.6,1423.18 14558.2,1423.18 \"/>\n",
       "<path clip-path=\"url(#clip402)\" d=\"M14596.6 1423.18 L14596.6 1423.18 L14635.1 1423.18 L14635.1 1423.18 L14596.6 1423.18 L14596.6 1423.18  Z\" fill=\"#009af9\" fill-rule=\"evenodd\" fill-opacity=\"1\"/>\n",
       "<polyline clip-path=\"url(#clip402)\" style=\"stroke:#000000; stroke-linecap:round; stroke-linejoin:round; stroke-width:4; stroke-opacity:1; fill:none\" points=\"14596.6,1423.18 14596.6,1423.18 14635.1,1423.18 14596.6,1423.18 \"/>\n",
       "<path clip-path=\"url(#clip402)\" d=\"M14635.1 1423.18 L14635.1 1423.18 L14673.5 1423.18 L14673.5 1423.18 L14635.1 1423.18 L14635.1 1423.18  Z\" fill=\"#009af9\" fill-rule=\"evenodd\" fill-opacity=\"1\"/>\n",
       "<polyline clip-path=\"url(#clip402)\" style=\"stroke:#000000; stroke-linecap:round; stroke-linejoin:round; stroke-width:4; stroke-opacity:1; fill:none\" points=\"14635.1,1423.18 14635.1,1423.18 14673.5,1423.18 14635.1,1423.18 \"/>\n",
       "<path clip-path=\"url(#clip402)\" d=\"M14673.5 1423.18 L14673.5 1423.18 L14712 1423.18 L14712 1423.18 L14673.5 1423.18 L14673.5 1423.18  Z\" fill=\"#009af9\" fill-rule=\"evenodd\" fill-opacity=\"1\"/>\n",
       "<polyline clip-path=\"url(#clip402)\" style=\"stroke:#000000; stroke-linecap:round; stroke-linejoin:round; stroke-width:4; stroke-opacity:1; fill:none\" points=\"14673.5,1423.18 14673.5,1423.18 14712,1423.18 14673.5,1423.18 \"/>\n",
       "<path clip-path=\"url(#clip402)\" d=\"M14712 1423.18 L14712 1423.18 L14750.5 1423.18 L14750.5 1423.18 L14712 1423.18 L14712 1423.18  Z\" fill=\"#009af9\" fill-rule=\"evenodd\" fill-opacity=\"1\"/>\n",
       "<polyline clip-path=\"url(#clip402)\" style=\"stroke:#000000; stroke-linecap:round; stroke-linejoin:round; stroke-width:4; stroke-opacity:1; fill:none\" points=\"14712,1423.18 14712,1423.18 14750.5,1423.18 14712,1423.18 \"/>\n",
       "<path clip-path=\"url(#clip402)\" d=\"M14750.5 1423.18 L14750.5 1423.18 L14788.9 1423.18 L14788.9 1423.18 L14750.5 1423.18 L14750.5 1423.18  Z\" fill=\"#009af9\" fill-rule=\"evenodd\" fill-opacity=\"1\"/>\n",
       "<polyline clip-path=\"url(#clip402)\" style=\"stroke:#000000; stroke-linecap:round; stroke-linejoin:round; stroke-width:4; stroke-opacity:1; fill:none\" points=\"14750.5,1423.18 14750.5,1423.18 14788.9,1423.18 14750.5,1423.18 \"/>\n",
       "<path clip-path=\"url(#clip402)\" d=\"M14788.9 1423.18 L14788.9 1423.18 L14827.4 1423.18 L14827.4 1423.18 L14788.9 1423.18 L14788.9 1423.18  Z\" fill=\"#009af9\" fill-rule=\"evenodd\" fill-opacity=\"1\"/>\n",
       "<polyline clip-path=\"url(#clip402)\" style=\"stroke:#000000; stroke-linecap:round; stroke-linejoin:round; stroke-width:4; stroke-opacity:1; fill:none\" points=\"14788.9,1423.18 14788.9,1423.18 14827.4,1423.18 14788.9,1423.18 \"/>\n",
       "<path clip-path=\"url(#clip402)\" d=\"M14827.4 1423.18 L14827.4 1423.18 L14865.8 1423.18 L14865.8 1423.18 L14827.4 1423.18 L14827.4 1423.18  Z\" fill=\"#009af9\" fill-rule=\"evenodd\" fill-opacity=\"1\"/>\n",
       "<polyline clip-path=\"url(#clip402)\" style=\"stroke:#000000; stroke-linecap:round; stroke-linejoin:round; stroke-width:4; stroke-opacity:1; fill:none\" points=\"14827.4,1423.18 14827.4,1423.18 14865.8,1423.18 14827.4,1423.18 \"/>\n",
       "<path clip-path=\"url(#clip402)\" d=\"M14865.8 1423.18 L14865.8 1423.18 L14904.3 1423.18 L14904.3 1423.18 L14865.8 1423.18 L14865.8 1423.18  Z\" fill=\"#009af9\" fill-rule=\"evenodd\" fill-opacity=\"1\"/>\n",
       "<polyline clip-path=\"url(#clip402)\" style=\"stroke:#000000; stroke-linecap:round; stroke-linejoin:round; stroke-width:4; stroke-opacity:1; fill:none\" points=\"14865.8,1423.18 14865.8,1423.18 14904.3,1423.18 14865.8,1423.18 \"/>\n",
       "<path clip-path=\"url(#clip402)\" d=\"M14904.3 1423.18 L14904.3 1423.18 L14942.8 1423.18 L14942.8 1423.18 L14904.3 1423.18 L14904.3 1423.18  Z\" fill=\"#009af9\" fill-rule=\"evenodd\" fill-opacity=\"1\"/>\n",
       "<polyline clip-path=\"url(#clip402)\" style=\"stroke:#000000; stroke-linecap:round; stroke-linejoin:round; stroke-width:4; stroke-opacity:1; fill:none\" points=\"14904.3,1423.18 14904.3,1423.18 14942.8,1423.18 14904.3,1423.18 \"/>\n",
       "<path clip-path=\"url(#clip402)\" d=\"M14942.8 1423.18 L14942.8 1423.18 L14981.2 1423.18 L14981.2 1423.18 L14942.8 1423.18 L14942.8 1423.18  Z\" fill=\"#009af9\" fill-rule=\"evenodd\" fill-opacity=\"1\"/>\n",
       "<polyline clip-path=\"url(#clip402)\" style=\"stroke:#000000; stroke-linecap:round; stroke-linejoin:round; stroke-width:4; stroke-opacity:1; fill:none\" points=\"14942.8,1423.18 14942.8,1423.18 14981.2,1423.18 14942.8,1423.18 \"/>\n",
       "<path clip-path=\"url(#clip402)\" d=\"M14981.2 1423.18 L14981.2 1423.18 L15019.7 1423.18 L15019.7 1423.18 L14981.2 1423.18 L14981.2 1423.18  Z\" fill=\"#009af9\" fill-rule=\"evenodd\" fill-opacity=\"1\"/>\n",
       "<polyline clip-path=\"url(#clip402)\" style=\"stroke:#000000; stroke-linecap:round; stroke-linejoin:round; stroke-width:4; stroke-opacity:1; fill:none\" points=\"14981.2,1423.18 14981.2,1423.18 15019.7,1423.18 14981.2,1423.18 \"/>\n",
       "<path clip-path=\"url(#clip402)\" d=\"M15019.7 1423.18 L15019.7 1423.18 L15058.1 1423.18 L15058.1 1423.18 L15019.7 1423.18 L15019.7 1423.18  Z\" fill=\"#009af9\" fill-rule=\"evenodd\" fill-opacity=\"1\"/>\n",
       "<polyline clip-path=\"url(#clip402)\" style=\"stroke:#000000; stroke-linecap:round; stroke-linejoin:round; stroke-width:4; stroke-opacity:1; fill:none\" points=\"15019.7,1423.18 15019.7,1423.18 15058.1,1423.18 15019.7,1423.18 \"/>\n",
       "<path clip-path=\"url(#clip402)\" d=\"M15058.1 1423.18 L15058.1 1423.18 L15096.6 1423.18 L15096.6 1423.18 L15058.1 1423.18 L15058.1 1423.18  Z\" fill=\"#009af9\" fill-rule=\"evenodd\" fill-opacity=\"1\"/>\n",
       "<polyline clip-path=\"url(#clip402)\" style=\"stroke:#000000; stroke-linecap:round; stroke-linejoin:round; stroke-width:4; stroke-opacity:1; fill:none\" points=\"15058.1,1423.18 15058.1,1423.18 15096.6,1423.18 15058.1,1423.18 \"/>\n",
       "<path clip-path=\"url(#clip402)\" d=\"M15096.6 1423.18 L15096.6 1423.18 L15135.1 1423.18 L15135.1 1423.18 L15096.6 1423.18 L15096.6 1423.18  Z\" fill=\"#009af9\" fill-rule=\"evenodd\" fill-opacity=\"1\"/>\n",
       "<polyline clip-path=\"url(#clip402)\" style=\"stroke:#000000; stroke-linecap:round; stroke-linejoin:round; stroke-width:4; stroke-opacity:1; fill:none\" points=\"15096.6,1423.18 15096.6,1423.18 15135.1,1423.18 15096.6,1423.18 \"/>\n",
       "<path clip-path=\"url(#clip402)\" d=\"M15135.1 1423.18 L15135.1 1423.18 L15173.5 1423.18 L15173.5 1423.18 L15135.1 1423.18 L15135.1 1423.18  Z\" fill=\"#009af9\" fill-rule=\"evenodd\" fill-opacity=\"1\"/>\n",
       "<polyline clip-path=\"url(#clip402)\" style=\"stroke:#000000; stroke-linecap:round; stroke-linejoin:round; stroke-width:4; stroke-opacity:1; fill:none\" points=\"15135.1,1423.18 15135.1,1423.18 15173.5,1423.18 15135.1,1423.18 \"/>\n",
       "<path clip-path=\"url(#clip402)\" d=\"M15173.5 1423.18 L15173.5 1423.18 L15212 1423.18 L15212 1423.18 L15173.5 1423.18 L15173.5 1423.18  Z\" fill=\"#009af9\" fill-rule=\"evenodd\" fill-opacity=\"1\"/>\n",
       "<polyline clip-path=\"url(#clip402)\" style=\"stroke:#000000; stroke-linecap:round; stroke-linejoin:round; stroke-width:4; stroke-opacity:1; fill:none\" points=\"15173.5,1423.18 15173.5,1423.18 15212,1423.18 15173.5,1423.18 \"/>\n",
       "<path clip-path=\"url(#clip402)\" d=\"M15212 1423.18 L15212 1423.18 L15250.4 1423.18 L15250.4 1423.18 L15212 1423.18 L15212 1423.18  Z\" fill=\"#009af9\" fill-rule=\"evenodd\" fill-opacity=\"1\"/>\n",
       "<polyline clip-path=\"url(#clip402)\" style=\"stroke:#000000; stroke-linecap:round; stroke-linejoin:round; stroke-width:4; stroke-opacity:1; fill:none\" points=\"15212,1423.18 15212,1423.18 15250.4,1423.18 15212,1423.18 \"/>\n",
       "<path clip-path=\"url(#clip402)\" d=\"M15250.4 1423.18 L15250.4 1423.18 L15288.9 1423.18 L15288.9 1423.18 L15250.4 1423.18 L15250.4 1423.18  Z\" fill=\"#009af9\" fill-rule=\"evenodd\" fill-opacity=\"1\"/>\n",
       "<polyline clip-path=\"url(#clip402)\" style=\"stroke:#000000; stroke-linecap:round; stroke-linejoin:round; stroke-width:4; stroke-opacity:1; fill:none\" points=\"15250.4,1423.18 15250.4,1423.18 15288.9,1423.18 15250.4,1423.18 \"/>\n",
       "<path clip-path=\"url(#clip402)\" d=\"M15288.9 1423.18 L15288.9 1423.18 L15327.3 1423.18 L15327.3 1423.18 L15288.9 1423.18 L15288.9 1423.18  Z\" fill=\"#009af9\" fill-rule=\"evenodd\" fill-opacity=\"1\"/>\n",
       "<polyline clip-path=\"url(#clip402)\" style=\"stroke:#000000; stroke-linecap:round; stroke-linejoin:round; stroke-width:4; stroke-opacity:1; fill:none\" points=\"15288.9,1423.18 15288.9,1423.18 15327.3,1423.18 15288.9,1423.18 \"/>\n",
       "<path clip-path=\"url(#clip402)\" d=\"M15327.3 1423.18 L15327.3 1423.18 L15365.8 1423.18 L15365.8 1423.18 L15327.3 1423.18 L15327.3 1423.18  Z\" fill=\"#009af9\" fill-rule=\"evenodd\" fill-opacity=\"1\"/>\n",
       "<polyline clip-path=\"url(#clip402)\" style=\"stroke:#000000; stroke-linecap:round; stroke-linejoin:round; stroke-width:4; stroke-opacity:1; fill:none\" points=\"15327.3,1423.18 15327.3,1423.18 15365.8,1423.18 15327.3,1423.18 \"/>\n",
       "<path clip-path=\"url(#clip402)\" d=\"M15365.8 1423.18 L15365.8 1423.18 L15404.3 1423.18 L15404.3 1423.18 L15365.8 1423.18 L15365.8 1423.18  Z\" fill=\"#009af9\" fill-rule=\"evenodd\" fill-opacity=\"1\"/>\n",
       "<polyline clip-path=\"url(#clip402)\" style=\"stroke:#000000; stroke-linecap:round; stroke-linejoin:round; stroke-width:4; stroke-opacity:1; fill:none\" points=\"15365.8,1423.18 15365.8,1423.18 15404.3,1423.18 15365.8,1423.18 \"/>\n",
       "<path clip-path=\"url(#clip402)\" d=\"M15404.3 1423.18 L15404.3 1423.18 L15442.7 1423.18 L15442.7 1423.18 L15404.3 1423.18 L15404.3 1423.18  Z\" fill=\"#009af9\" fill-rule=\"evenodd\" fill-opacity=\"1\"/>\n",
       "<polyline clip-path=\"url(#clip402)\" style=\"stroke:#000000; stroke-linecap:round; stroke-linejoin:round; stroke-width:4; stroke-opacity:1; fill:none\" points=\"15404.3,1423.18 15404.3,1423.18 15442.7,1423.18 15404.3,1423.18 \"/>\n",
       "<path clip-path=\"url(#clip402)\" d=\"M15442.7 1423.18 L15442.7 1423.18 L15481.2 1423.18 L15481.2 1423.18 L15442.7 1423.18 L15442.7 1423.18  Z\" fill=\"#009af9\" fill-rule=\"evenodd\" fill-opacity=\"1\"/>\n",
       "<polyline clip-path=\"url(#clip402)\" style=\"stroke:#000000; stroke-linecap:round; stroke-linejoin:round; stroke-width:4; stroke-opacity:1; fill:none\" points=\"15442.7,1423.18 15442.7,1423.18 15481.2,1423.18 15442.7,1423.18 \"/>\n",
       "<path clip-path=\"url(#clip402)\" d=\"M15481.2 1423.18 L15481.2 1423.18 L15519.6 1423.18 L15519.6 1423.18 L15481.2 1423.18 L15481.2 1423.18  Z\" fill=\"#009af9\" fill-rule=\"evenodd\" fill-opacity=\"1\"/>\n",
       "<polyline clip-path=\"url(#clip402)\" style=\"stroke:#000000; stroke-linecap:round; stroke-linejoin:round; stroke-width:4; stroke-opacity:1; fill:none\" points=\"15481.2,1423.18 15481.2,1423.18 15519.6,1423.18 15481.2,1423.18 \"/>\n",
       "<path clip-path=\"url(#clip402)\" d=\"M15519.6 1423.18 L15519.6 1423.18 L15558.1 1423.18 L15558.1 1423.18 L15519.6 1423.18 L15519.6 1423.18  Z\" fill=\"#009af9\" fill-rule=\"evenodd\" fill-opacity=\"1\"/>\n",
       "<polyline clip-path=\"url(#clip402)\" style=\"stroke:#000000; stroke-linecap:round; stroke-linejoin:round; stroke-width:4; stroke-opacity:1; fill:none\" points=\"15519.6,1423.18 15519.6,1423.18 15558.1,1423.18 15519.6,1423.18 \"/>\n",
       "<path clip-path=\"url(#clip402)\" d=\"M15558.1 1423.18 L15558.1 1423.18 L15596.6 1423.18 L15596.6 1423.18 L15558.1 1423.18 L15558.1 1423.18  Z\" fill=\"#009af9\" fill-rule=\"evenodd\" fill-opacity=\"1\"/>\n",
       "<polyline clip-path=\"url(#clip402)\" style=\"stroke:#000000; stroke-linecap:round; stroke-linejoin:round; stroke-width:4; stroke-opacity:1; fill:none\" points=\"15558.1,1423.18 15558.1,1423.18 15596.6,1423.18 15558.1,1423.18 \"/>\n",
       "<path clip-path=\"url(#clip402)\" d=\"M15596.6 1423.18 L15596.6 1423.18 L15635 1423.18 L15635 1423.18 L15596.6 1423.18 L15596.6 1423.18  Z\" fill=\"#009af9\" fill-rule=\"evenodd\" fill-opacity=\"1\"/>\n",
       "<polyline clip-path=\"url(#clip402)\" style=\"stroke:#000000; stroke-linecap:round; stroke-linejoin:round; stroke-width:4; stroke-opacity:1; fill:none\" points=\"15596.6,1423.18 15596.6,1423.18 15635,1423.18 15596.6,1423.18 \"/>\n",
       "<path clip-path=\"url(#clip402)\" d=\"M15635 1423.18 L15635 1423.18 L15673.5 1423.18 L15673.5 1423.18 L15635 1423.18 L15635 1423.18  Z\" fill=\"#009af9\" fill-rule=\"evenodd\" fill-opacity=\"1\"/>\n",
       "<polyline clip-path=\"url(#clip402)\" style=\"stroke:#000000; stroke-linecap:round; stroke-linejoin:round; stroke-width:4; stroke-opacity:1; fill:none\" points=\"15635,1423.18 15635,1423.18 15673.5,1423.18 15635,1423.18 \"/>\n",
       "<path clip-path=\"url(#clip402)\" d=\"M15673.5 1423.18 L15673.5 1423.18 L15711.9 1423.18 L15711.9 1423.18 L15673.5 1423.18 L15673.5 1423.18  Z\" fill=\"#009af9\" fill-rule=\"evenodd\" fill-opacity=\"1\"/>\n",
       "<polyline clip-path=\"url(#clip402)\" style=\"stroke:#000000; stroke-linecap:round; stroke-linejoin:round; stroke-width:4; stroke-opacity:1; fill:none\" points=\"15673.5,1423.18 15673.5,1423.18 15711.9,1423.18 15673.5,1423.18 \"/>\n",
       "<path clip-path=\"url(#clip402)\" d=\"M15711.9 1423.18 L15711.9 1423.18 L15750.4 1423.18 L15750.4 1423.18 L15711.9 1423.18 L15711.9 1423.18  Z\" fill=\"#009af9\" fill-rule=\"evenodd\" fill-opacity=\"1\"/>\n",
       "<polyline clip-path=\"url(#clip402)\" style=\"stroke:#000000; stroke-linecap:round; stroke-linejoin:round; stroke-width:4; stroke-opacity:1; fill:none\" points=\"15711.9,1423.18 15711.9,1423.18 15750.4,1423.18 15711.9,1423.18 \"/>\n",
       "<path clip-path=\"url(#clip402)\" d=\"M15750.4 1423.18 L15750.4 1423.18 L15788.9 1423.18 L15788.9 1423.18 L15750.4 1423.18 L15750.4 1423.18  Z\" fill=\"#009af9\" fill-rule=\"evenodd\" fill-opacity=\"1\"/>\n",
       "<polyline clip-path=\"url(#clip402)\" style=\"stroke:#000000; stroke-linecap:round; stroke-linejoin:round; stroke-width:4; stroke-opacity:1; fill:none\" points=\"15750.4,1423.18 15750.4,1423.18 15788.9,1423.18 15750.4,1423.18 \"/>\n",
       "<path clip-path=\"url(#clip402)\" d=\"M15788.9 1423.18 L15788.9 1423.18 L15827.3 1423.18 L15827.3 1423.18 L15788.9 1423.18 L15788.9 1423.18  Z\" fill=\"#009af9\" fill-rule=\"evenodd\" fill-opacity=\"1\"/>\n",
       "<polyline clip-path=\"url(#clip402)\" style=\"stroke:#000000; stroke-linecap:round; stroke-linejoin:round; stroke-width:4; stroke-opacity:1; fill:none\" points=\"15788.9,1423.18 15788.9,1423.18 15827.3,1423.18 15788.9,1423.18 \"/>\n",
       "<path clip-path=\"url(#clip402)\" d=\"M15827.3 1423.18 L15827.3 1423.18 L15865.8 1423.18 L15865.8 1423.18 L15827.3 1423.18 L15827.3 1423.18  Z\" fill=\"#009af9\" fill-rule=\"evenodd\" fill-opacity=\"1\"/>\n",
       "<polyline clip-path=\"url(#clip402)\" style=\"stroke:#000000; stroke-linecap:round; stroke-linejoin:round; stroke-width:4; stroke-opacity:1; fill:none\" points=\"15827.3,1423.18 15827.3,1423.18 15865.8,1423.18 15827.3,1423.18 \"/>\n",
       "<path clip-path=\"url(#clip402)\" d=\"M15865.8 1423.18 L15865.8 1423.18 L15904.2 1423.18 L15904.2 1423.18 L15865.8 1423.18 L15865.8 1423.18  Z\" fill=\"#009af9\" fill-rule=\"evenodd\" fill-opacity=\"1\"/>\n",
       "<polyline clip-path=\"url(#clip402)\" style=\"stroke:#000000; stroke-linecap:round; stroke-linejoin:round; stroke-width:4; stroke-opacity:1; fill:none\" points=\"15865.8,1423.18 15865.8,1423.18 15904.2,1423.18 15865.8,1423.18 \"/>\n",
       "<path clip-path=\"url(#clip402)\" d=\"M15904.2 1423.18 L15904.2 1423.18 L15942.7 1423.18 L15942.7 1423.18 L15904.2 1423.18 L15904.2 1423.18  Z\" fill=\"#009af9\" fill-rule=\"evenodd\" fill-opacity=\"1\"/>\n",
       "<polyline clip-path=\"url(#clip402)\" style=\"stroke:#000000; stroke-linecap:round; stroke-linejoin:round; stroke-width:4; stroke-opacity:1; fill:none\" points=\"15904.2,1423.18 15904.2,1423.18 15942.7,1423.18 15904.2,1423.18 \"/>\n",
       "<path clip-path=\"url(#clip402)\" d=\"M15942.7 1423.18 L15942.7 1423.18 L15981.1 1423.18 L15981.1 1423.18 L15942.7 1423.18 L15942.7 1423.18  Z\" fill=\"#009af9\" fill-rule=\"evenodd\" fill-opacity=\"1\"/>\n",
       "<polyline clip-path=\"url(#clip402)\" style=\"stroke:#000000; stroke-linecap:round; stroke-linejoin:round; stroke-width:4; stroke-opacity:1; fill:none\" points=\"15942.7,1423.18 15942.7,1423.18 15981.1,1423.18 15942.7,1423.18 \"/>\n",
       "<path clip-path=\"url(#clip402)\" d=\"M15981.1 1423.18 L15981.1 1423.18 L16019.6 1423.18 L16019.6 1423.18 L15981.1 1423.18 L15981.1 1423.18  Z\" fill=\"#009af9\" fill-rule=\"evenodd\" fill-opacity=\"1\"/>\n",
       "<polyline clip-path=\"url(#clip402)\" style=\"stroke:#000000; stroke-linecap:round; stroke-linejoin:round; stroke-width:4; stroke-opacity:1; fill:none\" points=\"15981.1,1423.18 15981.1,1423.18 16019.6,1423.18 15981.1,1423.18 \"/>\n",
       "<path clip-path=\"url(#clip402)\" d=\"M16019.6 1423.18 L16019.6 1423.18 L16058.1 1423.18 L16058.1 1423.18 L16019.6 1423.18 L16019.6 1423.18  Z\" fill=\"#009af9\" fill-rule=\"evenodd\" fill-opacity=\"1\"/>\n",
       "<polyline clip-path=\"url(#clip402)\" style=\"stroke:#000000; stroke-linecap:round; stroke-linejoin:round; stroke-width:4; stroke-opacity:1; fill:none\" points=\"16019.6,1423.18 16019.6,1423.18 16058.1,1423.18 16019.6,1423.18 \"/>\n",
       "<path clip-path=\"url(#clip402)\" d=\"M16058.1 1423.18 L16058.1 1423.18 L16096.5 1423.18 L16096.5 1423.18 L16058.1 1423.18 L16058.1 1423.18  Z\" fill=\"#009af9\" fill-rule=\"evenodd\" fill-opacity=\"1\"/>\n",
       "<polyline clip-path=\"url(#clip402)\" style=\"stroke:#000000; stroke-linecap:round; stroke-linejoin:round; stroke-width:4; stroke-opacity:1; fill:none\" points=\"16058.1,1423.18 16058.1,1423.18 16096.5,1423.18 16058.1,1423.18 \"/>\n",
       "<path clip-path=\"url(#clip402)\" d=\"M16096.5 1423.18 L16096.5 1423.18 L16135 1423.18 L16135 1423.18 L16096.5 1423.18 L16096.5 1423.18  Z\" fill=\"#009af9\" fill-rule=\"evenodd\" fill-opacity=\"1\"/>\n",
       "<polyline clip-path=\"url(#clip402)\" style=\"stroke:#000000; stroke-linecap:round; stroke-linejoin:round; stroke-width:4; stroke-opacity:1; fill:none\" points=\"16096.5,1423.18 16096.5,1423.18 16135,1423.18 16096.5,1423.18 \"/>\n",
       "<path clip-path=\"url(#clip402)\" d=\"M16135 1423.18 L16135 1423.18 L16173.4 1423.18 L16173.4 1423.18 L16135 1423.18 L16135 1423.18  Z\" fill=\"#009af9\" fill-rule=\"evenodd\" fill-opacity=\"1\"/>\n",
       "<polyline clip-path=\"url(#clip402)\" style=\"stroke:#000000; stroke-linecap:round; stroke-linejoin:round; stroke-width:4; stroke-opacity:1; fill:none\" points=\"16135,1423.18 16135,1423.18 16173.4,1423.18 16135,1423.18 \"/>\n",
       "<path clip-path=\"url(#clip402)\" d=\"M16173.4 1423.18 L16173.4 1423.18 L16211.9 1423.18 L16211.9 1423.18 L16173.4 1423.18 L16173.4 1423.18  Z\" fill=\"#009af9\" fill-rule=\"evenodd\" fill-opacity=\"1\"/>\n",
       "<polyline clip-path=\"url(#clip402)\" style=\"stroke:#000000; stroke-linecap:round; stroke-linejoin:round; stroke-width:4; stroke-opacity:1; fill:none\" points=\"16173.4,1423.18 16173.4,1423.18 16211.9,1423.18 16173.4,1423.18 \"/>\n",
       "<path clip-path=\"url(#clip402)\" d=\"M16211.9 1423.18 L16211.9 1423.18 L16250.4 1423.18 L16250.4 1423.18 L16211.9 1423.18 L16211.9 1423.18  Z\" fill=\"#009af9\" fill-rule=\"evenodd\" fill-opacity=\"1\"/>\n",
       "<polyline clip-path=\"url(#clip402)\" style=\"stroke:#000000; stroke-linecap:round; stroke-linejoin:round; stroke-width:4; stroke-opacity:1; fill:none\" points=\"16211.9,1423.18 16211.9,1423.18 16250.4,1423.18 16211.9,1423.18 \"/>\n",
       "<path clip-path=\"url(#clip402)\" d=\"M16250.4 1423.18 L16250.4 1423.18 L16288.8 1423.18 L16288.8 1423.18 L16250.4 1423.18 L16250.4 1423.18  Z\" fill=\"#009af9\" fill-rule=\"evenodd\" fill-opacity=\"1\"/>\n",
       "<polyline clip-path=\"url(#clip402)\" style=\"stroke:#000000; stroke-linecap:round; stroke-linejoin:round; stroke-width:4; stroke-opacity:1; fill:none\" points=\"16250.4,1423.18 16250.4,1423.18 16288.8,1423.18 16250.4,1423.18 \"/>\n",
       "<path clip-path=\"url(#clip402)\" d=\"M16288.8 1423.18 L16288.8 1423.18 L16327.3 1423.18 L16327.3 1423.18 L16288.8 1423.18 L16288.8 1423.18  Z\" fill=\"#009af9\" fill-rule=\"evenodd\" fill-opacity=\"1\"/>\n",
       "<polyline clip-path=\"url(#clip402)\" style=\"stroke:#000000; stroke-linecap:round; stroke-linejoin:round; stroke-width:4; stroke-opacity:1; fill:none\" points=\"16288.8,1423.18 16288.8,1423.18 16327.3,1423.18 16288.8,1423.18 \"/>\n",
       "<path clip-path=\"url(#clip402)\" d=\"M16327.3 1423.18 L16327.3 1423.18 L16365.7 1423.18 L16365.7 1423.18 L16327.3 1423.18 L16327.3 1423.18  Z\" fill=\"#009af9\" fill-rule=\"evenodd\" fill-opacity=\"1\"/>\n",
       "<polyline clip-path=\"url(#clip402)\" style=\"stroke:#000000; stroke-linecap:round; stroke-linejoin:round; stroke-width:4; stroke-opacity:1; fill:none\" points=\"16327.3,1423.18 16327.3,1423.18 16365.7,1423.18 16327.3,1423.18 \"/>\n",
       "<path clip-path=\"url(#clip402)\" d=\"M16365.7 1423.18 L16365.7 1423.18 L16404.2 1423.18 L16404.2 1423.18 L16365.7 1423.18 L16365.7 1423.18  Z\" fill=\"#009af9\" fill-rule=\"evenodd\" fill-opacity=\"1\"/>\n",
       "<polyline clip-path=\"url(#clip402)\" style=\"stroke:#000000; stroke-linecap:round; stroke-linejoin:round; stroke-width:4; stroke-opacity:1; fill:none\" points=\"16365.7,1423.18 16365.7,1423.18 16404.2,1423.18 16365.7,1423.18 \"/>\n",
       "<path clip-path=\"url(#clip402)\" d=\"M16404.2 1423.18 L16404.2 1423.18 L16442.7 1423.18 L16442.7 1423.18 L16404.2 1423.18 L16404.2 1423.18  Z\" fill=\"#009af9\" fill-rule=\"evenodd\" fill-opacity=\"1\"/>\n",
       "<polyline clip-path=\"url(#clip402)\" style=\"stroke:#000000; stroke-linecap:round; stroke-linejoin:round; stroke-width:4; stroke-opacity:1; fill:none\" points=\"16404.2,1423.18 16404.2,1423.18 16442.7,1423.18 16404.2,1423.18 \"/>\n",
       "<path clip-path=\"url(#clip402)\" d=\"M16442.7 1423.18 L16442.7 1423.18 L16481.1 1423.18 L16481.1 1423.18 L16442.7 1423.18 L16442.7 1423.18  Z\" fill=\"#009af9\" fill-rule=\"evenodd\" fill-opacity=\"1\"/>\n",
       "<polyline clip-path=\"url(#clip402)\" style=\"stroke:#000000; stroke-linecap:round; stroke-linejoin:round; stroke-width:4; stroke-opacity:1; fill:none\" points=\"16442.7,1423.18 16442.7,1423.18 16481.1,1423.18 16442.7,1423.18 \"/>\n",
       "<path clip-path=\"url(#clip402)\" d=\"M16481.1 1423.18 L16481.1 1423.18 L16519.6 1423.18 L16519.6 1423.18 L16481.1 1423.18 L16481.1 1423.18  Z\" fill=\"#009af9\" fill-rule=\"evenodd\" fill-opacity=\"1\"/>\n",
       "<polyline clip-path=\"url(#clip402)\" style=\"stroke:#000000; stroke-linecap:round; stroke-linejoin:round; stroke-width:4; stroke-opacity:1; fill:none\" points=\"16481.1,1423.18 16481.1,1423.18 16519.6,1423.18 16481.1,1423.18 \"/>\n",
       "<path clip-path=\"url(#clip402)\" d=\"M16519.6 1423.18 L16519.6 1423.18 L16558 1423.18 L16558 1423.18 L16519.6 1423.18 L16519.6 1423.18  Z\" fill=\"#009af9\" fill-rule=\"evenodd\" fill-opacity=\"1\"/>\n",
       "<polyline clip-path=\"url(#clip402)\" style=\"stroke:#000000; stroke-linecap:round; stroke-linejoin:round; stroke-width:4; stroke-opacity:1; fill:none\" points=\"16519.6,1423.18 16519.6,1423.18 16558,1423.18 16519.6,1423.18 \"/>\n",
       "<path clip-path=\"url(#clip402)\" d=\"M16558 1423.18 L16558 1423.18 L16596.5 1423.18 L16596.5 1423.18 L16558 1423.18 L16558 1423.18  Z\" fill=\"#009af9\" fill-rule=\"evenodd\" fill-opacity=\"1\"/>\n",
       "<polyline clip-path=\"url(#clip402)\" style=\"stroke:#000000; stroke-linecap:round; stroke-linejoin:round; stroke-width:4; stroke-opacity:1; fill:none\" points=\"16558,1423.18 16558,1423.18 16596.5,1423.18 16558,1423.18 \"/>\n",
       "<path clip-path=\"url(#clip402)\" d=\"M16596.5 1423.18 L16596.5 1423.18 L16635 1423.18 L16635 1423.18 L16596.5 1423.18 L16596.5 1423.18  Z\" fill=\"#009af9\" fill-rule=\"evenodd\" fill-opacity=\"1\"/>\n",
       "<polyline clip-path=\"url(#clip402)\" style=\"stroke:#000000; stroke-linecap:round; stroke-linejoin:round; stroke-width:4; stroke-opacity:1; fill:none\" points=\"16596.5,1423.18 16596.5,1423.18 16635,1423.18 16596.5,1423.18 \"/>\n",
       "<path clip-path=\"url(#clip402)\" d=\"M16635 1423.18 L16635 1423.18 L16673.4 1423.18 L16673.4 1423.18 L16635 1423.18 L16635 1423.18  Z\" fill=\"#009af9\" fill-rule=\"evenodd\" fill-opacity=\"1\"/>\n",
       "<polyline clip-path=\"url(#clip402)\" style=\"stroke:#000000; stroke-linecap:round; stroke-linejoin:round; stroke-width:4; stroke-opacity:1; fill:none\" points=\"16635,1423.18 16635,1423.18 16673.4,1423.18 16635,1423.18 \"/>\n",
       "<path clip-path=\"url(#clip402)\" d=\"M16673.4 1423.18 L16673.4 1423.18 L16711.9 1423.18 L16711.9 1423.18 L16673.4 1423.18 L16673.4 1423.18  Z\" fill=\"#009af9\" fill-rule=\"evenodd\" fill-opacity=\"1\"/>\n",
       "<polyline clip-path=\"url(#clip402)\" style=\"stroke:#000000; stroke-linecap:round; stroke-linejoin:round; stroke-width:4; stroke-opacity:1; fill:none\" points=\"16673.4,1423.18 16673.4,1423.18 16711.9,1423.18 16673.4,1423.18 \"/>\n",
       "<path clip-path=\"url(#clip402)\" d=\"M16711.9 1423.18 L16711.9 1423.18 L16750.3 1423.18 L16750.3 1423.18 L16711.9 1423.18 L16711.9 1423.18  Z\" fill=\"#009af9\" fill-rule=\"evenodd\" fill-opacity=\"1\"/>\n",
       "<polyline clip-path=\"url(#clip402)\" style=\"stroke:#000000; stroke-linecap:round; stroke-linejoin:round; stroke-width:4; stroke-opacity:1; fill:none\" points=\"16711.9,1423.18 16711.9,1423.18 16750.3,1423.18 16711.9,1423.18 \"/>\n",
       "<path clip-path=\"url(#clip402)\" d=\"M16750.3 1423.18 L16750.3 1423.18 L16788.8 1423.18 L16788.8 1423.18 L16750.3 1423.18 L16750.3 1423.18  Z\" fill=\"#009af9\" fill-rule=\"evenodd\" fill-opacity=\"1\"/>\n",
       "<polyline clip-path=\"url(#clip402)\" style=\"stroke:#000000; stroke-linecap:round; stroke-linejoin:round; stroke-width:4; stroke-opacity:1; fill:none\" points=\"16750.3,1423.18 16750.3,1423.18 16788.8,1423.18 16750.3,1423.18 \"/>\n",
       "<path clip-path=\"url(#clip402)\" d=\"M16788.8 1423.18 L16788.8 1423.18 L16827.2 1423.18 L16827.2 1423.18 L16788.8 1423.18 L16788.8 1423.18  Z\" fill=\"#009af9\" fill-rule=\"evenodd\" fill-opacity=\"1\"/>\n",
       "<polyline clip-path=\"url(#clip402)\" style=\"stroke:#000000; stroke-linecap:round; stroke-linejoin:round; stroke-width:4; stroke-opacity:1; fill:none\" points=\"16788.8,1423.18 16788.8,1423.18 16827.2,1423.18 16788.8,1423.18 \"/>\n",
       "<path clip-path=\"url(#clip402)\" d=\"M16827.2 1423.18 L16827.2 1423.18 L16865.7 1423.18 L16865.7 1423.18 L16827.2 1423.18 L16827.2 1423.18  Z\" fill=\"#009af9\" fill-rule=\"evenodd\" fill-opacity=\"1\"/>\n",
       "<polyline clip-path=\"url(#clip402)\" style=\"stroke:#000000; stroke-linecap:round; stroke-linejoin:round; stroke-width:4; stroke-opacity:1; fill:none\" points=\"16827.2,1423.18 16827.2,1423.18 16865.7,1423.18 16827.2,1423.18 \"/>\n",
       "<path clip-path=\"url(#clip402)\" d=\"M16865.7 1423.18 L16865.7 1423.18 L16904.2 1423.18 L16904.2 1423.18 L16865.7 1423.18 L16865.7 1423.18  Z\" fill=\"#009af9\" fill-rule=\"evenodd\" fill-opacity=\"1\"/>\n",
       "<polyline clip-path=\"url(#clip402)\" style=\"stroke:#000000; stroke-linecap:round; stroke-linejoin:round; stroke-width:4; stroke-opacity:1; fill:none\" points=\"16865.7,1423.18 16865.7,1423.18 16904.2,1423.18 16865.7,1423.18 \"/>\n",
       "<path clip-path=\"url(#clip402)\" d=\"M16904.2 1423.18 L16904.2 1423.18 L16942.6 1423.18 L16942.6 1423.18 L16904.2 1423.18 L16904.2 1423.18  Z\" fill=\"#009af9\" fill-rule=\"evenodd\" fill-opacity=\"1\"/>\n",
       "<polyline clip-path=\"url(#clip402)\" style=\"stroke:#000000; stroke-linecap:round; stroke-linejoin:round; stroke-width:4; stroke-opacity:1; fill:none\" points=\"16904.2,1423.18 16904.2,1423.18 16942.6,1423.18 16904.2,1423.18 \"/>\n",
       "<path clip-path=\"url(#clip402)\" d=\"M16942.6 1350.76 L16942.6 1423.18 L16981.1 1423.18 L16981.1 1350.76 L16942.6 1350.76 L16942.6 1350.76  Z\" fill=\"#009af9\" fill-rule=\"evenodd\" fill-opacity=\"1\"/>\n",
       "<polyline clip-path=\"url(#clip402)\" style=\"stroke:#000000; stroke-linecap:round; stroke-linejoin:round; stroke-width:4; stroke-opacity:1; fill:none\" points=\"16942.6,1350.76 16942.6,1423.18 16981.1,1423.18 16981.1,1350.76 16942.6,1350.76 \"/>\n",
       "<path clip-path=\"url(#clip402)\" d=\"M16981.1 1423.18 L16981.1 1423.18 L17019.5 1423.18 L17019.5 1423.18 L16981.1 1423.18 L16981.1 1423.18  Z\" fill=\"#009af9\" fill-rule=\"evenodd\" fill-opacity=\"1\"/>\n",
       "<polyline clip-path=\"url(#clip402)\" style=\"stroke:#000000; stroke-linecap:round; stroke-linejoin:round; stroke-width:4; stroke-opacity:1; fill:none\" points=\"16981.1,1423.18 16981.1,1423.18 17019.5,1423.18 16981.1,1423.18 \"/>\n",
       "<path clip-path=\"url(#clip402)\" d=\"M17019.5 1423.18 L17019.5 1423.18 L17058 1423.18 L17058 1423.18 L17019.5 1423.18 L17019.5 1423.18  Z\" fill=\"#009af9\" fill-rule=\"evenodd\" fill-opacity=\"1\"/>\n",
       "<polyline clip-path=\"url(#clip402)\" style=\"stroke:#000000; stroke-linecap:round; stroke-linejoin:round; stroke-width:4; stroke-opacity:1; fill:none\" points=\"17019.5,1423.18 17019.5,1423.18 17058,1423.18 17019.5,1423.18 \"/>\n",
       "<path clip-path=\"url(#clip402)\" d=\"M17058 1423.18 L17058 1423.18 L17096.5 1423.18 L17096.5 1423.18 L17058 1423.18 L17058 1423.18  Z\" fill=\"#009af9\" fill-rule=\"evenodd\" fill-opacity=\"1\"/>\n",
       "<polyline clip-path=\"url(#clip402)\" style=\"stroke:#000000; stroke-linecap:round; stroke-linejoin:round; stroke-width:4; stroke-opacity:1; fill:none\" points=\"17058,1423.18 17058,1423.18 17096.5,1423.18 17058,1423.18 \"/>\n",
       "<path clip-path=\"url(#clip402)\" d=\"M17096.5 1423.18 L17096.5 1423.18 L17134.9 1423.18 L17134.9 1423.18 L17096.5 1423.18 L17096.5 1423.18  Z\" fill=\"#009af9\" fill-rule=\"evenodd\" fill-opacity=\"1\"/>\n",
       "<polyline clip-path=\"url(#clip402)\" style=\"stroke:#000000; stroke-linecap:round; stroke-linejoin:round; stroke-width:4; stroke-opacity:1; fill:none\" points=\"17096.5,1423.18 17096.5,1423.18 17134.9,1423.18 17096.5,1423.18 \"/>\n",
       "<path clip-path=\"url(#clip402)\" d=\"M17134.9 1423.18 L17134.9 1423.18 L17173.4 1423.18 L17173.4 1423.18 L17134.9 1423.18 L17134.9 1423.18  Z\" fill=\"#009af9\" fill-rule=\"evenodd\" fill-opacity=\"1\"/>\n",
       "<polyline clip-path=\"url(#clip402)\" style=\"stroke:#000000; stroke-linecap:round; stroke-linejoin:round; stroke-width:4; stroke-opacity:1; fill:none\" points=\"17134.9,1423.18 17134.9,1423.18 17173.4,1423.18 17134.9,1423.18 \"/>\n",
       "<path clip-path=\"url(#clip402)\" d=\"M17173.4 1423.18 L17173.4 1423.18 L17211.8 1423.18 L17211.8 1423.18 L17173.4 1423.18 L17173.4 1423.18  Z\" fill=\"#009af9\" fill-rule=\"evenodd\" fill-opacity=\"1\"/>\n",
       "<polyline clip-path=\"url(#clip402)\" style=\"stroke:#000000; stroke-linecap:round; stroke-linejoin:round; stroke-width:4; stroke-opacity:1; fill:none\" points=\"17173.4,1423.18 17173.4,1423.18 17211.8,1423.18 17173.4,1423.18 \"/>\n",
       "<path clip-path=\"url(#clip402)\" d=\"M17211.8 1423.18 L17211.8 1423.18 L17250.3 1423.18 L17250.3 1423.18 L17211.8 1423.18 L17211.8 1423.18  Z\" fill=\"#009af9\" fill-rule=\"evenodd\" fill-opacity=\"1\"/>\n",
       "<polyline clip-path=\"url(#clip402)\" style=\"stroke:#000000; stroke-linecap:round; stroke-linejoin:round; stroke-width:4; stroke-opacity:1; fill:none\" points=\"17211.8,1423.18 17211.8,1423.18 17250.3,1423.18 17211.8,1423.18 \"/>\n",
       "<path clip-path=\"url(#clip402)\" d=\"M17250.3 1350.76 L17250.3 1423.18 L17288.8 1423.18 L17288.8 1350.76 L17250.3 1350.76 L17250.3 1350.76  Z\" fill=\"#009af9\" fill-rule=\"evenodd\" fill-opacity=\"1\"/>\n",
       "<polyline clip-path=\"url(#clip402)\" style=\"stroke:#000000; stroke-linecap:round; stroke-linejoin:round; stroke-width:4; stroke-opacity:1; fill:none\" points=\"17250.3,1350.76 17250.3,1423.18 17288.8,1423.18 17288.8,1350.76 17250.3,1350.76 \"/>\n",
       "<path clip-path=\"url(#clip402)\" d=\"M17288.8 1423.18 L17288.8 1423.18 L17327.2 1423.18 L17327.2 1423.18 L17288.8 1423.18 L17288.8 1423.18  Z\" fill=\"#009af9\" fill-rule=\"evenodd\" fill-opacity=\"1\"/>\n",
       "<polyline clip-path=\"url(#clip402)\" style=\"stroke:#000000; stroke-linecap:round; stroke-linejoin:round; stroke-width:4; stroke-opacity:1; fill:none\" points=\"17288.8,1423.18 17288.8,1423.18 17327.2,1423.18 17288.8,1423.18 \"/>\n",
       "<path clip-path=\"url(#clip402)\" d=\"M17327.2 1423.18 L17327.2 1423.18 L17365.7 1423.18 L17365.7 1423.18 L17327.2 1423.18 L17327.2 1423.18  Z\" fill=\"#009af9\" fill-rule=\"evenodd\" fill-opacity=\"1\"/>\n",
       "<polyline clip-path=\"url(#clip402)\" style=\"stroke:#000000; stroke-linecap:round; stroke-linejoin:round; stroke-width:4; stroke-opacity:1; fill:none\" points=\"17327.2,1423.18 17327.2,1423.18 17365.7,1423.18 17327.2,1423.18 \"/>\n",
       "<path clip-path=\"url(#clip402)\" d=\"M17365.7 1423.18 L17365.7 1423.18 L17404.1 1423.18 L17404.1 1423.18 L17365.7 1423.18 L17365.7 1423.18  Z\" fill=\"#009af9\" fill-rule=\"evenodd\" fill-opacity=\"1\"/>\n",
       "<polyline clip-path=\"url(#clip402)\" style=\"stroke:#000000; stroke-linecap:round; stroke-linejoin:round; stroke-width:4; stroke-opacity:1; fill:none\" points=\"17365.7,1423.18 17365.7,1423.18 17404.1,1423.18 17365.7,1423.18 \"/>\n",
       "<path clip-path=\"url(#clip402)\" d=\"M17404.1 1423.18 L17404.1 1423.18 L17442.6 1423.18 L17442.6 1423.18 L17404.1 1423.18 L17404.1 1423.18  Z\" fill=\"#009af9\" fill-rule=\"evenodd\" fill-opacity=\"1\"/>\n",
       "<polyline clip-path=\"url(#clip402)\" style=\"stroke:#000000; stroke-linecap:round; stroke-linejoin:round; stroke-width:4; stroke-opacity:1; fill:none\" points=\"17404.1,1423.18 17404.1,1423.18 17442.6,1423.18 17404.1,1423.18 \"/>\n",
       "<path clip-path=\"url(#clip402)\" d=\"M17442.6 1423.18 L17442.6 1423.18 L17481 1423.18 L17481 1423.18 L17442.6 1423.18 L17442.6 1423.18  Z\" fill=\"#009af9\" fill-rule=\"evenodd\" fill-opacity=\"1\"/>\n",
       "<polyline clip-path=\"url(#clip402)\" style=\"stroke:#000000; stroke-linecap:round; stroke-linejoin:round; stroke-width:4; stroke-opacity:1; fill:none\" points=\"17442.6,1423.18 17442.6,1423.18 17481,1423.18 17442.6,1423.18 \"/>\n",
       "<path clip-path=\"url(#clip402)\" d=\"M17481 1423.18 L17481 1423.18 L17519.5 1423.18 L17519.5 1423.18 L17481 1423.18 L17481 1423.18  Z\" fill=\"#009af9\" fill-rule=\"evenodd\" fill-opacity=\"1\"/>\n",
       "<polyline clip-path=\"url(#clip402)\" style=\"stroke:#000000; stroke-linecap:round; stroke-linejoin:round; stroke-width:4; stroke-opacity:1; fill:none\" points=\"17481,1423.18 17481,1423.18 17519.5,1423.18 17481,1423.18 \"/>\n",
       "<path clip-path=\"url(#clip402)\" d=\"M17519.5 1350.76 L17519.5 1423.18 L17558 1423.18 L17558 1350.76 L17519.5 1350.76 L17519.5 1350.76  Z\" fill=\"#009af9\" fill-rule=\"evenodd\" fill-opacity=\"1\"/>\n",
       "<polyline clip-path=\"url(#clip402)\" style=\"stroke:#000000; stroke-linecap:round; stroke-linejoin:round; stroke-width:4; stroke-opacity:1; fill:none\" points=\"17519.5,1350.76 17519.5,1423.18 17558,1423.18 17558,1350.76 17519.5,1350.76 \"/>\n",
       "<path clip-path=\"url(#clip402)\" d=\"M17558 1350.76 L17558 1423.18 L17596.4 1423.18 L17596.4 1350.76 L17558 1350.76 L17558 1350.76  Z\" fill=\"#009af9\" fill-rule=\"evenodd\" fill-opacity=\"1\"/>\n",
       "<polyline clip-path=\"url(#clip402)\" style=\"stroke:#000000; stroke-linecap:round; stroke-linejoin:round; stroke-width:4; stroke-opacity:1; fill:none\" points=\"17558,1350.76 17558,1423.18 17596.4,1423.18 17596.4,1350.76 17558,1350.76 \"/>\n",
       "<circle clip-path=\"url(#clip402)\" style=\"fill:#009af9; stroke:none; fill-opacity:0\" cx=\"270.684\" cy=\"1350.76\" r=\"2\"/>\n",
       "<circle clip-path=\"url(#clip402)\" style=\"fill:#009af9; stroke:none; fill-opacity:0\" cx=\"309.143\" cy=\"1423.18\" r=\"2\"/>\n",
       "<circle clip-path=\"url(#clip402)\" style=\"fill:#009af9; stroke:none; fill-opacity:0\" cx=\"347.602\" cy=\"1278.34\" r=\"2\"/>\n",
       "<circle clip-path=\"url(#clip402)\" style=\"fill:#009af9; stroke:none; fill-opacity:0\" cx=\"386.061\" cy=\"1423.18\" r=\"2\"/>\n",
       "<circle clip-path=\"url(#clip402)\" style=\"fill:#009af9; stroke:none; fill-opacity:0\" cx=\"424.52\" cy=\"1061.09\" r=\"2\"/>\n",
       "<circle clip-path=\"url(#clip402)\" style=\"fill:#009af9; stroke:none; fill-opacity:0\" cx=\"462.979\" cy=\"1278.34\" r=\"2\"/>\n",
       "<circle clip-path=\"url(#clip402)\" style=\"fill:#009af9; stroke:none; fill-opacity:0\" cx=\"501.438\" cy=\"1133.51\" r=\"2\"/>\n",
       "<circle clip-path=\"url(#clip402)\" style=\"fill:#009af9; stroke:none; fill-opacity:0\" cx=\"539.897\" cy=\"916.256\" r=\"2\"/>\n",
       "<circle clip-path=\"url(#clip402)\" style=\"fill:#009af9; stroke:none; fill-opacity:0\" cx=\"578.356\" cy=\"916.256\" r=\"2\"/>\n",
       "<circle clip-path=\"url(#clip402)\" style=\"fill:#009af9; stroke:none; fill-opacity:0\" cx=\"616.815\" cy=\"626.585\" r=\"2\"/>\n",
       "<circle clip-path=\"url(#clip402)\" style=\"fill:#009af9; stroke:none; fill-opacity:0\" cx=\"655.273\" cy=\"47.2441\" r=\"2\"/>\n",
       "<circle clip-path=\"url(#clip402)\" style=\"fill:#009af9; stroke:none; fill-opacity:0\" cx=\"693.732\" cy=\"916.256\" r=\"2\"/>\n",
       "<circle clip-path=\"url(#clip402)\" style=\"fill:#009af9; stroke:none; fill-opacity:0\" cx=\"732.191\" cy=\"916.256\" r=\"2\"/>\n",
       "<circle clip-path=\"url(#clip402)\" style=\"fill:#009af9; stroke:none; fill-opacity:0\" cx=\"770.65\" cy=\"264.497\" r=\"2\"/>\n",
       "<circle clip-path=\"url(#clip402)\" style=\"fill:#009af9; stroke:none; fill-opacity:0\" cx=\"809.109\" cy=\"916.256\" r=\"2\"/>\n",
       "<circle clip-path=\"url(#clip402)\" style=\"fill:#009af9; stroke:none; fill-opacity:0\" cx=\"847.568\" cy=\"916.256\" r=\"2\"/>\n",
       "<circle clip-path=\"url(#clip402)\" style=\"fill:#009af9; stroke:none; fill-opacity:0\" cx=\"886.027\" cy=\"699.003\" r=\"2\"/>\n",
       "<circle clip-path=\"url(#clip402)\" style=\"fill:#009af9; stroke:none; fill-opacity:0\" cx=\"924.486\" cy=\"47.2441\" r=\"2\"/>\n",
       "<circle clip-path=\"url(#clip402)\" style=\"fill:#009af9; stroke:none; fill-opacity:0\" cx=\"962.945\" cy=\"626.585\" r=\"2\"/>\n",
       "<circle clip-path=\"url(#clip402)\" style=\"fill:#009af9; stroke:none; fill-opacity:0\" cx=\"1001.4\" cy=\"409.332\" r=\"2\"/>\n",
       "<circle clip-path=\"url(#clip402)\" style=\"fill:#009af9; stroke:none; fill-opacity:0\" cx=\"1039.86\" cy=\"626.585\" r=\"2\"/>\n",
       "<circle clip-path=\"url(#clip402)\" style=\"fill:#009af9; stroke:none; fill-opacity:0\" cx=\"1078.32\" cy=\"699.003\" r=\"2\"/>\n",
       "<circle clip-path=\"url(#clip402)\" style=\"fill:#009af9; stroke:none; fill-opacity:0\" cx=\"1116.78\" cy=\"1061.09\" r=\"2\"/>\n",
       "<circle clip-path=\"url(#clip402)\" style=\"fill:#009af9; stroke:none; fill-opacity:0\" cx=\"1155.24\" cy=\"1133.51\" r=\"2\"/>\n",
       "<circle clip-path=\"url(#clip402)\" style=\"fill:#009af9; stroke:none; fill-opacity:0\" cx=\"1193.7\" cy=\"699.003\" r=\"2\"/>\n",
       "<circle clip-path=\"url(#clip402)\" style=\"fill:#009af9; stroke:none; fill-opacity:0\" cx=\"1232.16\" cy=\"916.256\" r=\"2\"/>\n",
       "<circle clip-path=\"url(#clip402)\" style=\"fill:#009af9; stroke:none; fill-opacity:0\" cx=\"1270.62\" cy=\"1061.09\" r=\"2\"/>\n",
       "<circle clip-path=\"url(#clip402)\" style=\"fill:#009af9; stroke:none; fill-opacity:0\" cx=\"1309.07\" cy=\"843.838\" r=\"2\"/>\n",
       "<circle clip-path=\"url(#clip402)\" style=\"fill:#009af9; stroke:none; fill-opacity:0\" cx=\"1347.53\" cy=\"771.421\" r=\"2\"/>\n",
       "<circle clip-path=\"url(#clip402)\" style=\"fill:#009af9; stroke:none; fill-opacity:0\" cx=\"1385.99\" cy=\"843.838\" r=\"2\"/>\n",
       "<circle clip-path=\"url(#clip402)\" style=\"fill:#009af9; stroke:none; fill-opacity:0\" cx=\"1424.45\" cy=\"916.256\" r=\"2\"/>\n",
       "<circle clip-path=\"url(#clip402)\" style=\"fill:#009af9; stroke:none; fill-opacity:0\" cx=\"1462.91\" cy=\"771.421\" r=\"2\"/>\n",
       "<circle clip-path=\"url(#clip402)\" style=\"fill:#009af9; stroke:none; fill-opacity:0\" cx=\"1501.37\" cy=\"1061.09\" r=\"2\"/>\n",
       "<circle clip-path=\"url(#clip402)\" style=\"fill:#009af9; stroke:none; fill-opacity:0\" cx=\"1539.83\" cy=\"843.838\" r=\"2\"/>\n",
       "<circle clip-path=\"url(#clip402)\" style=\"fill:#009af9; stroke:none; fill-opacity:0\" cx=\"1578.29\" cy=\"771.421\" r=\"2\"/>\n",
       "<circle clip-path=\"url(#clip402)\" style=\"fill:#009af9; stroke:none; fill-opacity:0\" cx=\"1616.75\" cy=\"843.838\" r=\"2\"/>\n",
       "<circle clip-path=\"url(#clip402)\" style=\"fill:#009af9; stroke:none; fill-opacity:0\" cx=\"1655.21\" cy=\"1133.51\" r=\"2\"/>\n",
       "<circle clip-path=\"url(#clip402)\" style=\"fill:#009af9; stroke:none; fill-opacity:0\" cx=\"1693.66\" cy=\"1133.51\" r=\"2\"/>\n",
       "<circle clip-path=\"url(#clip402)\" style=\"fill:#009af9; stroke:none; fill-opacity:0\" cx=\"1732.12\" cy=\"771.421\" r=\"2\"/>\n",
       "<circle clip-path=\"url(#clip402)\" style=\"fill:#009af9; stroke:none; fill-opacity:0\" cx=\"1770.58\" cy=\"1205.93\" r=\"2\"/>\n",
       "<circle clip-path=\"url(#clip402)\" style=\"fill:#009af9; stroke:none; fill-opacity:0\" cx=\"1809.04\" cy=\"1350.76\" r=\"2\"/>\n",
       "<circle clip-path=\"url(#clip402)\" style=\"fill:#009af9; stroke:none; fill-opacity:0\" cx=\"1847.5\" cy=\"1278.34\" r=\"2\"/>\n",
       "<circle clip-path=\"url(#clip402)\" style=\"fill:#009af9; stroke:none; fill-opacity:0\" cx=\"1885.96\" cy=\"1061.09\" r=\"2\"/>\n",
       "<circle clip-path=\"url(#clip402)\" style=\"fill:#009af9; stroke:none; fill-opacity:0\" cx=\"1924.42\" cy=\"988.674\" r=\"2\"/>\n",
       "<circle clip-path=\"url(#clip402)\" style=\"fill:#009af9; stroke:none; fill-opacity:0\" cx=\"1962.88\" cy=\"916.256\" r=\"2\"/>\n",
       "<circle clip-path=\"url(#clip402)\" style=\"fill:#009af9; stroke:none; fill-opacity:0\" cx=\"2001.34\" cy=\"1278.34\" r=\"2\"/>\n",
       "<circle clip-path=\"url(#clip402)\" style=\"fill:#009af9; stroke:none; fill-opacity:0\" cx=\"2039.79\" cy=\"916.256\" r=\"2\"/>\n",
       "<circle clip-path=\"url(#clip402)\" style=\"fill:#009af9; stroke:none; fill-opacity:0\" cx=\"2078.25\" cy=\"1061.09\" r=\"2\"/>\n",
       "<circle clip-path=\"url(#clip402)\" style=\"fill:#009af9; stroke:none; fill-opacity:0\" cx=\"2116.71\" cy=\"988.674\" r=\"2\"/>\n",
       "<circle clip-path=\"url(#clip402)\" style=\"fill:#009af9; stroke:none; fill-opacity:0\" cx=\"2155.17\" cy=\"1133.51\" r=\"2\"/>\n",
       "<circle clip-path=\"url(#clip402)\" style=\"fill:#009af9; stroke:none; fill-opacity:0\" cx=\"2193.63\" cy=\"1061.09\" r=\"2\"/>\n",
       "<circle clip-path=\"url(#clip402)\" style=\"fill:#009af9; stroke:none; fill-opacity:0\" cx=\"2232.09\" cy=\"1133.51\" r=\"2\"/>\n",
       "<circle clip-path=\"url(#clip402)\" style=\"fill:#009af9; stroke:none; fill-opacity:0\" cx=\"2270.55\" cy=\"1061.09\" r=\"2\"/>\n",
       "<circle clip-path=\"url(#clip402)\" style=\"fill:#009af9; stroke:none; fill-opacity:0\" cx=\"2309.01\" cy=\"843.838\" r=\"2\"/>\n",
       "<circle clip-path=\"url(#clip402)\" style=\"fill:#009af9; stroke:none; fill-opacity:0\" cx=\"2347.47\" cy=\"1278.34\" r=\"2\"/>\n",
       "</svg>\n"
      ]
     },
     "metadata": {},
     "output_type": "display_data"
    }
   ],
   "source": [
    "using Statistics # bring in statistical support for standard deviations\n",
    "t = c_bench.times / 1e6 # times in milliseconds\n",
    "m, σ = minimum(t), std(t)\n",
    "\n",
    "histogram(t, bins=500,\n",
    "    xlim=(m - 0.01, m + σ),\n",
    "    xlabel=\"milliseconds\", ylabel=\"count\", label=\"\")"
   ]
  },
  {
   "cell_type": "markdown",
   "metadata": {},
   "source": [
    "# 2. C with -ffast-math\n",
    "\n",
    "If we allow C to re-arrange the floating point operations, then it'll vectorize with SIMD (single instruction, multiple data) instructions."
   ]
  },
  {
   "cell_type": "code",
   "execution_count": 19,
   "metadata": {},
   "outputs": [
    {
     "data": {
      "text/plain": [
       "c_sum_fastmath (generic function with 1 method)"
      ]
     },
     "metadata": {},
     "output_type": "display_data"
    }
   ],
   "source": [
    "const Clib_fastmath = tempname()   # make a temporary file\n",
    "\n",
    "# The same as above but with a -ffast-math flag added\n",
    "open(`gcc -fPIC -O3 -msse3 -xc -shared -ffast-math -o $(Clib_fastmath * \".\" * Libdl.dlext) -`, \"w\") do f\n",
    "    print(f, C_code) \n",
    "end\n",
    "\n",
    "# define a Julia function that calls the C function:\n",
    "c_sum_fastmath(X::Array{Float64}) = ccall((\"c_sum\", Clib_fastmath), Float64, (Csize_t, Ptr{Float64}), length(X), X)"
   ]
  },
  {
   "cell_type": "code",
   "execution_count": 20,
   "metadata": {},
   "outputs": [
    {
     "data": {
      "text/plain": [
       "BenchmarkTools.Trial: 851 samples with 1 evaluation.\n",
       " Range \u001b[90m(\u001b[39m\u001b[36m\u001b[1mmin\u001b[22m\u001b[39m … \u001b[35mmax\u001b[39m\u001b[90m):  \u001b[39m\u001b[36m\u001b[1m5.474 ms\u001b[22m\u001b[39m … \u001b[35m  8.020 ms\u001b[39m  \u001b[90m┊\u001b[39m GC \u001b[90m(\u001b[39mmin … max\u001b[90m): \u001b[39m0.00% … 0.00%\n",
       " Time  \u001b[90m(\u001b[39m\u001b[34m\u001b[1mmedian\u001b[22m\u001b[39m\u001b[90m):     \u001b[39m\u001b[34m\u001b[1m5.727 ms               \u001b[22m\u001b[39m\u001b[90m┊\u001b[39m GC \u001b[90m(\u001b[39mmedian\u001b[90m):    \u001b[39m0.00%\n",
       " Time  \u001b[90m(\u001b[39m\u001b[32m\u001b[1mmean\u001b[22m\u001b[39m ± \u001b[32mσ\u001b[39m\u001b[90m):   \u001b[39m\u001b[32m\u001b[1m5.868 ms\u001b[22m\u001b[39m ± \u001b[32m371.018 μs\u001b[39m  \u001b[90m┊\u001b[39m GC \u001b[90m(\u001b[39mmean ± σ\u001b[90m):  \u001b[39m0.00% ± 0.00%\n",
       "\n",
       "  \u001b[39m \u001b[39m \u001b[39m▄\u001b[39m█\u001b[39m▇\u001b[39m▇\u001b[39m▇\u001b[39m▃\u001b[39m \u001b[34m▁\u001b[39m\u001b[39m \u001b[39m \u001b[39m \u001b[32m \u001b[39m\u001b[39m \u001b[39m \u001b[39m \u001b[39m \u001b[39m \u001b[39m \u001b[39m \u001b[39m \u001b[39m \u001b[39m \u001b[39m \u001b[39m \u001b[39m \u001b[39m \u001b[39m \u001b[39m \u001b[39m \u001b[39m \u001b[39m \u001b[39m \u001b[39m \u001b[39m \u001b[39m \u001b[39m \u001b[39m \u001b[39m \u001b[39m \u001b[39m \u001b[39m \u001b[39m \u001b[39m \u001b[39m \u001b[39m \u001b[39m \u001b[39m \u001b[39m \u001b[39m \u001b[39m \u001b[39m \u001b[39m \u001b[39m \u001b[39m \u001b[39m \u001b[39m \u001b[39m \u001b[39m \u001b[39m \n",
       "  \u001b[39m▃\u001b[39m▅\u001b[39m█\u001b[39m█\u001b[39m█\u001b[39m█\u001b[39m█\u001b[39m█\u001b[39m█\u001b[34m█\u001b[39m\u001b[39m█\u001b[39m█\u001b[39m▇\u001b[32m▅\u001b[39m\u001b[39m▄\u001b[39m▅\u001b[39m▄\u001b[39m▇\u001b[39m▅\u001b[39m▆\u001b[39m▄\u001b[39m▅\u001b[39m▅\u001b[39m▆\u001b[39m▃\u001b[39m▄\u001b[39m▄\u001b[39m▄\u001b[39m▃\u001b[39m▄\u001b[39m▃\u001b[39m▂\u001b[39m▄\u001b[39m▃\u001b[39m▃\u001b[39m▃\u001b[39m▃\u001b[39m▂\u001b[39m▂\u001b[39m▃\u001b[39m▁\u001b[39m▂\u001b[39m▂\u001b[39m▃\u001b[39m▂\u001b[39m▃\u001b[39m▃\u001b[39m▁\u001b[39m▂\u001b[39m▁\u001b[39m▁\u001b[39m▂\u001b[39m▃\u001b[39m▁\u001b[39m▂\u001b[39m▂\u001b[39m▂\u001b[39m▂\u001b[39m▂\u001b[39m \u001b[39m▄\n",
       "  5.47 ms\u001b[90m         Histogram: frequency by time\u001b[39m         7.2 ms \u001b[0m\u001b[1m<\u001b[22m\n",
       "\n",
       " Memory estimate\u001b[90m: \u001b[39m\u001b[33m0 bytes\u001b[39m, allocs estimate\u001b[90m: \u001b[39m\u001b[33m0\u001b[39m."
      ]
     },
     "metadata": {},
     "output_type": "display_data"
    }
   ],
   "source": [
    "c_fastmath_bench = @benchmark $c_sum_fastmath($a)"
   ]
  },
  {
   "cell_type": "code",
   "execution_count": 21,
   "metadata": {},
   "outputs": [
    {
     "data": {
      "text/plain": [
       "5.4737"
      ]
     },
     "metadata": {},
     "output_type": "display_data"
    }
   ],
   "source": [
    "d[\"C -ffast-math\"] = minimum(c_fastmath_bench.times) / 1e6  # in milliseconds"
   ]
  },
  {
   "cell_type": "markdown",
   "metadata": {},
   "source": [
    "# 3. Python's built in `sum` "
   ]
  },
  {
   "cell_type": "markdown",
   "metadata": {},
   "source": [
    "The `PyCall` package provides a Julia interface to Python:"
   ]
  },
  {
   "cell_type": "code",
   "execution_count": 22,
   "metadata": {
    "scrolled": true
   },
   "outputs": [
    {
     "name": "stderr",
     "output_type": "stream",
     "text": [
      "\u001b[32m\u001b[1m   Resolving\u001b[22m\u001b[39m package versions...\n",
      "\u001b[32m\u001b[1m   Installed\u001b[22m\u001b[39m VersionParsing ─ v1.3.0\n",
      "\u001b[32m\u001b[1m   Installed\u001b[22m\u001b[39m Conda ────────── v1.10.2\n",
      "\u001b[32m\u001b[1m   Installed\u001b[22m\u001b[39m PyCall ───────── v1.96.4\n",
      "\u001b[32m\u001b[1m    Updating\u001b[22m\u001b[39m `C:\\Users\\apaul314\\.julia\\environments\\v1.10\\Project.toml`\n",
      "  \u001b[90m[438e738f] \u001b[39m\u001b[92m+ PyCall v1.96.4\u001b[39m\n",
      "\u001b[32m\u001b[1m    Updating\u001b[22m\u001b[39m `C:\\Users\\apaul314\\.julia\\environments\\v1.10\\Manifest.toml`\n",
      "  \u001b[90m[8f4d0f93] \u001b[39m\u001b[92m+ Conda v1.10.2\u001b[39m\n",
      "  \u001b[90m[438e738f] \u001b[39m\u001b[92m+ PyCall v1.96.4\u001b[39m\n",
      "  \u001b[90m[81def892] \u001b[39m\u001b[92m+ VersionParsing v1.3.0\u001b[39m\n",
      "\u001b[32m\u001b[1m    Building\u001b[22m\u001b[39m Conda ─→ `C:\\Users\\apaul314\\.julia\\scratchspaces\\44cfe95a-1eb2-52ea-b672-e2afdf69b78f\\b19db3927f0db4151cb86d073689f2428e524576\\build.log`\n",
      "\u001b[32m\u001b[1m    Building\u001b[22m\u001b[39m PyCall → `C:\\Users\\apaul314\\.julia\\scratchspaces\\44cfe95a-1eb2-52ea-b672-e2afdf69b78f\\9816a3826b0ebf49ab4926e2b18842ad8b5c8f04\\build.log`\n",
      "\u001b[32m\u001b[1mPrecompiling\u001b[22m\u001b[39m project...\n",
      "\u001b[32m  ✓ \u001b[39m\u001b[90mVersionParsing\u001b[39m\n",
      "\u001b[32m  ✓ \u001b[39m\u001b[90mConda\u001b[39m\n",
      "\u001b[32m  ✓ \u001b[39mPyCall\n",
      "  3 dependencies successfully precompiled in 10 seconds. 160 already precompiled.\n"
     ]
    }
   ],
   "source": [
    "using Pkg; Pkg.add(\"PyCall\")\n",
    "using PyCall"
   ]
  },
  {
   "cell_type": "code",
   "execution_count": 23,
   "metadata": {},
   "outputs": [
    {
     "data": {
      "text/plain": [
       "PyObject <built-in function sum>"
      ]
     },
     "metadata": {},
     "output_type": "display_data"
    }
   ],
   "source": [
    "# get the Python built-in \"sum\" function:\n",
    "pysum = pybuiltin(\"sum\")"
   ]
  },
  {
   "cell_type": "code",
   "execution_count": 24,
   "metadata": {},
   "outputs": [
    {
     "data": {
      "text/plain": [
       "5.000191386831326e6"
      ]
     },
     "metadata": {},
     "output_type": "display_data"
    }
   ],
   "source": [
    "pysum(a)"
   ]
  },
  {
   "cell_type": "code",
   "execution_count": 25,
   "metadata": {},
   "outputs": [
    {
     "data": {
      "text/plain": [
       "true"
      ]
     },
     "metadata": {},
     "output_type": "display_data"
    }
   ],
   "source": [
    "pysum(a) ≈ sum(a)"
   ]
  },
  {
   "cell_type": "code",
   "execution_count": 26,
   "metadata": {},
   "outputs": [
    {
     "data": {
      "text/plain": [
       "BenchmarkTools.Trial: 9 samples with 1 evaluation.\n",
       " Range \u001b[90m(\u001b[39m\u001b[36m\u001b[1mmin\u001b[22m\u001b[39m … \u001b[35mmax\u001b[39m\u001b[90m):  \u001b[39m\u001b[36m\u001b[1m556.434 ms\u001b[22m\u001b[39m … \u001b[35m557.780 ms\u001b[39m  \u001b[90m┊\u001b[39m GC \u001b[90m(\u001b[39mmin … max\u001b[90m): \u001b[39m0.00% … 0.00%\n",
       " Time  \u001b[90m(\u001b[39m\u001b[34m\u001b[1mmedian\u001b[22m\u001b[39m\u001b[90m):     \u001b[39m\u001b[34m\u001b[1m557.230 ms               \u001b[22m\u001b[39m\u001b[90m┊\u001b[39m GC \u001b[90m(\u001b[39mmedian\u001b[90m):    \u001b[39m0.00%\n",
       " Time  \u001b[90m(\u001b[39m\u001b[32m\u001b[1mmean\u001b[22m\u001b[39m ± \u001b[32mσ\u001b[39m\u001b[90m):   \u001b[39m\u001b[32m\u001b[1m557.104 ms\u001b[22m\u001b[39m ± \u001b[32m552.122 μs\u001b[39m  \u001b[90m┊\u001b[39m GC \u001b[90m(\u001b[39mmean ± σ\u001b[90m):  \u001b[39m0.00% ± 0.00%\n",
       "\n",
       "  \u001b[39m█\u001b[39m \u001b[39m█\u001b[39m \u001b[39m \u001b[39m█\u001b[39m \u001b[39m \u001b[39m \u001b[39m \u001b[39m \u001b[39m \u001b[39m \u001b[39m \u001b[34m█\u001b[39m\u001b[39m \u001b[39m \u001b[39m \u001b[39m \u001b[39m \u001b[39m \u001b[39m \u001b[39m \u001b[39m \u001b[39m \u001b[39m \u001b[39m \u001b[39m \u001b[39m \u001b[39m \u001b[32m \u001b[39m\u001b[39m \u001b[39m \u001b[39m \u001b[39m \u001b[39m \u001b[39m█\u001b[39m \u001b[39m \u001b[39m \u001b[39m \u001b[39m \u001b[39m \u001b[39m \u001b[39m \u001b[39m \u001b[39m█\u001b[39m \u001b[39m \u001b[39m \u001b[39m \u001b[39m \u001b[39m█\u001b[39m \u001b[39m \u001b[39m█\u001b[39m \u001b[39m \u001b[39m \u001b[39m \u001b[39m█\u001b[39m \u001b[39m \n",
       "  \u001b[39m█\u001b[39m▁\u001b[39m█\u001b[39m▁\u001b[39m▁\u001b[39m█\u001b[39m▁\u001b[39m▁\u001b[39m▁\u001b[39m▁\u001b[39m▁\u001b[39m▁\u001b[39m▁\u001b[39m▁\u001b[34m█\u001b[39m\u001b[39m▁\u001b[39m▁\u001b[39m▁\u001b[39m▁\u001b[39m▁\u001b[39m▁\u001b[39m▁\u001b[39m▁\u001b[39m▁\u001b[39m▁\u001b[39m▁\u001b[39m▁\u001b[39m▁\u001b[39m▁\u001b[39m▁\u001b[32m▁\u001b[39m\u001b[39m▁\u001b[39m▁\u001b[39m▁\u001b[39m▁\u001b[39m▁\u001b[39m█\u001b[39m▁\u001b[39m▁\u001b[39m▁\u001b[39m▁\u001b[39m▁\u001b[39m▁\u001b[39m▁\u001b[39m▁\u001b[39m▁\u001b[39m█\u001b[39m▁\u001b[39m▁\u001b[39m▁\u001b[39m▁\u001b[39m▁\u001b[39m█\u001b[39m▁\u001b[39m▁\u001b[39m█\u001b[39m▁\u001b[39m▁\u001b[39m▁\u001b[39m▁\u001b[39m█\u001b[39m \u001b[39m▁\n",
       "  556 ms\u001b[90m           Histogram: frequency by time\u001b[39m          558 ms \u001b[0m\u001b[1m<\u001b[22m\n",
       "\n",
       " Memory estimate\u001b[90m: \u001b[39m\u001b[33m240 bytes\u001b[39m, allocs estimate\u001b[90m: \u001b[39m\u001b[33m6\u001b[39m."
      ]
     },
     "metadata": {},
     "output_type": "display_data"
    }
   ],
   "source": [
    "py_list_bench = @benchmark $pysum($a)"
   ]
  },
  {
   "cell_type": "code",
   "execution_count": 27,
   "metadata": {},
   "outputs": [
    {
     "data": {
      "text/plain": [
       "Dict{Any, Any} with 3 entries:\n",
       "  \"C\"               => 9.7436\n",
       "  \"Python built-in\" => 556.434\n",
       "  \"C -ffast-math\"   => 5.4737"
      ]
     },
     "metadata": {},
     "output_type": "display_data"
    }
   ],
   "source": [
    "d[\"Python built-in\"] = minimum(py_list_bench.times) / 1e6\n",
    "d"
   ]
  },
  {
   "cell_type": "markdown",
   "metadata": {},
   "source": [
    "# 4. Python: `numpy` \n",
    "\n",
    "## Takes advantage of hardware \"SIMD\", but only works when it works.\n",
    "\n",
    "`numpy` is an optimized C library, callable from Python.\n",
    "It may be installed within Julia as follows:"
   ]
  },
  {
   "cell_type": "code",
   "execution_count": 28,
   "metadata": {},
   "outputs": [
    {
     "name": "stderr",
     "output_type": "stream",
     "text": [
      "\u001b[32m\u001b[1m   Resolving\u001b[22m\u001b[39m package versions...\n",
      "\u001b[32m\u001b[1m    Updating\u001b[22m\u001b[39m `C:\\Users\\apaul314\\.julia\\environments\\v1.10\\Project.toml`\n",
      "  \u001b[90m[8f4d0f93] \u001b[39m\u001b[92m+ Conda v1.10.2\u001b[39m\n",
      "\u001b[32m\u001b[1m  No Changes\u001b[22m\u001b[39m to `C:\\Users\\apaul314\\.julia\\environments\\v1.10\\Manifest.toml`\n"
     ]
    }
   ],
   "source": [
    "using Pkg; Pkg.add(\"Conda\")\n",
    "using Conda"
   ]
  },
  {
   "cell_type": "code",
   "execution_count": 29,
   "metadata": {},
   "outputs": [
    {
     "name": "stderr",
     "output_type": "stream",
     "text": [
      "┌ Info: Running `conda install -y numpy` in root environment\n",
      "└ @ Conda C:\\Users\\apaul314\\.julia\\packages\\Conda\\zReqD\\src\\Conda.jl:181\n"
     ]
    },
    {
     "name": "stdout",
     "output_type": "stream",
     "text": [
      "Channels:\n",
      " - conda-forge\n",
      "Platform: win-64\n",
      "Collecting package metadata (repodata.json): ...working... done\n",
      "Solving environment: ...working... done\n"
     ]
    },
    {
     "name": "stderr",
     "output_type": "stream",
     "text": [
      "\n",
      "\n",
      "==> WARNING: A newer version of conda exists. <==\n",
      "    current version: 24.3.0\n",
      "    latest version: 24.5.0\n",
      "\n",
      "Please update conda by running\n",
      "\n",
      "    $ conda update -n base -c conda-forge conda\n",
      "\n",
      "\n"
     ]
    },
    {
     "name": "stdout",
     "output_type": "stream",
     "text": [
      "\n",
      "# All requested packages already installed.\n",
      "\n"
     ]
    }
   ],
   "source": [
    "Conda.add(\"numpy\")"
   ]
  },
  {
   "cell_type": "code",
   "execution_count": 30,
   "metadata": {},
   "outputs": [
    {
     "data": {
      "text/plain": [
       "BenchmarkTools.Trial: 508 samples with 1 evaluation.\n",
       " Range \u001b[90m(\u001b[39m\u001b[36m\u001b[1mmin\u001b[22m\u001b[39m … \u001b[35mmax\u001b[39m\u001b[90m):  \u001b[39m\u001b[36m\u001b[1m9.254 ms\u001b[22m\u001b[39m … \u001b[35m 12.078 ms\u001b[39m  \u001b[90m┊\u001b[39m GC \u001b[90m(\u001b[39mmin … max\u001b[90m): \u001b[39m0.00% … 0.00%\n",
       " Time  \u001b[90m(\u001b[39m\u001b[34m\u001b[1mmedian\u001b[22m\u001b[39m\u001b[90m):     \u001b[39m\u001b[34m\u001b[1m9.684 ms               \u001b[22m\u001b[39m\u001b[90m┊\u001b[39m GC \u001b[90m(\u001b[39mmedian\u001b[90m):    \u001b[39m0.00%\n",
       " Time  \u001b[90m(\u001b[39m\u001b[32m\u001b[1mmean\u001b[22m\u001b[39m ± \u001b[32mσ\u001b[39m\u001b[90m):   \u001b[39m\u001b[32m\u001b[1m9.833 ms\u001b[22m\u001b[39m ± \u001b[32m482.788 μs\u001b[39m  \u001b[90m┊\u001b[39m GC \u001b[90m(\u001b[39mmean ± σ\u001b[90m):  \u001b[39m0.00% ± 0.00%\n",
       "\n",
       "  \u001b[39m \u001b[39m \u001b[39m▃\u001b[39m▅\u001b[39m▅\u001b[39m█\u001b[39m▃\u001b[39m▁\u001b[39m▄\u001b[39m▅\u001b[34m \u001b[39m\u001b[39m \u001b[39m \u001b[39m \u001b[32m \u001b[39m\u001b[39m \u001b[39m \u001b[39m \u001b[39m \u001b[39m \u001b[39m \u001b[39m \u001b[39m \u001b[39m \u001b[39m \u001b[39m \u001b[39m \u001b[39m \u001b[39m \u001b[39m \u001b[39m \u001b[39m \u001b[39m \u001b[39m \u001b[39m \u001b[39m \u001b[39m \u001b[39m \u001b[39m \u001b[39m \u001b[39m \u001b[39m \u001b[39m \u001b[39m \u001b[39m \u001b[39m \u001b[39m \u001b[39m \u001b[39m \u001b[39m \u001b[39m \u001b[39m \u001b[39m \u001b[39m \u001b[39m \u001b[39m \u001b[39m \u001b[39m \u001b[39m \u001b[39m \u001b[39m \n",
       "  \u001b[39m▄\u001b[39m▆\u001b[39m█\u001b[39m█\u001b[39m█\u001b[39m█\u001b[39m█\u001b[39m█\u001b[39m█\u001b[39m█\u001b[34m█\u001b[39m\u001b[39m▇\u001b[39m█\u001b[39m█\u001b[32m▆\u001b[39m\u001b[39m█\u001b[39m▇\u001b[39m▆\u001b[39m▅\u001b[39m▆\u001b[39m▇\u001b[39m█\u001b[39m▅\u001b[39m▃\u001b[39m▆\u001b[39m▄\u001b[39m▄\u001b[39m▄\u001b[39m▄\u001b[39m▃\u001b[39m▄\u001b[39m▃\u001b[39m▂\u001b[39m▃\u001b[39m▃\u001b[39m▃\u001b[39m▂\u001b[39m▂\u001b[39m▂\u001b[39m▂\u001b[39m▃\u001b[39m▂\u001b[39m▂\u001b[39m▂\u001b[39m▃\u001b[39m▂\u001b[39m▁\u001b[39m▃\u001b[39m▃\u001b[39m▂\u001b[39m▃\u001b[39m▂\u001b[39m▁\u001b[39m▁\u001b[39m▁\u001b[39m▁\u001b[39m▁\u001b[39m▁\u001b[39m▂\u001b[39m \u001b[39m▄\n",
       "  9.25 ms\u001b[90m         Histogram: frequency by time\u001b[39m        11.7 ms \u001b[0m\u001b[1m<\u001b[22m\n",
       "\n",
       " Memory estimate\u001b[90m: \u001b[39m\u001b[33m240 bytes\u001b[39m, allocs estimate\u001b[90m: \u001b[39m\u001b[33m6\u001b[39m."
      ]
     },
     "metadata": {},
     "output_type": "display_data"
    }
   ],
   "source": [
    "numpy_sum = pyimport(\"numpy\")[\"sum\"]\n",
    "\n",
    "py_numpy_bench = @benchmark $numpy_sum($a)"
   ]
  },
  {
   "cell_type": "code",
   "execution_count": 31,
   "metadata": {},
   "outputs": [
    {
     "data": {
      "text/plain": [
       "5.000191386831235e6"
      ]
     },
     "metadata": {},
     "output_type": "display_data"
    }
   ],
   "source": [
    "numpy_sum(a)"
   ]
  },
  {
   "cell_type": "code",
   "execution_count": 32,
   "metadata": {},
   "outputs": [
    {
     "data": {
      "text/plain": [
       "true"
      ]
     },
     "metadata": {},
     "output_type": "display_data"
    }
   ],
   "source": [
    "numpy_sum(a) ≈ sum(a)"
   ]
  },
  {
   "cell_type": "code",
   "execution_count": 33,
   "metadata": {
    "scrolled": true
   },
   "outputs": [
    {
     "data": {
      "text/plain": [
       "Dict{Any, Any} with 4 entries:\n",
       "  \"C\"               => 9.7436\n",
       "  \"Python numpy\"    => 9.2535\n",
       "  \"Python built-in\" => 556.434\n",
       "  \"C -ffast-math\"   => 5.4737"
      ]
     },
     "metadata": {},
     "output_type": "display_data"
    }
   ],
   "source": [
    "d[\"Python numpy\"] = minimum(py_numpy_bench.times) / 1e6\n",
    "d"
   ]
  },
  {
   "cell_type": "markdown",
   "metadata": {},
   "source": [
    "# 5. Python, hand-written "
   ]
  },
  {
   "cell_type": "code",
   "execution_count": 34,
   "metadata": {},
   "outputs": [
    {
     "data": {
      "text/plain": [
       "PyObject <function py_sum at 0x0000018930F23400>"
      ]
     },
     "metadata": {},
     "output_type": "display_data"
    }
   ],
   "source": [
    "py\"\"\"\n",
    "def py_sum(A):\n",
    "    s = 0.0\n",
    "    for a in A:\n",
    "        s += a\n",
    "    return s\n",
    "\"\"\"\n",
    "\n",
    "sum_py = py\"py_sum\""
   ]
  },
  {
   "cell_type": "code",
   "execution_count": 35,
   "metadata": {},
   "outputs": [
    {
     "data": {
      "text/plain": [
       "BenchmarkTools.Trial: 7 samples with 1 evaluation.\n",
       " Range \u001b[90m(\u001b[39m\u001b[36m\u001b[1mmin\u001b[22m\u001b[39m … \u001b[35mmax\u001b[39m\u001b[90m):  \u001b[39m\u001b[36m\u001b[1m806.512 ms\u001b[22m\u001b[39m … \u001b[35m814.895 ms\u001b[39m  \u001b[90m┊\u001b[39m GC \u001b[90m(\u001b[39mmin … max\u001b[90m): \u001b[39m0.00% … 0.00%\n",
       " Time  \u001b[90m(\u001b[39m\u001b[34m\u001b[1mmedian\u001b[22m\u001b[39m\u001b[90m):     \u001b[39m\u001b[34m\u001b[1m809.344 ms               \u001b[22m\u001b[39m\u001b[90m┊\u001b[39m GC \u001b[90m(\u001b[39mmedian\u001b[90m):    \u001b[39m0.00%\n",
       " Time  \u001b[90m(\u001b[39m\u001b[32m\u001b[1mmean\u001b[22m\u001b[39m ± \u001b[32mσ\u001b[39m\u001b[90m):   \u001b[39m\u001b[32m\u001b[1m809.473 ms\u001b[22m\u001b[39m ± \u001b[32m  2.669 ms\u001b[39m  \u001b[90m┊\u001b[39m GC \u001b[90m(\u001b[39mmean ± σ\u001b[90m):  \u001b[39m0.00% ± 0.00%\n",
       "\n",
       "  \u001b[39m▁\u001b[39m \u001b[39m \u001b[39m \u001b[39m \u001b[39m \u001b[39m▁\u001b[39m \u001b[39m \u001b[39m \u001b[39m \u001b[39m \u001b[39m \u001b[39m \u001b[39m \u001b[39m \u001b[39m \u001b[34m▁\u001b[39m\u001b[39m \u001b[39m \u001b[39m█\u001b[39m \u001b[32m \u001b[39m\u001b[39m \u001b[39m▁\u001b[39m \u001b[39m \u001b[39m \u001b[39m \u001b[39m \u001b[39m \u001b[39m \u001b[39m \u001b[39m \u001b[39m \u001b[39m \u001b[39m \u001b[39m \u001b[39m \u001b[39m \u001b[39m \u001b[39m \u001b[39m \u001b[39m \u001b[39m \u001b[39m \u001b[39m \u001b[39m \u001b[39m \u001b[39m \u001b[39m \u001b[39m \u001b[39m \u001b[39m \u001b[39m \u001b[39m \u001b[39m \u001b[39m \u001b[39m \u001b[39m \u001b[39m▁\u001b[39m \u001b[39m \n",
       "  \u001b[39m█\u001b[39m▁\u001b[39m▁\u001b[39m▁\u001b[39m▁\u001b[39m▁\u001b[39m█\u001b[39m▁\u001b[39m▁\u001b[39m▁\u001b[39m▁\u001b[39m▁\u001b[39m▁\u001b[39m▁\u001b[39m▁\u001b[39m▁\u001b[39m▁\u001b[34m█\u001b[39m\u001b[39m▁\u001b[39m▁\u001b[39m█\u001b[39m▁\u001b[32m▁\u001b[39m\u001b[39m▁\u001b[39m█\u001b[39m▁\u001b[39m▁\u001b[39m▁\u001b[39m▁\u001b[39m▁\u001b[39m▁\u001b[39m▁\u001b[39m▁\u001b[39m▁\u001b[39m▁\u001b[39m▁\u001b[39m▁\u001b[39m▁\u001b[39m▁\u001b[39m▁\u001b[39m▁\u001b[39m▁\u001b[39m▁\u001b[39m▁\u001b[39m▁\u001b[39m▁\u001b[39m▁\u001b[39m▁\u001b[39m▁\u001b[39m▁\u001b[39m▁\u001b[39m▁\u001b[39m▁\u001b[39m▁\u001b[39m▁\u001b[39m▁\u001b[39m▁\u001b[39m▁\u001b[39m▁\u001b[39m▁\u001b[39m█\u001b[39m \u001b[39m▁\n",
       "  807 ms\u001b[90m           Histogram: frequency by time\u001b[39m          815 ms \u001b[0m\u001b[1m<\u001b[22m\n",
       "\n",
       " Memory estimate\u001b[90m: \u001b[39m\u001b[33m240 bytes\u001b[39m, allocs estimate\u001b[90m: \u001b[39m\u001b[33m6\u001b[39m."
      ]
     },
     "metadata": {},
     "output_type": "display_data"
    }
   ],
   "source": [
    "py_hand = @benchmark $sum_py($a)"
   ]
  },
  {
   "cell_type": "code",
   "execution_count": 36,
   "metadata": {},
   "outputs": [
    {
     "data": {
      "text/plain": [
       "5.000191386831326e6"
      ]
     },
     "metadata": {},
     "output_type": "display_data"
    }
   ],
   "source": [
    "sum_py(a)"
   ]
  },
  {
   "cell_type": "code",
   "execution_count": 37,
   "metadata": {},
   "outputs": [
    {
     "data": {
      "text/plain": [
       "true"
      ]
     },
     "metadata": {},
     "output_type": "display_data"
    }
   ],
   "source": [
    "sum_py(a) ≈ sum(a)"
   ]
  },
  {
   "cell_type": "code",
   "execution_count": 38,
   "metadata": {
    "scrolled": true
   },
   "outputs": [
    {
     "data": {
      "text/plain": [
       "Dict{Any, Any} with 5 entries:\n",
       "  \"C\"                   => 9.7436\n",
       "  \"Python numpy\"        => 9.2535\n",
       "  \"Python hand-written\" => 806.512\n",
       "  \"Python built-in\"     => 556.434\n",
       "  \"C -ffast-math\"       => 5.4737"
      ]
     },
     "metadata": {},
     "output_type": "display_data"
    }
   ],
   "source": [
    "d[\"Python hand-written\"] = minimum(py_hand.times) / 1e6\n",
    "d"
   ]
  },
  {
   "cell_type": "markdown",
   "metadata": {},
   "source": [
    "# 6. Julia (built-in) \n",
    "\n",
    "## Written directly in Julia, not in C!"
   ]
  },
  {
   "cell_type": "code",
   "execution_count": 39,
   "metadata": {},
   "outputs": [
    {
     "data": {
      "text/html": [
       "sum(a::<b>AbstractArray</b>; <i>dims, kw...</i>) in Base at <a href=\"https://github.com/JuliaLang/julia/tree/48d4fd48430af58502699fdf3504b90589df3852/base/reducedim.jl#L1010\" target=\"_blank\">reducedim.jl:1010</a>"
      ],
      "text/plain": [
       "sum(\u001b[90ma\u001b[39m::\u001b[1mAbstractArray\u001b[22m; dims, kw...)\n",
       "\u001b[90m     @\u001b[39m \u001b[90mBase\u001b[39m \u001b[90m\u001b[4mreducedim.jl:1010\u001b[24m\u001b[39m"
      ]
     },
     "metadata": {},
     "output_type": "display_data"
    }
   ],
   "source": [
    "@which sum(a)"
   ]
  },
  {
   "cell_type": "code",
   "execution_count": 40,
   "metadata": {},
   "outputs": [
    {
     "data": {
      "text/plain": [
       "BenchmarkTools.Trial: 1181 samples with 1 evaluation.\n",
       " Range \u001b[90m(\u001b[39m\u001b[36m\u001b[1mmin\u001b[22m\u001b[39m … \u001b[35mmax\u001b[39m\u001b[90m):  \u001b[39m\u001b[36m\u001b[1m3.596 ms\u001b[22m\u001b[39m … \u001b[35m  6.644 ms\u001b[39m  \u001b[90m┊\u001b[39m GC \u001b[90m(\u001b[39mmin … max\u001b[90m): \u001b[39m0.00% … 0.00%\n",
       " Time  \u001b[90m(\u001b[39m\u001b[34m\u001b[1mmedian\u001b[22m\u001b[39m\u001b[90m):     \u001b[39m\u001b[34m\u001b[1m4.062 ms               \u001b[22m\u001b[39m\u001b[90m┊\u001b[39m GC \u001b[90m(\u001b[39mmedian\u001b[90m):    \u001b[39m0.00%\n",
       " Time  \u001b[90m(\u001b[39m\u001b[32m\u001b[1mmean\u001b[22m\u001b[39m ± \u001b[32mσ\u001b[39m\u001b[90m):   \u001b[39m\u001b[32m\u001b[1m4.222 ms\u001b[22m\u001b[39m ± \u001b[32m495.720 μs\u001b[39m  \u001b[90m┊\u001b[39m GC \u001b[90m(\u001b[39mmean ± σ\u001b[90m):  \u001b[39m0.00% ± 0.00%\n",
       "\n",
       "  \u001b[39m \u001b[39m \u001b[39m▃\u001b[39m█\u001b[39m▇\u001b[39m▅\u001b[39m▅\u001b[39m▅\u001b[39m▅\u001b[39m▄\u001b[39m▂\u001b[39m \u001b[34m \u001b[39m\u001b[39m \u001b[39m \u001b[39m \u001b[39m \u001b[32m▂\u001b[39m\u001b[39m \u001b[39m \u001b[39m \u001b[39m \u001b[39m \u001b[39m \u001b[39m \u001b[39m \u001b[39m \u001b[39m \u001b[39m \u001b[39m \u001b[39m \u001b[39m \u001b[39m \u001b[39m \u001b[39m \u001b[39m \u001b[39m \u001b[39m \u001b[39m \u001b[39m \u001b[39m \u001b[39m \u001b[39m \u001b[39m \u001b[39m \u001b[39m \u001b[39m \u001b[39m \u001b[39m \u001b[39m \u001b[39m \u001b[39m \u001b[39m \u001b[39m \u001b[39m \u001b[39m \u001b[39m \u001b[39m \u001b[39m \u001b[39m \u001b[39m \n",
       "  \u001b[39m▃\u001b[39m▄\u001b[39m█\u001b[39m█\u001b[39m█\u001b[39m█\u001b[39m█\u001b[39m█\u001b[39m█\u001b[39m█\u001b[39m█\u001b[39m█\u001b[34m▇\u001b[39m\u001b[39m▇\u001b[39m▆\u001b[39m▆\u001b[39m▇\u001b[32m█\u001b[39m\u001b[39m▆\u001b[39m█\u001b[39m▆\u001b[39m█\u001b[39m▅\u001b[39m▇\u001b[39m▆\u001b[39m▆\u001b[39m▅\u001b[39m▅\u001b[39m▄\u001b[39m▆\u001b[39m▆\u001b[39m▅\u001b[39m▃\u001b[39m▄\u001b[39m▅\u001b[39m▄\u001b[39m▄\u001b[39m▃\u001b[39m▃\u001b[39m▃\u001b[39m▃\u001b[39m▃\u001b[39m▃\u001b[39m▃\u001b[39m▃\u001b[39m▃\u001b[39m▂\u001b[39m▃\u001b[39m▃\u001b[39m▂\u001b[39m▁\u001b[39m▂\u001b[39m▃\u001b[39m▂\u001b[39m▁\u001b[39m▃\u001b[39m▂\u001b[39m▂\u001b[39m▃\u001b[39m \u001b[39m▄\n",
       "  3.6 ms\u001b[90m          Histogram: frequency by time\u001b[39m        5.82 ms \u001b[0m\u001b[1m<\u001b[22m\n",
       "\n",
       " Memory estimate\u001b[90m: \u001b[39m\u001b[33m0 bytes\u001b[39m, allocs estimate\u001b[90m: \u001b[39m\u001b[33m0\u001b[39m."
      ]
     },
     "metadata": {},
     "output_type": "display_data"
    }
   ],
   "source": [
    "j_bench = @benchmark sum($a)"
   ]
  },
  {
   "cell_type": "code",
   "execution_count": 41,
   "metadata": {
    "scrolled": true
   },
   "outputs": [
    {
     "data": {
      "text/plain": [
       "Dict{Any, Any} with 6 entries:\n",
       "  \"C\"                   => 9.7436\n",
       "  \"Python numpy\"        => 9.2535\n",
       "  \"Python hand-written\" => 806.512\n",
       "  \"Python built-in\"     => 556.434\n",
       "  \"Julia built-in\"      => 3.5962\n",
       "  \"C -ffast-math\"       => 5.4737"
      ]
     },
     "metadata": {},
     "output_type": "display_data"
    }
   ],
   "source": [
    "d[\"Julia built-in\"] = minimum(j_bench.times) / 1e6\n",
    "d"
   ]
  },
  {
   "cell_type": "markdown",
   "metadata": {},
   "source": [
    "# 7. Julia (hand-written) "
   ]
  },
  {
   "cell_type": "code",
   "execution_count": 42,
   "metadata": {
    "scrolled": true
   },
   "outputs": [
    {
     "data": {
      "text/plain": [
       "mysum (generic function with 1 method)"
      ]
     },
     "metadata": {},
     "output_type": "display_data"
    }
   ],
   "source": [
    "function mysum(A)   \n",
    "    s = 0.0 # s = zero(eltype(a))\n",
    "    for a in A\n",
    "        s += a\n",
    "    end\n",
    "    s\n",
    "end"
   ]
  },
  {
   "cell_type": "code",
   "execution_count": 43,
   "metadata": {},
   "outputs": [
    {
     "data": {
      "text/plain": [
       "BenchmarkTools.Trial: 505 samples with 1 evaluation.\n",
       " Range \u001b[90m(\u001b[39m\u001b[36m\u001b[1mmin\u001b[22m\u001b[39m … \u001b[35mmax\u001b[39m\u001b[90m):  \u001b[39m\u001b[36m\u001b[1m9.677 ms\u001b[22m\u001b[39m … \u001b[35m 11.762 ms\u001b[39m  \u001b[90m┊\u001b[39m GC \u001b[90m(\u001b[39mmin … max\u001b[90m): \u001b[39m0.00% … 0.00%\n",
       " Time  \u001b[90m(\u001b[39m\u001b[34m\u001b[1mmedian\u001b[22m\u001b[39m\u001b[90m):     \u001b[39m\u001b[34m\u001b[1m9.836 ms               \u001b[22m\u001b[39m\u001b[90m┊\u001b[39m GC \u001b[90m(\u001b[39mmedian\u001b[90m):    \u001b[39m0.00%\n",
       " Time  \u001b[90m(\u001b[39m\u001b[32m\u001b[1mmean\u001b[22m\u001b[39m ± \u001b[32mσ\u001b[39m\u001b[90m):   \u001b[39m\u001b[32m\u001b[1m9.901 ms\u001b[22m\u001b[39m ± \u001b[32m201.949 μs\u001b[39m  \u001b[90m┊\u001b[39m GC \u001b[90m(\u001b[39mmean ± σ\u001b[90m):  \u001b[39m0.00% ± 0.00%\n",
       "\n",
       "  \u001b[39m \u001b[39m \u001b[39m \u001b[39m▁\u001b[39m▃\u001b[39m█\u001b[39m▁\u001b[39m▂\u001b[39m▁\u001b[34m▁\u001b[39m\u001b[39m \u001b[39m \u001b[39m \u001b[32m \u001b[39m\u001b[39m \u001b[39m \u001b[39m \u001b[39m \u001b[39m \u001b[39m \u001b[39m \u001b[39m \u001b[39m \u001b[39m \u001b[39m \u001b[39m \u001b[39m \u001b[39m \u001b[39m \u001b[39m \u001b[39m \u001b[39m \u001b[39m \u001b[39m \u001b[39m \u001b[39m \u001b[39m \u001b[39m \u001b[39m \u001b[39m \u001b[39m \u001b[39m \u001b[39m \u001b[39m \u001b[39m \u001b[39m \u001b[39m \u001b[39m \u001b[39m \u001b[39m \u001b[39m \u001b[39m \u001b[39m \u001b[39m \u001b[39m \u001b[39m \u001b[39m \u001b[39m \u001b[39m \u001b[39m \u001b[39m \n",
       "  \u001b[39m▂\u001b[39m▃\u001b[39m▅\u001b[39m█\u001b[39m█\u001b[39m█\u001b[39m█\u001b[39m█\u001b[39m█\u001b[34m█\u001b[39m\u001b[39m▅\u001b[39m▆\u001b[39m▆\u001b[32m▆\u001b[39m\u001b[39m▆\u001b[39m▄\u001b[39m▅\u001b[39m▄\u001b[39m▅\u001b[39m▆\u001b[39m▄\u001b[39m▃\u001b[39m▃\u001b[39m▄\u001b[39m▃\u001b[39m▃\u001b[39m▃\u001b[39m▃\u001b[39m▂\u001b[39m▃\u001b[39m▂\u001b[39m▂\u001b[39m▂\u001b[39m▃\u001b[39m▂\u001b[39m▂\u001b[39m▃\u001b[39m▂\u001b[39m▂\u001b[39m▁\u001b[39m▂\u001b[39m▁\u001b[39m▂\u001b[39m▁\u001b[39m▁\u001b[39m▂\u001b[39m▁\u001b[39m▁\u001b[39m▂\u001b[39m▂\u001b[39m▃\u001b[39m▁\u001b[39m▂\u001b[39m▁\u001b[39m▁\u001b[39m▂\u001b[39m▁\u001b[39m▁\u001b[39m▂\u001b[39m \u001b[39m▃\n",
       "  9.68 ms\u001b[90m         Histogram: frequency by time\u001b[39m        10.7 ms \u001b[0m\u001b[1m<\u001b[22m\n",
       "\n",
       " Memory estimate\u001b[90m: \u001b[39m\u001b[33m0 bytes\u001b[39m, allocs estimate\u001b[90m: \u001b[39m\u001b[33m0\u001b[39m."
      ]
     },
     "metadata": {},
     "output_type": "display_data"
    }
   ],
   "source": [
    "j_bench_hand = @benchmark mysum($a)"
   ]
  },
  {
   "cell_type": "code",
   "execution_count": 44,
   "metadata": {
    "scrolled": true
   },
   "outputs": [
    {
     "data": {
      "text/plain": [
       "Dict{Any, Any} with 7 entries:\n",
       "  \"C\"                   => 9.7436\n",
       "  \"Python numpy\"        => 9.2535\n",
       "  \"Julia hand-written\"  => 9.6774\n",
       "  \"Python hand-written\" => 806.512\n",
       "  \"Python built-in\"     => 556.434\n",
       "  \"Julia built-in\"      => 3.5962\n",
       "  \"C -ffast-math\"       => 5.4737"
      ]
     },
     "metadata": {},
     "output_type": "display_data"
    }
   ],
   "source": [
    "d[\"Julia hand-written\"] = minimum(j_bench_hand.times) / 1e6\n",
    "d"
   ]
  },
  {
   "cell_type": "markdown",
   "metadata": {},
   "source": [
    "# 8. Julia (hand-written w. simd) "
   ]
  },
  {
   "cell_type": "code",
   "execution_count": 45,
   "metadata": {},
   "outputs": [
    {
     "data": {
      "text/plain": [
       "mysum_simd (generic function with 1 method)"
      ]
     },
     "metadata": {},
     "output_type": "display_data"
    }
   ],
   "source": [
    "function mysum_simd(A)   \n",
    "    s = 0.0 # s = zero(eltype(A))\n",
    "    @simd for a in A\n",
    "        s += a\n",
    "    end\n",
    "    s\n",
    "end"
   ]
  },
  {
   "cell_type": "code",
   "execution_count": 46,
   "metadata": {},
   "outputs": [
    {
     "data": {
      "text/plain": [
       "BenchmarkTools.Trial: 1266 samples with 1 evaluation.\n",
       " Range \u001b[90m(\u001b[39m\u001b[36m\u001b[1mmin\u001b[22m\u001b[39m … \u001b[35mmax\u001b[39m\u001b[90m):  \u001b[39m\u001b[36m\u001b[1m3.498 ms\u001b[22m\u001b[39m … \u001b[35m  6.014 ms\u001b[39m  \u001b[90m┊\u001b[39m GC \u001b[90m(\u001b[39mmin … max\u001b[90m): \u001b[39m0.00% … 0.00%\n",
       " Time  \u001b[90m(\u001b[39m\u001b[34m\u001b[1mmedian\u001b[22m\u001b[39m\u001b[90m):     \u001b[39m\u001b[34m\u001b[1m3.800 ms               \u001b[22m\u001b[39m\u001b[90m┊\u001b[39m GC \u001b[90m(\u001b[39mmedian\u001b[90m):    \u001b[39m0.00%\n",
       " Time  \u001b[90m(\u001b[39m\u001b[32m\u001b[1mmean\u001b[22m\u001b[39m ± \u001b[32mσ\u001b[39m\u001b[90m):   \u001b[39m\u001b[32m\u001b[1m3.936 ms\u001b[22m\u001b[39m ± \u001b[32m373.854 μs\u001b[39m  \u001b[90m┊\u001b[39m GC \u001b[90m(\u001b[39mmean ± σ\u001b[90m):  \u001b[39m0.00% ± 0.00%\n",
       "\n",
       "  \u001b[39m \u001b[39m \u001b[39m \u001b[39m▇\u001b[39m█\u001b[39m█\u001b[39m▃\u001b[39m▄\u001b[39m▄\u001b[39m▃\u001b[34m▂\u001b[39m\u001b[39m▁\u001b[39m \u001b[39m \u001b[39m \u001b[32m \u001b[39m\u001b[39m \u001b[39m \u001b[39m \u001b[39m \u001b[39m \u001b[39m \u001b[39m \u001b[39m \u001b[39m \u001b[39m \u001b[39m \u001b[39m \u001b[39m \u001b[39m \u001b[39m \u001b[39m \u001b[39m \u001b[39m \u001b[39m \u001b[39m \u001b[39m \u001b[39m \u001b[39m \u001b[39m \u001b[39m \u001b[39m \u001b[39m \u001b[39m \u001b[39m \u001b[39m \u001b[39m \u001b[39m \u001b[39m \u001b[39m \u001b[39m \u001b[39m \u001b[39m \u001b[39m \u001b[39m \u001b[39m \u001b[39m \u001b[39m \u001b[39m \u001b[39m \u001b[39m \n",
       "  \u001b[39m▃\u001b[39m▄\u001b[39m▅\u001b[39m█\u001b[39m█\u001b[39m█\u001b[39m█\u001b[39m█\u001b[39m█\u001b[39m█\u001b[34m█\u001b[39m\u001b[39m█\u001b[39m█\u001b[39m█\u001b[39m▆\u001b[32m▅\u001b[39m\u001b[39m▆\u001b[39m▆\u001b[39m▆\u001b[39m▅\u001b[39m▅\u001b[39m▄\u001b[39m▃\u001b[39m▄\u001b[39m▄\u001b[39m▃\u001b[39m▃\u001b[39m▄\u001b[39m▄\u001b[39m▄\u001b[39m▃\u001b[39m▃\u001b[39m▃\u001b[39m▄\u001b[39m▄\u001b[39m▄\u001b[39m▃\u001b[39m▄\u001b[39m▃\u001b[39m▂\u001b[39m▃\u001b[39m▃\u001b[39m▃\u001b[39m▄\u001b[39m▂\u001b[39m▃\u001b[39m▂\u001b[39m▃\u001b[39m▂\u001b[39m▂\u001b[39m▃\u001b[39m▂\u001b[39m▂\u001b[39m▁\u001b[39m▁\u001b[39m▂\u001b[39m▁\u001b[39m▂\u001b[39m▂\u001b[39m \u001b[39m▄\n",
       "  3.5 ms\u001b[90m          Histogram: frequency by time\u001b[39m        5.27 ms \u001b[0m\u001b[1m<\u001b[22m\n",
       "\n",
       " Memory estimate\u001b[90m: \u001b[39m\u001b[33m0 bytes\u001b[39m, allocs estimate\u001b[90m: \u001b[39m\u001b[33m0\u001b[39m."
      ]
     },
     "metadata": {},
     "output_type": "display_data"
    }
   ],
   "source": [
    "j_bench_hand_simd = @benchmark mysum_simd($a)"
   ]
  },
  {
   "cell_type": "code",
   "execution_count": 47,
   "metadata": {},
   "outputs": [
    {
     "data": {
      "text/plain": [
       "5.0001913868312e6"
      ]
     },
     "metadata": {},
     "output_type": "display_data"
    }
   ],
   "source": [
    "mysum_simd(a)"
   ]
  },
  {
   "cell_type": "code",
   "execution_count": 48,
   "metadata": {
    "scrolled": true
   },
   "outputs": [
    {
     "data": {
      "text/plain": [
       "Dict{Any, Any} with 8 entries:\n",
       "  \"Julia hand-written simd\" => 3.4983\n",
       "  \"C\"                       => 9.7436\n",
       "  \"Python numpy\"            => 9.2535\n",
       "  \"Julia hand-written\"      => 9.6774\n",
       "  \"Python hand-written\"     => 806.512\n",
       "  \"Python built-in\"         => 556.434\n",
       "  \"Julia built-in\"          => 3.5962\n",
       "  \"C -ffast-math\"           => 5.4737"
      ]
     },
     "metadata": {},
     "output_type": "display_data"
    }
   ],
   "source": [
    "d[\"Julia hand-written simd\"] = minimum(j_bench_hand_simd.times) / 1e6\n",
    "d"
   ]
  },
  {
   "cell_type": "markdown",
   "metadata": {},
   "source": [
    "# Summary"
   ]
  },
  {
   "cell_type": "code",
   "execution_count": 49,
   "metadata": {
    "scrolled": true
   },
   "outputs": [
    {
     "name": "stdout",
     "output_type": "stream",
     "text": [
      "Julia hand-written simd.....3.5\n",
      "Julia built-in..............3.6\n",
      "C -ffast-math...............5.5\n",
      "Python numpy................9.3\n",
      "Julia hand-written..........9.7\n",
      "C...........................9.7\n",
      "Python built-in...........556.4\n",
      "Python hand-written.......806.5\n"
     ]
    }
   ],
   "source": [
    "for (key, value) in sort(collect(d), by=last)\n",
    "    println(rpad(key, 25, \".\"), lpad(round(value; digits=1), 6, \".\"))\n",
    "end"
   ]
  }
 ],
 "metadata": {
  "anaconda-cloud": {},
  "kernelspec": {
   "display_name": "Julia 1.10.4",
   "language": "julia",
   "name": "julia-1.10"
  },
  "language_info": {
   "file_extension": ".jl",
   "mimetype": "application/julia",
   "name": "julia",
   "version": "1.10.4"
  },
  "toc": {
   "colors": {
    "hover_highlight": "#DAA520",
    "running_highlight": "#FF0000",
    "selected_highlight": "#FFD700"
   },
   "moveMenuLeft": true,
   "nav_menu": {
    "height": "212px",
    "width": "252px"
   },
   "navigate_menu": true,
   "number_sections": true,
   "sideBar": true,
   "threshold": "2",
   "toc_cell": false,
   "toc_section_display": "block",
   "toc_window_display": false
  }
 },
 "nbformat": 4,
 "nbformat_minor": 4
}
